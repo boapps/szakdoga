{
 "cells": [
  {
   "cell_type": "code",
   "execution_count": 1,
   "id": "427c9886-63da-4518-9ec5-c7acdb3e4b2d",
   "metadata": {},
   "outputs": [],
   "source": [
    "from transformers import BertForSequenceClassification, BertTokenizer\n",
    "\n",
    "model = BertForSequenceClassification.from_pretrained('boapps/kmdb_classification_model').to('cuda')\n",
    "tokenizer = BertTokenizer.from_pretrained('SZTAKI-HLT/hubert-base-cc')"
   ]
  },
  {
   "cell_type": "code",
   "execution_count": 2,
   "id": "3099aa53-266b-49d9-93ee-77b8279eefa0",
   "metadata": {},
   "outputs": [
    {
     "name": "stderr",
     "output_type": "stream",
     "text": [
      "<frozen importlib._bootstrap>:241: RuntimeWarning: pyarrow._fs.FileInfo size changed, may indicate binary incompatibility. Expected 64 from C header, got 88 from PyObject\n",
      "<frozen importlib._bootstrap>:241: RuntimeWarning: pyarrow._fs.FileSelector size changed, may indicate binary incompatibility. Expected 48 from C header, got 72 from PyObject\n",
      "Found cached dataset parquet (/home/boa/.cache/huggingface/datasets/boapps___parquet/boapps--kmdb_classification-4003d65da9c3e34a/0.0.0/2a3b91fbd88a2c90d1dbbb32b460cf621d31bd5b05b934492fdef7d8d6f236ec)\n"
     ]
    },
    {
     "data": {
      "application/vnd.jupyter.widget-view+json": {
       "model_id": "1ce1a486faa94c1ebecfe523647479fd",
       "version_major": 2,
       "version_minor": 0
      },
      "text/plain": [
       "  0%|          | 0/3 [00:00<?, ?it/s]"
      ]
     },
     "metadata": {},
     "output_type": "display_data"
    },
    {
     "name": "stderr",
     "output_type": "stream",
     "text": [
      "Loading cached processed dataset at /home/boa/.cache/huggingface/datasets/boapps___parquet/boapps--kmdb_classification-4003d65da9c3e34a/0.0.0/2a3b91fbd88a2c90d1dbbb32b460cf621d31bd5b05b934492fdef7d8d6f236ec/cache-5c0dc0418152b777.arrow\n",
      "Loading cached processed dataset at /home/boa/.cache/huggingface/datasets/boapps___parquet/boapps--kmdb_classification-4003d65da9c3e34a/0.0.0/2a3b91fbd88a2c90d1dbbb32b460cf621d31bd5b05b934492fdef7d8d6f236ec/cache-80ad540b3581070d.arrow\n",
      "Loading cached shuffled indices for dataset at /home/boa/.cache/huggingface/datasets/boapps___parquet/boapps--kmdb_classification-4003d65da9c3e34a/0.0.0/2a3b91fbd88a2c90d1dbbb32b460cf621d31bd5b05b934492fdef7d8d6f236ec/cache-ee948041db649a27.arrow\n"
     ]
    }
   ],
   "source": [
    "from datasets import load_dataset\n",
    "from datasets import concatenate_datasets\n",
    "\n",
    "dataset = load_dataset(\"boapps/kmdb_classification\")\n",
    "test_neg = dataset['test'].filter(lambda row: row['label'] == 0)\n",
    "test_pos = dataset['test'].filter(lambda row: row['label'] == 1).select(range(len(test_neg)//10))\n",
    "test_set = concatenate_datasets([test_pos, test_neg]).shuffle(seed=42)"
   ]
  },
  {
   "cell_type": "code",
   "execution_count": 3,
   "id": "6215aabb-53be-4321-8e8b-83f3b7b90e5d",
   "metadata": {},
   "outputs": [
    {
     "name": "stderr",
     "output_type": "stream",
     "text": [
      "Loading cached processed dataset at /home/boa/.cache/huggingface/datasets/boapps___parquet/boapps--kmdb_classification-4003d65da9c3e34a/0.0.0/2a3b91fbd88a2c90d1dbbb32b460cf621d31bd5b05b934492fdef7d8d6f236ec/cache-1b79992d93c60276.arrow\n"
     ]
    },
    {
     "data": {
      "application/vnd.jupyter.widget-view+json": {
       "model_id": "",
       "version_major": 2,
       "version_minor": 0
      },
      "text/plain": [
       "Map:   0%|          | 0/2084 [00:00<?, ? examples/s]"
      ]
     },
     "metadata": {},
     "output_type": "display_data"
    }
   ],
   "source": [
    "test_set = test_set.map(lambda row: {'td': row['title']+'\\n'+row['description']})\n",
    "def tokenize_function(examples):\n",
    "    return tokenizer(examples[\"td\"], padding=\"max_length\", truncation=True, max_length=512)\n",
    "test_set = test_set.map(tokenize_function, batched=True)"
   ]
  },
  {
   "cell_type": "code",
   "execution_count": 5,
   "id": "ba41e602-e734-47cc-83a1-4fe3bb2c90f8",
   "metadata": {},
   "outputs": [
    {
     "name": "stderr",
     "output_type": "stream",
     "text": [
      "100%|██████████████████████████████████████████████████████████████████████████████████████████████████████████████████████████| 2095/2095 [00:16<00:00, 126.85it/s]"
     ]
    },
    {
     "name": "stdout",
     "output_type": "stream",
     "text": [
      "precision 0.7392996108949417\n",
      "recall 0.95\n",
      "accuracy 0.9632458233890214\n"
     ]
    },
    {
     "name": "stderr",
     "output_type": "stream",
     "text": [
      "\n"
     ]
    },
    {
     "data": {
      "text/plain": [
       "(190, 1828, 67, 10)"
      ]
     },
     "execution_count": 5,
     "metadata": {},
     "output_type": "execute_result"
    }
   ],
   "source": [
    "import torch\n",
    "import torch.nn.functional as F\n",
    "from tqdm import tqdm\n",
    "\n",
    "tp = 0\n",
    "tn = 0\n",
    "fp = 0\n",
    "fn = 0\n",
    "\n",
    "with torch.no_grad():\n",
    "    for a in tqdm(test_set):\n",
    "        inputs = tokenizer(a['td'], return_tensors=\"pt\").to('cuda')\n",
    "        logits = model(**inputs).logits\n",
    "        probabilities = F.softmax(logits[0], dim=-1)\n",
    "        res = torch.argmax(logits, axis=1)[0]\n",
    "        neg = probabilities[0] > 0.42\n",
    "        if neg and a['label'] == 0:\n",
    "            tn += 1\n",
    "        elif not neg and a['label'] == 1:\n",
    "            tp += 1\n",
    "        elif not neg and a['label'] == 0:\n",
    "            fp += 1\n",
    "        elif neg and a['label'] == 1:\n",
    "            fn += 1\n",
    "\n",
    "print('precision', tp/(tp+fp))\n",
    "print('recall', tp/(tp+fn))\n",
    "print('accuracy', (tp+tn)/(tp+tn+fp+fn))\n",
    "\n",
    "tp, tn, fp, fn"
   ]
  },
  {
   "cell_type": "code",
   "execution_count": 15,
   "id": "df5553e2-a66c-4842-9074-d4f5b642b771",
   "metadata": {},
   "outputs": [
    {
     "data": {
      "text/plain": [
       "array([ 9.06921241, 87.25536993,  3.19809069,  0.47732697])"
      ]
     },
     "execution_count": 15,
     "metadata": {},
     "output_type": "execute_result"
    }
   ],
   "source": [
    "import numpy as np\n",
    "\n",
    "np.array([tp, tn, fp, fn])*100/sum([tp, tn, fp, fn])"
   ]
  }
 ],
 "metadata": {
  "kernelspec": {
   "display_name": "Python 3 (ipykernel)",
   "language": "python",
   "name": "python3"
  },
  "language_info": {
   "codemirror_mode": {
    "name": "ipython",
    "version": 3
   },
   "file_extension": ".py",
   "mimetype": "text/x-python",
   "name": "python",
   "nbconvert_exporter": "python",
   "pygments_lexer": "ipython3",
   "version": "3.10.10"
  }
 },
 "nbformat": 4,
 "nbformat_minor": 5
}
