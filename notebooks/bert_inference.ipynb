{
 "cells": [
  {
   "cell_type": "code",
   "execution_count": null,
   "id": "427c9886-63da-4518-9ec5-c7acdb3e4b2d",
   "metadata": {},
   "outputs": [],
   "source": [
    "from transformers import BertForSequenceClassification, BertTokenizer\n",
    "\n",
    "model = BertForSequenceClassification.from_pretrained('boapps/kmdb_classification_model').to('cuda')\n",
    "tokenizer = BertTokenizer.from_pretrained('SZTAKI-HLT/hubert-base-cc')"
   ]
  },
  {
   "cell_type": "code",
   "execution_count": null,
   "id": "d81e2d87-f4aa-40f7-9749-e7852909b456",
   "metadata": {},
   "outputs": [],
   "source": [
    "from datasets import concatenate_datasets\n",
    "from datasets import load_dataset\n",
    "\n",
    "dataset = load_dataset(\"boapps/kmdb_classification\")\n",
    "\n",
    "dataset = dataset.map(lambda row: {'td': row['title']+'\\n'+row['description']})\n",
    "def tokenize_function(examples):\n",
    "    return tokenizer(examples[\"td\"], padding=\"max_length\", truncation=True, max_length=512)\n",
    "\n",
    "tokenized_datasets = dataset.map(tokenize_function, batched=True)\n",
    "test_pos = tokenized_datasets['test'].filter(lambda row: row['label'] == 1)\n",
    "test_neg = tokenized_datasets['test'].filter(lambda row: row['label'] == 0)\n",
    "test_pos = test_pos.select(range(200))\n",
    "test_neg = test_neg.select(range(1895))\n",
    "\n",
    "test_set = concatenate_datasets([test_pos, test_neg]).shuffle(seed=42)"
   ]
  },
  {
   "cell_type": "code",
   "execution_count": null,
   "id": "ba41e602-e734-47cc-83a1-4fe3bb2c90f8",
   "metadata": {},
   "outputs": [],
   "source": [
    "import torch\n",
    "import torch.nn.functional as F\n",
    "from tqdm import tqdm\n",
    "\n",
    "tp = 0\n",
    "tn = 0\n",
    "fp = 0\n",
    "fn = 0\n",
    "\n",
    "with torch.no_grad():\n",
    "    for a in tqdm(test_set):\n",
    "        inputs = tokenizer(a['td'], return_tensors=\"pt\").to('cuda')\n",
    "        logits = model(**inputs).logits\n",
    "        probabilities = F.softmax(logits[0], dim=-1)\n",
    "        res = torch.argmax(logits, axis=1)[0]\n",
    "        neg = probabilities[0] > 0.5\n",
    "        if neg and a['label'] == 0:\n",
    "            tn += 1\n",
    "        elif not neg and a['label'] == 1:\n",
    "            tp += 1\n",
    "        elif not neg and a['label'] == 0:\n",
    "            fp += 1\n",
    "        elif neg and a['label'] == 1:\n",
    "            fn += 1\n",
    "\n",
    "print('precision', tp/(tp+fp))\n",
    "print('recall', tp/(tp+fn))\n",
    "print('accuracy', (tp+tn)/(tp+tn+fp+fn))\n",
    "\n",
    "tp, tn, fp, fn"
   ]
  }
 ],
 "metadata": {
  "kernelspec": {
   "display_name": "Python 3 (ipykernel)",
   "language": "python",
   "name": "python3"
  },
  "language_info": {
   "codemirror_mode": {
    "name": "ipython",
    "version": 3
   },
   "file_extension": ".py",
   "mimetype": "text/x-python",
   "name": "python",
   "nbconvert_exporter": "python",
   "pygments_lexer": "ipython3",
   "version": "3.10.10"
  }
 },
 "nbformat": 4,
 "nbformat_minor": 5
}
