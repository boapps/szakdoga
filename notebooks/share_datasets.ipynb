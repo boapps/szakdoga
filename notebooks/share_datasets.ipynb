{
 "cells": [
  {
   "cell_type": "code",
   "execution_count": 15,
   "id": "0407811b-3646-47a0-8877-5db9a0ea0213",
   "metadata": {},
   "outputs": [],
   "source": [
    "from datasets import load_from_disk, load_dataset"
   ]
  },
  {
   "cell_type": "code",
   "execution_count": 17,
   "id": "9aa47aff-51cf-447e-becb-29678c87307e",
   "metadata": {},
   "outputs": [
    {
     "name": "stdout",
     "output_type": "stream",
     "text": [
      "Downloading and preparing dataset csv/dataset_fixed_v3 to /home/boa/.cache/huggingface/datasets/csv/dataset_fixed_v3-60856dafd072468a/0.0.0/6b34fb8fcf56f7c8ba51dc895bfa2bfbe43546f190a60fcf74bb5e8afdcc2317...\n"
     ]
    },
    {
     "data": {
      "application/vnd.jupyter.widget-view+json": {
       "model_id": "1cb7f29aa7004e5f915ddc90495d55f9",
       "version_major": 2,
       "version_minor": 0
      },
      "text/plain": [
       "Downloading data files:   0%|          | 0/3 [00:00<?, ?it/s]"
      ]
     },
     "metadata": {},
     "output_type": "display_data"
    },
    {
     "data": {
      "application/vnd.jupyter.widget-view+json": {
       "model_id": "a35c014b116744dd8cfebc7b676e36b6",
       "version_major": 2,
       "version_minor": 0
      },
      "text/plain": [
       "Extracting data files:   0%|          | 0/3 [00:00<?, ?it/s]"
      ]
     },
     "metadata": {},
     "output_type": "display_data"
    },
    {
     "data": {
      "application/vnd.jupyter.widget-view+json": {
       "model_id": "",
       "version_major": 2,
       "version_minor": 0
      },
      "text/plain": [
       "Generating train split: 0 examples [00:00, ? examples/s]"
      ]
     },
     "metadata": {},
     "output_type": "display_data"
    },
    {
     "name": "stderr",
     "output_type": "stream",
     "text": [
      "/home/boa/.conda/envs/ai/lib/python3.10/site-packages/datasets/download/streaming_download_manager.py:776: FutureWarning: the 'mangle_dupe_cols' keyword is deprecated and will be removed in a future version. Please take steps to stop the use of 'mangle_dupe_cols'\n",
      "  return pd.read_csv(xopen(filepath_or_buffer, \"rb\", use_auth_token=use_auth_token), **kwargs)\n"
     ]
    },
    {
     "data": {
      "application/vnd.jupyter.widget-view+json": {
       "model_id": "",
       "version_major": 2,
       "version_minor": 0
      },
      "text/plain": [
       "Generating validation split: 0 examples [00:00, ? examples/s]"
      ]
     },
     "metadata": {},
     "output_type": "display_data"
    },
    {
     "name": "stderr",
     "output_type": "stream",
     "text": [
      "/home/boa/.conda/envs/ai/lib/python3.10/site-packages/datasets/download/streaming_download_manager.py:776: FutureWarning: the 'mangle_dupe_cols' keyword is deprecated and will be removed in a future version. Please take steps to stop the use of 'mangle_dupe_cols'\n",
      "  return pd.read_csv(xopen(filepath_or_buffer, \"rb\", use_auth_token=use_auth_token), **kwargs)\n"
     ]
    },
    {
     "data": {
      "application/vnd.jupyter.widget-view+json": {
       "model_id": "",
       "version_major": 2,
       "version_minor": 0
      },
      "text/plain": [
       "Generating test split: 0 examples [00:00, ? examples/s]"
      ]
     },
     "metadata": {},
     "output_type": "display_data"
    },
    {
     "name": "stderr",
     "output_type": "stream",
     "text": [
      "/home/boa/.conda/envs/ai/lib/python3.10/site-packages/datasets/download/streaming_download_manager.py:776: FutureWarning: the 'mangle_dupe_cols' keyword is deprecated and will be removed in a future version. Please take steps to stop the use of 'mangle_dupe_cols'\n",
      "  return pd.read_csv(xopen(filepath_or_buffer, \"rb\", use_auth_token=use_auth_token), **kwargs)\n"
     ]
    },
    {
     "name": "stdout",
     "output_type": "stream",
     "text": [
      "Dataset csv downloaded and prepared to /home/boa/.cache/huggingface/datasets/csv/dataset_fixed_v3-60856dafd072468a/0.0.0/6b34fb8fcf56f7c8ba51dc895bfa2bfbe43546f190a60fcf74bb5e8afdcc2317. Subsequent calls will reuse this data.\n"
     ]
    },
    {
     "data": {
      "application/vnd.jupyter.widget-view+json": {
       "model_id": "0aef42e577174044a362d0c9d55c0038",
       "version_major": 2,
       "version_minor": 0
      },
      "text/plain": [
       "  0%|          | 0/3 [00:00<?, ?it/s]"
      ]
     },
     "metadata": {},
     "output_type": "display_data"
    }
   ],
   "source": [
    "#dataset = load_dataset('../datasets/base/dataset_fixed_v3', data_files={\"train\": \"train.csv\", \"validation\": \"validation.csv\", \"test\": \"test.csv\"})"
   ]
  },
  {
   "cell_type": "code",
   "execution_count": 28,
   "id": "67fa5f88-c2a0-45ec-9bf4-2ee3e546cbfd",
   "metadata": {},
   "outputs": [
    {
     "name": "stderr",
     "output_type": "stream",
     "text": [
      "Found cached dataset parquet (/home/boa/.cache/huggingface/datasets/boapps___parquet/boapps--kmdb_base-daedf5fec5a8c1a2/0.0.0/2a3b91fbd88a2c90d1dbbb32b460cf621d31bd5b05b934492fdef7d8d6f236ec)\n"
     ]
    },
    {
     "data": {
      "application/vnd.jupyter.widget-view+json": {
       "model_id": "5ef1e2b8aa7141fd8cf8166b3554b6c9",
       "version_major": 2,
       "version_minor": 0
      },
      "text/plain": [
       "  0%|          | 0/3 [00:00<?, ?it/s]"
      ]
     },
     "metadata": {},
     "output_type": "display_data"
    }
   ],
   "source": [
    "dataset = load_dataset('boapps/kmdb_base', revision=\"caa20c8f62b6e5320673c5194c8a75e93515f341\")"
   ]
  },
  {
   "cell_type": "code",
   "execution_count": 29,
   "id": "0d7e947a-87b1-4073-a2ce-21a15df66a3e",
   "metadata": {},
   "outputs": [
    {
     "data": {
      "text/plain": [
       "DatasetDict({\n",
       "    validation: Dataset({\n",
       "        features: ['text', 'title', 'description', 'keywords', 'url', 'authors', 'date', 'kmonitor_description', 'kmonitor_title', 'kmonitor_tags', 'kmonitor_institutes', 'kmonitor_people', 'kmonitor_places', 'kmonitor_collections'],\n",
       "        num_rows: 3410\n",
       "    })\n",
       "    test: Dataset({\n",
       "        features: ['text', 'title', 'description', 'keywords', 'url', 'authors', 'date', 'kmonitor_description', 'kmonitor_title', 'kmonitor_tags', 'kmonitor_institutes', 'kmonitor_people', 'kmonitor_places', 'kmonitor_collections'],\n",
       "        num_rows: 1720\n",
       "    })\n",
       "    train: Dataset({\n",
       "        features: ['text', 'title', 'description', 'keywords', 'url', 'authors', 'date', 'kmonitor_description', 'kmonitor_title', 'kmonitor_tags', 'kmonitor_institutes', 'kmonitor_people', 'kmonitor_places', 'kmonitor_collections'],\n",
       "        num_rows: 26661\n",
       "    })\n",
       "})"
      ]
     },
     "execution_count": 29,
     "metadata": {},
     "output_type": "execute_result"
    }
   ],
   "source": [
    "dataset"
   ]
  },
  {
   "cell_type": "code",
   "execution_count": 30,
   "id": "c4dcddfa-f70a-4952-8af2-4761b5247118",
   "metadata": {},
   "outputs": [
    {
     "name": "stderr",
     "output_type": "stream",
     "text": [
      "Loading cached processed dataset at /home/boa/.cache/huggingface/datasets/boapps___parquet/boapps--kmdb_base-daedf5fec5a8c1a2/0.0.0/2a3b91fbd88a2c90d1dbbb32b460cf621d31bd5b05b934492fdef7d8d6f236ec/cache-0b4c562a1c4d00ab.arrow\n",
      "Loading cached processed dataset at /home/boa/.cache/huggingface/datasets/boapps___parquet/boapps--kmdb_base-daedf5fec5a8c1a2/0.0.0/2a3b91fbd88a2c90d1dbbb32b460cf621d31bd5b05b934492fdef7d8d6f236ec/cache-667f4b06a78b6966.arrow\n",
      "Loading cached processed dataset at /home/boa/.cache/huggingface/datasets/boapps___parquet/boapps--kmdb_base-daedf5fec5a8c1a2/0.0.0/2a3b91fbd88a2c90d1dbbb32b460cf621d31bd5b05b934492fdef7d8d6f236ec/cache-b8aa6fc4806e321f.arrow\n",
      "Loading cached processed dataset at /home/boa/.cache/huggingface/datasets/boapps___parquet/boapps--kmdb_base-daedf5fec5a8c1a2/0.0.0/2a3b91fbd88a2c90d1dbbb32b460cf621d31bd5b05b934492fdef7d8d6f236ec/cache-42e14dfbe3efe1c3.arrow\n",
      "Loading cached processed dataset at /home/boa/.cache/huggingface/datasets/boapps___parquet/boapps--kmdb_base-daedf5fec5a8c1a2/0.0.0/2a3b91fbd88a2c90d1dbbb32b460cf621d31bd5b05b934492fdef7d8d6f236ec/cache-d970dda36b71319c.arrow\n",
      "Loading cached processed dataset at /home/boa/.cache/huggingface/datasets/boapps___parquet/boapps--kmdb_base-daedf5fec5a8c1a2/0.0.0/2a3b91fbd88a2c90d1dbbb32b460cf621d31bd5b05b934492fdef7d8d6f236ec/cache-57e72f4a5dac294b.arrow\n",
      "Loading cached processed dataset at /home/boa/.cache/huggingface/datasets/boapps___parquet/boapps--kmdb_base-daedf5fec5a8c1a2/0.0.0/2a3b91fbd88a2c90d1dbbb32b460cf621d31bd5b05b934492fdef7d8d6f236ec/cache-697be7e512d95dcf.arrow\n",
      "Loading cached processed dataset at /home/boa/.cache/huggingface/datasets/boapps___parquet/boapps--kmdb_base-daedf5fec5a8c1a2/0.0.0/2a3b91fbd88a2c90d1dbbb32b460cf621d31bd5b05b934492fdef7d8d6f236ec/cache-24222883a8039317.arrow\n",
      "Loading cached processed dataset at /home/boa/.cache/huggingface/datasets/boapps___parquet/boapps--kmdb_base-daedf5fec5a8c1a2/0.0.0/2a3b91fbd88a2c90d1dbbb32b460cf621d31bd5b05b934492fdef7d8d6f236ec/cache-a3b92a2d7ab0722b.arrow\n",
      "Loading cached processed dataset at /home/boa/.cache/huggingface/datasets/boapps___parquet/boapps--kmdb_base-daedf5fec5a8c1a2/0.0.0/2a3b91fbd88a2c90d1dbbb32b460cf621d31bd5b05b934492fdef7d8d6f236ec/cache-5b278e73b88a17a2.arrow\n",
      "Loading cached processed dataset at /home/boa/.cache/huggingface/datasets/boapps___parquet/boapps--kmdb_base-daedf5fec5a8c1a2/0.0.0/2a3b91fbd88a2c90d1dbbb32b460cf621d31bd5b05b934492fdef7d8d6f236ec/cache-958bdbcf3c7a0117.arrow\n",
      "Loading cached processed dataset at /home/boa/.cache/huggingface/datasets/boapps___parquet/boapps--kmdb_base-daedf5fec5a8c1a2/0.0.0/2a3b91fbd88a2c90d1dbbb32b460cf621d31bd5b05b934492fdef7d8d6f236ec/cache-9e3ad34bad10fa5d.arrow\n",
      "Loading cached processed dataset at /home/boa/.cache/huggingface/datasets/boapps___parquet/boapps--kmdb_base-daedf5fec5a8c1a2/0.0.0/2a3b91fbd88a2c90d1dbbb32b460cf621d31bd5b05b934492fdef7d8d6f236ec/cache-668f189a87325998.arrow\n",
      "Loading cached processed dataset at /home/boa/.cache/huggingface/datasets/boapps___parquet/boapps--kmdb_base-daedf5fec5a8c1a2/0.0.0/2a3b91fbd88a2c90d1dbbb32b460cf621d31bd5b05b934492fdef7d8d6f236ec/cache-515d66abbe8b7eee.arrow\n",
      "Loading cached processed dataset at /home/boa/.cache/huggingface/datasets/boapps___parquet/boapps--kmdb_base-daedf5fec5a8c1a2/0.0.0/2a3b91fbd88a2c90d1dbbb32b460cf621d31bd5b05b934492fdef7d8d6f236ec/cache-922e5f15552d8859.arrow\n",
      "Loading cached processed dataset at /home/boa/.cache/huggingface/datasets/boapps___parquet/boapps--kmdb_base-daedf5fec5a8c1a2/0.0.0/2a3b91fbd88a2c90d1dbbb32b460cf621d31bd5b05b934492fdef7d8d6f236ec/cache-668f189a87325998.arrow\n",
      "Loading cached processed dataset at /home/boa/.cache/huggingface/datasets/boapps___parquet/boapps--kmdb_base-daedf5fec5a8c1a2/0.0.0/2a3b91fbd88a2c90d1dbbb32b460cf621d31bd5b05b934492fdef7d8d6f236ec/cache-515d66abbe8b7eee.arrow\n",
      "Loading cached processed dataset at /home/boa/.cache/huggingface/datasets/boapps___parquet/boapps--kmdb_base-daedf5fec5a8c1a2/0.0.0/2a3b91fbd88a2c90d1dbbb32b460cf621d31bd5b05b934492fdef7d8d6f236ec/cache-922e5f15552d8859.arrow\n",
      "Loading cached processed dataset at /home/boa/.cache/huggingface/datasets/boapps___parquet/boapps--kmdb_base-daedf5fec5a8c1a2/0.0.0/2a3b91fbd88a2c90d1dbbb32b460cf621d31bd5b05b934492fdef7d8d6f236ec/cache-f2b5b4ed824f5f96.arrow\n",
      "Loading cached processed dataset at /home/boa/.cache/huggingface/datasets/boapps___parquet/boapps--kmdb_base-daedf5fec5a8c1a2/0.0.0/2a3b91fbd88a2c90d1dbbb32b460cf621d31bd5b05b934492fdef7d8d6f236ec/cache-b7064638f8e3572d.arrow\n",
      "Loading cached processed dataset at /home/boa/.cache/huggingface/datasets/boapps___parquet/boapps--kmdb_base-daedf5fec5a8c1a2/0.0.0/2a3b91fbd88a2c90d1dbbb32b460cf621d31bd5b05b934492fdef7d8d6f236ec/cache-f2f6a87ebcea714c.arrow\n",
      "Loading cached processed dataset at /home/boa/.cache/huggingface/datasets/boapps___parquet/boapps--kmdb_base-daedf5fec5a8c1a2/0.0.0/2a3b91fbd88a2c90d1dbbb32b460cf621d31bd5b05b934492fdef7d8d6f236ec/cache-8cf3aeabe2d9809d.arrow\n",
      "Loading cached processed dataset at /home/boa/.cache/huggingface/datasets/boapps___parquet/boapps--kmdb_base-daedf5fec5a8c1a2/0.0.0/2a3b91fbd88a2c90d1dbbb32b460cf621d31bd5b05b934492fdef7d8d6f236ec/cache-530269f593873be4.arrow\n",
      "Loading cached processed dataset at /home/boa/.cache/huggingface/datasets/boapps___parquet/boapps--kmdb_base-daedf5fec5a8c1a2/0.0.0/2a3b91fbd88a2c90d1dbbb32b460cf621d31bd5b05b934492fdef7d8d6f236ec/cache-22808630718eef29.arrow\n"
     ]
    }
   ],
   "source": [
    "import re\n",
    "\n",
    "html_pattern = re.compile(r'<.*?>')\n",
    "date_pattern = re.compile(r'\\d{4}\\-\\d{2}\\-\\d{2} \\d{2}:\\d{2}')\n",
    "slug_pattern = re.compile(r' \\[sharedcontent .*\\]')\n",
    "\n",
    "def clean_article(article):\n",
    "    article['description'] = html_pattern.sub('', article['description'])\n",
    "    article['description'] = date_pattern.sub('', article['description'])\n",
    "    article['description'] = slug_pattern.sub('', article['description'])\n",
    "    article['description'] = article['description'].replace(r'\\xa0', ' ')\n",
    "    article['description'] = article['description'].replace(r'Ã¶', 'ö')\n",
    "    article['description'] = article['description'].replace(r'Ã©', 'é')\n",
    "    article['description'] = article['description'].replace(r'Ã³', 'ó')\n",
    "    article['description'] = article['description'].replace(r'Ã¡', 'á')\n",
    "    article['description'] = article['description'].replace(r'Ã\\xad', 'í')\n",
    "    article['description'] = article['description'].replace(r'Ã¼', 'ü')\n",
    "    article['description'] = article['description'].replace(r'Ã¼', 'ü')\n",
    "    article['description'] = article['description'].replace(r'+ Videó', '')\n",
    "    article['description'] = article['description'].replace(r'•', '')\n",
    "    article['description'] = article['description'].replace(r'MNO - PL', ' ')\n",
    "    article['description'] = article['description'].replace('\\\\\\\\', '')\n",
    "    article['description'] = article['description'].strip('- ')\n",
    "\n",
    "    article['title'] = article['title'].replace(r'Belföld :: ', '')\n",
    "    article['title'] = article['title'].replace(r' (+videó)', '')\n",
    "    article['title'] = article['title'].replace('\\\\\\\\', '')\n",
    "\n",
    "    return article\n",
    "\n",
    "dataset = dataset.map(clean_article)\n",
    "dataset = dataset.filter(lambda row: row['description'] != '')\n",
    "RE_SUSPICIOUS = re.compile(r'[#<>{}\\|\\=\\*\\[\\]\\\\]')\n",
    "field = 'description'\n",
    "dataset = dataset.map(lambda row: {'score': len(RE_SUSPICIOUS.findall(row[field]))/len(row[field])})\n",
    "dataset = dataset.map(lambda row: {'title_score': len(RE_SUSPICIOUS.findall(row['title']))/len(row['title'])})\n",
    "\n",
    "dataset.filter(lambda row: row['title_score'] > 0.01)['train']['title']\n",
    "\n",
    "dataset.filter(lambda row: row['title_score'] > 0.01)['train']['title']\n",
    "dataset = dataset.filter(lambda row: row['score'] < 0.01)\n",
    "dataset = dataset.filter(lambda row: row['title_score'] < 0.01)"
   ]
  },
  {
   "cell_type": "code",
   "execution_count": 31,
   "id": "7e8d3c4e-7c60-49f3-8661-22d24417f4a7",
   "metadata": {},
   "outputs": [
    {
     "data": {
      "text/plain": [
       "DatasetDict({\n",
       "    validation: Dataset({\n",
       "        features: ['text', 'title', 'description', 'keywords', 'url', 'authors', 'date', 'kmonitor_description', 'kmonitor_title', 'kmonitor_tags', 'kmonitor_institutes', 'kmonitor_people', 'kmonitor_places', 'kmonitor_collections', 'score', 'title_score'],\n",
       "        num_rows: 3397\n",
       "    })\n",
       "    test: Dataset({\n",
       "        features: ['text', 'title', 'description', 'keywords', 'url', 'authors', 'date', 'kmonitor_description', 'kmonitor_title', 'kmonitor_tags', 'kmonitor_institutes', 'kmonitor_people', 'kmonitor_places', 'kmonitor_collections', 'score', 'title_score'],\n",
       "        num_rows: 1710\n",
       "    })\n",
       "    train: Dataset({\n",
       "        features: ['text', 'title', 'description', 'keywords', 'url', 'authors', 'date', 'kmonitor_description', 'kmonitor_title', 'kmonitor_tags', 'kmonitor_institutes', 'kmonitor_people', 'kmonitor_places', 'kmonitor_collections', 'score', 'title_score'],\n",
       "        num_rows: 26534\n",
       "    })\n",
       "})"
      ]
     },
     "execution_count": 31,
     "metadata": {},
     "output_type": "execute_result"
    }
   ],
   "source": [
    "dataset"
   ]
  },
  {
   "cell_type": "code",
   "execution_count": 33,
   "id": "f3ee583e-9df0-4027-a1d5-209efcd834e6",
   "metadata": {},
   "outputs": [],
   "source": [
    "base_dataset = dataset.remove_columns(['title_score', 'score'])"
   ]
  },
  {
   "cell_type": "code",
   "execution_count": null,
   "id": "a0982359-9903-460e-a6c7-c8f976170595",
   "metadata": {},
   "outputs": [],
   "source": [
    "classification_dataset = load_from_disk('../datasets/base/kmdb_classification_extended')"
   ]
  },
  {
   "cell_type": "code",
   "execution_count": null,
   "id": "d1f7f4c7-dc90-416a-b37d-42505cf09cb3",
   "metadata": {},
   "outputs": [],
   "source": [
    "classification_dataset"
   ]
  },
  {
   "cell_type": "code",
   "execution_count": null,
   "id": "46b1a25f-7d1f-41d3-afd6-bbe222dbaf9a",
   "metadata": {},
   "outputs": [],
   "source": [
    "classification_dataset = classification_dataset.remove_columns(['title_score', 'score'])"
   ]
  },
  {
   "cell_type": "code",
   "execution_count": null,
   "id": "42796fe0-394d-413e-8fb1-ced966d87571",
   "metadata": {},
   "outputs": [],
   "source": [
    "classification_dataset"
   ]
  },
  {
   "cell_type": "code",
   "execution_count": 34,
   "id": "310efdea-e905-4999-a2e9-7951291a2081",
   "metadata": {},
   "outputs": [
    {
     "name": "stderr",
     "output_type": "stream",
     "text": [
      "Pushing split validation to the Hub.\n"
     ]
    },
    {
     "data": {
      "application/vnd.jupyter.widget-view+json": {
       "model_id": "0e2c6d4a175d44ab80a27666daf6d3ab",
       "version_major": 2,
       "version_minor": 0
      },
      "text/plain": [
       "Pushing dataset shards to the dataset hub:   0%|          | 0/1 [00:00<?, ?it/s]"
      ]
     },
     "metadata": {},
     "output_type": "display_data"
    },
    {
     "data": {
      "application/vnd.jupyter.widget-view+json": {
       "model_id": "f5c2d4e743d54306a636ae828e62cf48",
       "version_major": 2,
       "version_minor": 0
      },
      "text/plain": [
       "Creating parquet from Arrow format:   0%|          | 0/4 [00:00<?, ?ba/s]"
      ]
     },
     "metadata": {},
     "output_type": "display_data"
    },
    {
     "data": {
      "application/vnd.jupyter.widget-view+json": {
       "model_id": "01cff65456404e7fa1754209d58b71a6",
       "version_major": 2,
       "version_minor": 0
      },
      "text/plain": [
       "Deleting unused files from dataset repository:   0%|          | 0/1 [00:00<?, ?it/s]"
      ]
     },
     "metadata": {},
     "output_type": "display_data"
    },
    {
     "name": "stderr",
     "output_type": "stream",
     "text": [
      "Pushing split test to the Hub.\n"
     ]
    },
    {
     "data": {
      "application/vnd.jupyter.widget-view+json": {
       "model_id": "b47cc1c2a53341289a3ca3c9d94aaebc",
       "version_major": 2,
       "version_minor": 0
      },
      "text/plain": [
       "Pushing dataset shards to the dataset hub:   0%|          | 0/1 [00:00<?, ?it/s]"
      ]
     },
     "metadata": {},
     "output_type": "display_data"
    },
    {
     "data": {
      "application/vnd.jupyter.widget-view+json": {
       "model_id": "d5c844f0b604445d9c2717455fa0bd36",
       "version_major": 2,
       "version_minor": 0
      },
      "text/plain": [
       "Creating parquet from Arrow format:   0%|          | 0/2 [00:00<?, ?ba/s]"
      ]
     },
     "metadata": {},
     "output_type": "display_data"
    },
    {
     "data": {
      "application/vnd.jupyter.widget-view+json": {
       "model_id": "d9e9eb000c1842d8bc065265fead70a4",
       "version_major": 2,
       "version_minor": 0
      },
      "text/plain": [
       "Deleting unused files from dataset repository:   0%|          | 0/1 [00:00<?, ?it/s]"
      ]
     },
     "metadata": {},
     "output_type": "display_data"
    },
    {
     "name": "stderr",
     "output_type": "stream",
     "text": [
      "Pushing split train to the Hub.\n"
     ]
    },
    {
     "data": {
      "application/vnd.jupyter.widget-view+json": {
       "model_id": "ae7907707f4e48f3a4f984b61c9708a9",
       "version_major": 2,
       "version_minor": 0
      },
      "text/plain": [
       "Pushing dataset shards to the dataset hub:   0%|          | 0/1 [00:00<?, ?it/s]"
      ]
     },
     "metadata": {},
     "output_type": "display_data"
    },
    {
     "data": {
      "application/vnd.jupyter.widget-view+json": {
       "model_id": "54a33b36dcf348a0a421bc4cc23a8507",
       "version_major": 2,
       "version_minor": 0
      },
      "text/plain": [
       "Creating parquet from Arrow format:   0%|          | 0/27 [00:00<?, ?ba/s]"
      ]
     },
     "metadata": {},
     "output_type": "display_data"
    },
    {
     "data": {
      "application/vnd.jupyter.widget-view+json": {
       "model_id": "04519aa6cb1a4150948be072711fac9d",
       "version_major": 2,
       "version_minor": 0
      },
      "text/plain": [
       "Deleting unused files from dataset repository:   0%|          | 0/1 [00:00<?, ?it/s]"
      ]
     },
     "metadata": {},
     "output_type": "display_data"
    },
    {
     "data": {
      "application/vnd.jupyter.widget-view+json": {
       "model_id": "30782e1c32b4482b85b8104e9c88409f",
       "version_major": 2,
       "version_minor": 0
      },
      "text/plain": [
       "Downloading metadata:   0%|          | 0.00/2.07k [00:00<?, ?B/s]"
      ]
     },
     "metadata": {},
     "output_type": "display_data"
    }
   ],
   "source": [
    "base_dataset.push_to_hub(\"boapps/kmdb_base\")"
   ]
  },
  {
   "cell_type": "code",
   "execution_count": null,
   "id": "9e5e796b-0e4f-41f9-801a-824431ef0f2d",
   "metadata": {},
   "outputs": [],
   "source": [
    "#classification_dataset.push_to_hub(\"boapps/kmdb_classification\")"
   ]
  }
 ],
 "metadata": {
  "kernelspec": {
   "display_name": "Python 3 (ipykernel)",
   "language": "python",
   "name": "python3"
  },
  "language_info": {
   "codemirror_mode": {
    "name": "ipython",
    "version": 3
   },
   "file_extension": ".py",
   "mimetype": "text/x-python",
   "name": "python",
   "nbconvert_exporter": "python",
   "pygments_lexer": "ipython3",
   "version": "3.10.10"
  }
 },
 "nbformat": 4,
 "nbformat_minor": 5
}
