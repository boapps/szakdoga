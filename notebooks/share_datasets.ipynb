{
 "cells": [
  {
   "cell_type": "code",
   "execution_count": null,
   "id": "0407811b-3646-47a0-8877-5db9a0ea0213",
   "metadata": {},
   "outputs": [],
   "source": [
    "from datasets import load_from_disk"
   ]
  },
  {
   "cell_type": "code",
   "execution_count": null,
   "id": "9aa47aff-51cf-447e-becb-29678c87307e",
   "metadata": {},
   "outputs": [],
   "source": [
    "classification_dataset = load_from_disk('../datasets/base/classification_dataset')"
   ]
  },
  {
   "cell_type": "code",
   "execution_count": null,
   "id": "0d7e947a-87b1-4073-a2ce-21a15df66a3e",
   "metadata": {},
   "outputs": [],
   "source": [
    "classification_dataset"
   ]
  },
  {
   "cell_type": "code",
   "execution_count": null,
   "id": "a0982359-9903-460e-a6c7-c8f976170595",
   "metadata": {},
   "outputs": [],
   "source": [
    "classification_dataset = load_from_disk('../datasets/base/kmdb_classification_extended')"
   ]
  },
  {
   "cell_type": "code",
   "execution_count": null,
   "id": "d1f7f4c7-dc90-416a-b37d-42505cf09cb3",
   "metadata": {},
   "outputs": [],
   "source": [
    "classification_dataset"
   ]
  },
  {
   "cell_type": "code",
   "execution_count": null,
   "id": "f3ee583e-9df0-4027-a1d5-209efcd834e6",
   "metadata": {},
   "outputs": [],
   "source": [
    "base_dataset = classification_dataset.filter(lambda row: row['label'] == 1).remove_columns(['label', 'is_hand_annoted'])"
   ]
  },
  {
   "cell_type": "code",
   "execution_count": null,
   "id": "310efdea-e905-4999-a2e9-7951291a2081",
   "metadata": {},
   "outputs": [],
   "source": [
    "base_dataset.push_to_hub(\"boapps/kmdb_base\")"
   ]
  },
  {
   "cell_type": "code",
   "execution_count": null,
   "id": "9e5e796b-0e4f-41f9-801a-824431ef0f2d",
   "metadata": {},
   "outputs": [],
   "source": [
    "classification_dataset.push_to_hub(\"boapps/kmdb_classification\")"
   ]
  }
 ],
 "metadata": {
  "kernelspec": {
   "display_name": "Python 3 (ipykernel)",
   "language": "python",
   "name": "python3"
  },
  "language_info": {
   "codemirror_mode": {
    "name": "ipython",
    "version": 3
   },
   "file_extension": ".py",
   "mimetype": "text/x-python",
   "name": "python",
   "nbconvert_exporter": "python",
   "pygments_lexer": "ipython3",
   "version": "3.10.10"
  }
 },
 "nbformat": 4,
 "nbformat_minor": 5
}
