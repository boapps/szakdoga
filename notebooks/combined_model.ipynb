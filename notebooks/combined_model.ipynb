{
 "cells": [
  {
   "cell_type": "code",
   "execution_count": 1,
   "id": "4243b7e7-1ce4-44be-8eb1-bb3cc46332b9",
   "metadata": {},
   "outputs": [],
   "source": [
    "import csv\n",
    "\n",
    "labels = []\n",
    "bert_title = []\n",
    "with open('bert_title_validation.csv', newline='') as csvfile:\n",
    "    spamreader = csv.reader(csvfile)\n",
    "    for row in spamreader:\n",
    "        bert_title.append(float(row[0]))\n",
    "        labels.append(int(row[1]))\n",
    "        \n",
    "test_labels = []\n",
    "test_bert_title = []\n",
    "with open('bert_title_test.csv', newline='') as csvfile:\n",
    "    spamreader = csv.reader(csvfile)\n",
    "    for row in spamreader:\n",
    "        test_bert_title.append(float(row[0]))\n",
    "        test_labels.append(int(row[1]))"
   ]
  },
  {
   "cell_type": "code",
   "execution_count": 2,
   "id": "657d5ca2-45db-410a-8dc0-291fd590d8bc",
   "metadata": {},
   "outputs": [],
   "source": [
    "bert_description = []\n",
    "with open('bert_description_validation.csv', newline='') as csvfile:\n",
    "    spamreader = csv.reader(csvfile)\n",
    "    for row in spamreader:\n",
    "        bert_description.append(float(row[0]))\n",
    "\n",
    "test_bert_description = []\n",
    "with open('bert_description_test.csv', newline='') as csvfile:\n",
    "    spamreader = csv.reader(csvfile)\n",
    "    for row in spamreader:\n",
    "        test_bert_description.append(float(row[0]))"
   ]
  },
  {
   "cell_type": "code",
   "execution_count": 3,
   "id": "1511030b-e5d1-44e1-9058-15734d616aed",
   "metadata": {},
   "outputs": [],
   "source": [
    "tfidf_rf = []\n",
    "with open('tfidf_validation.csv', newline='') as csvfile:\n",
    "    spamreader = csv.reader(csvfile)\n",
    "    for row in spamreader:\n",
    "        tfidf_rf.append(float(row[0]))\n",
    "\n",
    "test_tfidf_rf = []\n",
    "with open('tfidf_test.csv', newline='') as csvfile:\n",
    "    spamreader = csv.reader(csvfile)\n",
    "    for row in spamreader:\n",
    "        test_tfidf_rf.append(float(row[0]))"
   ]
  },
  {
   "cell_type": "code",
   "execution_count": 4,
   "id": "a29bde94-b79a-4be0-a17a-7bd22ae61d0e",
   "metadata": {},
   "outputs": [],
   "source": [
    "bow_rf = []\n",
    "with open('bow_validation.csv', newline='') as csvfile:\n",
    "    spamreader = csv.reader(csvfile)\n",
    "    for row in spamreader:\n",
    "        bow_rf.append(float(row[0]))\n",
    "\n",
    "test_bow_rf = []\n",
    "with open('bow_test.csv', newline='') as csvfile:\n",
    "    spamreader = csv.reader(csvfile)\n",
    "    for row in spamreader:\n",
    "        test_bow_rf.append(float(row[0]))"
   ]
  },
  {
   "cell_type": "code",
   "execution_count": 80,
   "id": "6bf1f8f7-b97b-4814-bfed-20ca6d53d797",
   "metadata": {},
   "outputs": [
    {
     "name": "stdout",
     "output_type": "stream",
     "text": [
      "0.9341488807912546\n"
     ]
    }
   ],
   "source": [
    "weights = [0.408858, 0.4684838, 0.0374787, 0.08517887]\n",
    "t = 0\n",
    "f = 0\n",
    "for a, b, c, d, l in zip(bert_title, bert_description, tfidf_rf, bow_rf, labels):\n",
    "    pred = (a*weights[0] + b*weights[1] + (1-c)*weights[2] + (1-d)*weights[3])/sum(weights)\n",
    "    res = 0\n",
    "    if pred > 0.5:\n",
    "        res = 1\n",
    "    if res == l:\n",
    "        t += 1\n",
    "    else:\n",
    "        f += 1\n",
    "print(t/(t+f))"
   ]
  },
  {
   "cell_type": "code",
   "execution_count": 56,
   "id": "3169c6e9-a28e-4aca-91bd-f1fe4e58dd46",
   "metadata": {},
   "outputs": [
    {
     "data": {
      "text/plain": [
       "[0.4088586030664395,\n",
       " 0.4684838160136286,\n",
       " 0.03747870528109029,\n",
       " 0.08517887563884156]"
      ]
     },
     "execution_count": 56,
     "metadata": {},
     "output_type": "execute_result"
    }
   ],
   "source": [
    "[weight/sum(weights) for weight in weights]"
   ]
  },
  {
   "cell_type": "code",
   "execution_count": 81,
   "id": "3a5908c6-057d-4c67-b225-7641da903f00",
   "metadata": {},
   "outputs": [
    {
     "name": "stdout",
     "output_type": "stream",
     "text": [
      "0.946121811556481\n"
     ]
    }
   ],
   "source": [
    "weights = [0.409, 0.468, 0.037, 0.085]\n",
    "t = 0\n",
    "f = 0\n",
    "for a, b, c, d, l in zip(test_bert_title, test_bert_description, test_tfidf_rf, test_bow_rf, test_labels):\n",
    "    pred = (a*weights[0] + b*weights[1] + (1-c)*weights[2] + (1-d)*weights[3])/sum(weights)\n",
    "    res = 0\n",
    "    if pred > 0.5:\n",
    "        res = 1\n",
    "    if res == l:\n",
    "        t += 1\n",
    "    else:\n",
    "        f += 1\n",
    "print(t/(t+f))"
   ]
  }
 ],
 "metadata": {
  "kernelspec": {
   "display_name": "Python 3 (ipykernel)",
   "language": "python",
   "name": "python3"
  },
  "language_info": {
   "codemirror_mode": {
    "name": "ipython",
    "version": 3
   },
   "file_extension": ".py",
   "mimetype": "text/x-python",
   "name": "python",
   "nbconvert_exporter": "python",
   "pygments_lexer": "ipython3",
   "version": "3.10.10"
  }
 },
 "nbformat": 4,
 "nbformat_minor": 5
}
