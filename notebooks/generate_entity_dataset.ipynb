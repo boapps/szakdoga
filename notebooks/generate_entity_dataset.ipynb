{
 "cells": [
  {
   "cell_type": "markdown",
   "id": "b7bee8d9-431b-4dd3-964a-4b87e8d2b46b",
   "metadata": {},
   "source": [
    "## Entitás adathalmaz"
   ]
  },
  {
   "cell_type": "markdown",
   "id": "6134a303-b17a-4d28-90e0-b232c80cb478",
   "metadata": {},
   "source": [
    "### Betöltés"
   ]
  },
  {
   "cell_type": "code",
   "execution_count": null,
   "id": "f96f837f-ba12-4cf1-a100-b9081b2ff84f",
   "metadata": {},
   "outputs": [],
   "source": [
    "from datasets import load_dataset\n",
    "\n",
    "dataset = load_dataset('boapps/kmdb_classification')"
   ]
  },
  {
   "cell_type": "code",
   "execution_count": null,
   "id": "60536cf2-f698-4291-b4a2-cb02402e6fa4",
   "metadata": {},
   "outputs": [],
   "source": [
    "import spacy\n",
    "spacy.require_gpu()"
   ]
  },
  {
   "cell_type": "code",
   "execution_count": null,
   "id": "7d41d13e-25e1-490f-ae81-d5975d11abc3",
   "metadata": {},
   "outputs": [],
   "source": [
    "import hu_core_news_trf\n",
    "\n",
    "nlp = hu_core_news_trf.load()"
   ]
  },
  {
   "cell_type": "markdown",
   "id": "9e6586dd-bf87-4fba-ab6e-335b44d138e1",
   "metadata": {},
   "source": [
    "### Feldolgozás"
   ]
  },
  {
   "cell_type": "code",
   "execution_count": null,
   "id": "80320d0c-9585-44b0-950d-993259dc9a9f",
   "metadata": {},
   "outputs": [],
   "source": [
    "entity_dataset = dataset.filter(lambda article: article['label'] == 1)"
   ]
  },
  {
   "cell_type": "code",
   "execution_count": null,
   "id": "10256cec-243d-468c-b50a-d8caac47eff2",
   "metadata": {},
   "outputs": [],
   "source": [
    "def get_entities(articles):\n",
    "    results = {'entities': []}\n",
    "    try:\n",
    "        for doc in nlp.pipe(articles['text'], disable=[\"tagger\", \"parser\", \"lemma_smoother\"], ):\n",
    "            results['entities'].append([(ent.lemma_, ent.label_) for ent in doc.ents])\n",
    "    except Exception:\n",
    "        results['entities'].append(None)\n",
    "    return results\n",
    "\n",
    "entity_dataset = entity_dataset.map(get_entities, batched=True, batch_size=1)"
   ]
  },
  {
   "cell_type": "code",
   "execution_count": null,
   "id": "60acff8b-53b5-4658-9600-4f2d56612959",
   "metadata": {},
   "outputs": [],
   "source": [
    "entity_dataset"
   ]
  },
  {
   "cell_type": "code",
   "execution_count": null,
   "id": "0d308222-aee8-4861-8283-20da51f27f16",
   "metadata": {},
   "outputs": [],
   "source": [
    "entity_dataset.save_to_disk('../datasets/intermediate/entity_dataset')"
   ]
  }
 ],
 "metadata": {
  "kernelspec": {
   "display_name": "Python 3 (ipykernel)",
   "language": "python",
   "name": "python3"
  },
  "language_info": {
   "codemirror_mode": {
    "name": "ipython",
    "version": 3
   },
   "file_extension": ".py",
   "mimetype": "text/x-python",
   "name": "python",
   "nbconvert_exporter": "python",
   "pygments_lexer": "ipython3",
   "version": "3.10.10"
  }
 },
 "nbformat": 4,
 "nbformat_minor": 5
}
