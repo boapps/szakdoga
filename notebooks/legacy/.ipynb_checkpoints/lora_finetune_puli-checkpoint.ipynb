{
 "cells": [
  {
   "cell_type": "code",
   "execution_count": 1,
   "id": "f7f00a64-8961-4d56-bb34-f82c5185253d",
   "metadata": {
    "tags": []
   },
   "outputs": [
    {
     "name": "stdout",
     "output_type": "stream",
     "text": [
      "\n",
      "===================================BUG REPORT===================================\n",
      "Welcome to bitsandbytes. For bug reports, please submit your error trace to: https://github.com/TimDettmers/bitsandbytes/issues\n",
      "================================================================================\n",
      "CUDA SETUP: CUDA runtime path found: /home/boa/.conda/envs/ai/lib/libcudart.so\n",
      "CUDA SETUP: Highest compute capability among GPUs detected: 8.6\n",
      "CUDA SETUP: Detected CUDA version 117\n",
      "CUDA SETUP: Loading binary /home/boa/.conda/envs/ai/lib/python3.10/site-packages/bitsandbytes/libbitsandbytes_cuda117.so...\n"
     ]
    },
    {
     "data": {
      "application/vnd.jupyter.widget-view+json": {
       "model_id": "6e89e66a53d84caeb788e52054e7cbc3",
       "version_major": 2,
       "version_minor": 0
      },
      "text/plain": [
       "Loading checkpoint shards:   0%|          | 0/2 [00:00<?, ?it/s]"
      ]
     },
     "metadata": {},
     "output_type": "display_data"
    },
    {
     "data": {
      "text/plain": [
       "0"
      ]
     },
     "execution_count": 1,
     "metadata": {},
     "output_type": "execute_result"
    }
   ],
   "source": [
    "import torch\n",
    "from transformers import AutoTokenizer, AutoModelForCausalLM\n",
    "from peft import LoraConfig, get_peft_model\n",
    "from peft import prepare_model_for_int8_training\n",
    "import bitsandbytes as bnb\n",
    "\n",
    "model = AutoModelForCausalLM.from_pretrained(\n",
    "    \"NYTK/PULI-GPT-3SX\",\n",
    "    #load_in_8bit=True,\n",
    "    #device_map=\"auto\",\n",
    "    low_cpu_mem_usage=True\n",
    ")\n",
    "\n",
    "#model = prepare_model_for_int8_training(model)\n",
    "config = LoraConfig(\n",
    "    r=8, lora_alpha=16, target_modules=[\"query\", \"value\"], lora_dropout=0.05, bias=\"none\", task_type=\"CAUSAL_LM\"\n",
    ")\n",
    "\n",
    "model = get_peft_model(model, config)\n",
    "\n",
    "tokenizer = AutoTokenizer.from_pretrained(\"NYTK/PULI-GPT-3SX\")\n",
    "tokenizer.add_special_tokens({'pad_token': '[PAD]'})"
   ]
  },
  {
   "cell_type": "code",
   "execution_count": 2,
   "id": "a0be7b1f-28db-408b-9a01-c4a7b4947cbb",
   "metadata": {},
   "outputs": [],
   "source": [
    "# load a previous model for further finetuning\n",
    "\n",
    "from peft import set_peft_model_state_dict\n",
    "\n",
    "adapters_weights = torch.load('kmonitor-gpt-fixed-loss-v2-40k/adapter_model.bin')\n",
    "model = set_peft_model_state_dict(model, adapters_weights)"
   ]
  },
  {
   "cell_type": "code",
   "execution_count": 3,
   "id": "8c0d7d81-001e-41ec-a422-987d16332942",
   "metadata": {},
   "outputs": [],
   "source": [
    "model = model.merge_and_unload()\n"
   ]
  },
  {
   "cell_type": "code",
   "execution_count": 4,
   "id": "4e6ddfc1-b2b4-4156-9124-d09ff670c363",
   "metadata": {},
   "outputs": [],
   "source": [
    "model = model.half()\n"
   ]
  },
  {
   "cell_type": "code",
   "execution_count": 6,
   "id": "5d825a0f-086a-4f29-bc4b-71b63f69db63",
   "metadata": {},
   "outputs": [
    {
     "data": {
      "text/plain": [
       "('tokmod/tokenizer_config.json',\n",
       " 'tokmod/special_tokens_map.json',\n",
       " 'tokmod/vocab.json',\n",
       " 'tokmod/merges.txt',\n",
       " 'tokmod/added_tokens.json',\n",
       " 'tokmod/tokenizer.json')"
      ]
     },
     "execution_count": 6,
     "metadata": {},
     "output_type": "execute_result"
    }
   ],
   "source": [
    "tokenizer.save_pretrained('tokmod')"
   ]
  },
  {
   "cell_type": "code",
   "execution_count": 1,
   "id": "7451bbd0-41f0-419f-82ae-0e7b38a45dbf",
   "metadata": {},
   "outputs": [
    {
     "name": "stderr",
     "output_type": "stream",
     "text": [
      "<frozen importlib._bootstrap>:241: RuntimeWarning: pyarrow._fs.FileInfo size changed, may indicate binary incompatibility. Expected 64 from C header, got 88 from PyObject\n",
      "<frozen importlib._bootstrap>:241: RuntimeWarning: pyarrow._fs.FileSelector size changed, may indicate binary incompatibility. Expected 48 from C header, got 72 from PyObject\n"
     ]
    }
   ],
   "source": [
    "from datasets import load_from_disk\n",
    "\n",
    "data = load_from_disk('dataset-fixed')"
   ]
  },
  {
   "cell_type": "code",
   "execution_count": 2,
   "id": "e4f16a66-e555-43fa-bb2f-600815f11d88",
   "metadata": {},
   "outputs": [
    {
     "data": {
      "text/plain": [
       "DatasetDict({\n",
       "    train: Dataset({\n",
       "        features: ['text', 'title', 'description', 'keywords', 'theme', 'url', 'authors', 'date', 'kmonitor_description', 'kmonitor_title', 'kmonitor_tags', 'institutes', 'people'],\n",
       "        num_rows: 43060\n",
       "    })\n",
       "    test: Dataset({\n",
       "        features: ['text', 'title', 'description', 'keywords', 'theme', 'url', 'authors', 'date', 'kmonitor_description', 'kmonitor_title', 'kmonitor_tags', 'institutes', 'people'],\n",
       "        num_rows: 3618\n",
       "    })\n",
       "    validation: Dataset({\n",
       "        features: ['text', 'title', 'description', 'keywords', 'theme', 'url', 'authors', 'date', 'kmonitor_description', 'kmonitor_title', 'kmonitor_tags', 'institutes', 'people'],\n",
       "        num_rows: 6598\n",
       "    })\n",
       "})"
      ]
     },
     "execution_count": 2,
     "metadata": {},
     "output_type": "execute_result"
    }
   ],
   "source": [
    "data"
   ]
  },
  {
   "cell_type": "code",
   "execution_count": null,
   "id": "f6f2b757-4c05-4a93-9ef4-99d48e723228",
   "metadata": {},
   "outputs": [],
   "source": [
    "def trunc_to(descr, n):\n",
    "    if '.' in descr[int(n/2):n]:\n",
    "        return descr[:descr[:n].rfind('.')+1]\n",
    "    elif ' ' in descr[int(n/2):n]:\n",
    "        return descr[:descr[:n].rfind(' ')+1]\n",
    "    else:\n",
    "        return descr[:n]\n",
    "\n",
    "data = data.map(lambda samples: tokenizer('[klasszifikáció]\\n' + trunc_to(samples[\"title\"], 150) + '\\n\\n' + trunc_to(samples[\"description\"], 700) + '\\n\\n' + trunc_to(samples['text'], 2500) + '\\n\\n###\\n\\ntéma: '+('korrupció' if samples['theme'] == 1 else 'egyéb')+'\\n'), batched=False)"
   ]
  },
  {
   "cell_type": "code",
   "execution_count": null,
   "id": "16037b17-7bc7-430f-8536-366e1fbfefe9",
   "metadata": {
    "tags": []
   },
   "outputs": [],
   "source": [
    "data['train'] = data['train'].remove_columns(['text', 'title', 'description', 'keywords', 'theme', 'url', 'authors', 'date', 'kmonitor_description', 'kmonitor_title', 'kmonitor_tags', 'institutes', 'people'])\n",
    "\n",
    "data"
   ]
  },
  {
   "cell_type": "code",
   "execution_count": null,
   "id": "d340c50c-dd5c-4b6d-98b4-88a966303a2b",
   "metadata": {},
   "outputs": [],
   "source": [
    "# select which samples we train on\n",
    "strain = data['train'].select(range(0, 20000))"
   ]
  },
  {
   "cell_type": "code",
   "execution_count": null,
   "id": "02597608-3012-4a51-b361-75ba9bca91ac",
   "metadata": {},
   "outputs": [],
   "source": [
    "from transformers import Trainer\n",
    "\n",
    "\n",
    "class CustomTrainer(Trainer):\n",
    "    def compute_loss(self, model, inputs, return_outputs=False):\n",
    "        if hasattr(self, 'n_step'):\n",
    "            self.n_step += 1\n",
    "        else:\n",
    "            self.n_step = 1\n",
    "        if self.n_step % 1000 == 0:\n",
    "            model.save_pretrained(\"./kmonitor-gpt-fixed-loss-checkpoint-\"+str(self.n_step))\n",
    "        label = tokenizer.decode([inputs.get(\"input_ids\")[0][-2]]).strip()\n",
    "        output = model(**inputs)\n",
    "        l = output['loss']\n",
    "\n",
    "        outputs = model.generate(input_ids=inputs.get(\"input_ids\")[:, :-2], attention_mask=inputs.get(\"attention_mask\")[:, :-2], max_new_tokens=1)\n",
    "        result = tokenizer.decode([outputs[0][-1]]).strip()\n",
    "        loss = 0.5\n",
    "        # TODO better loss calculation\n",
    "        if label.strip() in result.strip():\n",
    "            loss = 0.0\n",
    "            l /= 2\n",
    "        elif label.strip() not in ['egyéb', 'korrupció']:\n",
    "            loss = 1.0\n",
    "\n",
    "        l.backward()\n",
    "        return torch.tensor(loss, device='cuda:0', requires_grad=True)"
   ]
  },
  {
   "cell_type": "code",
   "execution_count": null,
   "id": "59b78a85-b57f-4771-8cb2-31cdb6810ac9",
   "metadata": {},
   "outputs": [],
   "source": [
    "import transformers\n",
    "\n",
    "trainer = CustomTrainer(\n",
    "    model=model,\n",
    "    train_dataset=strain,\n",
    "    args=transformers.TrainingArguments(\n",
    "        report_to='wandb',\n",
    "        per_device_train_batch_size=1,\n",
    "        per_device_eval_batch_size=1,\n",
    "        num_train_epochs=1,\n",
    "        gradient_accumulation_steps=1,\n",
    "        warmup_steps=300,\n",
    "        max_steps=20000,\n",
    "        learning_rate=9e-3,\n",
    "        fp16=True,\n",
    "        weight_decay=0.0,\n",
    "        logging_steps=10,\n",
    "        #callbacks=[SavePeftModelCallback],\n",
    "        output_dir=\"outputs\",\n",
    "        resume_from_checkpoint=True,\n",
    "        save_total_limit=1,\n",
    "    ),\n",
    "    data_collator=transformers.DataCollatorForLanguageModeling(tokenizer, mlm=False),\n",
    ")\n",
    "\n",
    "model.config.use_cache = False\n",
    "trainer.train()"
   ]
  },
  {
   "cell_type": "code",
   "execution_count": null,
   "id": "11d9c90b-fac3-4270-ab20-b04f79840bcc",
   "metadata": {
    "tags": []
   },
   "outputs": [],
   "source": [
    "model.save_pretrained(\"./kmonitor-gpt-fixed-loss-v2-10k\")"
   ]
  }
 ],
 "metadata": {
  "kernelspec": {
   "display_name": "Python 3 (ipykernel)",
   "language": "python",
   "name": "python3"
  },
  "language_info": {
   "codemirror_mode": {
    "name": "ipython",
    "version": 3
   },
   "file_extension": ".py",
   "mimetype": "text/x-python",
   "name": "python",
   "nbconvert_exporter": "python",
   "pygments_lexer": "ipython3",
   "version": "3.10.10"
  }
 },
 "nbformat": 4,
 "nbformat_minor": 5
}
