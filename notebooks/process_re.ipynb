{
 "cells": [
  {
   "cell_type": "code",
   "execution_count": 1,
   "id": "85971355-bfc6-4c12-8563-1eb4ab181662",
   "metadata": {},
   "outputs": [
    {
     "name": "stderr",
     "output_type": "stream",
     "text": [
      "<frozen importlib._bootstrap>:241: RuntimeWarning: pyarrow._fs.FileInfo size changed, may indicate binary incompatibility. Expected 64 from C header, got 88 from PyObject\n",
      "<frozen importlib._bootstrap>:241: RuntimeWarning: pyarrow._fs.FileSelector size changed, may indicate binary incompatibility. Expected 48 from C header, got 72 from PyObject\n"
     ]
    }
   ],
   "source": [
    "from datasets import load_from_disk, load_dataset\n",
    "from datasets import concatenate_datasets\n",
    "\n",
    "raw_re_dataset = load_from_disk('../datasets/base/relation_extraction_raw')\n",
    "raw_re_dataset_gpt4 = load_from_disk('../datasets/base/relation_extraction_gpt4_raw')\n",
    "raw_re_dataset_gpt4_2 = load_from_disk('../datasets/base/relation_extraction_gpt4_raw_2')\n",
    "raw_re_dataset['train'] = concatenate_datasets([raw_re_dataset['train'], raw_re_dataset_gpt4['train'], raw_re_dataset_gpt4_2['train']])\n",
    "raw_re_dataset['test'] = concatenate_datasets([raw_re_dataset['test'], raw_re_dataset_gpt4['test'], raw_re_dataset_gpt4_2['test']])\n",
    "raw_re_dataset['validation'] = concatenate_datasets([raw_re_dataset['validation'], raw_re_dataset_gpt4['validation'], raw_re_dataset_gpt4_2['validation']])"
   ]
  },
  {
   "cell_type": "code",
   "execution_count": 2,
   "id": "ebf96c3c-7c18-4f05-99c4-053fa0705ea2",
   "metadata": {},
   "outputs": [
    {
     "data": {
      "text/plain": [
       "DatasetDict({\n",
       "    validation: Dataset({\n",
       "        features: ['paragraph', 'index', 'prompt', 'output', 'relations'],\n",
       "        num_rows: 106\n",
       "    })\n",
       "    test: Dataset({\n",
       "        features: ['paragraph', 'index', 'prompt', 'output', 'relations'],\n",
       "        num_rows: 106\n",
       "    })\n",
       "    train: Dataset({\n",
       "        features: ['paragraph', 'index', 'prompt', 'output', 'relations'],\n",
       "        num_rows: 1049\n",
       "    })\n",
       "})"
      ]
     },
     "execution_count": 2,
     "metadata": {},
     "output_type": "execute_result"
    }
   ],
   "source": [
    "raw_re_dataset"
   ]
  },
  {
   "cell_type": "code",
   "execution_count": 3,
   "id": "65e7c2aa-c1a5-447a-9683-e4f4b0b56afc",
   "metadata": {},
   "outputs": [],
   "source": [
    "filter_relations = ['kapcsolat', 'versenyfelügyeleti', 'okoz', 'frontol', 'kapott', 'elleni össztűz', 'intézet', 'bíró', 'ár', 'ügyvéd', 'terület', 'kapcsolódik', 'köthető', 'érkezik', 'Nincs kapcsolat.', 'fordul', 'származás', 'adatigénylő - adatok kiadásáért felelős hatóság', 'büntetésben részesül', 'hivatalos', 'győztes', 'hierarchikus', 'megbíráltatás', 'ellentétes vélemények', 'köti']"
   ]
  },
  {
   "cell_type": "code",
   "execution_count": 4,
   "id": "d951f8d6-ffee-4a16-a857-92a14ea35718",
   "metadata": {},
   "outputs": [],
   "source": [
    "def fix_relation(row):\n",
    "    return {'relations': [r for r in row['relations'] if (r['object'][0].isupper() and r['subject'][0].isupper() and r['relation'] not in filter_relations)]}"
   ]
  },
  {
   "cell_type": "code",
   "execution_count": 5,
   "id": "1064f199-c418-453c-8d08-9a4467a732b4",
   "metadata": {},
   "outputs": [
    {
     "data": {
      "application/vnd.jupyter.widget-view+json": {
       "model_id": "29a16dcc6b6f4579a17e2f1e1e482a19",
       "version_major": 2,
       "version_minor": 0
      },
      "text/plain": [
       "Map:   0%|          | 0/106 [00:00<?, ? examples/s]"
      ]
     },
     "metadata": {},
     "output_type": "display_data"
    },
    {
     "data": {
      "application/vnd.jupyter.widget-view+json": {
       "model_id": "d575702727c0460b820f73d7d1d936c3",
       "version_major": 2,
       "version_minor": 0
      },
      "text/plain": [
       "Map:   0%|          | 0/106 [00:00<?, ? examples/s]"
      ]
     },
     "metadata": {},
     "output_type": "display_data"
    },
    {
     "data": {
      "application/vnd.jupyter.widget-view+json": {
       "model_id": "c8733e5531864f29b5bb393d22863c24",
       "version_major": 2,
       "version_minor": 0
      },
      "text/plain": [
       "Map:   0%|          | 0/1049 [00:00<?, ? examples/s]"
      ]
     },
     "metadata": {},
     "output_type": "display_data"
    }
   ],
   "source": [
    "raw_re_dataset = raw_re_dataset.map(fix_relation)"
   ]
  },
  {
   "cell_type": "code",
   "execution_count": 7,
   "id": "72c6abd2-5437-48dd-8cec-a7386410ee26",
   "metadata": {},
   "outputs": [
    {
     "data": {
      "text/plain": [
       "'Közben, március 23. és április 6. között ment a téli rezsicsökkentés reklámozása 920 millió forintért. Orbán Viktor még március 7-én ígért minden háztartásnak 12 ezer forint jóváírást a gázszámlából, és ezt 900 tv-spotban reklámozták a TV2 csatornáin a Magno Studio Kft.-n keresztül.'"
      ]
     },
     "execution_count": 7,
     "metadata": {},
     "output_type": "execute_result"
    }
   ],
   "source": [
    "raw_re_dataset['train'][5]['paragraph']"
   ]
  },
  {
   "cell_type": "code",
   "execution_count": 8,
   "id": "e4516a4f-638e-479b-acdb-969e17c1af6c",
   "metadata": {},
   "outputs": [],
   "source": [
    "from collections import Counter\n",
    "allso = []\n",
    "cnt = Counter()\n",
    "\n",
    "for row in raw_re_dataset['train']:\n",
    "    for relation in row['relations']:\n",
    "        allso.append(relation['object'])\n",
    "        allso.append(relation['subject'])\n",
    "        \n",
    "allrel = []\n",
    "for split in raw_re_dataset:\n",
    "    for row in raw_re_dataset[split]:\n",
    "        for relation in row['relations']:\n",
    "            allrel.append(relation['relation'])\n",
    "            cnt[relation['relation']] += 1"
   ]
  },
  {
   "cell_type": "code",
   "execution_count": 9,
   "id": "6c332a17-7f79-4e51-820e-4610d0e7cf57",
   "metadata": {},
   "outputs": [
    {
     "data": {
      "application/vnd.jupyter.widget-view+json": {
       "model_id": "d29b1ee37a5a4c16b26e30356601aff4",
       "version_major": 2,
       "version_minor": 0
      },
      "text/plain": [
       "Filter:   0%|          | 0/106 [00:00<?, ? examples/s]"
      ]
     },
     "metadata": {},
     "output_type": "display_data"
    },
    {
     "data": {
      "application/vnd.jupyter.widget-view+json": {
       "model_id": "a4dcac894ed34c769a3b1a2ae3fb4ab0",
       "version_major": 2,
       "version_minor": 0
      },
      "text/plain": [
       "Filter:   0%|          | 0/106 [00:00<?, ? examples/s]"
      ]
     },
     "metadata": {},
     "output_type": "display_data"
    },
    {
     "data": {
      "application/vnd.jupyter.widget-view+json": {
       "model_id": "985927cec16f467f858220ff274bbd24",
       "version_major": 2,
       "version_minor": 0
      },
      "text/plain": [
       "Filter:   0%|          | 0/1049 [00:00<?, ? examples/s]"
      ]
     },
     "metadata": {},
     "output_type": "display_data"
    },
    {
     "data": {
      "text/plain": [
       "DatasetDict({\n",
       "    validation: Dataset({\n",
       "        features: ['paragraph', 'index', 'prompt', 'output', 'relations'],\n",
       "        num_rows: 73\n",
       "    })\n",
       "    test: Dataset({\n",
       "        features: ['paragraph', 'index', 'prompt', 'output', 'relations'],\n",
       "        num_rows: 71\n",
       "    })\n",
       "    train: Dataset({\n",
       "        features: ['paragraph', 'index', 'prompt', 'output', 'relations'],\n",
       "        num_rows: 720\n",
       "    })\n",
       "})"
      ]
     },
     "execution_count": 9,
     "metadata": {},
     "output_type": "execute_result"
    }
   ],
   "source": [
    "raw_re_dataset.filter(lambda row: len(row['relations']) > 0)"
   ]
  },
  {
   "cell_type": "code",
   "execution_count": 10,
   "id": "1c9f54e8-f920-443e-bd4e-4a6bae895b06",
   "metadata": {},
   "outputs": [
    {
     "data": {
      "text/plain": [
       "[('tulajdonos', 109),\n",
       " ('üzleti', 60),\n",
       " ('vezető', 34),\n",
       " ('elnök', 25),\n",
       " ('együttműködés', 14),\n",
       " ('vezérigazgató', 13),\n",
       " ('üzleti kapcsolat', 12),\n",
       " ('kommunikációs', 12),\n",
       " ('pénzügyi', 12),\n",
       " ('jogi', 12),\n",
       " ('támogató', 11),\n",
       " ('ellenőrzés', 11),\n",
       " ('képviselő', 10),\n",
       " ('munkavállaló', 10),\n",
       " ('kommunikáció', 10),\n",
       " ('politikai', 9),\n",
       " ('munkakapcsolat', 9),\n",
       " ('házastárs', 9),\n",
       " ('munkatárs', 9),\n",
       " ('alkotó', 9),\n",
       " ('vizsgálat', 8),\n",
       " ('konfliktus', 8),\n",
       " ('szerződéses', 8),\n",
       " ('igazgató', 8),\n",
       " ('üzleti partner', 7),\n",
       " ('párttag', 7),\n",
       " ('alapító', 7),\n",
       " ('érdekeltség', 6),\n",
       " ('támogatásban részesül', 6),\n",
       " ('jelölt', 6),\n",
       " ('tulajdonos vagy vezető', 6),\n",
       " ('szerződés', 5),\n",
       " ('igazgatósági tag', 5),\n",
       " ('polgármester', 5),\n",
       " ('alelnök', 5),\n",
       " ('személyes', 5),\n",
       " ('frakcióvezető', 5),\n",
       " ('megbízás', 5),\n",
       " ('nyomozás', 5),\n",
       " ('ügyfél', 5),\n",
       " ('jogi eljárás', 5),\n",
       " ('vezetői', 5),\n",
       " ('főigazgató', 5),\n",
       " ('kölcsönadó', 4),\n",
       " ('vásárló', 4),\n",
       " ('tanácsadó', 4),\n",
       " ('szóvivő', 4),\n",
       " ('információcsere', 4),\n",
       " ('ügyvezető', 4),\n",
       " ('barát', 4)]"
      ]
     },
     "execution_count": 10,
     "metadata": {},
     "output_type": "execute_result"
    }
   ],
   "source": [
    "cnt.most_common(50)"
   ]
  },
  {
   "cell_type": "code",
   "execution_count": 11,
   "id": "97ac3ff3-87d6-4199-8297-ffd830b0c28c",
   "metadata": {},
   "outputs": [],
   "source": [
    "def format_input(paragraph):\n",
    "    text = ''\n",
    "    text += 'Bekezdés:\\n\"' + paragraph.replace('\"', \"'\") + '\"\\n'\n",
    "    return text.strip()+'\\n\\nRelációk:\\n'\n",
    "\n",
    "def format_output(relation):\n",
    "    text = ''\n",
    "    for rel in relation['relations']:\n",
    "        text += 'Indoklás: \"' + rel['explanation'] + '\"\\n'\n",
    "        text += 'Kapcsolat: \"' + rel['relation'] + '\"\\n'\n",
    "        text += 'Tárgy: \"' + rel['subject'] + '\"\\n'\n",
    "        text += 'Alany: \"' + rel['object'] + '\"\\n\\n'\n",
    "    if relation['relations'] == []:\n",
    "        text += 'Nincs kapcsolat.\\n\\n'\n",
    "    return text.strip()"
   ]
  },
  {
   "cell_type": "code",
   "execution_count": 12,
   "id": "a3def6a4-8319-4168-a3ff-a2f40c8722a9",
   "metadata": {},
   "outputs": [
    {
     "data": {
      "application/vnd.jupyter.widget-view+json": {
       "model_id": "8da3736637fa4ccc83f543f73660edef",
       "version_major": 2,
       "version_minor": 0
      },
      "text/plain": [
       "Map:   0%|          | 0/106 [00:00<?, ? examples/s]"
      ]
     },
     "metadata": {},
     "output_type": "display_data"
    },
    {
     "data": {
      "application/vnd.jupyter.widget-view+json": {
       "model_id": "28011b6d5ceb46f1b6a5c685d3e508db",
       "version_major": 2,
       "version_minor": 0
      },
      "text/plain": [
       "Map:   0%|          | 0/106 [00:00<?, ? examples/s]"
      ]
     },
     "metadata": {},
     "output_type": "display_data"
    },
    {
     "data": {
      "application/vnd.jupyter.widget-view+json": {
       "model_id": "3017524cc2fc41e3ac82aca6360d3346",
       "version_major": 2,
       "version_minor": 0
      },
      "text/plain": [
       "Map:   0%|          | 0/1049 [00:00<?, ? examples/s]"
      ]
     },
     "metadata": {},
     "output_type": "display_data"
    }
   ],
   "source": [
    "re_dataset = raw_re_dataset.map(lambda row: {'input': format_input(row['paragraph']), 'output': format_output(row)})"
   ]
  },
  {
   "cell_type": "code",
   "execution_count": 13,
   "id": "68d91419-c695-4882-87ed-62b266772749",
   "metadata": {},
   "outputs": [
    {
     "name": "stdout",
     "output_type": "stream",
     "text": [
      "Bekezdés:\n",
      "\"Tavaly szeptember óta a BKV összesen 23 céggel, közöttük bétékkel, offshore cégekkel, ügyvédi irodákkal kötött tanácsadói szerződést, ezeknek az összértéke meghaladja a százmillió forintot. A szerződő cégek között van - a Dandy Trading Ltd. és az Everest Capita S.A. mellett - az Expert Kft., a Fazeno Bt., a Felsman Balázs volt gazdasági minisztériumi államtitkár által is fémjelzett Force Motrice Zrt., a V-Valeur Kft. és a Noguchi PR-ügynökség. A legnagyobb értékű szerződéseket a Dandy Tradinggel és az Everest Capital S. A-val kötötték, közbeszerzés és versenyeztetés kiírása nélkül.\"\n",
      "\n",
      "Relációk:\n",
      "\n"
     ]
    }
   ],
   "source": [
    "print(re_dataset['train'][4]['input'])"
   ]
  },
  {
   "cell_type": "code",
   "execution_count": 14,
   "id": "06639444-dbb2-4c48-85cc-d29cf89568a6",
   "metadata": {},
   "outputs": [
    {
     "data": {
      "application/vnd.jupyter.widget-view+json": {
       "model_id": "0f20626e78c94a96a98830a53d4f18d0",
       "version_major": 2,
       "version_minor": 0
      },
      "text/plain": [
       "Saving the dataset (0/1 shards):   0%|          | 0/106 [00:00<?, ? examples/s]"
      ]
     },
     "metadata": {},
     "output_type": "display_data"
    },
    {
     "data": {
      "application/vnd.jupyter.widget-view+json": {
       "model_id": "a5a572ae91a64a7192d55814901d97f0",
       "version_major": 2,
       "version_minor": 0
      },
      "text/plain": [
       "Saving the dataset (0/1 shards):   0%|          | 0/106 [00:00<?, ? examples/s]"
      ]
     },
     "metadata": {},
     "output_type": "display_data"
    },
    {
     "data": {
      "application/vnd.jupyter.widget-view+json": {
       "model_id": "58538cd0411c41beacf195c2658ae120",
       "version_major": 2,
       "version_minor": 0
      },
      "text/plain": [
       "Saving the dataset (0/1 shards):   0%|          | 0/1049 [00:00<?, ? examples/s]"
      ]
     },
     "metadata": {},
     "output_type": "display_data"
    }
   ],
   "source": [
    "re_dataset.remove_columns(['paragraph', 'index', 'prompt', 'relations']).save_to_disk('../datasets/tasks/relation_extraction_io2')"
   ]
  },
  {
   "cell_type": "code",
   "execution_count": 15,
   "id": "31108240-e6af-4a3e-9305-3fc6703d3990",
   "metadata": {},
   "outputs": [
    {
     "data": {
      "application/vnd.jupyter.widget-view+json": {
       "model_id": "0d96cb5a41994988bde4a51a3f870436",
       "version_major": 2,
       "version_minor": 0
      },
      "text/plain": [
       "Saving the dataset (0/1 shards):   0%|          | 0/106 [00:00<?, ? examples/s]"
      ]
     },
     "metadata": {},
     "output_type": "display_data"
    },
    {
     "data": {
      "application/vnd.jupyter.widget-view+json": {
       "model_id": "edb7af4d3cd641b3acec958db236a995",
       "version_major": 2,
       "version_minor": 0
      },
      "text/plain": [
       "Saving the dataset (0/1 shards):   0%|          | 0/106 [00:00<?, ? examples/s]"
      ]
     },
     "metadata": {},
     "output_type": "display_data"
    },
    {
     "data": {
      "application/vnd.jupyter.widget-view+json": {
       "model_id": "47c18b7eb795488db9d662d208ee027c",
       "version_major": 2,
       "version_minor": 0
      },
      "text/plain": [
       "Saving the dataset (0/1 shards):   0%|          | 0/1049 [00:00<?, ? examples/s]"
      ]
     },
     "metadata": {},
     "output_type": "display_data"
    }
   ],
   "source": [
    "re_dataset.save_to_disk('../datasets/tasks/relation_extraction')"
   ]
  },
  {
   "cell_type": "code",
   "execution_count": 16,
   "id": "3237e42f-c6ee-407a-8d8c-50a674bfa1f1",
   "metadata": {},
   "outputs": [],
   "source": [
    "from datasets import load_from_disk\n",
    "re_dataset = load_from_disk('../datasets/tasks/relation_extraction_io2')"
   ]
  },
  {
   "cell_type": "code",
   "execution_count": 17,
   "id": "1b7d1c31-0a98-4b55-bf73-8dcac73a121e",
   "metadata": {},
   "outputs": [
    {
     "data": {
      "text/plain": [
       "{'output': 'Indoklás: \"A szöveg szerint Vitézy Dávid korábban BKK vezető volt, de a problémákat a távozása utáni vezetés idézte elő.\"\\nKapcsolat: \"előző vezető\"\\nTárgy: \"Vitézy Dávid\"\\nAlany: \"BKK\"\\n\\nIndoklás: \"A szöveg alapján Dabóczi Kálmán a BKK akkori vezérigazgatójaként írta alá azt a szerződésmódosítást, amely problémákat okozott a BKK-nál.\"\\nKapcsolat: \"vezérigazgató\"\\nTárgy: \"Dabóczi Kálmán\"\\nAlany: \"BKK\"\\n\\nIndoklás: \"A szöveg szerint Tarlós István, mint korábbi főpolgármester, büntetőfeljelentést tett az ügyben.\"\\nKapcsolat: \"büntetőfeljelentést tevő\"\\nTárgy: \"Tarlós István\"\\nAlany: \"BKK ügy\"',\n",
       " 'input': 'Bekezdés:\\n\"Vitézy Dávid azonban már korábban is jelezte, hogy a fő problémát a távozása utáni BKK-vezetés idézte elő. Cikkünkre reagálva elmondta, hogy az a szerződésmódosítás, mely lehetővé tette a vállalkozónak, hogy nem igazoltan működőképes, nem tesztelt eszközökért is számlázzon, 2015 nyarán született, Dabóczi Kálmán akkori vezérigazgató írta alá. Ennek a módosításnak lett az eredménye, hogy végül a BKK milliárdokat fizetett ki működő rendszer nélkül. Többek között ez, az igen kétséges körülmények között született dokumentum is vezethetett ahhoz, hogy Tarlós István korábbi főpolgármester büntetőfeljelentést is tett az ügyben.\"\\n\\nRelációk:\\n'}"
      ]
     },
     "execution_count": 17,
     "metadata": {},
     "output_type": "execute_result"
    }
   ],
   "source": [
    "re_dataset['train'][-1]"
   ]
  },
  {
   "cell_type": "code",
   "execution_count": null,
   "id": "1dfcfe58-da50-4942-93e7-0eef75ce319b",
   "metadata": {},
   "outputs": [],
   "source": []
  }
 ],
 "metadata": {
  "kernelspec": {
   "display_name": "Python 3 (ipykernel)",
   "language": "python",
   "name": "python3"
  },
  "language_info": {
   "codemirror_mode": {
    "name": "ipython",
    "version": 3
   },
   "file_extension": ".py",
   "mimetype": "text/x-python",
   "name": "python",
   "nbconvert_exporter": "python",
   "pygments_lexer": "ipython3",
   "version": "3.10.10"
  }
 },
 "nbformat": 4,
 "nbformat_minor": 5
}
