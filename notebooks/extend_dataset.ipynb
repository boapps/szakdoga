{
 "cells": [
  {
   "cell_type": "code",
   "execution_count": null,
   "id": "113ee8fb-dbec-4620-9214-93a00225fb97",
   "metadata": {},
   "outputs": [],
   "source": [
    "import csv\n",
    "from datasets import load_dataset, Dataset, concatenate_datasets, load_from_disk"
   ]
  },
  {
   "cell_type": "code",
   "execution_count": null,
   "id": "9453fa0f-7f34-43b3-90ff-4e2974d5f289",
   "metadata": {},
   "outputs": [],
   "source": [
    "with open('../webui/non_corruption.csv') as csvfile:\n",
    "    reader = csv.DictReader(csvfile, fieldnames=['url', 'title', 'description', 'text', 'date', 'keywords'])\n",
    "    rows = list(reader)"
   ]
  },
  {
   "cell_type": "code",
   "execution_count": null,
   "id": "07b3f04b-82ec-4e65-9233-5521ccef7ecf",
   "metadata": {},
   "outputs": [],
   "source": [
    "non_corruption_dataset = Dataset.from_list(rows)"
   ]
  },
  {
   "cell_type": "code",
   "execution_count": null,
   "id": "7e1603a8-ddaf-4dd4-9ea8-ab14af6fef68",
   "metadata": {},
   "outputs": [],
   "source": [
    "non_corruption_dataset = non_corruption_dataset.map(\n",
    "    lambda row: {\n",
    "        'label': 0,\n",
    "        'is_hand_annoted': True,\n",
    "        'keywords': row['keywords'].split(',')\n",
    "    }\n",
    ")"
   ]
  },
  {
   "cell_type": "code",
   "execution_count": null,
   "id": "4048f05a-f9b5-44bb-8140-2f978cbc4641",
   "metadata": {},
   "outputs": [],
   "source": [
    "non_corruption_dataset"
   ]
  },
  {
   "cell_type": "code",
   "execution_count": null,
   "id": "3d659da5-d143-48f7-8b74-433936135c60",
   "metadata": {},
   "outputs": [],
   "source": [
    "dataset = load_dataset('boapps/kmdb_classification')"
   ]
  },
  {
   "cell_type": "code",
   "execution_count": null,
   "id": "5fe80abf-e5bf-4ed9-b273-9354bcba4724",
   "metadata": {},
   "outputs": [],
   "source": [
    "dataset = dataset.remove_columns(['authors', 'kmonitor_description', 'kmonitor_title', 'kmonitor_tags', 'kmonitor_institutes', 'kmonitor_people', 'kmonitor_places', 'kmonitor_collections'])"
   ]
  },
  {
   "cell_type": "code",
   "execution_count": null,
   "id": "336b9ff3-de9a-4fdb-83ff-dc79189cb150",
   "metadata": {},
   "outputs": [],
   "source": [
    "dataset"
   ]
  },
  {
   "cell_type": "code",
   "execution_count": null,
   "id": "d4a74113-ac72-4080-a572-202c8a3f1665",
   "metadata": {},
   "outputs": [],
   "source": [
    "dataset['train']"
   ]
  },
  {
   "cell_type": "code",
   "execution_count": null,
   "id": "8bb5f216-16de-429b-ab01-050286bd62d9",
   "metadata": {},
   "outputs": [],
   "source": [
    "dataset['train'] = concatenate_datasets([dataset['train'], non_corruption_dataset])"
   ]
  },
  {
   "cell_type": "code",
   "execution_count": null,
   "id": "717bd55b-8c77-44b8-896e-395561243534",
   "metadata": {},
   "outputs": [],
   "source": [
    "import re\n",
    "\n",
    "html_pattern = re.compile(r'<.*?>')\n",
    "date_pattern = re.compile(r'\\d{4}\\-\\d{2}\\-\\d{2} \\d{2}:\\d{2}')\n",
    "slug_pattern = re.compile(r' \\[sharedcontent .*\\]')"
   ]
  },
  {
   "cell_type": "code",
   "execution_count": null,
   "id": "8379feee-5501-4f56-b0d7-75344ca73b86",
   "metadata": {},
   "outputs": [],
   "source": [
    "def clean_article(article):\n",
    "    article['description'] = html_pattern.sub('', article['description'])\n",
    "    article['description'] = date_pattern.sub('', article['description'])\n",
    "    article['description'] = slug_pattern.sub('', article['description'])\n",
    "    article['description'] = article['description'].replace(r'\\xa0', ' ')\n",
    "    article['description'] = article['description'].replace(r'Ã¶', 'ö')\n",
    "    article['description'] = article['description'].replace(r'Ã©', 'é')\n",
    "    article['description'] = article['description'].replace(r'Ã³', 'ó')\n",
    "    article['description'] = article['description'].replace(r'Ã¡', 'á')\n",
    "    article['description'] = article['description'].replace(r'Ã\\xad', 'í')\n",
    "    article['description'] = article['description'].replace(r'Ã¼', 'ü')\n",
    "    article['description'] = article['description'].replace(r'Ã¼', 'ü')\n",
    "    article['description'] = article['description'].replace(r'+ Videó', '')\n",
    "    article['description'] = article['description'].replace(r'•', '')\n",
    "    article['description'] = article['description'].replace(r'MNO - PL', ' ')\n",
    "    article['description'] = article['description'].replace('\\\\\\\\', '')\n",
    "    article['description'] = article['description'].strip('- ')\n",
    "\n",
    "    article['title'] = article['title'].replace(r'Belföld :: ', '')\n",
    "    article['title'] = article['title'].replace(r' (+videó)', '')\n",
    "    article['title'] = article['title'].replace('\\\\\\\\', '')\n",
    "\n",
    "    return article"
   ]
  },
  {
   "cell_type": "code",
   "execution_count": null,
   "id": "9a4e295c-5310-437d-bfca-7e57d83dec56",
   "metadata": {},
   "outputs": [],
   "source": [
    "dataset = dataset.map(clean_article)"
   ]
  },
  {
   "cell_type": "code",
   "execution_count": null,
   "id": "7da04873-43f0-47bf-bef6-a7aac6ebc515",
   "metadata": {},
   "outputs": [],
   "source": [
    "dataset = dataset.filter(lambda row: row['description'] != '')"
   ]
  },
  {
   "cell_type": "code",
   "execution_count": null,
   "id": "84f7db06-d7eb-4dc8-b0a9-fbef0a97ad96",
   "metadata": {},
   "outputs": [],
   "source": [
    "RE_SUSPICIOUS = re.compile(r'[#<>{}\\|\\=\\*\\[\\]\\\\]')\n",
    "field = 'description'\n",
    "dataset = dataset.map(lambda row: {'score': len(RE_SUSPICIOUS.findall(row[field]))/len(row[field])})\n",
    "dataset = dataset.map(lambda row: {'title_score': len(RE_SUSPICIOUS.findall(row['title']))/len(row['title'])})"
   ]
  },
  {
   "cell_type": "code",
   "execution_count": null,
   "id": "cbbc3f46-b2e3-4ad7-8e63-146110c55e93",
   "metadata": {},
   "outputs": [],
   "source": [
    "dataset.filter(lambda row: row['title_score'] > 0.01)['train']['title']"
   ]
  },
  {
   "cell_type": "code",
   "execution_count": null,
   "id": "14a94deb-6e65-4e44-b772-1da3ee65f277",
   "metadata": {},
   "outputs": [],
   "source": [
    "dataset = dataset.filter(lambda row: row['score'] < 0.01)\n",
    "dataset = dataset.filter(lambda row: row['title_score'] < 0.01)"
   ]
  },
  {
   "cell_type": "code",
   "execution_count": null,
   "id": "5496dcb9-8b7b-486b-9f28-9d806cd65404",
   "metadata": {},
   "outputs": [],
   "source": [
    "dataset"
   ]
  },
  {
   "cell_type": "code",
   "execution_count": null,
   "id": "0218244e-ce46-4c62-9a85-cb2cbaa07eed",
   "metadata": {},
   "outputs": [],
   "source": [
    "dataset.shuffle(seed=42).save_to_disk('../datasets/base/kmdb_classification_extended')"
   ]
  },
  {
   "cell_type": "code",
   "execution_count": null,
   "id": "d946f5ea-8f10-418f-a7d5-4e21b626f408",
   "metadata": {},
   "outputs": [],
   "source": [
    "classification_dataset = load_from_disk('../datasets/base/kmdb_classification_extended')"
   ]
  },
  {
   "cell_type": "code",
   "execution_count": null,
   "id": "6e3e4a12-7ef3-4635-aad5-3dbebf0bc377",
   "metadata": {},
   "outputs": [],
   "source": [
    "classification_dataset"
   ]
  }
 ],
 "metadata": {
  "kernelspec": {
   "display_name": "Python 3 (ipykernel)",
   "language": "python",
   "name": "python3"
  },
  "language_info": {
   "codemirror_mode": {
    "name": "ipython",
    "version": 3
   },
   "file_extension": ".py",
   "mimetype": "text/x-python",
   "name": "python",
   "nbconvert_exporter": "python",
   "pygments_lexer": "ipython3",
   "version": "3.10.10"
  }
 },
 "nbformat": 4,
 "nbformat_minor": 5
}
