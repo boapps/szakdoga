{
 "cells": [
  {
   "cell_type": "code",
   "execution_count": null,
   "id": "113ee8fb-dbec-4620-9214-93a00225fb97",
   "metadata": {},
   "outputs": [],
   "source": [
    "import csv\n",
    "from datasets import load_dataset, Dataset, concatenate_datasets"
   ]
  },
  {
   "cell_type": "code",
   "execution_count": null,
   "id": "9453fa0f-7f34-43b3-90ff-4e2974d5f289",
   "metadata": {},
   "outputs": [],
   "source": [
    "with open('../webui/non_corruption.csv') as csvfile:\n",
    "    reader = csv.DictReader(csvfile, fieldnames=['url', 'title', 'description', 'text', 'date', 'keywords'])\n",
    "    rows = list(reader)"
   ]
  },
  {
   "cell_type": "code",
   "execution_count": null,
   "id": "07b3f04b-82ec-4e65-9233-5521ccef7ecf",
   "metadata": {},
   "outputs": [],
   "source": [
    "non_corruption_dataset = Dataset.from_list(rows)"
   ]
  },
  {
   "cell_type": "code",
   "execution_count": null,
   "id": "7e1603a8-ddaf-4dd4-9ea8-ab14af6fef68",
   "metadata": {},
   "outputs": [],
   "source": [
    "non_corruption_dataset = non_corruption_dataset.map(\n",
    "    lambda row: {\n",
    "        'label': 0,\n",
    "        'is_hand_annoted': True,\n",
    "        'keywords': row['keywords'].split(',')\n",
    "    }\n",
    ")"
   ]
  },
  {
   "cell_type": "code",
   "execution_count": null,
   "id": "4048f05a-f9b5-44bb-8140-2f978cbc4641",
   "metadata": {},
   "outputs": [],
   "source": [
    "non_corruption_dataset"
   ]
  },
  {
   "cell_type": "code",
   "execution_count": null,
   "id": "3d659da5-d143-48f7-8b74-433936135c60",
   "metadata": {},
   "outputs": [],
   "source": [
    "dataset = load_dataset('boapps/kmdb_classification')"
   ]
  },
  {
   "cell_type": "code",
   "execution_count": null,
   "id": "5fe80abf-e5bf-4ed9-b273-9354bcba4724",
   "metadata": {},
   "outputs": [],
   "source": [
    "dataset = dataset.remove_columns(['authors', 'kmonitor_description', 'kmonitor_title', 'kmonitor_tags', 'kmonitor_institutes', 'kmonitor_people', 'kmonitor_places', 'kmonitor_collections'])"
   ]
  },
  {
   "cell_type": "code",
   "execution_count": null,
   "id": "d4a74113-ac72-4080-a572-202c8a3f1665",
   "metadata": {},
   "outputs": [],
   "source": [
    "dataset['train']"
   ]
  },
  {
   "cell_type": "code",
   "execution_count": null,
   "id": "8bb5f216-16de-429b-ab01-050286bd62d9",
   "metadata": {},
   "outputs": [],
   "source": [
    "dataset['train'] = concatenate_datasets([dataset['train'], non_corruption_dataset])"
   ]
  },
  {
   "cell_type": "code",
   "execution_count": null,
   "id": "965103de-38d0-4dd3-8a29-e7816729aa4b",
   "metadata": {},
   "outputs": [],
   "source": [
    "dataset"
   ]
  },
  {
   "cell_type": "code",
   "execution_count": null,
   "id": "0218244e-ce46-4c62-9a85-cb2cbaa07eed",
   "metadata": {},
   "outputs": [],
   "source": [
    "dataset.save_to_disk('../datasets/base/kmdb_classification_extended')"
   ]
  }
 ],
 "metadata": {
  "kernelspec": {
   "display_name": "Python 3 (ipykernel)",
   "language": "python",
   "name": "python3"
  },
  "language_info": {
   "codemirror_mode": {
    "name": "ipython",
    "version": 3
   },
   "file_extension": ".py",
   "mimetype": "text/x-python",
   "name": "python",
   "nbconvert_exporter": "python",
   "pygments_lexer": "ipython3",
   "version": "3.10.10"
  }
 },
 "nbformat": 4,
 "nbformat_minor": 5
}
