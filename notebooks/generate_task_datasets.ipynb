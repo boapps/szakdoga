{
 "cells": [
  {
   "cell_type": "markdown",
   "id": "b87a1290-a1f6-4c44-ab75-5edb24b14dc9",
   "metadata": {
    "tags": []
   },
   "source": [
    "# Feladatok generáslása\n",
    "szöveggeneráló modellek tanítására"
   ]
  },
  {
   "cell_type": "code",
   "execution_count": 1,
   "id": "89660628-c867-4ef8-b117-2aca2ebb4b09",
   "metadata": {},
   "outputs": [
    {
     "name": "stderr",
     "output_type": "stream",
     "text": [
      "<frozen importlib._bootstrap>:241: RuntimeWarning: pyarrow._fs.FileInfo size changed, may indicate binary incompatibility. Expected 64 from C header, got 88 from PyObject\n",
      "<frozen importlib._bootstrap>:241: RuntimeWarning: pyarrow._fs.FileSelector size changed, may indicate binary incompatibility. Expected 48 from C header, got 72 from PyObject\n"
     ]
    }
   ],
   "source": [
    "from datasets import load_dataset, load_from_disk"
   ]
  },
  {
   "cell_type": "code",
   "execution_count": 11,
   "id": "2f804f66-d8ab-4ec1-a841-455dc5b1bad7",
   "metadata": {},
   "outputs": [
    {
     "name": "stderr",
     "output_type": "stream",
     "text": [
      "Found cached dataset parquet (/home/boa/.cache/huggingface/datasets/boapps___parquet/boapps--kmdb_classification-4003d65da9c3e34a/0.0.0/2a3b91fbd88a2c90d1dbbb32b460cf621d31bd5b05b934492fdef7d8d6f236ec)\n"
     ]
    },
    {
     "data": {
      "application/vnd.jupyter.widget-view+json": {
       "model_id": "8031f8cda63b4692bdf27abb65e80de5",
       "version_major": 2,
       "version_minor": 0
      },
      "text/plain": [
       "  0%|          | 0/3 [00:00<?, ?it/s]"
      ]
     },
     "metadata": {},
     "output_type": "display_data"
    }
   ],
   "source": [
    "dataset = load_dataset('boapps/kmdb_classification')"
   ]
  },
  {
   "cell_type": "code",
   "execution_count": 2,
   "id": "c23a8123-7a88-41f5-9bcf-2c99a9e30a95",
   "metadata": {},
   "outputs": [
    {
     "name": "stderr",
     "output_type": "stream",
     "text": [
      "Found cached dataset parquet (/home/boa/.cache/huggingface/datasets/boapps___parquet/boapps--kmdb_base-c84a1bff36ea1db3/0.0.0/2a3b91fbd88a2c90d1dbbb32b460cf621d31bd5b05b934492fdef7d8d6f236ec)\n"
     ]
    },
    {
     "data": {
      "application/vnd.jupyter.widget-view+json": {
       "model_id": "8b67fd39535a4a87842955a39dcfcc11",
       "version_major": 2,
       "version_minor": 0
      },
      "text/plain": [
       "  0%|          | 0/3 [00:00<?, ?it/s]"
      ]
     },
     "metadata": {},
     "output_type": "display_data"
    }
   ],
   "source": [
    "base_dataset = load_dataset('boapps/kmdb_base')"
   ]
  },
  {
   "cell_type": "code",
   "execution_count": 3,
   "id": "57236b7a-d756-4400-a11b-2eac047ff0bb",
   "metadata": {},
   "outputs": [
    {
     "data": {
      "text/plain": [
       "DatasetDict({\n",
       "    train: Dataset({\n",
       "        features: ['text', 'title', 'description', 'keywords', 'label', 'url', 'date', 'is_hand_annoted', 'score', 'title_score'],\n",
       "        num_rows: 45683\n",
       "    })\n",
       "    validation: Dataset({\n",
       "        features: ['text', 'title', 'description', 'keywords', 'label', 'url', 'date', 'is_hand_annoted', 'score', 'title_score'],\n",
       "        num_rows: 6579\n",
       "    })\n",
       "    test: Dataset({\n",
       "        features: ['text', 'title', 'description', 'keywords', 'label', 'url', 'date', 'is_hand_annoted', 'score', 'title_score'],\n",
       "        num_rows: 3605\n",
       "    })\n",
       "})"
      ]
     },
     "execution_count": 3,
     "metadata": {},
     "output_type": "execute_result"
    }
   ],
   "source": [
    "dataset"
   ]
  },
  {
   "cell_type": "code",
   "execution_count": 3,
   "id": "959a0d80-594f-4927-b1d6-3a5a8cec3095",
   "metadata": {},
   "outputs": [
    {
     "data": {
      "text/plain": [
       "DatasetDict({\n",
       "    validation: Dataset({\n",
       "        features: ['text', 'title', 'description', 'keywords', 'url', 'authors', 'date', 'kmonitor_description', 'kmonitor_title', 'kmonitor_tags', 'kmonitor_institutes', 'kmonitor_people', 'kmonitor_places', 'kmonitor_collections'],\n",
       "        num_rows: 3397\n",
       "    })\n",
       "    test: Dataset({\n",
       "        features: ['text', 'title', 'description', 'keywords', 'url', 'authors', 'date', 'kmonitor_description', 'kmonitor_title', 'kmonitor_tags', 'kmonitor_institutes', 'kmonitor_people', 'kmonitor_places', 'kmonitor_collections'],\n",
       "        num_rows: 1710\n",
       "    })\n",
       "    train: Dataset({\n",
       "        features: ['text', 'title', 'description', 'keywords', 'url', 'authors', 'date', 'kmonitor_description', 'kmonitor_title', 'kmonitor_tags', 'kmonitor_institutes', 'kmonitor_people', 'kmonitor_places', 'kmonitor_collections'],\n",
       "        num_rows: 26534\n",
       "    })\n",
       "})"
      ]
     },
     "execution_count": 3,
     "metadata": {},
     "output_type": "execute_result"
    }
   ],
   "source": [
    "base_dataset"
   ]
  },
  {
   "cell_type": "markdown",
   "id": "58f265d4-dd39-4173-9a88-6dba52d1529c",
   "metadata": {
    "tags": []
   },
   "source": [
    "## Cikk klasszifikációja (már nincs használva)"
   ]
  },
  {
   "cell_type": "code",
   "execution_count": null,
   "id": "2a26e6cb-711f-404e-b67c-101fa6efc1da",
   "metadata": {
    "tags": []
   },
   "outputs": [],
   "source": [
    "article_classification_prompt = '''[korrupció klasszifikáció]\n",
    "{title}\n",
    "\n",
    "{description}\n",
    "\n",
    "{text}\n",
    "\n",
    "cimkék: {keywords}\n",
    "\n",
    "###\n",
    "\n",
    "téma: {theme}\n",
    "'''"
   ]
  },
  {
   "cell_type": "code",
   "execution_count": null,
   "id": "8293b0c5-2382-42ac-a1c2-7365a58a6839",
   "metadata": {},
   "outputs": [],
   "source": [
    "article_classification_prompt = '''[korrupció klasszifikáció]\n",
    "{title}\n",
    "\n",
    "{description}\n",
    "\n",
    "cimkék: {keywords}\n",
    "\n",
    "###\n",
    "\n",
    "téma: {theme}\n",
    "'''"
   ]
  },
  {
   "cell_type": "code",
   "execution_count": null,
   "id": "7c31bce2-f7c6-4713-a0cf-4065b92e5adb",
   "metadata": {},
   "outputs": [],
   "source": [
    "def generate_article_classification_task(article):\n",
    "    article['keywords'] = ', '.join(article['keywords'])\n",
    "    article['theme'] = ['egyéb', 'korrupció'][article['label']]\n",
    "    article['description'] = article['description'].replace(article['title'], '').replace(' - ', ' ').strip()\n",
    "    article['text'] = article['text'].replace(article['description'], '').replace(' - ', ' ').strip()\n",
    "    article['text'] = article['text'][:article['text'].find('\\n')]\n",
    "    return {'text': article_classification_prompt.format(**article), 'type': 'article_classification'}\n",
    "\n",
    "    k = 0\n",
    "print(generate_article_classification_task(dataset['train'][1])['text'])"
   ]
  },
  {
   "cell_type": "code",
   "execution_count": null,
   "id": "f7f8cb90-cde4-47c3-b600-0c0f1fa55cd7",
   "metadata": {},
   "outputs": [],
   "source": [
    "# TODO ez szebb lenne format string-el, de akkor 20000. iteracional kicrashel valami key errorral, ami egy windowsos registry keynek tunik, WTF (linuxon vagyok)\n",
    "def generate_article_classification_task_b(articles):\n",
    "    results = {'text': [], 'label': [], 'type': []}\n",
    "    for i in range(len(articles['text'])):\n",
    "        articles['keywords'][i] = ', '.join(articles['keywords'][i])\n",
    "        articles['description'][i] = articles['description'][i].replace(articles['title'][i], '').replace(' - ', ' ').strip()\n",
    "        articles['text'][i] = articles['text'][i].replace(articles['description'][i], '').replace(' - ', ' ').strip()\n",
    "        n = 0\n",
    "        for paragraph in articles['text'][i].splitlines():\n",
    "            if paragraph.strip() == articles['description'][i]:\n",
    "                continue\n",
    "            if n == 5:\n",
    "                break\n",
    "            if len(paragraph.strip()) > 250:\n",
    "                n += 1\n",
    "                text = '''[korrupció klasszifikáció]\n",
    "'''+articles['title'][i]+'''\n",
    "\n",
    "'''+articles['description'][i]+'''\n",
    "\n",
    "'''+paragraph+'''\n",
    "\n",
    "cimkék: '''+articles['keywords'][i]+'''\n",
    "\n",
    "###\n",
    "\n",
    "téma: '''+['egyéb', 'korrupció'][articles['label'][i]]+'''\n",
    "'''\n",
    "                results['text'].append(text)\n",
    "                results['type'].append('article_classification')\n",
    "                results['label'].append(articles['label'][i])\n",
    "    return results\n",
    "\n",
    "#print(generate_article_classification_task(dataset['train'][1])['text'])"
   ]
  },
  {
   "cell_type": "code",
   "execution_count": null,
   "id": "cef4d93c-294b-4403-8923-21dc89553e3d",
   "metadata": {},
   "outputs": [],
   "source": [
    "article_classification_task_dataset = dataset.map(generate_article_classification_task, remove_columns=['text', 'title', 'description', 'keywords', 'url', 'authors', 'date', 'kmonitor_description', 'kmonitor_title', 'kmonitor_tags', 'kmonitor_institutes', 'kmonitor_people', 'is_hand_annoted', 'kmonitor_places', 'kmonitor_collections'])"
   ]
  },
  {
   "cell_type": "code",
   "execution_count": null,
   "id": "f35a7707-4ee0-4f45-beb5-7f29486150af",
   "metadata": {},
   "outputs": [],
   "source": [
    "article_classification_task_dataset = article_classification_task_dataset #.remove_columns('theme')"
   ]
  },
  {
   "cell_type": "code",
   "execution_count": null,
   "id": "af665dfb-6ad4-40b2-b928-717d8900f4c3",
   "metadata": {},
   "outputs": [],
   "source": [
    "print(article_classification_task_dataset['train'][1]['text'])"
   ]
  },
  {
   "cell_type": "code",
   "execution_count": null,
   "id": "ee82a9f0-4106-4379-a907-37f7f5666a7b",
   "metadata": {},
   "outputs": [],
   "source": [
    "article_classification_task_dataset.save_to_disk('../datasets/tasks/article_classification_task_dataset')"
   ]
  },
  {
   "cell_type": "markdown",
   "id": "3316b480-6431-4734-831b-d7624d5cad1e",
   "metadata": {
    "jp-MarkdownHeadingCollapsed": true,
    "tags": []
   },
   "source": [
    "## Releváns személyek adathalmaz"
   ]
  },
  {
   "cell_type": "code",
   "execution_count": null,
   "id": "1c2c69fb-88fb-47a9-9da3-22d27261b9e9",
   "metadata": {},
   "outputs": [],
   "source": [
    "entity_dataset = load_from_disk('../datasets/intermediate/entity_dataset')"
   ]
  },
  {
   "cell_type": "code",
   "execution_count": null,
   "id": "b4f52642-df55-4ab9-af6d-e459dd00e419",
   "metadata": {},
   "outputs": [],
   "source": [
    "def make_people_dataset(articles):\n",
    "    results = {'text': [], 'corrupt_people': [], 'not_corrupt_people': []}\n",
    "    for i in range(len(articles['text'])):\n",
    "        if articles['entities'][i] is None:\n",
    "            continue\n",
    "        entities = [tuple(entity) for entity in articles['entities'][i]]\n",
    "        if articles['kmonitor_people'][i]:\n",
    "            has_missing = False\n",
    "            people = [p if ' (' not in p else p[:p.find(' (')] for p in articles['kmonitor_people'][i]]\n",
    "            corrupt_people = set()\n",
    "            not_corrupt_people = set()\n",
    "            for person in people:\n",
    "                isin = False\n",
    "                original_name = ''\n",
    "                for ent, label in entities:\n",
    "                    if person.lower().replace('-', '').replace('dr. ', '') == ent.lower().replace('-', '').replace('dr. ', ''):\n",
    "                        isin = True\n",
    "                        original_name = ent\n",
    "                        break\n",
    "                if not isin:\n",
    "                    if not has_missing:\n",
    "                        print(i, articles['title'][i])\n",
    "                        print(articles['url'][i])\n",
    "                    print('-', person, 'not in')\n",
    "                    has_missing = True\n",
    "                else:\n",
    "                    corrupt_people.add(original_name)\n",
    "            for ent, label in entities:\n",
    "                correct = True\n",
    "                for person in people:\n",
    "                    if ent.lower().replace('-', '').replace('dr. ', '') in person.lower().replace('-', '').replace('dr. ', '') or label != 'PER' or ' ' not in ent:\n",
    "                        correct = False\n",
    "                        break\n",
    "                if correct:\n",
    "                    not_corrupt_people.add(ent)\n",
    "            if not has_missing:\n",
    "                results['text'].append(articles[\"text\"][i])\n",
    "                results['corrupt_people'].append(list(corrupt_people))\n",
    "                results['not_corrupt_people'].append(list(not_corrupt_people))\n",
    "    return results"
   ]
  },
  {
   "cell_type": "code",
   "execution_count": null,
   "id": "6c6970f9-03fc-4477-b0de-86e33e952733",
   "metadata": {
    "tags": []
   },
   "outputs": [],
   "source": [
    "people_dataset = entity_dataset.map(make_people_dataset, batched=True, remove_columns=dataset['train'].column_names+['entities'])"
   ]
  },
  {
   "cell_type": "code",
   "execution_count": null,
   "id": "36a861b4-b159-4818-94fd-0baba8fdcc21",
   "metadata": {},
   "outputs": [],
   "source": [
    "people_dataset"
   ]
  },
  {
   "cell_type": "code",
   "execution_count": null,
   "id": "8489867a-6153-4159-8daf-d9a4eefbc8e5",
   "metadata": {},
   "outputs": [],
   "source": [
    "people_dataset.save_to_disk('../datasets/intermediate/people_dataset')"
   ]
  },
  {
   "cell_type": "markdown",
   "id": "05ddd028-ef24-43b2-aa98-72d965bc01ce",
   "metadata": {
    "jp-MarkdownHeadingCollapsed": true,
    "tags": []
   },
   "source": [
    "## Személy-klasszifikációs feladatok generálása"
   ]
  },
  {
   "cell_type": "code",
   "execution_count": null,
   "id": "b9ce3b03-e766-42ed-81e0-5fa2ea3959b7",
   "metadata": {},
   "outputs": [],
   "source": [
    "people_dataset = load_from_disk('../datasets/intermediate/people_dataset')"
   ]
  },
  {
   "cell_type": "code",
   "execution_count": null,
   "id": "53047052-e4d1-4314-a93d-548d07b18beb",
   "metadata": {},
   "outputs": [],
   "source": [
    "people_classification_prompt = '''[személy klasszifikáció]\n",
    "{text}\n",
    "\n",
    "###\n",
    "\n",
    "összes: {all}\n",
    "korrupcióban érintett: {corrupt}\n",
    "'''"
   ]
  },
  {
   "cell_type": "code",
   "execution_count": null,
   "id": "f0bcfc3d-b93e-4986-bf70-d5b40bd28928",
   "metadata": {},
   "outputs": [],
   "source": [
    "def generate_people_classification_task(articles):\n",
    "    result = {'text': [], 'type': []}\n",
    "    for i in range(len(articles['text'])):\n",
    "        article = {key: articles[key][i] for key in articles}\n",
    "        article['corrupt'] = ', '.join(sorted(article['corrupt_people']))\n",
    "        article['other'] = ', '.join(sorted(article['not_corrupt_people']))\n",
    "        article['all'] = ', '.join(sorted(article['corrupt_people'] + article['not_corrupt_people']))\n",
    "        result['type'].append('people_classification')\n",
    "        result['text'].append(people_classification_prompt.format(**article))\n",
    "    return result"
   ]
  },
  {
   "cell_type": "code",
   "execution_count": null,
   "id": "c00c906a-8985-44dc-b5d7-759f3b23a503",
   "metadata": {},
   "outputs": [],
   "source": [
    "people_classification_task_dataset = people_dataset.map(generate_people_classification_task, batched=True, remove_columns=people_dataset['train'].column_names)"
   ]
  },
  {
   "cell_type": "code",
   "execution_count": null,
   "id": "593a48f9-5703-4fa4-a584-d259a8c3be08",
   "metadata": {},
   "outputs": [],
   "source": [
    "print(people_classification_task_dataset['train'][0]['text'])"
   ]
  },
  {
   "cell_type": "code",
   "execution_count": null,
   "id": "dff75dac-e758-41c6-932e-1c9b4881719a",
   "metadata": {},
   "outputs": [],
   "source": [
    "people_classification_task_dataset.save_to_disk('../datasets/tasks/people_classification_task_dataset')"
   ]
  },
  {
   "cell_type": "markdown",
   "id": "64a071b0-f13f-4939-8b7f-db39850ea2bb",
   "metadata": {
    "jp-MarkdownHeadingCollapsed": true,
    "tags": []
   },
   "source": [
    "## Intézmény klasszifikációja"
   ]
  },
  {
   "cell_type": "code",
   "execution_count": null,
   "id": "88b41839-2c8c-404e-9cd4-52ce2331bc14",
   "metadata": {},
   "outputs": [],
   "source": [
    "from datasets import load_from_disk\n",
    "entity_dataset = load_from_disk('../datasets/intermediate/entity_dataset')"
   ]
  },
  {
   "cell_type": "code",
   "execution_count": null,
   "id": "daff4748-7f82-4d15-a5f0-061f0b17032c",
   "metadata": {
    "tags": []
   },
   "outputs": [],
   "source": [
    "set([tuple(entity) for entities in entity_dataset['train']['entities'][:10] for entity in entities if entity[1] == 'ORG'])"
   ]
  },
  {
   "cell_type": "code",
   "execution_count": null,
   "id": "65946c4f-01cb-4d9d-a38a-e382c9066c13",
   "metadata": {},
   "outputs": [],
   "source": [
    "def make_institutions_dataset(articles):\n",
    "    results = {'text': [], 'corrupt_institutions': [], 'not_corrupt_institutions': []}\n",
    "    for i in range(len(articles['text'])):\n",
    "        if articles['entities'][i] is None:\n",
    "            continue\n",
    "        entities = [tuple(entity) for entity in articles['entities'][i]]\n",
    "        if articles['kmonitor_institutes'][i]:\n",
    "            has_missing = False\n",
    "            institutions = [p if ' (' not in p else p[:p.find(' (')] for p in articles['kmonitor_institutes'][i]]\n",
    "            corrupt_institutions = set()\n",
    "            not_corrupt_institutions = set()\n",
    "            for institution in institutions:\n",
    "                isin = False\n",
    "                original_name = ''\n",
    "                for ent, label in entities:\n",
    "                    if institution.lower().replace(' zrt.', '').replace(' kft.', '') == ent.lower().replace(' zrt.', '').replace(' kft.', ''):\n",
    "                        isin = True\n",
    "                        original_name = ent\n",
    "                        break\n",
    "                if not isin:\n",
    "                    if not has_missing:\n",
    "                        print(i, articles['title'][i])\n",
    "                        print(articles['url'][i])\n",
    "                    print('-', institution, 'not in')\n",
    "                    has_missing = True\n",
    "                else:\n",
    "                    corrupt_institutions.add(original_name)\n",
    "            for ent, label in entities:\n",
    "                correct = True\n",
    "                for institution in institutions:\n",
    "                    if ent.lower().replace(' zrt.', '').replace(' kft.', '') in institution.lower().replace(' zrt.', '').replace(' kft.', '') or label != 'ORG' or ' ' not in ent:\n",
    "                        correct = False\n",
    "                        break\n",
    "                if correct:\n",
    "                    not_corrupt_institutions.add(ent)\n",
    "            if not has_missing:\n",
    "                results['text'].append(articles[\"text\"][i])\n",
    "                results['corrupt_institutions'].append(list(corrupt_institutions))\n",
    "                results['not_corrupt_institutions'].append(list(not_corrupt_institutions))\n",
    "    return results"
   ]
  },
  {
   "cell_type": "code",
   "execution_count": null,
   "id": "4a4a9ed9-04b4-4ce1-85ff-d37766896b0f",
   "metadata": {
    "tags": []
   },
   "outputs": [],
   "source": [
    "institutions_dataset = entity_dataset.map(make_institutions_dataset, batched=True, remove_columns=dataset['train'].column_names+['entities'])"
   ]
  },
  {
   "cell_type": "code",
   "execution_count": null,
   "id": "80018401-7e37-4da0-9f36-2790c41261f9",
   "metadata": {},
   "outputs": [],
   "source": [
    "institutions_dataset"
   ]
  },
  {
   "cell_type": "code",
   "execution_count": null,
   "id": "9ef3f375-e1ac-4995-af86-cabcd5d9d056",
   "metadata": {},
   "outputs": [],
   "source": [
    "institutions_dataset.save_to_disk('../datasets/intermediate/institutions_dataset')"
   ]
  },
  {
   "cell_type": "markdown",
   "id": "66440d6f-84fa-47e3-bd57-00421be75d6f",
   "metadata": {
    "tags": []
   },
   "source": [
    "## Intézményklasszifikációs feladatok generálása"
   ]
  },
  {
   "cell_type": "code",
   "execution_count": null,
   "id": "1c2ce31c-616f-4035-877c-9c48719aeeca",
   "metadata": {},
   "outputs": [],
   "source": [
    "institutions_dataset = load_from_disk('../datasets/intermediate/institutions_dataset')"
   ]
  },
  {
   "cell_type": "code",
   "execution_count": null,
   "id": "5e5d7c3d-392d-40bc-a7b8-acb42d38e3a2",
   "metadata": {},
   "outputs": [],
   "source": [
    "institution_classification_prompt = '''[intézmény klasszifikáció]\n",
    "{text}\n",
    "\n",
    "###\n",
    "\n",
    "összes: {all}\n",
    "korrupcióban érintett: {corrupt}\n",
    "'''"
   ]
  },
  {
   "cell_type": "code",
   "execution_count": null,
   "id": "b1702017-080e-45cd-8a0b-0dc1f426bc65",
   "metadata": {},
   "outputs": [],
   "source": [
    "def generate_institution_classification_task(articles):\n",
    "    result = {'text': [], 'type': []}\n",
    "    for i in range(len(articles['text'])):\n",
    "        article = {key: articles[key][i] for key in articles}\n",
    "        article['corrupt'] = ', '.join(sorted(article['corrupt_institutions']))\n",
    "        article['other'] = ', '.join(sorted(article['not_corrupt_institutions']))\n",
    "        article['all'] = ', '.join(sorted(article['corrupt_institutions'] + article['not_corrupt_institutions']))\n",
    "        result['type'].append('institution_classification')\n",
    "        result['text'].append(people_classification_prompt.format(**article))\n",
    "    return result"
   ]
  },
  {
   "cell_type": "code",
   "execution_count": null,
   "id": "6d1a9fbc-039e-421e-bef4-fab2b0cb01e4",
   "metadata": {},
   "outputs": [],
   "source": [
    "institution_classification_task_dataset = institutions_dataset.map(generate_institution_classification_task, batched=True, remove_columns=institutions_dataset['train'].column_names)"
   ]
  },
  {
   "cell_type": "code",
   "execution_count": null,
   "id": "41b77624-c9be-4d02-b38c-e98a46ad4640",
   "metadata": {},
   "outputs": [],
   "source": [
    "institution_classification_task_dataset"
   ]
  },
  {
   "cell_type": "code",
   "execution_count": null,
   "id": "154c4162-c3a6-467e-a18b-65b992fde816",
   "metadata": {},
   "outputs": [],
   "source": [
    "institution_classification_task_dataset.save_to_disk('../datasets/tasks/institution_classification_task_dataset')"
   ]
  },
  {
   "cell_type": "markdown",
   "id": "5b980837-5dbf-45c8-9d6f-a96e52505432",
   "metadata": {
    "jp-MarkdownHeadingCollapsed": true,
    "tags": []
   },
   "source": [
    "## Helyszínek klasszifikációja"
   ]
  },
  {
   "cell_type": "code",
   "execution_count": null,
   "id": "ce8351b7-1751-4ee8-a0dc-5dcf1612ccbe",
   "metadata": {},
   "outputs": [],
   "source": [
    "set([tuple(entity) for entities in entity_dataset['train']['entities'][:10] for entity in entities if entity[1] == 'LOC'])"
   ]
  },
  {
   "cell_type": "code",
   "execution_count": null,
   "id": "90351220-13b0-49a4-aaa8-69217b1682b8",
   "metadata": {},
   "outputs": [],
   "source": [
    "set([entity for entities in entity_dataset['train']['kmonitor_places'][:10] for entity in entities])"
   ]
  },
  {
   "cell_type": "markdown",
   "id": "aabe6a63-c563-4861-b2dd-1c62481d99fc",
   "metadata": {},
   "source": [
    "## Címkék generálása"
   ]
  },
  {
   "cell_type": "code",
   "execution_count": 4,
   "id": "6dc2539f-7032-48f7-be97-2d47583551a6",
   "metadata": {},
   "outputs": [],
   "source": [
    "keyword_dataset = base_dataset"
   ]
  },
  {
   "cell_type": "code",
   "execution_count": 7,
   "id": "b67cdaba-fe7d-4d19-b446-8408b273ac1c",
   "metadata": {},
   "outputs": [],
   "source": [
    "keyword_generation_prompt = '''[címkék generálása]\n",
    "{title}\n",
    "\n",
    "{description}\n",
    "\n",
    "{text}\n",
    "\n",
    "cimkék: {keywords}\n",
    "\n",
    "###\n",
    "\n",
    "korrupciós címkék: {kmonitor_tags}\n",
    "'''"
   ]
  },
  {
   "cell_type": "code",
   "execution_count": 8,
   "id": "b70cd1cf-c3c6-4b05-a516-b53b975b5f20",
   "metadata": {},
   "outputs": [
    {
     "name": "stdout",
     "output_type": "stream",
     "text": [
      "[címkék generálása]\n",
      "A belső elhárítás tudott a békési rendőrügyekről\n",
      "\n",
      "A Rendvédelmi Szervek Védelmi Szolgálata (RSZVSZ), több, hivatali úton érkezett jelzés nyomán vizsgálta a békési rendőrvezetők és az alvilág kapcsolatát - értesült a Magyar\n",
      "\n",
      "A Rendvédelmi Szervek Védelmi Szolgálata (RSZVSZ), több, hivatali úton érkezett jelzés nyomán vizsgálta a békési rendőrvezetők és az alvilág kapcsolatát - értesült a Magyar Hírlap.\n",
      "Tonhauser László közölte, a békési ügyekről neki is voltak információi, amelyekről tájékoztatta a belső elhárítást. Az ORFK szóvivője bejelentette: várhatóan ezen a héten lezárul a '95-ös olajügyekkel kapcsolatos nyomozások és a Békés megyei rendőrségnél történt rendkívüli halálesetek ügyében indított vizsgálat. Bócz Endre, fővárosi főügyész megkapta Pallag László kisgazda-képviselő feljelentését, de mint mondta: nincs az ügyben illetékessége, mert ha valaki a helyi szerveket elfogultnak tartja, a legfőbb ügyészhez kellett volna fordulnia.\n",
      "Orbán Viktor a tegnapi kormányülés után tudatta: felkérte Pintér Sándort, hogy a közeljövőben esedékes belügyminisztériumi sajtótájékoztatón ne csak a békési rendőrök személyével összefüggő ügyekre helyezzenek hangsúlyt, hanem az ezek alapjául szolgáló olaj-ügyletekről is szóljanak. Eközben Garamvölgyi László, az ORFK szóvivője közölte: várhatóan ezen a héten lezárul az 1995-ös olajügyekkel kapcsolatos nyomozások és a Békés megyei rendőrségnél történt rendkívüli halálesetek ügyében indított vizsgálat. (Orbán Péter vezérőrnagy, az Országos Rendőr-főkapitányság vezetője a bűnügyi főigazgatót szeptember 22-én bízta meg azzal, hogy az említett ügyeket átnézze.)\n",
      "Lapunk úgy tudja, hogy az RSZVSZ Kuzma Mihály alezredes - a Szervezett Bűnözés Elleni Szolgálat békési vezetőjének - tavaly február 27-ei öngyilkossága után olyan adatok birtokába jutott, amelyek alátámasztották azt, hogy egyes békési rendőrök \"olajügybe keveredtek\".\n",
      "Tonhauser László, a ORFK Szervezett Bűnözés Elleni Szolgálatának tavaly ősszel nyugdíjazott vezetője lapunknak elmondta, évek óta szoros barátság fűzte Kuzma Mihályhoz, az általa vezetett Békés megyei szolgálattal több sikeres akciót hajtottak végre. Számos zsaroló ennek nyomán került rendőrkézre - tette hozzá. Kérdésünkre, hogy Kuzma tájékoztatta-e olyan ügyekről, amelyben felmerült annak gyanúja, hogy az alvilág egyes békési rendőröket korrumpál, Tonhauser azt válaszolta: ilyen információk birtokában mindig betartotta a szolgálati utat és ezt hivatalosan jelezte a belső elhárításnak, a Rendvédelmi Szervek Védelmi Szolgálatának. Hangsúlyozta, hogy eltávolítása előtt röviddel az RSZVSZ-t irányító Felügyeleti és Ellenőrzési Hivatal (FEH) vezetőjének és munkatársainak is távozni kellett, azóta a FEH első embere a korábbi békési rendőrfőkapitány, Gál László.\n",
      "Bócz Endre, a Fővárosi Főügyészség vezetője úgy nyilatkozott: megkapták Pallag László kisgazda-képviselő feljelentését, amellyel kapcsolatban jelenleg hivatalból vizsgálják a hatáskörüket és az illetékességüket. A törvény értelmében azonban nincs az ügyben illetékessége a Fővárosi Főügyészségnek. Tekintettel arra, hogy amennyiben a helyi szerveket elfogultnak tartják, a legfőbb ügyészhez kellett volna fordulniuk az ügyben.\n",
      "Kurucz Ferenc Békés megyei rendőrfőkapitány az MH-nak úgy nyilatkozott, hogy a Világgazdaságban megjelent vádakkal kapcsolatban fontolgatja, hogy följelenti Karancsi Tibort. Amennyiben a nemrégiben leváltott rendőr százados bizonyítékokat fog föltárni, akkor bűnpártoló, mert bizonyítékokat titkol, amelyek alkalmasak lettek volna bizonyos bűncselekmények igazolására. Ha nem tudna bizonyítékokat előtárni, akkor viszont hamis vád miatt fontolgatja a főkapitány a följelentést.\n",
      "Ferenczi Krisztina, Sengel Ferenc\n",
      "(RTL Klub információ.)\n",
      "\n",
      "cimkék: \n",
      "\n",
      "###\n",
      "\n",
      "korrupciós címkék: bűnpártolás\n",
      "\n"
     ]
    }
   ],
   "source": [
    "def generate_keyword_generation_task(article):\n",
    "    article['keywords'] = ', '.join(article['keywords'])\n",
    "    article['kmonitor_tags'] = ', '.join(article['kmonitor_tags'])\n",
    "    return {'text': keyword_generation_prompt.format(**article), 'type': 'keyword_generation'}\n",
    "\n",
    "print(generate_keyword_generation_task(keyword_dataset['train'][1])['text'])"
   ]
  },
  {
   "cell_type": "code",
   "execution_count": 9,
   "id": "e131294e-cb15-4dfb-b065-a97c4671a5d6",
   "metadata": {},
   "outputs": [
    {
     "data": {
      "application/vnd.jupyter.widget-view+json": {
       "model_id": "",
       "version_major": 2,
       "version_minor": 0
      },
      "text/plain": [
       "Map:   0%|          | 0/3397 [00:00<?, ? examples/s]"
      ]
     },
     "metadata": {},
     "output_type": "display_data"
    },
    {
     "data": {
      "application/vnd.jupyter.widget-view+json": {
       "model_id": "",
       "version_major": 2,
       "version_minor": 0
      },
      "text/plain": [
       "Map:   0%|          | 0/1710 [00:00<?, ? examples/s]"
      ]
     },
     "metadata": {},
     "output_type": "display_data"
    },
    {
     "data": {
      "application/vnd.jupyter.widget-view+json": {
       "model_id": "",
       "version_major": 2,
       "version_minor": 0
      },
      "text/plain": [
       "Map:   0%|          | 0/26534 [00:00<?, ? examples/s]"
      ]
     },
     "metadata": {},
     "output_type": "display_data"
    }
   ],
   "source": [
    "keyword_generation_task_dataset = keyword_dataset.map(generate_keyword_generation_task, remove_columns=keyword_dataset['train'].column_names)"
   ]
  },
  {
   "cell_type": "code",
   "execution_count": 10,
   "id": "df3ec9fc-8858-41bf-b6bb-c7001c939dee",
   "metadata": {},
   "outputs": [
    {
     "data": {
      "text/plain": [
       "DatasetDict({\n",
       "    validation: Dataset({\n",
       "        features: ['text', 'type'],\n",
       "        num_rows: 3397\n",
       "    })\n",
       "    test: Dataset({\n",
       "        features: ['text', 'type'],\n",
       "        num_rows: 1710\n",
       "    })\n",
       "    train: Dataset({\n",
       "        features: ['text', 'type'],\n",
       "        num_rows: 26534\n",
       "    })\n",
       "})"
      ]
     },
     "execution_count": 10,
     "metadata": {},
     "output_type": "execute_result"
    }
   ],
   "source": [
    "keyword_generation_task_dataset"
   ]
  },
  {
   "cell_type": "code",
   "execution_count": 11,
   "id": "b0b1e2ee-9f28-48df-8197-e24b46718186",
   "metadata": {},
   "outputs": [
    {
     "data": {
      "application/vnd.jupyter.widget-view+json": {
       "model_id": "",
       "version_major": 2,
       "version_minor": 0
      },
      "text/plain": [
       "Saving the dataset (0/1 shards):   0%|          | 0/3397 [00:00<?, ? examples/s]"
      ]
     },
     "metadata": {},
     "output_type": "display_data"
    },
    {
     "data": {
      "application/vnd.jupyter.widget-view+json": {
       "model_id": "",
       "version_major": 2,
       "version_minor": 0
      },
      "text/plain": [
       "Saving the dataset (0/1 shards):   0%|          | 0/1710 [00:00<?, ? examples/s]"
      ]
     },
     "metadata": {},
     "output_type": "display_data"
    },
    {
     "data": {
      "application/vnd.jupyter.widget-view+json": {
       "model_id": "",
       "version_major": 2,
       "version_minor": 0
      },
      "text/plain": [
       "Saving the dataset (0/1 shards):   0%|          | 0/26534 [00:00<?, ? examples/s]"
      ]
     },
     "metadata": {},
     "output_type": "display_data"
    }
   ],
   "source": [
    "keyword_generation_task_dataset.save_to_disk('../datasets/tasks/keyword_generation_task_dataset')"
   ]
  },
  {
   "cell_type": "markdown",
   "id": "0a612a02-f47c-4e88-aa31-50941f2ee341",
   "metadata": {},
   "source": [
    "## helyreigazítás detektálása"
   ]
  },
  {
   "cell_type": "markdown",
   "id": "05343f2a-17d4-4e0d-afde-7a6417a4a7ed",
   "metadata": {},
   "source": [
    "## ügyek detektálása"
   ]
  },
  {
   "cell_type": "markdown",
   "id": "fd7148a4-85a4-466f-88ee-098dd86abf7e",
   "metadata": {},
   "source": [
    "## kapcsolatok ent"
   ]
  },
  {
   "cell_type": "markdown",
   "id": "029c8e1c-06d9-4d00-95cb-f4cbe9951d97",
   "metadata": {},
   "source": [
    "## Összes feladat"
   ]
  },
  {
   "cell_type": "code",
   "execution_count": null,
   "id": "766d0fbd-fc69-4a98-b18a-f530b0e06bee",
   "metadata": {},
   "outputs": [],
   "source": [
    "article_classification_task_dataset = load_from_disk('../datasets/tasks/article_classification_task_dataset/')\n",
    "institution_classification_task_dataset = load_from_disk('../datasets/tasks/institution_classification_task_dataset//')\n",
    "keyword_generation_task_dataset = load_from_disk('../datasets/tasks/keyword_generation_task_dataset/')\n",
    "people_classification_task_dataset = load_from_disk('../datasets/tasks/people_classification_task_dataset//')"
   ]
  },
  {
   "cell_type": "code",
   "execution_count": null,
   "id": "854b8d68-228e-40d3-8bb8-c9c165039d02",
   "metadata": {},
   "outputs": [],
   "source": [
    "article_classification_task_dataset"
   ]
  }
 ],
 "metadata": {
  "kernelspec": {
   "display_name": "Python 3 (ipykernel)",
   "language": "python",
   "name": "python3"
  },
  "language_info": {
   "codemirror_mode": {
    "name": "ipython",
    "version": 3
   },
   "file_extension": ".py",
   "mimetype": "text/x-python",
   "name": "python",
   "nbconvert_exporter": "python",
   "pygments_lexer": "ipython3",
   "version": "3.10.10"
  },
  "toc-autonumbering": true,
  "toc-showmarkdowntxt": false,
  "toc-showtags": false
 },
 "nbformat": 4,
 "nbformat_minor": 5
}
