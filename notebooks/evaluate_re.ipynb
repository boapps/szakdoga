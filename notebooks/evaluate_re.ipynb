{
 "cells": [
  {
   "cell_type": "code",
   "execution_count": 1,
   "id": "a11ba421-cca1-4c21-a026-df9ebe079af5",
   "metadata": {},
   "outputs": [
    {
     "name": "stderr",
     "output_type": "stream",
     "text": [
      "<frozen importlib._bootstrap>:241: RuntimeWarning: pyarrow._fs.FileInfo size changed, may indicate binary incompatibility. Expected 64 from C header, got 88 from PyObject\n",
      "<frozen importlib._bootstrap>:241: RuntimeWarning: pyarrow._fs.FileSelector size changed, may indicate binary incompatibility. Expected 48 from C header, got 72 from PyObject\n"
     ]
    }
   ],
   "source": [
    "from datasets import load_from_disk\n",
    "\n",
    "re_dataset = load_from_disk('../datasets/intermediate/re_dataset_url/').shuffle(seed=42)"
   ]
  },
  {
   "cell_type": "code",
   "execution_count": 2,
   "id": "6a584d2f-d681-4443-9463-66c1bb1d7740",
   "metadata": {},
   "outputs": [
    {
     "data": {
      "text/plain": [
       "DatasetDict({\n",
       "    test: Dataset({\n",
       "        features: ['url', 'entities', 'paragraph'],\n",
       "        num_rows: 7721\n",
       "    })\n",
       "    validation: Dataset({\n",
       "        features: ['url', 'entities', 'paragraph'],\n",
       "        num_rows: 15126\n",
       "    })\n",
       "    train: Dataset({\n",
       "        features: ['url', 'entities', 'paragraph'],\n",
       "        num_rows: 120323\n",
       "    })\n",
       "})"
      ]
     },
     "execution_count": 2,
     "metadata": {},
     "output_type": "execute_result"
    }
   ],
   "source": [
    "re_dataset"
   ]
  },
  {
   "cell_type": "code",
   "execution_count": 3,
   "id": "8eb9c256-c043-4bfb-a19f-fbe7f8085b71",
   "metadata": {},
   "outputs": [
    {
     "data": {
      "application/vnd.jupyter.widget-view+json": {
       "model_id": "ade65b7042d5462b97127e2f57ad3c90",
       "version_major": 2,
       "version_minor": 0
      },
      "text/plain": [
       "Loading checkpoint shards:   0%|          | 0/2 [00:00<?, ?it/s]"
      ]
     },
     "metadata": {},
     "output_type": "display_data"
    },
    {
     "name": "stderr",
     "output_type": "stream",
     "text": [
      "CUDA extension not installed.\n",
      "CUDA extension not installed.\n"
     ]
    }
   ],
   "source": [
    "from transformers import AutoModelForCausalLM, AutoTokenizer\n",
    "from peft import PeftModel, PeftConfig\n",
    "from transformers import BitsAndBytesConfig\n",
    "import torch\n",
    "\n",
    "model_id = \"mistralai/Mistral-7B-v0.1\"\n",
    "peft_model_id = '../finetune/qlora-out-relation-extractionv5'\n",
    "\n",
    "config = PeftConfig.from_pretrained(peft_model_id)\n",
    "model = AutoModelForCausalLM.from_pretrained(\n",
    "    model_id,\n",
    "    load_in_4bit=True,\n",
    "    device_map='auto',\n",
    "    torch_dtype=torch.bfloat16,\n",
    "    quantization_config=BitsAndBytesConfig(\n",
    "        load_in_4bit=True,\n",
    "        bnb_4bit_compute_dtype=torch.bfloat16,\n",
    "        bnb_4bit_use_double_quant=True,\n",
    "        bnb_4bit_quant_type='nf4'\n",
    "    ),\n",
    ")\n",
    "model = PeftModel.from_pretrained(model, peft_model_id)\n",
    "\n",
    "tokenizer = AutoTokenizer.from_pretrained(model_id)"
   ]
  },
  {
   "cell_type": "code",
   "execution_count": 4,
   "id": "04d1bc86-ef6a-426e-9017-fb9061d30d89",
   "metadata": {},
   "outputs": [],
   "source": [
    "def parse_relations(output):\n",
    "    if output == 'Nincs kapcsolat.':\n",
    "        return []\n",
    "    relations = []\n",
    "    for section in output.split('\\n\\n'):\n",
    "        lines = section.split('\\n')\n",
    "        if len(lines) != 4:\n",
    "            return None\n",
    "        if not (lines[0].startswith('Indoklás: ') or\n",
    "                lines[1].startswith('Kapcsolat: ') or\n",
    "                lines[2].startswith('Tárgy: ') or\n",
    "                lines[3].startswith('Alany: ')):\n",
    "            return None\n",
    "        relations.append({\n",
    "            \"explanation\": lines[0].replace('Indoklás: ', '').replace('\"', ''),\n",
    "            \"relation\": lines[1].replace('Kapcsolat: ', '').replace('\"', ''),\n",
    "            \"subject\": lines[2].replace('Tárgy: ', '').replace('\"', ''),\n",
    "            \"object\": lines[3].replace('Alany: ', '').replace('\"', ''),\n",
    "        })\n",
    "    return relations"
   ]
  },
  {
   "cell_type": "code",
   "execution_count": 5,
   "id": "2493fde3-3c2e-4817-ba72-f0fd475f9899",
   "metadata": {},
   "outputs": [],
   "source": [
    "def format_input(paragraph):\n",
    "    text = ''\n",
    "    text += 'Bekezdés:\\n\"' + paragraph.replace('\"', \"'\") + '\"\\n'\n",
    "    return text.strip()+'\\n\\nRelációk:\\n'\n"
   ]
  },
  {
   "cell_type": "code",
   "execution_count": 7,
   "id": "274fa4f5-53bc-4abe-b058-5dd93aa26378",
   "metadata": {},
   "outputs": [
    {
     "name": "stderr",
     "output_type": "stream",
     "text": [
      "  0%|                                                                                                                                                    | 0/7721 [00:00<?, ?it/s]The attention mask and the pad token id were not set. As a consequence, you may observe unexpected behavior. Please pass your input's `attention_mask` to obtain reliable results.\n",
      "Setting `pad_token_id` to `eos_token_id`:2 for open-end generation.\n",
      "  0%|                                                                                                                                         | 1/7721 [00:16<35:50:52, 16.72s/it]The attention mask and the pad token id were not set. As a consequence, you may observe unexpected behavior. Please pass your input's `attention_mask` to obtain reliable results.\n",
      "Setting `pad_token_id` to `eos_token_id`:2 for open-end generation.\n"
     ]
    },
    {
     "name": "stdout",
     "output_type": "stream",
     "text": [
      "Bekezdés:\n",
      "\"A kormány erős embere, Lázár János Miniszterelnökséget vezető miniszter még több mindent tudott kilobbizni Hódmezővásárhelynek: a stadion és a bicikliút kötelező körnek számít, ahogy az uszoda is, de a jövő évi utánpótlás úszó-Eb-vel, a leendő vívó- és bokszcentrummal olyan extrákat ad a hódmezővásárhelyieknek, amelyeket más politikusoknak nem sikerült elérni. Lázár óvatos becslések szerint is 12 milliárd állami és uniós pénzt vonzott a városába, majdnem annyit, mint a közel kétszer akkora Szombathely, Hende Csaba honvédelmi miniszter büszkesége. Hende túl sok mindent nem tudott kiharcolni: 9,6 milliárdért új stadiont kap a város, de ez inkább a népszerű focicsapatnak, a Haladásnak köszönhető, mintsem a honvédelmi miniszternek.\"\n",
      "\n",
      "Relációk:\n",
      " Indoklás: \"A bekezdés szerint Lázár János Miniszterelnökséget vezető miniszter, tehát közöttük egy vezetői kapcsolat áll fenn.\"\n",
      "Kapcsolat: \"vezető\"\n",
      "Tárgy: \"Lázár János\"\n",
      "Alany: \"Miniszterelnökség\"\n",
      "\n",
      "Indoklás: \"A bekezdés szerint Hende Csaba honvédelmi miniszter, tehát közöttük egy miniszteri kapcsolat áll fenn.\"\n",
      "Kapcsolat: \"miniszter\"\n",
      "Tárgy: \"Hende Csaba\"\n",
      "Alany: \"Honvédelmi Minisztérium\"\n"
     ]
    },
    {
     "name": "stderr",
     "output_type": "stream",
     "text": [
      "  0%|                                                                                                                                         | 2/7721 [00:27<28:01:11, 13.07s/it]The attention mask and the pad token id were not set. As a consequence, you may observe unexpected behavior. Please pass your input's `attention_mask` to obtain reliable results.\n",
      "Setting `pad_token_id` to `eos_token_id`:2 for open-end generation.\n"
     ]
    },
    {
     "name": "stdout",
     "output_type": "stream",
     "text": [
      "Bekezdés:\n",
      "\"Ő állítása szerint ezt ott helyben elutasította. De a koordinátor szerint a Novelmedix kereste meg őt lényegében azzal, hogy a Novelmedix is beszállhasson a kartellbe, és szigorúan nem is volt ott a Siemenstől senki.\"\n",
      "\n",
      "Relációk:\n",
      " Indoklás: \"A bekezdés szerint a Novelmedix kereste meg a koordinátort, hogy beszállhasson a kartellbe. Tehát a Novelmedix és a koordinátor között egy kommunikációs kapcsolat áll fenn.\"\n",
      "Kapcsolat: \"kommunikáció\"\n",
      "Tárgy: \"Novelmedix\"\n",
      "Alany: \"Koordinátor\"\n"
     ]
    },
    {
     "name": "stderr",
     "output_type": "stream",
     "text": [
      "  0%|                                                                                                                                         | 3/7721 [00:38<26:44:38, 12.47s/it]The attention mask and the pad token id were not set. As a consequence, you may observe unexpected behavior. Please pass your input's `attention_mask` to obtain reliable results.\n",
      "Setting `pad_token_id` to `eos_token_id`:2 for open-end generation.\n"
     ]
    },
    {
     "name": "stdout",
     "output_type": "stream",
     "text": [
      "Bekezdés:\n",
      "\"Az MKB korábban jelezte, hogy a neki limiteket meghatározó külföldi bankoknak feltárta az UBO-kat. A bankok jól vizsgáztak titoktartásból, legalábbis nekünk nem sikerült megtudni, hogy ezekben a levelekben kik szerepeltek az MKB haszonhúzóiként a dokumentumban, de nagy összegben mernénk rá fogadni, hogy az indiai úr.\"\n",
      "\n",
      "Relációk:\n",
      " Indoklás: \"A bekezdés szerint az MKB korábban jelezte, hogy a neki limiteket meghatározó külföldi bankoknak feltárta az UBO-kat. Tehát az MKB és a külföldi bankok között egy információs kapcsolat áll fenn.\"\n",
      "Kapcsolat: \"információs\"\n",
      "Tárgy: \"MKB\"\n",
      "Alany: \"külföldi bankok\"\n"
     ]
    },
    {
     "name": "stderr",
     "output_type": "stream",
     "text": [
      "  0%|                                                                                                                                         | 4/7721 [01:22<52:57:53, 24.71s/it]The attention mask and the pad token id were not set. As a consequence, you may observe unexpected behavior. Please pass your input's `attention_mask` to obtain reliable results.\n",
      "Setting `pad_token_id` to `eos_token_id`:2 for open-end generation.\n"
     ]
    },
    {
     "name": "stdout",
     "output_type": "stream",
     "text": [
      "Bekezdés:\n",
      "\"Interaktív infografikán ábrázoltuk, hogyan vették be a főváros egyik legexkluzívabb részének számító Budai Várnegyedet a NER-hez közeli személyek és cégek. Sétálja végig velünk virtuálisan az újraértelmezett helyi nevezetességeket, és nézze meg, hol bérel lakást saját önkormányzatától a fideszes polgármester, innen merre található az ügyes trükközéssel szintén itt ingatlant szerző Bayer Zsolt, és kik élnek még olyan közel az Orbán Viktor által ide költöztetett kormányközponthoz, hogy akár integethetnének is reggelente a munkába siető miniszterelnöknek.\"\n",
      "\n",
      "Relációk:\n",
      " Indoklás: \"A bekezdés szerint a NER-hez közeli személyek és cégek vették be a Budai Várnegyedet, tehát közöttük egy tulajdonosi kapcsolat áll fenn.\"\n",
      "Kapcsolat: \"tulajdonos\"\n",
      "Tárgy: \"NER-hez közeli személyek és cégek\"\n",
      "Alany: \"Budai Várnegyed\"\n",
      "\n",
      "Indoklás: \"A bekezdés szerint a fideszes polgármester bérel lakást saját önkormányzatától, tehát közöttük egy bérlői kapcsolat áll fenn.\"\n",
      "Kapcsolat: \"bérlő\"\n",
      "Tárgy: \"Fideszes polgármester\"\n",
      "Alany: \"Budai Várnegyed önkormányzata\"\n",
      "\n",
      "Indoklás: \"A bekezdés szerint Bayer Zsolt ügyes trükközéssel szerzett ingatlant a Budai Várnegyedben, tehát közöttük egy tulajdonosi kapcsolat áll fenn.\"\n",
      "Kapcsolat: \"tulajdonos\"\n",
      "Tárgy: \"Bayer Zsolt\"\n",
      "Alany: \"Budai Várnegyed ingatlana\"\n",
      "\n",
      "Indoklás: \"A bekezdés szerint a kormányközpont közelében élnek olyan személyek, akiket az Orbán Viktor által ide költöztetett, tehát közöttük egy lakói kapcsolat áll fenn.\"\n",
      "Kapcsolat: \"lakó\"\n",
      "Tárgy: \"Orbán Viktor által ide költöztetett személyek\"\n",
      "Alany: \"Kormányközpont közelében\"\n"
     ]
    },
    {
     "name": "stderr",
     "output_type": "stream",
     "text": [
      "  0%|                                                                                                                                         | 5/7721 [01:31<40:35:03, 18.94s/it]The attention mask and the pad token id were not set. As a consequence, you may observe unexpected behavior. Please pass your input's `attention_mask` to obtain reliable results.\n",
      "Setting `pad_token_id` to `eos_token_id`:2 for open-end generation.\n"
     ]
    },
    {
     "name": "stdout",
     "output_type": "stream",
     "text": [
      "Bekezdés:\n",
      "\"Azt, hogy kellően komoly ügyről van szó, először november elején merült fel. A 24.hu hozzá közel álló jogászoktól, ügyvédektől és végrehajtóktól kapott arról fülest, hogy Schadl Györgyöt, az MBVK elnökét letartóztatta a rendőrség, de akkor hiába próbáltak megerősítést szerezni, mindenhol zárt ajtókba ütköztek.\"\n",
      "\n",
      "Relációk:\n",
      " Indoklás: \"A bekezdés szerint Schadl Györgyöt, az MBVK elnökét letartóztatták, tehát közöttük egy vezetői kapcsolat áll fenn.\"\n",
      "Kapcsolat: \"vezető\"\n",
      "Tárgy: \"Schadl György\"\n",
      "Alany: \"MBVK\"\n"
     ]
    },
    {
     "name": "stderr",
     "output_type": "stream",
     "text": [
      "  0%|                                                                                                                                         | 6/7721 [01:44<36:32:13, 17.05s/it]The attention mask and the pad token id were not set. As a consequence, you may observe unexpected behavior. Please pass your input's `attention_mask` to obtain reliable results.\n",
      "Setting `pad_token_id` to `eos_token_id`:2 for open-end generation.\n"
     ]
    },
    {
     "name": "stdout",
     "output_type": "stream",
     "text": [
      "Bekezdés:\n",
      "\"A brit Hinkley Point C atomerőmű-beruházás állami támogatásának engedélyezése miatt Ausztria indított eljárást az Európai Bíróság előtt. A luxembourgi bíróság most jóváhagyta az Európai Bizottság korábbi, az állami támogatást engedélyező döntését. A helyzet azonban merőben más, mint a paksi bővítés esetében.\"\n",
      "\n",
      "Relációk:\n",
      " Indoklás: \"A bekezdés szerint Ausztria indított eljárást az Európai Bíróság előtt a brit Hinkley Point C atomerőmű-beruházás állami támogatásának engedélyezése miatt. Tehát Ausztria és az Európai Bíróság között jogi eljárás kapcsolat áll fenn.\"\n",
      "Kapcsolat: \"jogi eljárás\"\n",
      "Tárgy: \"Ausztria\"\n",
      "Alany: \"Európai Bíróság\"\n"
     ]
    },
    {
     "name": "stderr",
     "output_type": "stream",
     "text": [
      "  0%|                                                                                                                                         | 7/7721 [01:58<34:08:16, 15.93s/it]The attention mask and the pad token id were not set. As a consequence, you may observe unexpected behavior. Please pass your input's `attention_mask` to obtain reliable results.\n",
      "Setting `pad_token_id` to `eos_token_id`:2 for open-end generation.\n"
     ]
    },
    {
     "name": "stdout",
     "output_type": "stream",
     "text": [
      "Bekezdés:\n",
      "\"A Kreatív című lap újságírója, valamint a Társaság a Szabadságjogokért (TASZ) szervezet munkatársa közérdekű adatigényléssel kérte az állam kizárólagos tulajdonát képző frekvenciák használatára irányuló, 2011 decemberében megkötött hatósági szerződéseket a Médiatanácstól. Álláspontjuk szerint a hatályos törvények alapján nem minősül üzleti titoknak az állami vagyon felhasználására vonatkozó adat.\"\n",
      "\n",
      "Relációk:\n",
      " Indoklás: \"A szöveg szerint a Kreatív című lap újságírója és a TASZ szervezet munkatársa közérdekű adatigénylést küldött a Médiatanácsnak, tehát közöttük egy adatigénylési kapcsolat áll fenn.\"\n",
      "Kapcsolat: \"adatigénylés\"\n",
      "Tárgy: \"Kreatív című lap újságírója és a TASZ munkatársa\"\n",
      "Alany: \"Médiatanács\"\n"
     ]
    },
    {
     "name": "stderr",
     "output_type": "stream",
     "text": [
      "  0%|▏                                                                                                                                        | 8/7721 [02:33<47:10:19, 22.02s/it]The attention mask and the pad token id were not set. As a consequence, you may observe unexpected behavior. Please pass your input's `attention_mask` to obtain reliable results.\n",
      "Setting `pad_token_id` to `eos_token_id`:2 for open-end generation.\n"
     ]
    },
    {
     "name": "stdout",
     "output_type": "stream",
     "text": [
      "Bekezdés:\n",
      "\"De nemcsak a párthoz kötődő személyek, hanem a tudományos és politikai közélet több szereplője is fellelhető az LMP-s megbízási listában, így például Ságvári Ádám nemzetközi ügyekkel is foglalkozó jogász cége, a Mangodorf Bt. háromszor is szerződött, összesen 6 millió 680 ezer forint értékben. Eközben a Svéd Modell Alapítvány szintén háromszor szerződött a képviselőcsoporttal, összesen 3 millió 840 ezer forint értékben, s ez a szervezet tanácsadáson kívül törvényjavaslat véleményezését és szövegírási feladatokat is ellát. Négy szerződése van az LMP-frakciónak az Öko-Team Bt-vel különböző időszakokra, összesen 2 millió 94 ezer forint értékben. Három szerződést kötött az LMP-frakció az Integrity Lab politikai elemző- és kutatócég társalapítójával, s kutatási vezetőjével is. Reiner Roland politikai tanácsadásért 3 millió 750 ezer forintot kap az ökopárt frakciójától.\"\n",
      "\n",
      "Relációk:\n",
      " Indoklás: \"A bekezdés szerint Ságvári Ádám cége, a Mangodorf Bt. szerződéseket kötött az LMP-s megbízási listáján.\"\n",
      "Kapcsolat: \"szerződés\"\n",
      "Tárgy: \"Ságvári Ádám\"\n",
      "Alany: \"LMP-s megbízási lista\"\n",
      "\n",
      "Indoklás: \"A bekezdés szerint a Svéd Modell Alapítvány háromszor szerződött az LMP-s megbízási listáján.\"\n",
      "Kapcsolat: \"szerződés\"\n",
      "Tárgy: \"Svéd Modell Alapítvány\"\n",
      "Alany: \"LMP-s megbízási lista\"\n",
      "\n",
      "Indoklás: \"A bekezdés szerint az Öko-Team Bt. négy szerződést kötött az LMP-s megbízási listáján.\"\n",
      "Kapcsolat: \"szerződés\"\n",
      "Tárgy: \"Öko-Team Bt.\"\n",
      "Alany: \"LMP-s megbízási lista\"\n",
      "\n",
      "Indoklás: \"A bekezdés szerint Reiner Roland politikai tanácsadásért kapott pénzt az LMP-s megbízási listáján.\"\n",
      "Kapcsolat: \"politikai tanácsadásért kapott pénz\"\n",
      "Tárgy: \"Reiner Roland\"\n",
      "Alany: \"LMP-s megbízási lista\"\n"
     ]
    },
    {
     "name": "stderr",
     "output_type": "stream",
     "text": [
      "  0%|▏                                                                                                                                        | 9/7721 [02:52<45:06:34, 21.06s/it]The attention mask and the pad token id were not set. As a consequence, you may observe unexpected behavior. Please pass your input's `attention_mask` to obtain reliable results.\n",
      "Setting `pad_token_id` to `eos_token_id`:2 for open-end generation.\n"
     ]
    },
    {
     "name": "stdout",
     "output_type": "stream",
     "text": [
      "Bekezdés:\n",
      "\"'Sosem gondoltam volna, hogy a butadién ilyen sajtóérdeklődést tud kiváltani' – kezdte beszédét Orbán Viktor a Mol tulajdonában lévő TVK új üzemének alapkőletételén. Szerinte Magyarország jó irányba halad az iparosodás útján. 'A Mol a magyar ipar zászlóshajója, ha kell, meg is védjük' – mondta a miniszterelnök. Elmondta, a cég hamarosan a hazánkban működő gumiabroncsgyártó cégek partnerévé válhat.\"\n",
      "\n",
      "Relációk:\n",
      " Indoklás: \"A bekezdés szerint Orbán Viktor a Mol tulajdonában lévő TVK új üzemének alapkőletételén beszédet tartott, tehát közöttük egy személyes kapcsolat áll fenn.\"\n",
      "Kapcsolat: \"személyes\"\n",
      "Tárgy: \"Orbán Viktor\"\n",
      "Alany: \"Mol tulajdonában lévő TVK\"\n",
      "\n",
      "Indoklás: \"A bekezdés szerint Orbán Viktor a Mol zászlóshajójának nevezi, tehát közöttük egy személyes kapcsolat áll fenn.\"\n",
      "Kapcsolat: \"személyes\"\n",
      "Tárgy: \"Orbán Viktor\"\n",
      "Alany: \"Mol\"\n"
     ]
    },
    {
     "name": "stderr",
     "output_type": "stream",
     "text": [
      "  0%|▏                                                                                                                                       | 10/7721 [03:01<37:29:58, 17.51s/it]The attention mask and the pad token id were not set. As a consequence, you may observe unexpected behavior. Please pass your input's `attention_mask` to obtain reliable results.\n",
      "Setting `pad_token_id` to `eos_token_id`:2 for open-end generation.\n"
     ]
    },
    {
     "name": "stdout",
     "output_type": "stream",
     "text": [
      "Bekezdés:\n",
      "\"Sok témában csorgatják a pénzeket, de a legnagyobb bulit az uniós pének jelentik – mondta Hadházy Ákos, az LMP társelnöke a Klubrádióban. Szerinte van olyan projekt, ahol a pénz 90-100 százalékát a 'semmire' költik, míg van, ahol csak 30-40 százalékos a túlárazás.\"\n",
      "\n",
      "Relációk:\n",
      " Indoklás: \"Hadházy Ákos, mint az LMP társelnöke, kritikát fogalmaz meg az uniós pénzekkel kapcsolatban, tehát közöttük egy politikai kapcsolat áll fenn.\"\n",
      "Kapcsolat: \"politikai\"\n",
      "Tárgy: \"Hadházy Ákos\"\n",
      "Alany: \"LMP\"\n"
     ]
    },
    {
     "name": "stderr",
     "output_type": "stream",
     "text": [
      "  0%|▏                                                                                                                                       | 11/7721 [03:30<44:47:04, 20.91s/it]The attention mask and the pad token id were not set. As a consequence, you may observe unexpected behavior. Please pass your input's `attention_mask` to obtain reliable results.\n",
      "Setting `pad_token_id` to `eos_token_id`:2 for open-end generation.\n"
     ]
    },
    {
     "name": "stdout",
     "output_type": "stream",
     "text": [
      "Bekezdés:\n",
      "\"Apja, az arab világ elismert kutatójaként számontartott Maróth Miklós egyike volt a nyíltan konzervatív nézeteket valló akadémikusoknak, és ő szintén jó viszonyt ápolt Orbánnal. Az ifjabb Maróth a Fidesszel szimpatizáló Napi Magyarország munkatársaként is dolgozott, majd a párt 1998-as győzelme után bekerült a miniszterelnök kabinetjébe. Ekkor még mindig a Semmelweis Egyetem orvoshallgatója volt, és ennek megfelelően a kabinetben is egészségügyi kérdésekkel foglalkozott (saját megfogalmazása szerint a 'társadalmi kapcsolatokért' volt felelős).\"\n",
      "\n",
      "Relációk:\n",
      " Indoklás: \"A bekezdés szerint Maróth Miklós, az arab világ elismert kutatója, jó viszonyt ápolt Orbánnal, tehát közöttük egy jó viszonyi kapcsolat áll fenn.\"\n",
      "Kapcsolat: \"jó viszony\"\n",
      "Tárgy: \"Maróth Miklós\"\n",
      "Alany: \"Orbán Viktor\"\n",
      "\n",
      "Indoklás: \"A bekezdés szerint Maróth Miklós a Fidesszel szimpatizáló Napi Magyarország munkatársaként is dolgozott, tehát közöttük egy munkakapcsolat áll fenn.\"\n",
      "Kapcsolat: \"munkakapcsolat\"\n",
      "Tárgy: \"Maróth Miklós\"\n",
      "Alany: \"Napi Magyarország\"\n",
      "\n",
      "Indoklás: \"A bekezdés szerint Maróth Miklós a miniszterelnök kabinetjébe került, tehát közöttük egy munkakapcsolat áll fenn.\"\n",
      "Kapcsolat: \"munkakapcsolat\"\n",
      "Tárgy: \"Maróth Miklós\"\n",
      "Alany: \"Orbán Viktor kabinetje\"\n"
     ]
    },
    {
     "name": "stderr",
     "output_type": "stream",
     "text": [
      "  0%|▏                                                                                                                                       | 12/7721 [04:18<62:46:27, 29.31s/it]The attention mask and the pad token id were not set. As a consequence, you may observe unexpected behavior. Please pass your input's `attention_mask` to obtain reliable results.\n",
      "Setting `pad_token_id` to `eos_token_id`:2 for open-end generation.\n"
     ]
    },
    {
     "name": "stdout",
     "output_type": "stream",
     "text": [
      "Bekezdés:\n",
      "\"Ennek ellenére a fideszes Kovács Zoltán módosító indítványát 253 igen szavazattal, 47 ellenében, 12 tartózkodás mellett fogadták el – harminc KDNP-s nemmel voksolt, és így tett négy fideszes politikus is. Megszavazta viszont a javaslatot a jobbikos képviselők többsége. Az MSZP nem vett részt a szavazásban, az LMP nagy része nemmel voksolt. A törvényjavaslaton már csak közvetlenül a jövő hétfői zárószavazás előtt változtathat a parlament.\"\n",
      "\n",
      "Relációk:\n",
      " Indoklás: \"A bekezdés szerint Kovács Zoltán módosító indítványát fogadták el a parlamentben, tehát Kovács Zoltán és a parlament között egy jogi döntéshozó kapcsolat áll fenn.\"\n",
      "Kapcsolat: \"jogi döntéshozó\"\n",
      "Tárgy: \"Kovács Zoltán\"\n",
      "Alany: \"Parlament\"\n",
      "\n",
      "Indoklás: \"A bekezdés szerint a KDNP-s politikusok közül harminc nem szavazta meg a javaslatot, tehát a KDNP és a KDNP-s politikusok között egy politikai kapcsolat áll fenn.\"\n",
      "Kapcsolat: \"politikai\"\n",
      "Tárgy: \"KDNP\"\n",
      "Alany: \"KDNP-s politikusok\"\n",
      "\n",
      "Indoklás: \"A bekezdés szerint a jobbikos képviselők többsége megvoksolt a javaslatért, tehát a jobbikos képviselők és a javaslat között egy politikai támogatási kapcsolat áll fenn.\"\n",
      "Kapcsolat: \"politikai támogatás\"\n",
      "Tárgy: \"Jobbikos képviselők\"\n",
      "Alany: \"Javaslat\"\n",
      "\n",
      "Indoklás: \"A bekezdés szerint az MSZP nem vett részt a szavazásban, tehát az MSZP és a parlament között egy politikai kapcsolat áll fenn.\"\n",
      "Kapcsolat: \"politikai\"\n",
      "Tárgy: \"MSZP\"\n",
      "Alany: \"Parlament\"\n",
      "\n",
      "Indoklás: \"A bekezdés szerint az LMP nagy része nemmel voksolt, tehát az LMP és a javaslat között egy politikai ellenzéki kapcsolat áll fenn.\"\n",
      "Kapcsolat: \"politikai ellenzék\"\n",
      "Tárgy: \"LMP\"\n",
      "Alany: \"Javaslat\"\n"
     ]
    },
    {
     "name": "stderr",
     "output_type": "stream",
     "text": [
      "  0%|▏                                                                                                                                       | 13/7721 [04:27<49:24:26, 23.08s/it]The attention mask and the pad token id were not set. As a consequence, you may observe unexpected behavior. Please pass your input's `attention_mask` to obtain reliable results.\n",
      "Setting `pad_token_id` to `eos_token_id`:2 for open-end generation.\n"
     ]
    },
    {
     "name": "stdout",
     "output_type": "stream",
     "text": [
      "Bekezdés:\n",
      "\"Kovács M. Gábor, Zuschlag János ügyvédje elmondta, ügyfelétől értesült az átszállításról. Hozzátette, valószínűnek tartja, hogy még az első tárgyalást megelőzően visszaszállítják védencét Kecskemétre.\"\n",
      "\n",
      "Relációk:\n",
      " Indoklás: \"A bekezdés szerint Kovács M. Gábor Zuschlag János ügyvédje, tehát közöttük ügyvédi kapcsolat áll fenn.\"\n",
      "Kapcsolat: \"ügyvéd\"\n",
      "Tárgy: \"Kovács M. Gábor\"\n",
      "Alany: \"Zuschlag János\"\n"
     ]
    },
    {
     "name": "stderr",
     "output_type": "stream",
     "text": [
      "  0%|▏                                                                                                                                       | 14/7721 [04:42<44:05:53, 20.60s/it]The attention mask and the pad token id were not set. As a consequence, you may observe unexpected behavior. Please pass your input's `attention_mask` to obtain reliable results.\n",
      "Setting `pad_token_id` to `eos_token_id`:2 for open-end generation.\n"
     ]
    },
    {
     "name": "stdout",
     "output_type": "stream",
     "text": [
      "Bekezdés:\n",
      "\"A liciten az Átlátszó birtokába került jegyzőkönyv szerint a végrehajtást kérő vállalkozón kívül 'részt vevőként' megjelent a Nemzeti Földalapkezelő Szervezet megbízottjaként Dr. Kovács P. Zoltán Ügyvédi Iroda (KPZ), illetve magánszemélyként maga Dr. Kovács Zoltán Pál is.\"\n",
      "\n",
      "Relációk:\n",
      " Indoklás: \"A bekezdés szerint a Nemzeti Földalapkezelő Szervezet megbízottjaként Dr. Kovács P. Zoltán Ügyvédi Iroda (KPZ) és Dr. Kovács Zoltán Pál is részt vettek a licitben.\"\n",
      "Kapcsolat: \"megbízott\"\n",
      "Tárgy: \"Nemzeti Földalapkezelő Szervezet\"\n",
      "Alany: \"Dr. Kovács P. Zoltán Ügyvédi Iroda (KPZ), Dr. Kovács Zoltán Pál\"\n"
     ]
    },
    {
     "name": "stderr",
     "output_type": "stream",
     "text": [
      "  0%|▎                                                                                                                                       | 15/7721 [04:43<31:39:27, 14.79s/it]The attention mask and the pad token id were not set. As a consequence, you may observe unexpected behavior. Please pass your input's `attention_mask` to obtain reliable results.\n",
      "Setting `pad_token_id` to `eos_token_id`:2 for open-end generation.\n"
     ]
    },
    {
     "name": "stdout",
     "output_type": "stream",
     "text": [
      "Bekezdés:\n",
      "\"A felhasznált irodalom számos fontos művet tartalmaz, és bár a forrásválasztás politikatudományi szempontból több helyütt is hibás, ez aligha róható fel a közgazdász Matolcsynak. Hogy csak a legfontosabbakat említsük: C. Wright Mills és Robert Dahl műveit Matolcsy nem használja fel, holott e két szerző épp arról ír, amiről az Amerikai Birodalom szól, és gondolataik e könyv több állítását is teljesen más megvilágításba helyeznék, némelyiket megcáfolnák, némelyiket alátámasztanák.\"\n",
      "\n",
      "Relációk:\n",
      " Nincs kapcsolat.\n"
     ]
    },
    {
     "name": "stderr",
     "output_type": "stream",
     "text": [
      "  0%|▎                                                                                                                                       | 16/7721 [04:55<29:58:20, 14.00s/it]The attention mask and the pad token id were not set. As a consequence, you may observe unexpected behavior. Please pass your input's `attention_mask` to obtain reliable results.\n",
      "Setting `pad_token_id` to `eos_token_id`:2 for open-end generation.\n"
     ]
    },
    {
     "name": "stdout",
     "output_type": "stream",
     "text": [
      "Bekezdés:\n",
      "\"Aggódik az Európai Parlament elnöke Mélységes aggodalmának adott hangot Martin Schulz, az Európai Parlament elnöke szerdán Twitter-csatornáján a norvég pénzeket kezelő magyar civil szervezeteknél tartott rendőri akció miatt. Az EP német, szociáldemokrata elnöke rövid üzenetében abbéli meggyőződésének adott hangot, hogy a másként vélekedő hangok tesznek egy társadalmat vibrálóvá. 'Ez a fellépés az ellenkező irányba mutat' - vélekedett Schulz.\"\n",
      "\n",
      "Relációk:\n",
      " Indoklás: \"A bekezdés szerint Martin Schulz, az Európai Parlament elnöke, aggódik a norvég pénzek kezelésével kapcsolatos rendőri akció miatt. Tehát közöttük egy aggódási kapcsolat áll fenn.\"\n",
      "Kapcsolat: \"aggódás\"\n",
      "Tárgy: \"Martin Schulz\"\n",
      "Alany: \"norvég pénzek kezelésével kapcsolatos rendőri akció\"\n"
     ]
    },
    {
     "name": "stderr",
     "output_type": "stream",
     "text": [
      "  0%|▎                                                                                                                                       | 17/7721 [04:57<21:46:56, 10.18s/it]The attention mask and the pad token id were not set. As a consequence, you may observe unexpected behavior. Please pass your input's `attention_mask` to obtain reliable results.\n",
      "Setting `pad_token_id` to `eos_token_id`:2 for open-end generation.\n"
     ]
    },
    {
     "name": "stdout",
     "output_type": "stream",
     "text": [
      "Bekezdés:\n",
      "\"Olyan ötlet is elhangzott a közgyűlésben, hogy az ELTE-Savaria Egyetemi Központtal egyeztetve lehetne élettel megtölteni az obszervatóriumot. Az ELTÉ-nek azonban már van egy másik régóta működő obszervatóriuma Szombathelyen. Az ellenzék azt firtatta leginkább, hogy mi értelme lenne egy ilyen intézménynek, ha nem tudnak hozzá funkciót társítani.\"\n",
      "\n",
      "Relációk:\n",
      " Nincs kapcsolat.\n"
     ]
    },
    {
     "name": "stderr",
     "output_type": "stream",
     "text": [
      "  0%|▎                                                                                                                                       | 18/7721 [05:10<23:38:20, 11.05s/it]The attention mask and the pad token id were not set. As a consequence, you may observe unexpected behavior. Please pass your input's `attention_mask` to obtain reliable results.\n",
      "Setting `pad_token_id` to `eos_token_id`:2 for open-end generation.\n"
     ]
    },
    {
     "name": "stdout",
     "output_type": "stream",
     "text": [
      "Bekezdés:\n",
      "\"Emlékezetes: Kubatov Gábor már a Népszabadságnak 2012-ben adott interjújában is helytelenítette, hogy bizonyos gazdasági körök megkísérlik befolyásolni a politikát. A lap kérdésére válaszolva akkor kijelentette: 'A nemzetbiztonsági bizottság a szerencsejáték-törvény kapcsán azt mondta, voltak olyan kísérletek, amelyekkel ma Magyarországon befolyásolni próbálja a politikát egy bizonyos réteg. Ezek nem az ellenzék által befeketíteni kívánt hazai vállalkozók, hanem alvilági körök. Olyan szabályokat kell alkotni, hogy ezeket a csoportokat elszigetelhessük a politikától, s hogy központi pénzből minél olcsóbb kampányt lehessen folytatni.'\"\n",
      "\n",
      "Relációk:\n",
      " Indoklás: \"A bekezdés szerint Kubatov Gábor a Népszabadságnak adott interjújában helytelenítette, hogy bizonyos gazdasági körök megkísérlik befolyásolni a politikát. Tehát közöttük egy helytelenítési kapcsolat áll fenn.\"\n",
      "Kapcsolat: \"helytelenítés\"\n",
      "Tárgy: \"Kubatov Gábor\"\n",
      "Alany: \"Népszabadság\"\n"
     ]
    },
    {
     "name": "stderr",
     "output_type": "stream",
     "text": [
      "  0%|▎                                                                                                                                       | 19/7721 [05:19<22:34:00, 10.55s/it]The attention mask and the pad token id were not set. As a consequence, you may observe unexpected behavior. Please pass your input's `attention_mask` to obtain reliable results.\n",
      "Setting `pad_token_id` to `eos_token_id`:2 for open-end generation.\n"
     ]
    },
    {
     "name": "stdout",
     "output_type": "stream",
     "text": [
      "Bekezdés:\n",
      "\"tehát az érvényességhez nem kellett Simon és Dederick beleegyezése, vagy hozzájárulása sem. Simicskáéknak elég volt kinyilvánítaniuk, hogy övék a cég és fizetni, pont.\"\n",
      "\n",
      "Relációk:\n",
      " Indoklás: \"A bekezdés szerint Simicskáéknak elég volt kinyilvánítaniuk, hogy övék a cég és fizetni, pont. Tehát közöttük tulajdonosi kapcsolat áll fenn.\"\n",
      "Kapcsolat: \"tulajdonos\"\n",
      "Tárgy: \"Simicskáék\"\n",
      "Alany: \"Cég\"\n"
     ]
    },
    {
     "name": "stderr",
     "output_type": "stream",
     "text": [
      "  0%|▎                                                                                                                                       | 20/7721 [05:33<24:47:20, 11.59s/it]The attention mask and the pad token id were not set. As a consequence, you may observe unexpected behavior. Please pass your input's `attention_mask` to obtain reliable results.\n",
      "Setting `pad_token_id` to `eos_token_id`:2 for open-end generation.\n"
     ]
    },
    {
     "name": "stdout",
     "output_type": "stream",
     "text": [
      "Bekezdés:\n",
      "\"A MÁV ÁBE körül a levegő múlt héten forrt fel. Akkor arról adtunk hírt, hogy a Pénzügyi Szervezetek Állami Felügyelete április 8-ától visszavonásig felfüggesztette a MÁV Általános Biztosító Egyesület kötelező gépjármű-felelősségbiztosítási (kgfb) termékének terjesztését, és kötelezte az egyesületet tartalékhiányos kgfb-állománya átruházásának előkészítésére - tette közzé a felügyelet honlapján.\"\n",
      "\n",
      "Relációk:\n",
      " Indoklás: \"A bekezdés szerint a MÁV ÁBE-t a Pénzügyi Szervezetek Állami Felügyelete felfüggesztette, tehát a MÁV ÁBE és a Pénzügyi Szervezetek Állami Felügyelete között egy felfüggesztési kapcsolat áll fenn.\"\n",
      "Kapcsolat: \"felfüggesztés\"\n",
      "Tárgy: \"MÁV ÁBE\"\n",
      "Alany: \"Pénzügyi Szervezetek Állami Felügyelete\"\n"
     ]
    },
    {
     "name": "stderr",
     "output_type": "stream",
     "text": [
      "  0%|▎                                                                                                                                       | 21/7721 [05:44<24:26:47, 11.43s/it]The attention mask and the pad token id were not set. As a consequence, you may observe unexpected behavior. Please pass your input's `attention_mask` to obtain reliable results.\n",
      "Setting `pad_token_id` to `eos_token_id`:2 for open-end generation.\n"
     ]
    },
    {
     "name": "stdout",
     "output_type": "stream",
     "text": [
      "Bekezdés:\n",
      "\"A pályázatokat három 'független piaci szereplő' árajánlataihoz viszonyították, ám mindhárom cég (az SMHV Energetikai Kft, a KVIKSZ Kft és a Polar-Studió Kft ajánlatát ugyanaz a személy készítette, ugyanazzal a módszerrel, 5-7 százalékkal az Elios vállalási árai fölé célozva. (Még egy számítási hibára is rábukkantak az OLAF ellenőrei, amely mindhárom 'független piaci ajánlatban' azonos formában szerepelt.)\"\n",
      "\n",
      "Relációk:\n",
      " Indoklás: \"A szöveg szerint az Elios vállalási árai fölé célozva készült a három 'független piaci szereplő' árajánlata.\"\n",
      "Kapcsolat: \"célozott ára\"\n",
      "Tárgy: \"Elios vállalási árai\"\n",
      "Alany: \"SMHV Energetikai Kft, KVIKSZ Kft, Polar-Studió Kft\"\n"
     ]
    },
    {
     "name": "stderr",
     "output_type": "stream",
     "text": [
      "  0%|▍                                                                                                                                       | 22/7721 [05:59<26:29:24, 12.39s/it]The attention mask and the pad token id were not set. As a consequence, you may observe unexpected behavior. Please pass your input's `attention_mask` to obtain reliable results.\n",
      "Setting `pad_token_id` to `eos_token_id`:2 for open-end generation.\n"
     ]
    },
    {
     "name": "stdout",
     "output_type": "stream",
     "text": [
      "Bekezdés:\n",
      "\"A DVTK tulajdonosváltásával nem csak a Diósgyőr, de két alacsonyabb osztályú csapat is körön belülre került: a miskolci klub régóta szoros partnerségben áll a szintén harmadosztályú salgótarjáni SBTC-vel, illetve az Eger SE-vel. Magyar Mátyás hangsúlyozta is bemutatkozásában, hogy a DVTK észak-magyarországi és felvidéki sportfejlesztési programjának keretében mindkét egyesület új létesítményeket is kap a jövőben, Salgótarjában már áll is egy sporttelep.\"\n",
      "\n",
      "Relációk:\n",
      " Indoklás: \"A bekezdés szerint a DVTK és a salgótarjáni SBTC között szoros partnerségi kapcsolat áll fenn.\"\n",
      "Kapcsolat: \"szoros partnerség\"\n",
      "Tárgy: \"DVTK\"\n",
      "Alany: \"Salgótarjáni SBTC\"\n",
      "\n",
      "Indoklás: \"A bekezdés szerint a DVTK és az Eger SE között is szoros partnerségi kapcsolat áll fenn.\"\n",
      "Kapcsolat: \"szoros partnerség\"\n",
      "Tárgy: \"DVTK\"\n",
      "Alany: \"Eger SE\"\n"
     ]
    },
    {
     "name": "stderr",
     "output_type": "stream",
     "text": [
      "  0%|▍                                                                                                                                       | 23/7721 [06:39<44:20:24, 20.74s/it]The attention mask and the pad token id were not set. As a consequence, you may observe unexpected behavior. Please pass your input's `attention_mask` to obtain reliable results.\n",
      "Setting `pad_token_id` to `eos_token_id`:2 for open-end generation.\n"
     ]
    },
    {
     "name": "stdout",
     "output_type": "stream",
     "text": [
      "Bekezdés:\n",
      "\"Mészáros Lőrinc és felesége, Mészárosné Kelemen Beatrix a Konzum PE Magántőkealap kizárólagos befektetői, miután tulajdonukba kerültek a zártkörű alap befektetési jegyei. Erről maguk az érintettek tájékoztatták a Konzum Befektetési Alapkezelő Zrt.-t, felhatalmazva a társaság igazgatóságát, hogy nyilvánosságra hozzák a befektetők személyét.\"\n",
      "\n",
      "Relációk:\n",
      " Indoklás: \"A bekezdés szerint Mészáros Lőrinc és felesége, Mészárosné Kelemen Beatrix a Konzum PE Magántőkealap kizárólagos befektetői, tehát közöttük befektetői kapcsolat áll fenn.\"\n",
      "Kapcsolat: \"befektető\"\n",
      "Tárgy: \"Mészáros Lőrinc és Mészárosné Kelemen Beatrix\"\n",
      "Alany: \"Konzum PE Magántőkealap\"\n",
      "\n",
      "Indoklás: \"A bekezdés szerint Mészáros Lőrinc és felesége, Mészárosné Kelemen Beatrix tulajdonukba kerültek a zártkörű alap befektetési jegyei, tehát közöttük tulajdonosi kapcsolat áll fenn.\"\n",
      "Kapcsolat: \"tulajdonos\"\n",
      "Tárgy: \"Mészáros Lőrinc és Mészárosné Kelemen Beatrix\"\n",
      "Alany: \"Konzum PE Magántőkealap\"\n",
      "\n",
      "Indoklás: \"A bekezdés szerint Mészáros Lőrinc és felesége, Mészárosné Kelemen Beatrix felhatalmazták a Konzum Befektetési Alapkezelő Zrt.-t, hogy nyilvánosságra hozzák a befektetők személyét, tehát közöttük felhatalmazási kapcsolat áll fenn.\"\n",
      "Kapcsolat: \"felhatalmazás\"\n",
      "Tárgy: \"Mészáros Lőrinc és Mészárosné Kelemen Beatrix\"\n",
      "Alany: \"Konzum Befektetési Alapkezelő Zrt.\"\n"
     ]
    },
    {
     "name": "stderr",
     "output_type": "stream",
     "text": [
      "  0%|▍                                                                                                                                       | 24/7721 [07:00<44:19:19, 20.73s/it]The attention mask and the pad token id were not set. As a consequence, you may observe unexpected behavior. Please pass your input's `attention_mask` to obtain reliable results.\n",
      "Setting `pad_token_id` to `eos_token_id`:2 for open-end generation.\n"
     ]
    },
    {
     "name": "stdout",
     "output_type": "stream",
     "text": [
      "Bekezdés:\n",
      "\"HIRDETÉS A tárgyalást vezető bírónő arra vár választ az ítélkezési szünet letelte után, mit ért a kiíró az 'új szoftverek beszerzése' alatt. - Benne volt a pakliban, hogy elnapolják a tárgyalást, de reménykedtünk, hogy nem így lesz, hiszen a közbeszerzési perek általában szoros határidő mellett zajlanak. Valóban megnyugtatóan kell tisztázni (különösen az alperes melletti beavatkozó oldalán) a tényeket - reagált a döntésre Morvayné dr. Vígh Katalin. - Más kérdés: én több szempontból is furcsának tartom, hogy egy jogtanácsos a helyszínen nem nyilatkozik arról, mit is jelent az 'új beszerzés'. Nyilván nem véletlen, hogy a bírónő is rákérdezett erre. Ha valahol, itt végképp billeg az az érv, hogy a Microsofttal kompatibilis szoftverekre van szükség ahhoz, hogy a működőképesség ne szenvedjen csorbát - tette hozzá Morvayné. Szerinte a tárgyalóteremben nem lobbiérdekről - mint ahogyan ez a KD képviselőjétől a tárgyalás végén megjegyzésként elhangzott -, hanem kizárólag a versenyről volt szó. - A közbeszerzés célja, hogy az ajánlatkérő minél olcsóbban, minél jobb minőségben, minél teljesebb körű kapcsolódó szolgáltatásokkal kaphassa meg a termékeket. Valóban van lehetőség arra, hogy valamely intézmény a keretszerződésen kívül, saját beszerzés útján jusson hozzá a kívánt eszközökhöz, szoftverekhez, csakhogy kis tételben vásárolva ezt már drágábban, nem ugyanazokkal a kiegészítő szolgáltatásokkal teheti. Ezért nagyon fontos, hogy a keretszerződésre vonatkozó kiírás versenysemleges legyen, ezáltal biztosítsa a potenciális ajánlattevők lehető legszélesebb körének hozzáférését a közbeszerzési piachoz - mondta. (A KD képviselői az ítélet előtt nem kívántak nyilatkozni.) A januári pályázatot négy, a Microsoft partnereit is tömörítő konzorcium nyerte el. A GVH jogi képviselői azzal is érveltek a tárgyaláson: egyetlen nyílt forráskódú szoftvereket forgalmazó vállalat sem indult a tenderen, ám a KD álláspontja szerint ebből nem lehet következtetést levonni.\"\n",
      "\n",
      "Relációk:\n",
      " Indoklás: \"A bekezdés szerint a KD képviselői az ítélet előtt nem kívántak nyilatkozni, tehát közöttük és a KD között egy képviseleti kapcsolat áll fenn.\"\n",
      "Kapcsolat: \"képviselet\"\n",
      "Tárgy: \"KD képviselői\"\n",
      "Alany: \"KD\"\n",
      "\n",
      "Indoklás: \"A bekezdés szerint a GVH jogi képviselői érveltek a tárgyaláson, tehát közöttük és a GVH között egy jogi képviseleti kapcsolat áll fenn.\"\n",
      "Kapcsolat: \"jogi képviselet\"\n",
      "Tárgy: \"GVH jogi képviselői\"\n",
      "Alany: \"GVH\"\n"
     ]
    },
    {
     "name": "stderr",
     "output_type": "stream",
     "text": [
      "  0%|▍                                                                                                                                       | 25/7721 [07:28<49:20:32, 23.08s/it]The attention mask and the pad token id were not set. As a consequence, you may observe unexpected behavior. Please pass your input's `attention_mask` to obtain reliable results.\n",
      "Setting `pad_token_id` to `eos_token_id`:2 for open-end generation.\n"
     ]
    },
    {
     "name": "stdout",
     "output_type": "stream",
     "text": [
      "Bekezdés:\n",
      "\"'Magát számlaadónak nevező, de egyébként az alapítvány minden gazdasági és egyéb ügyét bonyolító úr 2,5 milliót keresett havonta, úgy, hogy ennek felét a felesége nevén számlázta, aki neves magyar filmrendező titkárnője' – sztorizgat az audit alapján Kőrösi. Az elnök neveket nem említ, de akiről szó van, az a külső szerződéssel dolgozó finanszírozási igazgató, Vincze László lehet, akinek fizetését és titulusát azóta nyilatkozatban is elismerték, de a számlázási gyakorlatáról nem ejtettek szót. Felesége egyébként a Sándor Pál vezette Hunnia stúdió titkárnője. Könyvelőként az MMKA honlapján Csikós Szonja van még mindig megjelölve. A szakmai ellenőrökről azóta annyit árultak el, a kontrollingosztály vezetőjét, Szakácsi Lajost júliusban elbocsátották.\"\n",
      "\n",
      "Relációk:\n",
      " Indoklás: \"A bekezdés szerint Vincze László, a finanszírozási igazgató, felesége a Hunnia stúdió titkárnője, tehát közöttük egy házastoni kapcsolat áll fenn.\"\n",
      "Kapcsolat: \"házastárs\"\n",
      "Tárgy: \"Vincze László\"\n",
      "Alany: \"Vincze László felesége\"\n",
      "\n",
      "Indoklás: \"A bekezdés szerint Csikós Szonja a könyvelőként van megjelölve az MMKA honlapján, tehát közöttük egy munkakapcsolat áll fenn.\"\n",
      "Kapcsolat: \"munkakapcsolat\"\n",
      "Tárgy: \"Csikós Szonja\"\n",
      "Alany: \"MMKA\"\n",
      "\n",
      "Indoklás: \"A bekezdés szerint Szakácsi Lajos a kontrollingosztály vezetője volt, tehát közöttük egy munkakapcsolat áll fenn.\"\n",
      "Kapcsolat: \"munkakapcsolat\"\n",
      "Tárgy: \"Szakácsi Lajos\"\n",
      "Alany: \"MMKA\"\n"
     ]
    },
    {
     "name": "stderr",
     "output_type": "stream",
     "text": [
      "  0%|▍                                                                                                                                       | 26/7721 [07:42<42:58:32, 20.11s/it]The attention mask and the pad token id were not set. As a consequence, you may observe unexpected behavior. Please pass your input's `attention_mask` to obtain reliable results.\n",
      "Setting `pad_token_id` to `eos_token_id`:2 for open-end generation.\n"
     ]
    },
    {
     "name": "stdout",
     "output_type": "stream",
     "text": [
      "Bekezdés:\n",
      "\"A 24.hu információi szerint a Jobbik április-májusi plakátkampány-szerződései és címlistái mellett az MSZP-vel kötött üzleti megállapodást is elvitték az adóellenőrök a Mahír Cityposter Kft. irodáiban tartott csütörtöki helyszíni vizsgálódás után.\"\n",
      "\n",
      "Relációk:\n",
      " Indoklás: \"A bekezdés szerint a Jobbik április-májusi plakátkampány-szerződései és címlistái mellett az MSZP-vel kötött üzleti megállapodást is elvitték az adóellenőrök a Mahír Cityposter Kft. irodáiban. Tehát közöttük üzleti kapcsolat áll fenn.\"\n",
      "Kapcsolat: \"üzleti\"\n",
      "Tárgy: \"Jobbik\"\n",
      "Alany: \"MSZP\"\n"
     ]
    },
    {
     "name": "stderr",
     "output_type": "stream",
     "text": [
      "  0%|▍                                                                                                                                       | 27/7721 [07:58<40:53:35, 19.13s/it]The attention mask and the pad token id were not set. As a consequence, you may observe unexpected behavior. Please pass your input's `attention_mask` to obtain reliable results.\n",
      "Setting `pad_token_id` to `eos_token_id`:2 for open-end generation.\n"
     ]
    },
    {
     "name": "stdout",
     "output_type": "stream",
     "text": [
      "Bekezdés:\n",
      "\"– Két párt kölcsöneit mondtuk fel – tájékoztatta a Blikket az Magyar Fejlesztési Bank (MFB). – Az SZDSZ 555 millió forinttal tartozott a múlt hónap végén, az MDF jogutódjának számító Jólét és Szabadság Demokrata Közösség pedig 430 millió forinttal. A Fidesz, a KDNP és az MSZP rendesen törleszt.\"\n",
      "\n",
      "Relációk:\n",
      " Indoklás: \"A bekezdés szerint az MFB tájékoztatta a Blikket az SZDSZ és az MDF jogutódjának számító Jólét és Szabadság Demokrata Közösség kölcsöneinek felmondásáról. Tehát az MFB és az SZDSZ, valamint az MDF jogutódjának számító Jólét és Szabadság Demokrata Közösség között információs kapcsolat áll fenn.\"\n",
      "Kapcsolat: \"információs\"\n",
      "Tárgy: \"MFB\"\n",
      "Alany: \"SZDSZ, Jólét és Szabadság Demokrata Közösség\"\n"
     ]
    },
    {
     "name": "stderr",
     "output_type": "stream",
     "text": [
      "  0%|▍                                                                                                                                       | 28/7721 [09:29<86:25:47, 40.45s/it]The attention mask and the pad token id were not set. As a consequence, you may observe unexpected behavior. Please pass your input's `attention_mask` to obtain reliable results.\n",
      "Setting `pad_token_id` to `eos_token_id`:2 for open-end generation.\n"
     ]
    },
    {
     "name": "stdout",
     "output_type": "stream",
     "text": [
      "Bekezdés:\n",
      "\"Az ügy jelentőségét az adta, hogy több hónapos vizsgálódás után a 2010-es helyhatósági választások előtt pár nappal a Központi Ügyészségi Nyomozóhivatal egy vezető munkatársa személyesen kézbesítette az idézést Molnár Gyulának a gyanúsítotti kihallgatásra egy választási rendezvényen. Molnár és Lakos szerint a eljárásnak döntő szerepe volt abban, hogy a szocialisták vereséget szenvedtek a kerületben.\"\n",
      "\n",
      "Relációk:\n",
      " Indoklás: \"A bekezdés szerint Molnár Gyula és Lakos László között együttműködési kapcsolat áll fenn, mivel Molnár Gyula és Lakos László között együttműködési kapcsolat áll fenn, mivel Molnár Gyula és Lakos László között együttműködési kapcsolat áll fenn, mivel Molnár Gyula és Lakos László között együttműködési kapcsolat áll fenn, mivel Molnár Gyula és Lakos László között együttműködési kapcsolat áll fenn, mivel Molnár Gyula és Lakos László között együttműködési kapcsolat áll fenn, mivel Molnár Gyula és Lakos László között együttműködési kapcsolat áll fenn, mivel Molnár Gyula és Lakos László között együttműködési kapcsolat áll fenn, mivel Molnár Gyula és Lakos László között együttműködési kapcsolat áll fenn, mivel Molnár Gyula és Lakos László között együttműködési kapcsolat áll fenn, mivel Molnár Gyula és Lakos László között együttműködési kapcsolat áll fenn, mivel Molnár Gyula és Lakos László között együttműködési kapcsolat áll fenn, mivel Molnár Gyula és Lakos László között együttműködési kapcsolat áll fenn, mivel Molnár Gyula és Lakos László között együttműködési kapcsolat áll fenn, mivel Molnár Gyula és Lakos László között együttműködési kapcsolat áll fenn, mivel Molnár Gyula és Lakos László között együttműködési kapcsolat áll fenn, mivel Molnár Gyula és Lakos László között együttműködési kapcsolat áll fenn, mivel Molnár Gyula és Lakos László között együttműködési kapcsolat áll fenn, mivel Molnár Gyula és Lakos László között együttműködési kapcsolat áll fenn, mivel Molnár Gyula és Lakos László között együttműködési kapcsolat áll fenn, mivel Molnár Gyula és Lakos László között együttműködési kapcsolat áll fenn, mivel Molnár Gyula és Lakos László között együttműködési kapcsolat áll fenn, mivel Molnár Gyula és Lakos László között együttműködési kapcsolat áll fenn, mivel Molnár Gyula és Lakos László között együttműködési kapcsolat áll fenn, mivel Molnár Gyula és Lakos László között együttműködési kapcsolat áll fenn, mivel Molnár Gyula és Lakos László között együttműködési kapcsolat áll fenn, mivel Molnár Gyula és Lakos László között együttműködési kapcsolat áll fenn, mivel Molnár Gyula és Lakos László között együttműködési kapcsolat áll fenn, mivel Molnár Gyula és Lakos László között együttműködési kapcsolat áll fenn, mivel Molnár Gyula és Lakos László között együttműködési kap\n"
     ]
    },
    {
     "name": "stderr",
     "output_type": "stream",
     "text": [
      "  0%|▌                                                                                                                                       | 29/7721 [09:38<66:29:54, 31.12s/it]The attention mask and the pad token id were not set. As a consequence, you may observe unexpected behavior. Please pass your input's `attention_mask` to obtain reliable results.\n",
      "Setting `pad_token_id` to `eos_token_id`:2 for open-end generation.\n"
     ]
    },
    {
     "name": "stdout",
     "output_type": "stream",
     "text": [
      "Bekezdés:\n",
      "\"Az áprilisban kiszivárgott bagdadi helikopteres-lövöldözős videó után újabb bomba várható: Julian Assange, a Wikileaks nevű, titkos dokumentumokat szivárogtató szájt alapítója azt tervezi, hogy nyilvánosságra hozza a 'garani mészárlás'-ként emlegetett akcióról készült felvételt. Assange azt állítja, üldözik, és az életét félti. A Pentagon azt mondja, csak beszélgetni szeretne vele.\"\n",
      "\n",
      "Relációk:\n",
      " Indoklás: \"A bekezdés szerint Julian Assange a Wikileaks nevű, titkos dokumentumokat szivárogtató szájt alapítója, tehát közöttük alapítói kapcsolat áll fenn.\"\n",
      "Kapcsolat: \"alapító\"\n",
      "Tárgy: \"Julian Assange\"\n",
      "Alany: \"Wikileaks\"\n"
     ]
    },
    {
     "name": "stderr",
     "output_type": "stream",
     "text": [
      "  0%|▌                                                                                                                                       | 30/7721 [09:53<56:05:23, 26.25s/it]The attention mask and the pad token id were not set. As a consequence, you may observe unexpected behavior. Please pass your input's `attention_mask` to obtain reliable results.\n",
      "Setting `pad_token_id` to `eos_token_id`:2 for open-end generation.\n"
     ]
    },
    {
     "name": "stdout",
     "output_type": "stream",
     "text": [
      "Bekezdés:\n",
      "\"A FEJÉR-B.Á.L. Zrt. és az Épkar Zrt. feladata lesz a Modern Városok Program keretében a Fejér Megyei Szent György Egyetemi Oktató Kórház fejlesztése a következők szerint:\"\n",
      "\n",
      "Relációk:\n",
      " Indoklás: \"A szöveg szerint a FEJÉR-B.Á.L. Zrt. és az Épkar Zrt. feladata lesz a Modern Városok Program keretében a Fejér Megyei Szent György Egyetemi Oktató Kórház fejlesztése. Tehát a FEJÉR-B.Á.L. Zrt. és az Épkar Zrt. között egy munkakapcsolat áll fenn.\"\n",
      "Kapcsolat: \"munkakapcsolat\"\n",
      "Tárgy: \"FEJÉR-B.Á.L. Zrt.\"\n",
      "Alany: \"Épkar Zrt.\"\n"
     ]
    },
    {
     "name": "stderr",
     "output_type": "stream",
     "text": [
      "  0%|▌                                                                                                                                       | 31/7721 [10:02<45:00:32, 21.07s/it]The attention mask and the pad token id were not set. As a consequence, you may observe unexpected behavior. Please pass your input's `attention_mask` to obtain reliable results.\n",
      "Setting `pad_token_id` to `eos_token_id`:2 for open-end generation.\n"
     ]
    },
    {
     "name": "stdout",
     "output_type": "stream",
     "text": [
      "Bekezdés:\n",
      "\"Lesz két rendkívüli és meghatalmazott nagykövet, az egyik Szalay-Bobrovniczky Kristóf – utóbbinak egyébként közös cége van Habony Árpáddal és a Századvéget irányító Heim Péterrel.\"\n",
      "\n",
      "Relációk:\n",
      " Indoklás: \"A szöveg szerint Szalay-Bobrovniczky Kristóf közös céget vezet Heim Péterrel és Habony Árpáddal.\"\n",
      "Kapcsolat: \"cégtárs\"\n",
      "Tárgy: \"Szalay-Bobrovniczky Kristóf\"\n",
      "Alany: \"Heim Péter, Habony Árpád\"\n"
     ]
    },
    {
     "name": "stderr",
     "output_type": "stream",
     "text": [
      "  0%|▌                                                                                                                                       | 32/7721 [10:12<37:55:01, 17.75s/it]The attention mask and the pad token id were not set. As a consequence, you may observe unexpected behavior. Please pass your input's `attention_mask` to obtain reliable results.\n",
      "Setting `pad_token_id` to `eos_token_id`:2 for open-end generation.\n"
     ]
    },
    {
     "name": "stdout",
     "output_type": "stream",
     "text": [
      "Bekezdés:\n",
      "\"Ez a választás még egy kellemetlen botrányt hozott Horváthnak: egy bekapcsolva felejtett diktafon rögzítette, hogy egy helyi katolikus plébánostól a politikus azt kérte, hogy a Fidesszel addigra összekülönbözött egykori polgármestert, Szécsi Gábort illetően valljon színt, 'ide vagy oda, a mieink ezt várják tőled, méghozzá világosan'.\"\n",
      "\n",
      "Relációk:\n",
      " Indoklás: \"A bekezdés szerint Horváth kérte a plébánostól, hogy Szécsi Gábort illetően valljon színt a Fidesszel. Tehát közöttük egy kérési kapcsolat áll fenn.\"\n",
      "Kapcsolat: \"kérés\"\n",
      "Tárgy: \"Horváth\"\n",
      "Alany: \"Szécsi Gábor\"\n"
     ]
    },
    {
     "name": "stderr",
     "output_type": "stream",
     "text": [
      "  0%|▌                                                                                                                                       | 33/7721 [10:33<39:46:28, 18.62s/it]The attention mask and the pad token id were not set. As a consequence, you may observe unexpected behavior. Please pass your input's `attention_mask` to obtain reliable results.\n",
      "Setting `pad_token_id` to `eos_token_id`:2 for open-end generation.\n"
     ]
    },
    {
     "name": "stdout",
     "output_type": "stream",
     "text": [
      "Bekezdés:\n",
      "\"Lázár János Miniszterelnökséget vezető miniszter még a vizsgálat nyilvánosságra hozásának napján bejelentette, hogy a Norvég Civil Támogatási Alap ügyében egyeztetésre hívja Norvégia illetékes miniszterét. Tove Skarstein budapesti norvég nagykövet múlt kedden újságíróknak azt mondta: az alap felhasználása ügyében indított norvég vizsgálat november végére zárulhat le.\"\n",
      "\n",
      "Relációk:\n",
      " Indoklás: \"A bekezdés szerint Lázár János Miniszterelnökséget vezető miniszter egyeztetésre hívja Norvégia illetékes miniszterét, tehát közöttük egyeztetési kapcsolat áll fenn.\"\n",
      "Kapcsolat: \"egyeztetés\"\n",
      "Tárgy: \"Lázár János\"\n",
      "Alany: \"Norvégia illetékes minisztere\"\n",
      "\n",
      "Indoklás: \"A bekezdés szerint Tove Skarstein, a norvég nagykövet, a norvég vizsgálat ügyében beszámolt a sajtónak, tehát közöttük információs kapcsolat áll fenn.\"\n",
      "Kapcsolat: \"információs\"\n",
      "Tárgy: \"Tove Skarstein\"\n",
      "Alany: \"Sajtó\"\n"
     ]
    },
    {
     "name": "stderr",
     "output_type": "stream",
     "text": [
      "  0%|▌                                                                                                                                       | 34/7721 [11:10<51:47:01, 24.25s/it]The attention mask and the pad token id were not set. As a consequence, you may observe unexpected behavior. Please pass your input's `attention_mask` to obtain reliable results.\n",
      "Setting `pad_token_id` to `eos_token_id`:2 for open-end generation.\n"
     ]
    },
    {
     "name": "stdout",
     "output_type": "stream",
     "text": [
      "Bekezdés:\n",
      "\"Hadházy szerint azt a gyanút, hogy itt egy Kósa körüli kiterjed pénzmosó hálózat is lehet, erősíti a cég negyedik tagjának személye, Orendi Mihály is, aki Hadházy kutatása szerint 2012 karácsonyáig tulajdonos volt az AVE PRO Kft-ben – most az Észak-Atlanti Kft tulajdonosa és vezetője –, de korábban vezető volt a Debreceni Sportcentrum Kft-ben is. Az AVE PRO-t pedig több szál köti a DVSC-hez. Orendi, a Magyar Olimpiai Bizottság alelnöke, a Debreceni Sportcentrum visszavonult igazgatója, Kósa korcsolyaszövetségének ügyvezető igazgatója, Kósa phjongcshangi útitársa minősített többségű befolyást biztosító szavazati joggal rendelkezik.\"\n",
      "\n",
      "Relációk:\n",
      " Indoklás: \"A bekezdés szerint Orendi Mihály korábban vezető volt a Debreceni Sportcentrum Kft-ben, tehát közöttük egy korábbi vezetői kapcsolat áll fenn.\"\n",
      "Kapcsolat: \"korábbi vezető\"\n",
      "Tárgy: \"Orendi Mihály\"\n",
      "Alany: \"Debreceni Sportcentrum Kft\"\n",
      "\n",
      "Indoklás: \"A bekezdés szerint Orendi Mihály a Magyar Olimpiai Bizottság alelnöke, tehát közöttük egy alelnöki kapcsolat áll fenn.\"\n",
      "Kapcsolat: \"alelnök\"\n",
      "Tárgy: \"Orendi Mihály\"\n",
      "Alany: \"Magyar Olimpiai Bizottság\"\n",
      "\n",
      "Indoklás: \"A bekezdés szerint Orendi Mihály Kósa korcsolyaszövetségének ügyvezető igazgatója, tehát közöttük egy ügyvezetői kapcsolat áll fenn.\"\n",
      "Kapcsolat: \"ügyvezető igazgató\"\n",
      "Tárgy: \"Orendi Mihály\"\n",
      "Alany: \"Kósa korcsolyaszövetsége\"\n",
      "\n",
      "Indoklás: \"A bekezdés szerint Orendi Mihály Kósa phjongcshangi útitársa, tehát közöttük egy útitársi kapcsolat áll fenn.\"\n",
      "Kapcsolat: \"útitárs\"\n",
      "Tárgy: \"Orendi Mihály\"\n",
      "Alany: \"Kósa\"\n"
     ]
    },
    {
     "name": "stderr",
     "output_type": "stream",
     "text": [
      "  0%|▌                                                                                                                                       | 35/7721 [11:20<42:37:33, 19.97s/it]The attention mask and the pad token id were not set. As a consequence, you may observe unexpected behavior. Please pass your input's `attention_mask` to obtain reliable results.\n",
      "Setting `pad_token_id` to `eos_token_id`:2 for open-end generation.\n"
     ]
    },
    {
     "name": "stdout",
     "output_type": "stream",
     "text": [
      "Bekezdés:\n",
      "\"Az élet ugyanakkor úgy hozta, hogy az idősebb Matolcsy és az idősebb Komlós felesége (az alapítványtevő édesanyja), Komlós Klára a Pannónia Filmstúdióban kollégák lettek. Komlós Klára műteremvezetőként és párttitkárként tevékenykedett, s dramaturgként jegyzett olyan népszerű opuszokat, mint például a Bubó doktor (Kérem a következőt!) vagy a Mézga család, illetve több Kovásznai-filmet (Rügyfakadás, Körúti esték) is, idősebb Matolcsy pedig 1959-től a rajzfilmstúdió igazgatója volt.\"\n",
      "\n",
      "Relációk:\n",
      " Indoklás: \"A bekezdés szerint Komlós Klára és Matolcsy idősebb a Pannónia Filmstúdióban kollégák lettek, tehát közöttük munkakapcsolat áll fenn.\"\n",
      "Kapcsolat: \"munkakapcsolat\"\n",
      "Tárgy: \"Komlós Klára\"\n",
      "Alany: \"Matolcsy idősebb\"\n"
     ]
    },
    {
     "name": "stderr",
     "output_type": "stream",
     "text": [
      "  0%|▋                                                                                                                                       | 36/7721 [11:34<38:47:27, 18.17s/it]The attention mask and the pad token id were not set. As a consequence, you may observe unexpected behavior. Please pass your input's `attention_mask` to obtain reliable results.\n",
      "Setting `pad_token_id` to `eos_token_id`:2 for open-end generation.\n"
     ]
    },
    {
     "name": "stdout",
     "output_type": "stream",
     "text": [
      "Bekezdés:\n",
      "\"Lipics Zsolt lesz a Pécsi Nemzeti Színház következő igazgatója, jelentette be a tavaly a helyi ellenzéki összefogás, a Mindenki Pécsért Egyesület támogatásával megválasztott polgármester, Péterffy Attila. A művészeti vezető egy másik pécsi színész, Vidákovics Szláven lesz. A polgármester nyilatkozataiból azonban kiderül: valójában nem a színházat üzemeltető és a tavasszal elfogadott új színházi törvényig a fenntartói jogokat is egyedül gyakorló önkormányzat, hanem a kormány döntéséről van szó, hasonlóképp ahhoz, ami néhány nappal korábban Egerben történt.\"\n",
      "\n",
      "Relációk:\n",
      " Indoklás: \"A bekezdés szerint Péterffy Attila, a Mindenki Pécsért Egyesület támogatásával megválasztott polgármester, jelentette be Lipics Zsoltot, mint a Pécsi Nemzeti Színház következő igazgatóját. Tehát Péterffy Attila és Lipics Zsolt között egy jelentési kapcsolat áll fenn.\"\n",
      "Kapcsolat: \"jelentés\"\n",
      "Tárgy: \"Péterffy Attila\"\n",
      "Alany: \"Lipics Zsolt\"\n"
     ]
    },
    {
     "name": "stderr",
     "output_type": "stream",
     "text": [
      "  0%|▋                                                                                                                                       | 37/7721 [11:44<33:34:56, 15.73s/it]The attention mask and the pad token id were not set. As a consequence, you may observe unexpected behavior. Please pass your input's `attention_mask` to obtain reliable results.\n",
      "Setting `pad_token_id` to `eos_token_id`:2 for open-end generation.\n"
     ]
    },
    {
     "name": "stdout",
     "output_type": "stream",
     "text": [
      "Bekezdés:\n",
      "\"Ezek véletlenül pont a Siemens gépeire lettek volna specifikálva, de egyes vallomások szerint a Siemens belement, hogy ne főleg ők nyerjenek. Eszerint a cég feltehetően azért fogadta el a specifikációk megnyitását a többi gyártó javára, mert 'belátta, hogy csak így biztosítható a KEOP tenderek rövid időn belüli, zökkenőmentes lebonyolítása'.\"\n",
      "\n",
      "Relációk:\n",
      " Indoklás: \"A bekezdés szerint a Siemens belement, hogy ne főleg ők nyerjenek, ami azt jelenti, hogy a Siemens és a KEOP között egyfajta együttműködési kapcsolat áll fenn.\"\n",
      "Kapcsolat: \"együttműködés\"\n",
      "Tárgy: \"Siemens\"\n",
      "Alany: \"KEOP\"\n"
     ]
    },
    {
     "name": "stderr",
     "output_type": "stream",
     "text": [
      "  0%|▋                                                                                                                                       | 38/7721 [12:04<36:04:28, 16.90s/it]The attention mask and the pad token id were not set. As a consequence, you may observe unexpected behavior. Please pass your input's `attention_mask` to obtain reliable results.\n",
      "Setting `pad_token_id` to `eos_token_id`:2 for open-end generation.\n"
     ]
    },
    {
     "name": "stdout",
     "output_type": "stream",
     "text": [
      "Bekezdés:\n",
      "\"A megállapítás hátterében az állami tulajdonú energetikai monstrum Magyar Villamos Művek Zrt. (MVM) éléről 2008 májusában távozó, majd a Budapesti Közlekedési Vállalat vezérigazgatói székébe érkező Kocsis és a Hagyó Miklós akkori budapesti főpolgármester-helyettes között 2009-ben kirobbant háború állhatott. Egybehangzó vélekedések szerint a Fidesz elszámoltatási kampánytémájának nagyvadját, a 2010 májusában letartóztatott Hagyót és BKV-ügyeit ezzel Kocsis “szállította'.\"\n",
      "\n",
      "Relációk:\n",
      " Indoklás: \"A bekezdés szerint Kocsis a Budapesti Közlekedési Vállalat vezérigazgatója lett, ami azt jelenti, hogy Kocsis és a Budapesti Közlekedési Vállalat között vezetői kapcsolat áll fenn.\"\n",
      "Kapcsolat: \"vezető\"\n",
      "Tárgy: \"Kocsis\"\n",
      "Alany: \"Budapesti Közlekedési Vállalat\"\n",
      "\n",
      "Indoklás: \"A bekezdés szerint Kocsis és Hagyó között egy háború állhatott, ami azt jelenti, hogy Kocsis és Hagyó között egy konfliktusos kapcsolat áll fenn.\"\n",
      "Kapcsolat: \"konfliktusos\"\n",
      "Tárgy: \"Kocsis\"\n",
      "Alany: \"Hagyó\"\n"
     ]
    },
    {
     "name": "stderr",
     "output_type": "stream",
     "text": [
      "  1%|▋                                                                                                                                       | 39/7721 [12:21<36:39:43, 17.18s/it]The attention mask and the pad token id were not set. As a consequence, you may observe unexpected behavior. Please pass your input's `attention_mask` to obtain reliable results.\n",
      "Setting `pad_token_id` to `eos_token_id`:2 for open-end generation.\n"
     ]
    },
    {
     "name": "stdout",
     "output_type": "stream",
     "text": [
      "Bekezdés:\n",
      "\"A Fidesz felháborítónak tartja, hogy sem az MSZP, sem pedig a Jobbik nem támogatta a keddi országgyűlési szavazáson az adóhatóság kiemelt adózókkal kapcsolatos gyakorlatát vizsgáló bizottság felállítását, pedig korábban követelték a testület felállítását.\"\n",
      "\n",
      "Relációk:\n",
      " Indoklás: \"A bekezdés szerint a Fidesz felháborítónak tartja, hogy az MSZP és a Jobbik nem támogatta a keddi országgyűlési szavazáson az adóhatóság kiemelt adózókkal kapcsolatos gyakorlatát vizsgáló bizottság felállítását. Tehát a Fidesz és az MSZP, valamint a Fidesz és a Jobbik között politikai ellentétes álláspont van a bizottság felállítását illetően.\"\n",
      "Kapcsolat: \"politikai ellentétes álláspont\"\n",
      "Tárgy: \"Fidesz\"\n",
      "Alany: \"MSZP, Jobbik\"\n"
     ]
    },
    {
     "name": "stderr",
     "output_type": "stream",
     "text": [
      "  1%|▋                                                                                                                                       | 40/7721 [12:31<32:06:57, 15.05s/it]The attention mask and the pad token id were not set. As a consequence, you may observe unexpected behavior. Please pass your input's `attention_mask` to obtain reliable results.\n",
      "Setting `pad_token_id` to `eos_token_id`:2 for open-end generation.\n"
     ]
    },
    {
     "name": "stdout",
     "output_type": "stream",
     "text": [
      "Bekezdés:\n",
      "\"A Gáspár Győző-féle Romantic és néhány hasonló zenekar fellépést finanszírozta a 2002-es helyhatósági választások előtt a Cafe del Riót üzemeltető Dream Work Kft. tulajdonosa.\"\n",
      "\n",
      "Relációk:\n",
      " Indoklás: \"A szöveg szerint a Dream Work Kft. finanszírozta a Romantic zenekar fellépését, tehát a Dream Work Kft. és a Romantic zenekar között pénzügyi kapcsolat áll fenn.\"\n",
      "Kapcsolat: \"pénzügyi\"\n",
      "Tárgy: \"Dream Work Kft.\"\n",
      "Alany: \"Romantic zenekar\"\n"
     ]
    },
    {
     "name": "stderr",
     "output_type": "stream",
     "text": [
      "  1%|▋                                                                                                                                       | 41/7721 [12:40<27:47:53, 13.03s/it]The attention mask and the pad token id were not set. As a consequence, you may observe unexpected behavior. Please pass your input's `attention_mask` to obtain reliable results.\n",
      "Setting `pad_token_id` to `eos_token_id`:2 for open-end generation.\n"
     ]
    },
    {
     "name": "stdout",
     "output_type": "stream",
     "text": [
      "Bekezdés:\n",
      "\"Ismert, hogy 'rendőrség utáni életét' Gergényi Péter egy utazási iroda tulajdonosaként akarja folytatni. A PR ehhez már ideje korán beindulhatott. A tábornok, évente megismétlődő afrikai utazásaira – a hvg.hu értesülései szerint – gyakran ment barátaival: vállalkozókkal és rendőri vezetőkkel. Az utóbbiak egyike, úgy tudjuk, Sipos Gyula tábornok, az ORFK gazdasági és igazgatási főigazgatója volt. Sipos egyébként az IPA elnöke, és egy nyilatkozata szerint nem tudott a BRFK által kötött szerződésről. A tábornok egy interjúban azt közölte: az arab férfi nem szervezett utakat, azt viszont vizsgálják még, hogy a főkapitányság fizetett-e.\"\n",
      "\n",
      "Relációk:\n",
      " Indoklás: \"A bekezdés szerint Gergényi Péter és Sipos Gyula tábornok barátok voltak, és együtt utaztak Afrikában.\"\n",
      "Kapcsolat: \"barátok\"\n",
      "Tárgy: \"Gergényi Péter\"\n",
      "Alany: \"Sipos Gyula tábornok\"\n"
     ]
    },
    {
     "name": "stderr",
     "output_type": "stream",
     "text": [
      "  1%|▋                                                                                                                                       | 42/7721 [12:52<27:25:45, 12.86s/it]The attention mask and the pad token id were not set. As a consequence, you may observe unexpected behavior. Please pass your input's `attention_mask` to obtain reliable results.\n",
      "Setting `pad_token_id` to `eos_token_id`:2 for open-end generation.\n"
     ]
    },
    {
     "name": "stdout",
     "output_type": "stream",
     "text": [
      "Bekezdés:\n",
      "\"Október 9-én tette közzé a BM a 2013 július-augusztusi támogatási listáját. A listán a legjelentősebb összegekkel a nyári dunai árvízi védekezés költségei szerepelnek: közel 3 milliárdot kapott az Országos Vízügyi Főigazgatóság, 2,2 milliárdot a katasztrófavédelem. A nagy összegek árnyékéban szinte észrevehetetlen a Terrorelhárítási Központ (TEK) árvízi védekezésben való részvételére kifizetett 122 millió. Pedig ez az önmagában sem jelentéktelen összeg meglehetősen soknak tűnik, ha például az Országos Rendőr Főkapitányság 916 milliójával vagy a Honvédelmi Minisztérium 1,46 milliárdjával vetjük össze. A számok alapján ugyanis nagyjából minden hetedik védekezéssel eltöltött rendőr-munkaórára jutott egy TEK-munkaóra, és minden tizenkettedik homokzsákoló katonára jutott egy terrorelhárító. Katonákat, rendőröket, tűzoltókat és vízügyi dolgozókat tömegesen lehetett látni a híradásokban az árvíz legkritikusabb egy hete alatt – a TEK munkatársait viszont alig. Egész pontosan három alkalommal.\"\n",
      "\n",
      "Relációk:\n",
      " Indoklás: \"A bekezdés szerint a Terrorelhárítási Központ (TEK) részt vett az árvízi védekezésben, tehát a TEK és az árvízi védekezés között egy résztvevői kapcsolat áll fenn.\"\n",
      "Kapcsolat: \"résztvevő\"\n",
      "Tárgy: \"Terrorelhárítási Központ (TEK)\"\n",
      "Alany: \"Árvízi védekezés\"\n"
     ]
    },
    {
     "name": "stderr",
     "output_type": "stream",
     "text": [
      "  1%|▊                                                                                                                                       | 43/7721 [13:01<24:34:47, 11.52s/it]The attention mask and the pad token id were not set. As a consequence, you may observe unexpected behavior. Please pass your input's `attention_mask` to obtain reliable results.\n",
      "Setting `pad_token_id` to `eos_token_id`:2 for open-end generation.\n"
     ]
    },
    {
     "name": "stdout",
     "output_type": "stream",
     "text": [
      "Bekezdés:\n",
      "\"A HírTV tudósítása szerint Lendvai Ildikó a nőnapi rendezvéyen közölte: örülne, ha nem volna igaz, amit Balog állít, de elsősorban abban érdekelt, hogy derüljön ki az igazság, ez pedig az igazságszolgáltatás feladata.\"\n",
      "\n",
      "Relációk:\n",
      " Indoklás: \"A bekezdés szerint Lendvai Ildikó a nőnapi rendezvényen beszélt, tehát közöttük egy beszéd kapcsolat áll fenn.\"\n",
      "Kapcsolat: \"beszéd\"\n",
      "Tárgy: \"Lendvai Ildikó\"\n",
      "Alany: \"HírTV\"\n"
     ]
    },
    {
     "name": "stderr",
     "output_type": "stream",
     "text": [
      "  1%|▊                                                                                                                                       | 44/7721 [13:34<38:17:52, 17.96s/it]The attention mask and the pad token id were not set. As a consequence, you may observe unexpected behavior. Please pass your input's `attention_mask` to obtain reliable results.\n",
      "Setting `pad_token_id` to `eos_token_id`:2 for open-end generation.\n"
     ]
    },
    {
     "name": "stdout",
     "output_type": "stream",
     "text": [
      "Bekezdés:\n",
      "\"A női kézilabda Érden sikersportágnak számít, a csapat hatszor szerzett bronz-, illetve ezüstérmet a Magyar Kupában. Nem véletlenül tüntette ki Szántót még tavaly október végén is a polgármester az úgynevezett Érdi Sport Díjjal. Az Érdmost-hu-n akkor így méltatták az ügyvezető érdemeit: 'Szántó Erzsébet 2009-től az Érdi Sport Kft. gazdasági igazgatója, 2012 óta ügyvezető igazgatója. 2013-ban az ő gazdasági számításai alapján indult el az Aréna megvásárlásának ötlete, és kiemelkedő szerepe volt a TAO-pénzek megszerzésében. Az Arénában folyó fejlesztések az ő szakmai, emberi rátermettségét igazolják; elkötelezett munkája hozzájárult az érdi női kézilabda elismertségének megteremtéséhez.'\"\n",
      "\n",
      "Relációk:\n",
      " Indoklás: \"A bekezdés szerint Szántó Erzsébet az Érdi Sport Kft. ügyvezető igazgatója, tehát közöttük munkakapcsolat áll fenn.\"\n",
      "Kapcsolat: \"ügyvezető igazgató\"\n",
      "Tárgy: \"Szántó Erzsébet\"\n",
      "Alany: \"Érdi Sport Kft.\"\n",
      "\n",
      "Indoklás: \"A bekezdés szerint Szántó Erzsébet szerepet játszott az Aréna megvásárlásában és a TAO-pénzek megszerzésében, tehát közöttük egy projekt kapcsolat áll fenn.\"\n",
      "Kapcsolat: \"projekt\"\n",
      "Tárgy: \"Szántó Erzsébet\"\n",
      "Alany: \"Aréna megvásárlása, TAO-pénzek megszerzése\"\n",
      "\n",
      "Indoklás: \"A bekezdés szerint Szántó Erzsébet szakmai és emberi rátermettsége hozzájárult az érdi női kézilabda elismertségéhez, tehát közöttük egy sportkapcsolat áll fenn.\"\n",
      "Kapcsolat: \"sportkapcsolat\"\n",
      "Tárgy: \"Szántó Erzsébet\"\n",
      "Alany: \"Érdi női kézilabda\"\n"
     ]
    },
    {
     "name": "stderr",
     "output_type": "stream",
     "text": [
      "  1%|▊                                                                                                                                       | 45/7721 [14:04<46:26:00, 21.78s/it]The attention mask and the pad token id were not set. As a consequence, you may observe unexpected behavior. Please pass your input's `attention_mask` to obtain reliable results.\n",
      "Setting `pad_token_id` to `eos_token_id`:2 for open-end generation.\n"
     ]
    },
    {
     "name": "stdout",
     "output_type": "stream",
     "text": [
      "Bekezdés:\n",
      "\"A rendőröknek nem lesz egyszerű dolguk, ha mégis igazságot akarnak tenni a vendéglátóhellyel kapcsolatos jogvita ügyében, ugyanis az egész történet 2013-ra nyúlik vissza: a Giant Hungary Kft. akkor adta bérbe az éttermet a Panorama Caffé Kft.-nek, amely aztán a Giant Hungary hozzájárulásával adta tovább használatba az ingatlant az LL Investment Kft.-nek. Ezt a beleegyezést akkor sem vonta vissza az Uszikov-érdekeltség, amikor jogvitába keveredett a Panorama Cafféval – ecseteli a helyzetet a feljelentő a hatóságnak szóló anyagban.\"\n",
      "\n",
      "Relációk:\n",
      " Indoklás: \"A bekezdés szerint a Giant Hungary Kft. adta bérbe az éttermet a Panorama Caffé Kft.-nek, tehát közöttük egy bérlési kapcsolat áll fenn.\"\n",
      "Kapcsolat: \"bérlő\"\n",
      "Tárgy: \"Giant Hungary Kft.\"\n",
      "Alany: \"Panorama Caffé Kft.\"\n",
      "\n",
      "Indoklás: \"A bekezdés szerint a Panorama Caffé Kft. adta tovább használatba az ingatlant az LL Investment Kft.-nek, tehát közöttük egy átadási kapcsolat áll fenn.\"\n",
      "Kapcsolat: \"átadó\"\n",
      "Tárgy: \"Panorama Caffé Kft.\"\n",
      "Alany: \"LL Investment Kft.\"\n",
      "\n",
      "Indoklás: \"A bekezdés szerint az Uszikov-érdekeltség nem vonta vissza a beleegyezést, amikor jogvitába keveredett a Panorama Caffével, tehát közöttük egy jogi kapcsolat áll fenn.\"\n",
      "Kapcsolat: \"jogi\"\n",
      "Tárgy: \"Uszikov-érdekeltség\"\n",
      "Alany: \"Panorama Caffé Kft.\"\n"
     ]
    },
    {
     "name": "stderr",
     "output_type": "stream",
     "text": [
      "  1%|▊                                                                                                                                       | 46/7721 [14:32<50:11:52, 23.55s/it]The attention mask and the pad token id were not set. As a consequence, you may observe unexpected behavior. Please pass your input's `attention_mask` to obtain reliable results.\n",
      "Setting `pad_token_id` to `eos_token_id`:2 for open-end generation.\n"
     ]
    },
    {
     "name": "stdout",
     "output_type": "stream",
     "text": [
      "Bekezdés:\n",
      "\"A Tiborcz Istvánhoz kerülő Gránit Bankhoz kerül a SZTE alapítványának számlája, a bírálatban a pénzintézet elnök-vezérigazgatói posztját betöltő kuratóriumi tag nem vett részt. A kuratórium elnöke szerint nem is összeférhetetlen.\"\n",
      "\n",
      "Relációk:\n",
      " Indoklás: \"A bekezdés szerint Tiborcz István a Gránit Bank elnök-vezérigazgatója, tehát közöttük vezetői kapcsolat áll fenn.\"\n",
      "Kapcsolat: \"elnök-vezérigazgató\"\n",
      "Tárgy: \"Tiborcz István\"\n",
      "Alany: \"Gránit Bank\"\n",
      "\n",
      "Indoklás: \"A bekezdés szerint a SZTE alapítványának számlája a Gránit Bankhoz kerül, tehát közöttük pénzügyi kapcsolat áll fenn.\"\n",
      "Kapcsolat: \"pénzügyi\"\n",
      "Tárgy: \"SZTE alapítvány\"\n",
      "Alany: \"Gránit Bank\"\n",
      "\n",
      "Indoklás: \"A bekezdés szerint a Gránit Bank kuratóriumának elnöke nem vett részt a bírálatban, tehát közöttük vezetői kapcsolat áll fenn.\"\n",
      "Kapcsolat: \"elnök\"\n",
      "Tárgy: \"Gránit Bank kuratóriuma\"\n",
      "Alany: \"Név nélkül említett kuratóriumi tag\"\n"
     ]
    },
    {
     "name": "stderr",
     "output_type": "stream",
     "text": [
      "  1%|▊                                                                                                                                       | 47/7721 [14:47<44:31:27, 20.89s/it]The attention mask and the pad token id were not set. As a consequence, you may observe unexpected behavior. Please pass your input's `attention_mask` to obtain reliable results.\n",
      "Setting `pad_token_id` to `eos_token_id`:2 for open-end generation.\n"
     ]
    },
    {
     "name": "stdout",
     "output_type": "stream",
     "text": [
      "Bekezdés:\n",
      "\"Ugyanebben az évben indult el a 'brazil KiMitTud' is, a Queremos Saber (Tudni akarjuk). Eddig 600 adatigénylést regisztráltak és 7000 adatgazda elérhetősége áll rendelkezésre. Itt egy igénylő arra volt kíváncsi, hogy a parlamentben mennyit költenek a látogatóknak szánt ingyenes ásványvízre és kávéra, de volt olyan is, aki a téli/nyári óraátállítás hasznosságát vitatta. Szintén 2011-es születésű az albán, angol és szerb nyelven elérhető koszovói InformataZyrtare (Hivatalos információ). Sikeresnek azonban korántsem mondható: az eltelt egy év alatt mindössze 8 adatigénylést küldtek a 130 adatgazda valamelyikének és ebből is csak 1 darab volt sikeres.\"\n",
      "\n",
      "Relációk:\n",
      " Indoklás: \"A bekezdés szerint a 'brazil KiMitTud' (Queremos Saber) és a 'koszovói InformataZyrtare' (Hivatalos információ) is hasonló célú, nyílt adatigénylési rendszerek.\"\n",
      "Kapcsolat: \"hasonló célú nyílt adatigénylési rendszer\"\n",
      "Tárgy: \"brazil KiMitTud (Queremos Saber)\"\n",
      "Alany: \"koszovói InformataZyrtare (Hivatalos információ)\"\n"
     ]
    },
    {
     "name": "stderr",
     "output_type": "stream",
     "text": [
      "  1%|▊                                                                                                                                       | 48/7721 [15:10<46:02:56, 21.61s/it]The attention mask and the pad token id were not set. As a consequence, you may observe unexpected behavior. Please pass your input's `attention_mask` to obtain reliable results.\n",
      "Setting `pad_token_id` to `eos_token_id`:2 for open-end generation.\n"
     ]
    },
    {
     "name": "stdout",
     "output_type": "stream",
     "text": [
      "Bekezdés:\n",
      "\"Az országos etikai bizottság azért döntött a szervezet feloszlatása mellett, mert Zuschlag Jánost, az MSZP Bács-Kiskun megyei területi szövetségének korábbi ügyvezető elnökét, a kiskunhalasi szervezet korábbi elnökét és nyolc társát bűnszövetségben elkövetett, különösen nagy kárt okozó csalással gyanúsítja az ügyészség alapítványoknak nyújtott állami pénzek szabálytalan felhasználása miatt. Az előzetes letartóztatásban lévő Zuschlag János nem mondott le választott tisztségeiről, de a kiskunhalasi pártszervezet feloszlatása után párttagsága megszűnt.\"\n",
      "\n",
      "Relációk:\n",
      " Indoklás: \"A bekezdés szerint Zuschlag János az MSZP Bács-Kiskun megyei területi szövetségének korábbi ügyvezető elnöke volt, tehát közöttük egy korábbi vezetői kapcsolat áll fenn.\"\n",
      "Kapcsolat: \"korábbi ügyvezető elnök\"\n",
      "Tárgy: \"MSZP Bács-Kiskun megyei területi szövetsége\"\n",
      "Alany: \"Zuschlag János\"\n",
      "\n",
      "Indoklás: \"A bekezdés szerint Zuschlag János a kiskunhalasi szervezet korábbi elnöke volt, tehát közöttük egy korábbi vezetői kapcsolat áll fenn.\"\n",
      "Kapcsolat: \"korábbi elnök\"\n",
      "Tárgy: \"MSZP kiskunhalasi szervezete\"\n",
      "Alany: \"Zuschlag János\"\n"
     ]
    },
    {
     "name": "stderr",
     "output_type": "stream",
     "text": [
      "  1%|▊                                                                                                                                       | 49/7721 [15:29<44:34:43, 20.92s/it]The attention mask and the pad token id were not set. As a consequence, you may observe unexpected behavior. Please pass your input's `attention_mask` to obtain reliable results.\n",
      "Setting `pad_token_id` to `eos_token_id`:2 for open-end generation.\n"
     ]
    },
    {
     "name": "stdout",
     "output_type": "stream",
     "text": [
      "Bekezdés:\n",
      "\"Befektetési csalás miatt eljárás Rónai ellen Rónai Attiláról a Népszabadság 2010. április 2-án megírta, hogy már a kilencvenes években felfigyelt a rendőrség, mint az olajügyek kulcsfigurái körül feltűnő alakra: testőrként, sofőrként tevékenykedett és olykor pénzszállításokat végeztettek vele. A Népszabadság értesülése szerint 2006-2007-ben elkövetett, 16 millió forint kárt okozó befektetési csalás gyanúsítottjaként nyomozott ellene a rendőrség, és ügye 2010 tavaszán ügyészi szakaszba ért.\"\n",
      "\n",
      "Relációk:\n",
      " Indoklás: \"A bekezdés szerint Rónai Attila testőrként és sofőrként tevékenykedett, tehát közöttük munkakapcsolat áll fenn.\"\n",
      "Kapcsolat: \"munkakapcsolat\"\n",
      "Tárgy: \"Rónai Attila\"\n",
      "Alany: \"testőr, sofőr\"\n",
      "\n",
      "Indoklás: \"A bekezdés szerint Rónai Attila gyanúsított volt befektetési csalás miatt, tehát közöttük ügyészségi kapcsolat áll fenn.\"\n",
      "Kapcsolat: \"ügyészségi kapcsolat\"\n",
      "Tárgy: \"Rónai Attila\"\n",
      "Alany: \"befektetési csalás gyanúsítottja\"\n"
     ]
    },
    {
     "name": "stderr",
     "output_type": "stream",
     "text": [
      "  1%|▉                                                                                                                                       | 50/7721 [15:51<44:55:13, 21.08s/it]The attention mask and the pad token id were not set. As a consequence, you may observe unexpected behavior. Please pass your input's `attention_mask` to obtain reliable results.\n",
      "Setting `pad_token_id` to `eos_token_id`:2 for open-end generation.\n"
     ]
    },
    {
     "name": "stdout",
     "output_type": "stream",
     "text": [
      "Bekezdés:\n",
      "\"Hernádi és a csúszópénzek ügye ennél kevésbé világos. Hogy mi történt valójában, arról jövő hét kedden hirdet ítéletet első fokon a bíróság. A vád szerint Hernádi Zsolt tízmillió eurót fizetett Sanadernek, hogy a Mol megkapja a horvát olajvállalat irányítási jogát, illetve úgy vehesse át a cég 47,26 százalékát, hogy a horvát állam leválasztja a cégről a veszteséges gázágazatot.\"\n",
      "\n",
      "Relációk:\n",
      " Indoklás: \"A bekezdés szerint Hernádi Zsolt fizetett Sanadernek, hogy a Mol megkapja a horvát olajvállalat irányítási jogát. Tehát Hernádi Zsolt és a Mol között üzleti kapcsolat áll fenn.\"\n",
      "Kapcsolat: \"üzleti\"\n",
      "Tárgy: \"Hernádi Zsolt\"\n",
      "Alany: \"Mol\"\n",
      "\n",
      "Indoklás: \"A bekezdés szerint Hernádi Zsolt fizetett Sanadernek, hogy a horvát állam leválasztja a cégről a veszteséges gázágazatot. Tehát Hernádi Zsolt és a horvát állam között üzleti kapcsolat áll fenn.\"\n",
      "Kapcsolat: \"üzleti\"\n",
      "Tárgy: \"Hernádi Zsolt\"\n",
      "Alany: \"horvát állam\"\n"
     ]
    },
    {
     "name": "stderr",
     "output_type": "stream",
     "text": [
      "  1%|▉                                                                                                                                       | 50/7721 [16:10<41:22:28, 19.42s/it]\n"
     ]
    },
    {
     "ename": "KeyboardInterrupt",
     "evalue": "",
     "output_type": "error",
     "traceback": [
      "\u001b[0;31m---------------------------------------------------------------------------\u001b[0m",
      "\u001b[0;31mKeyboardInterrupt\u001b[0m                         Traceback (most recent call last)",
      "Cell \u001b[0;32mIn[7], line 13\u001b[0m\n\u001b[1;32m     11\u001b[0m \u001b[38;5;28;01mif\u001b[39;00m \u001b[38;5;28mlen\u001b[39m(inputs[\u001b[38;5;124m'\u001b[39m\u001b[38;5;124minput_ids\u001b[39m\u001b[38;5;124m'\u001b[39m][\u001b[38;5;241m0\u001b[39m]) \u001b[38;5;241m>\u001b[39m \u001b[38;5;241m2048\u001b[39m:\n\u001b[1;32m     12\u001b[0m     \u001b[38;5;28;01mcontinue\u001b[39;00m\n\u001b[0;32m---> 13\u001b[0m outputs \u001b[38;5;241m=\u001b[39m \u001b[43mmodel\u001b[49m\u001b[38;5;241;43m.\u001b[39;49m\u001b[43mgenerate\u001b[49m\u001b[43m(\u001b[49m\u001b[43minput_ids\u001b[49m\u001b[38;5;241;43m=\u001b[39;49m\u001b[43minputs\u001b[49m\u001b[43m[\u001b[49m\u001b[38;5;124;43m'\u001b[39;49m\u001b[38;5;124;43minput_ids\u001b[39;49m\u001b[38;5;124;43m'\u001b[39;49m\u001b[43m]\u001b[49m\u001b[43m,\u001b[49m\u001b[43m \u001b[49m\u001b[43mmax_new_tokens\u001b[49m\u001b[38;5;241;43m=\u001b[39;49m\u001b[38;5;241;43m1024\u001b[39;49m\u001b[43m)\u001b[49m\n\u001b[1;32m     14\u001b[0m result \u001b[38;5;241m=\u001b[39m tokenizer\u001b[38;5;241m.\u001b[39mdecode(outputs[\u001b[38;5;241m0\u001b[39m], skip_special_tokens\u001b[38;5;241m=\u001b[39m\u001b[38;5;28;01mTrue\u001b[39;00m)\n\u001b[1;32m     15\u001b[0m oresult \u001b[38;5;241m=\u001b[39m result\u001b[38;5;241m.\u001b[39msplit(\u001b[38;5;124m'\u001b[39m\u001b[38;5;124mRelációk:\u001b[39m\u001b[38;5;130;01m\\n\u001b[39;00m\u001b[38;5;124m'\u001b[39m)[\u001b[38;5;241m1\u001b[39m]\u001b[38;5;241m.\u001b[39mstrip()\n",
      "File \u001b[0;32m~/.conda/envs/ai/lib/python3.10/site-packages/peft/peft_model.py:1034\u001b[0m, in \u001b[0;36mPeftModelForCausalLM.generate\u001b[0;34m(self, **kwargs)\u001b[0m\n\u001b[1;32m   1032\u001b[0m     \u001b[38;5;28mself\u001b[39m\u001b[38;5;241m.\u001b[39mbase_model\u001b[38;5;241m.\u001b[39mgeneration_config \u001b[38;5;241m=\u001b[39m \u001b[38;5;28mself\u001b[39m\u001b[38;5;241m.\u001b[39mgeneration_config\n\u001b[1;32m   1033\u001b[0m \u001b[38;5;28;01mtry\u001b[39;00m:\n\u001b[0;32m-> 1034\u001b[0m     outputs \u001b[38;5;241m=\u001b[39m \u001b[38;5;28;43mself\u001b[39;49m\u001b[38;5;241;43m.\u001b[39;49m\u001b[43mbase_model\u001b[49m\u001b[38;5;241;43m.\u001b[39;49m\u001b[43mgenerate\u001b[49m\u001b[43m(\u001b[49m\u001b[38;5;241;43m*\u001b[39;49m\u001b[38;5;241;43m*\u001b[39;49m\u001b[43mkwargs\u001b[49m\u001b[43m)\u001b[49m\n\u001b[1;32m   1035\u001b[0m \u001b[38;5;28;01mexcept\u001b[39;00m:\n\u001b[1;32m   1036\u001b[0m     \u001b[38;5;28mself\u001b[39m\u001b[38;5;241m.\u001b[39mbase_model\u001b[38;5;241m.\u001b[39mprepare_inputs_for_generation \u001b[38;5;241m=\u001b[39m \u001b[38;5;28mself\u001b[39m\u001b[38;5;241m.\u001b[39mbase_model_prepare_inputs_for_generation\n",
      "File \u001b[0;32m~/.conda/envs/ai/lib/python3.10/site-packages/torch/utils/_contextlib.py:115\u001b[0m, in \u001b[0;36mcontext_decorator.<locals>.decorate_context\u001b[0;34m(*args, **kwargs)\u001b[0m\n\u001b[1;32m    112\u001b[0m \u001b[38;5;129m@functools\u001b[39m\u001b[38;5;241m.\u001b[39mwraps(func)\n\u001b[1;32m    113\u001b[0m \u001b[38;5;28;01mdef\u001b[39;00m \u001b[38;5;21mdecorate_context\u001b[39m(\u001b[38;5;241m*\u001b[39margs, \u001b[38;5;241m*\u001b[39m\u001b[38;5;241m*\u001b[39mkwargs):\n\u001b[1;32m    114\u001b[0m     \u001b[38;5;28;01mwith\u001b[39;00m ctx_factory():\n\u001b[0;32m--> 115\u001b[0m         \u001b[38;5;28;01mreturn\u001b[39;00m \u001b[43mfunc\u001b[49m\u001b[43m(\u001b[49m\u001b[38;5;241;43m*\u001b[39;49m\u001b[43margs\u001b[49m\u001b[43m,\u001b[49m\u001b[43m \u001b[49m\u001b[38;5;241;43m*\u001b[39;49m\u001b[38;5;241;43m*\u001b[39;49m\u001b[43mkwargs\u001b[49m\u001b[43m)\u001b[49m\n",
      "File \u001b[0;32m~/.conda/envs/ai/lib/python3.10/site-packages/transformers/generation/utils.py:1673\u001b[0m, in \u001b[0;36mGenerationMixin.generate\u001b[0;34m(self, inputs, generation_config, logits_processor, stopping_criteria, prefix_allowed_tokens_fn, synced_gpus, assistant_model, streamer, negative_prompt_ids, negative_prompt_attention_mask, **kwargs)\u001b[0m\n\u001b[1;32m   1656\u001b[0m     \u001b[38;5;28;01mreturn\u001b[39;00m \u001b[38;5;28mself\u001b[39m\u001b[38;5;241m.\u001b[39massisted_decoding(\n\u001b[1;32m   1657\u001b[0m         input_ids,\n\u001b[1;32m   1658\u001b[0m         assistant_model\u001b[38;5;241m=\u001b[39massistant_model,\n\u001b[0;32m   (...)\u001b[0m\n\u001b[1;32m   1669\u001b[0m         \u001b[38;5;241m*\u001b[39m\u001b[38;5;241m*\u001b[39mmodel_kwargs,\n\u001b[1;32m   1670\u001b[0m     )\n\u001b[1;32m   1671\u001b[0m \u001b[38;5;28;01mif\u001b[39;00m generation_mode \u001b[38;5;241m==\u001b[39m GenerationMode\u001b[38;5;241m.\u001b[39mGREEDY_SEARCH:\n\u001b[1;32m   1672\u001b[0m     \u001b[38;5;66;03m# 11. run greedy search\u001b[39;00m\n\u001b[0;32m-> 1673\u001b[0m     \u001b[38;5;28;01mreturn\u001b[39;00m \u001b[38;5;28;43mself\u001b[39;49m\u001b[38;5;241;43m.\u001b[39;49m\u001b[43mgreedy_search\u001b[49m\u001b[43m(\u001b[49m\n\u001b[1;32m   1674\u001b[0m \u001b[43m        \u001b[49m\u001b[43minput_ids\u001b[49m\u001b[43m,\u001b[49m\n\u001b[1;32m   1675\u001b[0m \u001b[43m        \u001b[49m\u001b[43mlogits_processor\u001b[49m\u001b[38;5;241;43m=\u001b[39;49m\u001b[43mlogits_processor\u001b[49m\u001b[43m,\u001b[49m\n\u001b[1;32m   1676\u001b[0m \u001b[43m        \u001b[49m\u001b[43mstopping_criteria\u001b[49m\u001b[38;5;241;43m=\u001b[39;49m\u001b[43mstopping_criteria\u001b[49m\u001b[43m,\u001b[49m\n\u001b[1;32m   1677\u001b[0m \u001b[43m        \u001b[49m\u001b[43mpad_token_id\u001b[49m\u001b[38;5;241;43m=\u001b[39;49m\u001b[43mgeneration_config\u001b[49m\u001b[38;5;241;43m.\u001b[39;49m\u001b[43mpad_token_id\u001b[49m\u001b[43m,\u001b[49m\n\u001b[1;32m   1678\u001b[0m \u001b[43m        \u001b[49m\u001b[43meos_token_id\u001b[49m\u001b[38;5;241;43m=\u001b[39;49m\u001b[43mgeneration_config\u001b[49m\u001b[38;5;241;43m.\u001b[39;49m\u001b[43meos_token_id\u001b[49m\u001b[43m,\u001b[49m\n\u001b[1;32m   1679\u001b[0m \u001b[43m        \u001b[49m\u001b[43moutput_scores\u001b[49m\u001b[38;5;241;43m=\u001b[39;49m\u001b[43mgeneration_config\u001b[49m\u001b[38;5;241;43m.\u001b[39;49m\u001b[43moutput_scores\u001b[49m\u001b[43m,\u001b[49m\n\u001b[1;32m   1680\u001b[0m \u001b[43m        \u001b[49m\u001b[43mreturn_dict_in_generate\u001b[49m\u001b[38;5;241;43m=\u001b[39;49m\u001b[43mgeneration_config\u001b[49m\u001b[38;5;241;43m.\u001b[39;49m\u001b[43mreturn_dict_in_generate\u001b[49m\u001b[43m,\u001b[49m\n\u001b[1;32m   1681\u001b[0m \u001b[43m        \u001b[49m\u001b[43msynced_gpus\u001b[49m\u001b[38;5;241;43m=\u001b[39;49m\u001b[43msynced_gpus\u001b[49m\u001b[43m,\u001b[49m\n\u001b[1;32m   1682\u001b[0m \u001b[43m        \u001b[49m\u001b[43mstreamer\u001b[49m\u001b[38;5;241;43m=\u001b[39;49m\u001b[43mstreamer\u001b[49m\u001b[43m,\u001b[49m\n\u001b[1;32m   1683\u001b[0m \u001b[43m        \u001b[49m\u001b[38;5;241;43m*\u001b[39;49m\u001b[38;5;241;43m*\u001b[39;49m\u001b[43mmodel_kwargs\u001b[49m\u001b[43m,\u001b[49m\n\u001b[1;32m   1684\u001b[0m \u001b[43m    \u001b[49m\u001b[43m)\u001b[49m\n\u001b[1;32m   1686\u001b[0m \u001b[38;5;28;01melif\u001b[39;00m generation_mode \u001b[38;5;241m==\u001b[39m GenerationMode\u001b[38;5;241m.\u001b[39mCONTRASTIVE_SEARCH:\n\u001b[1;32m   1687\u001b[0m     \u001b[38;5;28;01mif\u001b[39;00m \u001b[38;5;129;01mnot\u001b[39;00m model_kwargs[\u001b[38;5;124m\"\u001b[39m\u001b[38;5;124muse_cache\u001b[39m\u001b[38;5;124m\"\u001b[39m]:\n",
      "File \u001b[0;32m~/.conda/envs/ai/lib/python3.10/site-packages/transformers/generation/utils.py:2521\u001b[0m, in \u001b[0;36mGenerationMixin.greedy_search\u001b[0;34m(self, input_ids, logits_processor, stopping_criteria, max_length, pad_token_id, eos_token_id, output_attentions, output_hidden_states, output_scores, return_dict_in_generate, synced_gpus, streamer, **model_kwargs)\u001b[0m\n\u001b[1;32m   2518\u001b[0m model_inputs \u001b[38;5;241m=\u001b[39m \u001b[38;5;28mself\u001b[39m\u001b[38;5;241m.\u001b[39mprepare_inputs_for_generation(input_ids, \u001b[38;5;241m*\u001b[39m\u001b[38;5;241m*\u001b[39mmodel_kwargs)\n\u001b[1;32m   2520\u001b[0m \u001b[38;5;66;03m# forward pass to get next token\u001b[39;00m\n\u001b[0;32m-> 2521\u001b[0m outputs \u001b[38;5;241m=\u001b[39m \u001b[38;5;28;43mself\u001b[39;49m\u001b[43m(\u001b[49m\n\u001b[1;32m   2522\u001b[0m \u001b[43m    \u001b[49m\u001b[38;5;241;43m*\u001b[39;49m\u001b[38;5;241;43m*\u001b[39;49m\u001b[43mmodel_inputs\u001b[49m\u001b[43m,\u001b[49m\n\u001b[1;32m   2523\u001b[0m \u001b[43m    \u001b[49m\u001b[43mreturn_dict\u001b[49m\u001b[38;5;241;43m=\u001b[39;49m\u001b[38;5;28;43;01mTrue\u001b[39;49;00m\u001b[43m,\u001b[49m\n\u001b[1;32m   2524\u001b[0m \u001b[43m    \u001b[49m\u001b[43moutput_attentions\u001b[49m\u001b[38;5;241;43m=\u001b[39;49m\u001b[43moutput_attentions\u001b[49m\u001b[43m,\u001b[49m\n\u001b[1;32m   2525\u001b[0m \u001b[43m    \u001b[49m\u001b[43moutput_hidden_states\u001b[49m\u001b[38;5;241;43m=\u001b[39;49m\u001b[43moutput_hidden_states\u001b[49m\u001b[43m,\u001b[49m\n\u001b[1;32m   2526\u001b[0m \u001b[43m\u001b[49m\u001b[43m)\u001b[49m\n\u001b[1;32m   2528\u001b[0m \u001b[38;5;28;01mif\u001b[39;00m synced_gpus \u001b[38;5;129;01mand\u001b[39;00m this_peer_finished:\n\u001b[1;32m   2529\u001b[0m     \u001b[38;5;28;01mcontinue\u001b[39;00m  \u001b[38;5;66;03m# don't waste resources running the code we don't need\u001b[39;00m\n",
      "File \u001b[0;32m~/.conda/envs/ai/lib/python3.10/site-packages/torch/nn/modules/module.py:1501\u001b[0m, in \u001b[0;36mModule._call_impl\u001b[0;34m(self, *args, **kwargs)\u001b[0m\n\u001b[1;32m   1496\u001b[0m \u001b[38;5;66;03m# If we don't have any hooks, we want to skip the rest of the logic in\u001b[39;00m\n\u001b[1;32m   1497\u001b[0m \u001b[38;5;66;03m# this function, and just call forward.\u001b[39;00m\n\u001b[1;32m   1498\u001b[0m \u001b[38;5;28;01mif\u001b[39;00m \u001b[38;5;129;01mnot\u001b[39;00m (\u001b[38;5;28mself\u001b[39m\u001b[38;5;241m.\u001b[39m_backward_hooks \u001b[38;5;129;01mor\u001b[39;00m \u001b[38;5;28mself\u001b[39m\u001b[38;5;241m.\u001b[39m_backward_pre_hooks \u001b[38;5;129;01mor\u001b[39;00m \u001b[38;5;28mself\u001b[39m\u001b[38;5;241m.\u001b[39m_forward_hooks \u001b[38;5;129;01mor\u001b[39;00m \u001b[38;5;28mself\u001b[39m\u001b[38;5;241m.\u001b[39m_forward_pre_hooks\n\u001b[1;32m   1499\u001b[0m         \u001b[38;5;129;01mor\u001b[39;00m _global_backward_pre_hooks \u001b[38;5;129;01mor\u001b[39;00m _global_backward_hooks\n\u001b[1;32m   1500\u001b[0m         \u001b[38;5;129;01mor\u001b[39;00m _global_forward_hooks \u001b[38;5;129;01mor\u001b[39;00m _global_forward_pre_hooks):\n\u001b[0;32m-> 1501\u001b[0m     \u001b[38;5;28;01mreturn\u001b[39;00m \u001b[43mforward_call\u001b[49m\u001b[43m(\u001b[49m\u001b[38;5;241;43m*\u001b[39;49m\u001b[43margs\u001b[49m\u001b[43m,\u001b[49m\u001b[43m \u001b[49m\u001b[38;5;241;43m*\u001b[39;49m\u001b[38;5;241;43m*\u001b[39;49m\u001b[43mkwargs\u001b[49m\u001b[43m)\u001b[49m\n\u001b[1;32m   1502\u001b[0m \u001b[38;5;66;03m# Do not call functions when jit is used\u001b[39;00m\n\u001b[1;32m   1503\u001b[0m full_backward_hooks, non_full_backward_hooks \u001b[38;5;241m=\u001b[39m [], []\n",
      "File \u001b[0;32m~/.conda/envs/ai/lib/python3.10/site-packages/accelerate/hooks.py:164\u001b[0m, in \u001b[0;36madd_hook_to_module.<locals>.new_forward\u001b[0;34m(module, *args, **kwargs)\u001b[0m\n\u001b[1;32m    162\u001b[0m         output \u001b[38;5;241m=\u001b[39m module\u001b[38;5;241m.\u001b[39m_old_forward(\u001b[38;5;241m*\u001b[39margs, \u001b[38;5;241m*\u001b[39m\u001b[38;5;241m*\u001b[39mkwargs)\n\u001b[1;32m    163\u001b[0m \u001b[38;5;28;01melse\u001b[39;00m:\n\u001b[0;32m--> 164\u001b[0m     output \u001b[38;5;241m=\u001b[39m \u001b[43mmodule\u001b[49m\u001b[38;5;241;43m.\u001b[39;49m\u001b[43m_old_forward\u001b[49m\u001b[43m(\u001b[49m\u001b[38;5;241;43m*\u001b[39;49m\u001b[43margs\u001b[49m\u001b[43m,\u001b[49m\u001b[43m \u001b[49m\u001b[38;5;241;43m*\u001b[39;49m\u001b[38;5;241;43m*\u001b[39;49m\u001b[43mkwargs\u001b[49m\u001b[43m)\u001b[49m\n\u001b[1;32m    165\u001b[0m \u001b[38;5;28;01mreturn\u001b[39;00m module\u001b[38;5;241m.\u001b[39m_hf_hook\u001b[38;5;241m.\u001b[39mpost_forward(module, output)\n",
      "File \u001b[0;32m~/.conda/envs/ai/lib/python3.10/site-packages/transformers/models/mistral/modeling_mistral.py:1009\u001b[0m, in \u001b[0;36mMistralForCausalLM.forward\u001b[0;34m(self, input_ids, attention_mask, position_ids, past_key_values, inputs_embeds, labels, use_cache, output_attentions, output_hidden_states, return_dict)\u001b[0m\n\u001b[1;32m   1006\u001b[0m return_dict \u001b[38;5;241m=\u001b[39m return_dict \u001b[38;5;28;01mif\u001b[39;00m return_dict \u001b[38;5;129;01mis\u001b[39;00m \u001b[38;5;129;01mnot\u001b[39;00m \u001b[38;5;28;01mNone\u001b[39;00m \u001b[38;5;28;01melse\u001b[39;00m \u001b[38;5;28mself\u001b[39m\u001b[38;5;241m.\u001b[39mconfig\u001b[38;5;241m.\u001b[39muse_return_dict\n\u001b[1;32m   1008\u001b[0m \u001b[38;5;66;03m# decoder outputs consists of (dec_features, layer_state, dec_hidden, dec_attn)\u001b[39;00m\n\u001b[0;32m-> 1009\u001b[0m outputs \u001b[38;5;241m=\u001b[39m \u001b[38;5;28;43mself\u001b[39;49m\u001b[38;5;241;43m.\u001b[39;49m\u001b[43mmodel\u001b[49m\u001b[43m(\u001b[49m\n\u001b[1;32m   1010\u001b[0m \u001b[43m    \u001b[49m\u001b[43minput_ids\u001b[49m\u001b[38;5;241;43m=\u001b[39;49m\u001b[43minput_ids\u001b[49m\u001b[43m,\u001b[49m\n\u001b[1;32m   1011\u001b[0m \u001b[43m    \u001b[49m\u001b[43mattention_mask\u001b[49m\u001b[38;5;241;43m=\u001b[39;49m\u001b[43mattention_mask\u001b[49m\u001b[43m,\u001b[49m\n\u001b[1;32m   1012\u001b[0m \u001b[43m    \u001b[49m\u001b[43mposition_ids\u001b[49m\u001b[38;5;241;43m=\u001b[39;49m\u001b[43mposition_ids\u001b[49m\u001b[43m,\u001b[49m\n\u001b[1;32m   1013\u001b[0m \u001b[43m    \u001b[49m\u001b[43mpast_key_values\u001b[49m\u001b[38;5;241;43m=\u001b[39;49m\u001b[43mpast_key_values\u001b[49m\u001b[43m,\u001b[49m\n\u001b[1;32m   1014\u001b[0m \u001b[43m    \u001b[49m\u001b[43minputs_embeds\u001b[49m\u001b[38;5;241;43m=\u001b[39;49m\u001b[43minputs_embeds\u001b[49m\u001b[43m,\u001b[49m\n\u001b[1;32m   1015\u001b[0m \u001b[43m    \u001b[49m\u001b[43muse_cache\u001b[49m\u001b[38;5;241;43m=\u001b[39;49m\u001b[43muse_cache\u001b[49m\u001b[43m,\u001b[49m\n\u001b[1;32m   1016\u001b[0m \u001b[43m    \u001b[49m\u001b[43moutput_attentions\u001b[49m\u001b[38;5;241;43m=\u001b[39;49m\u001b[43moutput_attentions\u001b[49m\u001b[43m,\u001b[49m\n\u001b[1;32m   1017\u001b[0m \u001b[43m    \u001b[49m\u001b[43moutput_hidden_states\u001b[49m\u001b[38;5;241;43m=\u001b[39;49m\u001b[43moutput_hidden_states\u001b[49m\u001b[43m,\u001b[49m\n\u001b[1;32m   1018\u001b[0m \u001b[43m    \u001b[49m\u001b[43mreturn_dict\u001b[49m\u001b[38;5;241;43m=\u001b[39;49m\u001b[43mreturn_dict\u001b[49m\u001b[43m,\u001b[49m\n\u001b[1;32m   1019\u001b[0m \u001b[43m\u001b[49m\u001b[43m)\u001b[49m\n\u001b[1;32m   1021\u001b[0m hidden_states \u001b[38;5;241m=\u001b[39m outputs[\u001b[38;5;241m0\u001b[39m]\n\u001b[1;32m   1022\u001b[0m logits \u001b[38;5;241m=\u001b[39m \u001b[38;5;28mself\u001b[39m\u001b[38;5;241m.\u001b[39mlm_head(hidden_states)\n",
      "File \u001b[0;32m~/.conda/envs/ai/lib/python3.10/site-packages/torch/nn/modules/module.py:1501\u001b[0m, in \u001b[0;36mModule._call_impl\u001b[0;34m(self, *args, **kwargs)\u001b[0m\n\u001b[1;32m   1496\u001b[0m \u001b[38;5;66;03m# If we don't have any hooks, we want to skip the rest of the logic in\u001b[39;00m\n\u001b[1;32m   1497\u001b[0m \u001b[38;5;66;03m# this function, and just call forward.\u001b[39;00m\n\u001b[1;32m   1498\u001b[0m \u001b[38;5;28;01mif\u001b[39;00m \u001b[38;5;129;01mnot\u001b[39;00m (\u001b[38;5;28mself\u001b[39m\u001b[38;5;241m.\u001b[39m_backward_hooks \u001b[38;5;129;01mor\u001b[39;00m \u001b[38;5;28mself\u001b[39m\u001b[38;5;241m.\u001b[39m_backward_pre_hooks \u001b[38;5;129;01mor\u001b[39;00m \u001b[38;5;28mself\u001b[39m\u001b[38;5;241m.\u001b[39m_forward_hooks \u001b[38;5;129;01mor\u001b[39;00m \u001b[38;5;28mself\u001b[39m\u001b[38;5;241m.\u001b[39m_forward_pre_hooks\n\u001b[1;32m   1499\u001b[0m         \u001b[38;5;129;01mor\u001b[39;00m _global_backward_pre_hooks \u001b[38;5;129;01mor\u001b[39;00m _global_backward_hooks\n\u001b[1;32m   1500\u001b[0m         \u001b[38;5;129;01mor\u001b[39;00m _global_forward_hooks \u001b[38;5;129;01mor\u001b[39;00m _global_forward_pre_hooks):\n\u001b[0;32m-> 1501\u001b[0m     \u001b[38;5;28;01mreturn\u001b[39;00m \u001b[43mforward_call\u001b[49m\u001b[43m(\u001b[49m\u001b[38;5;241;43m*\u001b[39;49m\u001b[43margs\u001b[49m\u001b[43m,\u001b[49m\u001b[43m \u001b[49m\u001b[38;5;241;43m*\u001b[39;49m\u001b[38;5;241;43m*\u001b[39;49m\u001b[43mkwargs\u001b[49m\u001b[43m)\u001b[49m\n\u001b[1;32m   1502\u001b[0m \u001b[38;5;66;03m# Do not call functions when jit is used\u001b[39;00m\n\u001b[1;32m   1503\u001b[0m full_backward_hooks, non_full_backward_hooks \u001b[38;5;241m=\u001b[39m [], []\n",
      "File \u001b[0;32m~/.conda/envs/ai/lib/python3.10/site-packages/accelerate/hooks.py:164\u001b[0m, in \u001b[0;36madd_hook_to_module.<locals>.new_forward\u001b[0;34m(module, *args, **kwargs)\u001b[0m\n\u001b[1;32m    162\u001b[0m         output \u001b[38;5;241m=\u001b[39m module\u001b[38;5;241m.\u001b[39m_old_forward(\u001b[38;5;241m*\u001b[39margs, \u001b[38;5;241m*\u001b[39m\u001b[38;5;241m*\u001b[39mkwargs)\n\u001b[1;32m    163\u001b[0m \u001b[38;5;28;01melse\u001b[39;00m:\n\u001b[0;32m--> 164\u001b[0m     output \u001b[38;5;241m=\u001b[39m \u001b[43mmodule\u001b[49m\u001b[38;5;241;43m.\u001b[39;49m\u001b[43m_old_forward\u001b[49m\u001b[43m(\u001b[49m\u001b[38;5;241;43m*\u001b[39;49m\u001b[43margs\u001b[49m\u001b[43m,\u001b[49m\u001b[43m \u001b[49m\u001b[38;5;241;43m*\u001b[39;49m\u001b[38;5;241;43m*\u001b[39;49m\u001b[43mkwargs\u001b[49m\u001b[43m)\u001b[49m\n\u001b[1;32m    165\u001b[0m \u001b[38;5;28;01mreturn\u001b[39;00m module\u001b[38;5;241m.\u001b[39m_hf_hook\u001b[38;5;241m.\u001b[39mpost_forward(module, output)\n",
      "File \u001b[0;32m~/.conda/envs/ai/lib/python3.10/site-packages/transformers/models/mistral/modeling_mistral.py:897\u001b[0m, in \u001b[0;36mMistralModel.forward\u001b[0;34m(self, input_ids, attention_mask, position_ids, past_key_values, inputs_embeds, use_cache, output_attentions, output_hidden_states, return_dict)\u001b[0m\n\u001b[1;32m    887\u001b[0m     layer_outputs \u001b[38;5;241m=\u001b[39m \u001b[38;5;28mself\u001b[39m\u001b[38;5;241m.\u001b[39m_gradient_checkpointing_func(\n\u001b[1;32m    888\u001b[0m         decoder_layer\u001b[38;5;241m.\u001b[39m\u001b[38;5;21m__call__\u001b[39m,\n\u001b[1;32m    889\u001b[0m         hidden_states,\n\u001b[0;32m   (...)\u001b[0m\n\u001b[1;32m    894\u001b[0m         use_cache,\n\u001b[1;32m    895\u001b[0m     )\n\u001b[1;32m    896\u001b[0m \u001b[38;5;28;01melse\u001b[39;00m:\n\u001b[0;32m--> 897\u001b[0m     layer_outputs \u001b[38;5;241m=\u001b[39m \u001b[43mdecoder_layer\u001b[49m\u001b[43m(\u001b[49m\n\u001b[1;32m    898\u001b[0m \u001b[43m        \u001b[49m\u001b[43mhidden_states\u001b[49m\u001b[43m,\u001b[49m\n\u001b[1;32m    899\u001b[0m \u001b[43m        \u001b[49m\u001b[43mattention_mask\u001b[49m\u001b[38;5;241;43m=\u001b[39;49m\u001b[43mattention_mask\u001b[49m\u001b[43m,\u001b[49m\n\u001b[1;32m    900\u001b[0m \u001b[43m        \u001b[49m\u001b[43mposition_ids\u001b[49m\u001b[38;5;241;43m=\u001b[39;49m\u001b[43mposition_ids\u001b[49m\u001b[43m,\u001b[49m\n\u001b[1;32m    901\u001b[0m \u001b[43m        \u001b[49m\u001b[43mpast_key_value\u001b[49m\u001b[38;5;241;43m=\u001b[39;49m\u001b[43mpast_key_value\u001b[49m\u001b[43m,\u001b[49m\n\u001b[1;32m    902\u001b[0m \u001b[43m        \u001b[49m\u001b[43moutput_attentions\u001b[49m\u001b[38;5;241;43m=\u001b[39;49m\u001b[43moutput_attentions\u001b[49m\u001b[43m,\u001b[49m\n\u001b[1;32m    903\u001b[0m \u001b[43m        \u001b[49m\u001b[43muse_cache\u001b[49m\u001b[38;5;241;43m=\u001b[39;49m\u001b[43muse_cache\u001b[49m\u001b[43m,\u001b[49m\n\u001b[1;32m    904\u001b[0m \u001b[43m    \u001b[49m\u001b[43m)\u001b[49m\n\u001b[1;32m    906\u001b[0m hidden_states \u001b[38;5;241m=\u001b[39m layer_outputs[\u001b[38;5;241m0\u001b[39m]\n\u001b[1;32m    908\u001b[0m \u001b[38;5;28;01mif\u001b[39;00m use_cache:\n",
      "File \u001b[0;32m~/.conda/envs/ai/lib/python3.10/site-packages/torch/nn/modules/module.py:1501\u001b[0m, in \u001b[0;36mModule._call_impl\u001b[0;34m(self, *args, **kwargs)\u001b[0m\n\u001b[1;32m   1496\u001b[0m \u001b[38;5;66;03m# If we don't have any hooks, we want to skip the rest of the logic in\u001b[39;00m\n\u001b[1;32m   1497\u001b[0m \u001b[38;5;66;03m# this function, and just call forward.\u001b[39;00m\n\u001b[1;32m   1498\u001b[0m \u001b[38;5;28;01mif\u001b[39;00m \u001b[38;5;129;01mnot\u001b[39;00m (\u001b[38;5;28mself\u001b[39m\u001b[38;5;241m.\u001b[39m_backward_hooks \u001b[38;5;129;01mor\u001b[39;00m \u001b[38;5;28mself\u001b[39m\u001b[38;5;241m.\u001b[39m_backward_pre_hooks \u001b[38;5;129;01mor\u001b[39;00m \u001b[38;5;28mself\u001b[39m\u001b[38;5;241m.\u001b[39m_forward_hooks \u001b[38;5;129;01mor\u001b[39;00m \u001b[38;5;28mself\u001b[39m\u001b[38;5;241m.\u001b[39m_forward_pre_hooks\n\u001b[1;32m   1499\u001b[0m         \u001b[38;5;129;01mor\u001b[39;00m _global_backward_pre_hooks \u001b[38;5;129;01mor\u001b[39;00m _global_backward_hooks\n\u001b[1;32m   1500\u001b[0m         \u001b[38;5;129;01mor\u001b[39;00m _global_forward_hooks \u001b[38;5;129;01mor\u001b[39;00m _global_forward_pre_hooks):\n\u001b[0;32m-> 1501\u001b[0m     \u001b[38;5;28;01mreturn\u001b[39;00m \u001b[43mforward_call\u001b[49m\u001b[43m(\u001b[49m\u001b[38;5;241;43m*\u001b[39;49m\u001b[43margs\u001b[49m\u001b[43m,\u001b[49m\u001b[43m \u001b[49m\u001b[38;5;241;43m*\u001b[39;49m\u001b[38;5;241;43m*\u001b[39;49m\u001b[43mkwargs\u001b[49m\u001b[43m)\u001b[49m\n\u001b[1;32m   1502\u001b[0m \u001b[38;5;66;03m# Do not call functions when jit is used\u001b[39;00m\n\u001b[1;32m   1503\u001b[0m full_backward_hooks, non_full_backward_hooks \u001b[38;5;241m=\u001b[39m [], []\n",
      "File \u001b[0;32m~/.conda/envs/ai/lib/python3.10/site-packages/accelerate/hooks.py:164\u001b[0m, in \u001b[0;36madd_hook_to_module.<locals>.new_forward\u001b[0;34m(module, *args, **kwargs)\u001b[0m\n\u001b[1;32m    162\u001b[0m         output \u001b[38;5;241m=\u001b[39m module\u001b[38;5;241m.\u001b[39m_old_forward(\u001b[38;5;241m*\u001b[39margs, \u001b[38;5;241m*\u001b[39m\u001b[38;5;241m*\u001b[39mkwargs)\n\u001b[1;32m    163\u001b[0m \u001b[38;5;28;01melse\u001b[39;00m:\n\u001b[0;32m--> 164\u001b[0m     output \u001b[38;5;241m=\u001b[39m \u001b[43mmodule\u001b[49m\u001b[38;5;241;43m.\u001b[39;49m\u001b[43m_old_forward\u001b[49m\u001b[43m(\u001b[49m\u001b[38;5;241;43m*\u001b[39;49m\u001b[43margs\u001b[49m\u001b[43m,\u001b[49m\u001b[43m \u001b[49m\u001b[38;5;241;43m*\u001b[39;49m\u001b[38;5;241;43m*\u001b[39;49m\u001b[43mkwargs\u001b[49m\u001b[43m)\u001b[49m\n\u001b[1;32m    165\u001b[0m \u001b[38;5;28;01mreturn\u001b[39;00m module\u001b[38;5;241m.\u001b[39m_hf_hook\u001b[38;5;241m.\u001b[39mpost_forward(module, output)\n",
      "File \u001b[0;32m~/.conda/envs/ai/lib/python3.10/site-packages/transformers/models/mistral/modeling_mistral.py:639\u001b[0m, in \u001b[0;36mMistralDecoderLayer.forward\u001b[0;34m(self, hidden_states, attention_mask, position_ids, past_key_value, output_attentions, use_cache, **kwargs)\u001b[0m\n\u001b[1;32m    637\u001b[0m residual \u001b[38;5;241m=\u001b[39m hidden_states\n\u001b[1;32m    638\u001b[0m hidden_states \u001b[38;5;241m=\u001b[39m \u001b[38;5;28mself\u001b[39m\u001b[38;5;241m.\u001b[39mpost_attention_layernorm(hidden_states)\n\u001b[0;32m--> 639\u001b[0m hidden_states \u001b[38;5;241m=\u001b[39m \u001b[38;5;28;43mself\u001b[39;49m\u001b[38;5;241;43m.\u001b[39;49m\u001b[43mmlp\u001b[49m\u001b[43m(\u001b[49m\u001b[43mhidden_states\u001b[49m\u001b[43m)\u001b[49m\n\u001b[1;32m    640\u001b[0m hidden_states \u001b[38;5;241m=\u001b[39m residual \u001b[38;5;241m+\u001b[39m hidden_states\n\u001b[1;32m    642\u001b[0m outputs \u001b[38;5;241m=\u001b[39m (hidden_states,)\n",
      "File \u001b[0;32m~/.conda/envs/ai/lib/python3.10/site-packages/torch/nn/modules/module.py:1501\u001b[0m, in \u001b[0;36mModule._call_impl\u001b[0;34m(self, *args, **kwargs)\u001b[0m\n\u001b[1;32m   1496\u001b[0m \u001b[38;5;66;03m# If we don't have any hooks, we want to skip the rest of the logic in\u001b[39;00m\n\u001b[1;32m   1497\u001b[0m \u001b[38;5;66;03m# this function, and just call forward.\u001b[39;00m\n\u001b[1;32m   1498\u001b[0m \u001b[38;5;28;01mif\u001b[39;00m \u001b[38;5;129;01mnot\u001b[39;00m (\u001b[38;5;28mself\u001b[39m\u001b[38;5;241m.\u001b[39m_backward_hooks \u001b[38;5;129;01mor\u001b[39;00m \u001b[38;5;28mself\u001b[39m\u001b[38;5;241m.\u001b[39m_backward_pre_hooks \u001b[38;5;129;01mor\u001b[39;00m \u001b[38;5;28mself\u001b[39m\u001b[38;5;241m.\u001b[39m_forward_hooks \u001b[38;5;129;01mor\u001b[39;00m \u001b[38;5;28mself\u001b[39m\u001b[38;5;241m.\u001b[39m_forward_pre_hooks\n\u001b[1;32m   1499\u001b[0m         \u001b[38;5;129;01mor\u001b[39;00m _global_backward_pre_hooks \u001b[38;5;129;01mor\u001b[39;00m _global_backward_hooks\n\u001b[1;32m   1500\u001b[0m         \u001b[38;5;129;01mor\u001b[39;00m _global_forward_hooks \u001b[38;5;129;01mor\u001b[39;00m _global_forward_pre_hooks):\n\u001b[0;32m-> 1501\u001b[0m     \u001b[38;5;28;01mreturn\u001b[39;00m \u001b[43mforward_call\u001b[49m\u001b[43m(\u001b[49m\u001b[38;5;241;43m*\u001b[39;49m\u001b[43margs\u001b[49m\u001b[43m,\u001b[49m\u001b[43m \u001b[49m\u001b[38;5;241;43m*\u001b[39;49m\u001b[38;5;241;43m*\u001b[39;49m\u001b[43mkwargs\u001b[49m\u001b[43m)\u001b[49m\n\u001b[1;32m   1502\u001b[0m \u001b[38;5;66;03m# Do not call functions when jit is used\u001b[39;00m\n\u001b[1;32m   1503\u001b[0m full_backward_hooks, non_full_backward_hooks \u001b[38;5;241m=\u001b[39m [], []\n",
      "File \u001b[0;32m~/.conda/envs/ai/lib/python3.10/site-packages/accelerate/hooks.py:164\u001b[0m, in \u001b[0;36madd_hook_to_module.<locals>.new_forward\u001b[0;34m(module, *args, **kwargs)\u001b[0m\n\u001b[1;32m    162\u001b[0m         output \u001b[38;5;241m=\u001b[39m module\u001b[38;5;241m.\u001b[39m_old_forward(\u001b[38;5;241m*\u001b[39margs, \u001b[38;5;241m*\u001b[39m\u001b[38;5;241m*\u001b[39mkwargs)\n\u001b[1;32m    163\u001b[0m \u001b[38;5;28;01melse\u001b[39;00m:\n\u001b[0;32m--> 164\u001b[0m     output \u001b[38;5;241m=\u001b[39m \u001b[43mmodule\u001b[49m\u001b[38;5;241;43m.\u001b[39;49m\u001b[43m_old_forward\u001b[49m\u001b[43m(\u001b[49m\u001b[38;5;241;43m*\u001b[39;49m\u001b[43margs\u001b[49m\u001b[43m,\u001b[49m\u001b[43m \u001b[49m\u001b[38;5;241;43m*\u001b[39;49m\u001b[38;5;241;43m*\u001b[39;49m\u001b[43mkwargs\u001b[49m\u001b[43m)\u001b[49m\n\u001b[1;32m    165\u001b[0m \u001b[38;5;28;01mreturn\u001b[39;00m module\u001b[38;5;241m.\u001b[39m_hf_hook\u001b[38;5;241m.\u001b[39mpost_forward(module, output)\n",
      "File \u001b[0;32m~/.conda/envs/ai/lib/python3.10/site-packages/transformers/models/mistral/modeling_mistral.py:175\u001b[0m, in \u001b[0;36mMistralMLP.forward\u001b[0;34m(self, x)\u001b[0m\n\u001b[1;32m    174\u001b[0m \u001b[38;5;28;01mdef\u001b[39;00m \u001b[38;5;21mforward\u001b[39m(\u001b[38;5;28mself\u001b[39m, x):\n\u001b[0;32m--> 175\u001b[0m     \u001b[38;5;28;01mreturn\u001b[39;00m \u001b[38;5;28;43mself\u001b[39;49m\u001b[38;5;241;43m.\u001b[39;49m\u001b[43mdown_proj\u001b[49m\u001b[43m(\u001b[49m\u001b[38;5;28;43mself\u001b[39;49m\u001b[38;5;241;43m.\u001b[39;49m\u001b[43mact_fn\u001b[49m\u001b[43m(\u001b[49m\u001b[38;5;28;43mself\u001b[39;49m\u001b[38;5;241;43m.\u001b[39;49m\u001b[43mgate_proj\u001b[49m\u001b[43m(\u001b[49m\u001b[43mx\u001b[49m\u001b[43m)\u001b[49m\u001b[43m)\u001b[49m\u001b[43m \u001b[49m\u001b[38;5;241;43m*\u001b[39;49m\u001b[43m \u001b[49m\u001b[38;5;28;43mself\u001b[39;49m\u001b[38;5;241;43m.\u001b[39;49m\u001b[43mup_proj\u001b[49m\u001b[43m(\u001b[49m\u001b[43mx\u001b[49m\u001b[43m)\u001b[49m\u001b[43m)\u001b[49m\n",
      "File \u001b[0;32m~/.conda/envs/ai/lib/python3.10/site-packages/torch/nn/modules/module.py:1501\u001b[0m, in \u001b[0;36mModule._call_impl\u001b[0;34m(self, *args, **kwargs)\u001b[0m\n\u001b[1;32m   1496\u001b[0m \u001b[38;5;66;03m# If we don't have any hooks, we want to skip the rest of the logic in\u001b[39;00m\n\u001b[1;32m   1497\u001b[0m \u001b[38;5;66;03m# this function, and just call forward.\u001b[39;00m\n\u001b[1;32m   1498\u001b[0m \u001b[38;5;28;01mif\u001b[39;00m \u001b[38;5;129;01mnot\u001b[39;00m (\u001b[38;5;28mself\u001b[39m\u001b[38;5;241m.\u001b[39m_backward_hooks \u001b[38;5;129;01mor\u001b[39;00m \u001b[38;5;28mself\u001b[39m\u001b[38;5;241m.\u001b[39m_backward_pre_hooks \u001b[38;5;129;01mor\u001b[39;00m \u001b[38;5;28mself\u001b[39m\u001b[38;5;241m.\u001b[39m_forward_hooks \u001b[38;5;129;01mor\u001b[39;00m \u001b[38;5;28mself\u001b[39m\u001b[38;5;241m.\u001b[39m_forward_pre_hooks\n\u001b[1;32m   1499\u001b[0m         \u001b[38;5;129;01mor\u001b[39;00m _global_backward_pre_hooks \u001b[38;5;129;01mor\u001b[39;00m _global_backward_hooks\n\u001b[1;32m   1500\u001b[0m         \u001b[38;5;129;01mor\u001b[39;00m _global_forward_hooks \u001b[38;5;129;01mor\u001b[39;00m _global_forward_pre_hooks):\n\u001b[0;32m-> 1501\u001b[0m     \u001b[38;5;28;01mreturn\u001b[39;00m \u001b[43mforward_call\u001b[49m\u001b[43m(\u001b[49m\u001b[38;5;241;43m*\u001b[39;49m\u001b[43margs\u001b[49m\u001b[43m,\u001b[49m\u001b[43m \u001b[49m\u001b[38;5;241;43m*\u001b[39;49m\u001b[38;5;241;43m*\u001b[39;49m\u001b[43mkwargs\u001b[49m\u001b[43m)\u001b[49m\n\u001b[1;32m   1502\u001b[0m \u001b[38;5;66;03m# Do not call functions when jit is used\u001b[39;00m\n\u001b[1;32m   1503\u001b[0m full_backward_hooks, non_full_backward_hooks \u001b[38;5;241m=\u001b[39m [], []\n",
      "File \u001b[0;32m~/.conda/envs/ai/lib/python3.10/site-packages/peft/tuners/lora/bnb.py:290\u001b[0m, in \u001b[0;36mLinear4bit.forward\u001b[0;34m(self, x, *args, **kwargs)\u001b[0m\n\u001b[1;32m    287\u001b[0m     expected_dtype \u001b[38;5;241m=\u001b[39m result\u001b[38;5;241m.\u001b[39mdtype\n\u001b[1;32m    288\u001b[0m     x \u001b[38;5;241m=\u001b[39m x\u001b[38;5;241m.\u001b[39mto(lora_A\u001b[38;5;241m.\u001b[39mweight\u001b[38;5;241m.\u001b[39mdtype)\n\u001b[0;32m--> 290\u001b[0m output \u001b[38;5;241m=\u001b[39m \u001b[43mlora_B\u001b[49m\u001b[43m(\u001b[49m\u001b[43mlora_A\u001b[49m\u001b[43m(\u001b[49m\u001b[43mdropout\u001b[49m\u001b[43m(\u001b[49m\u001b[43mx\u001b[49m\u001b[43m)\u001b[49m\u001b[43m)\u001b[49m\u001b[43m)\u001b[49m\n\u001b[1;32m    291\u001b[0m \u001b[38;5;28;01mif\u001b[39;00m requires_conversion:\n\u001b[1;32m    292\u001b[0m     output \u001b[38;5;241m=\u001b[39m output\u001b[38;5;241m.\u001b[39mto(expected_dtype)\n",
      "File \u001b[0;32m~/.conda/envs/ai/lib/python3.10/site-packages/torch/nn/modules/module.py:1501\u001b[0m, in \u001b[0;36mModule._call_impl\u001b[0;34m(self, *args, **kwargs)\u001b[0m\n\u001b[1;32m   1496\u001b[0m \u001b[38;5;66;03m# If we don't have any hooks, we want to skip the rest of the logic in\u001b[39;00m\n\u001b[1;32m   1497\u001b[0m \u001b[38;5;66;03m# this function, and just call forward.\u001b[39;00m\n\u001b[1;32m   1498\u001b[0m \u001b[38;5;28;01mif\u001b[39;00m \u001b[38;5;129;01mnot\u001b[39;00m (\u001b[38;5;28mself\u001b[39m\u001b[38;5;241m.\u001b[39m_backward_hooks \u001b[38;5;129;01mor\u001b[39;00m \u001b[38;5;28mself\u001b[39m\u001b[38;5;241m.\u001b[39m_backward_pre_hooks \u001b[38;5;129;01mor\u001b[39;00m \u001b[38;5;28mself\u001b[39m\u001b[38;5;241m.\u001b[39m_forward_hooks \u001b[38;5;129;01mor\u001b[39;00m \u001b[38;5;28mself\u001b[39m\u001b[38;5;241m.\u001b[39m_forward_pre_hooks\n\u001b[1;32m   1499\u001b[0m         \u001b[38;5;129;01mor\u001b[39;00m _global_backward_pre_hooks \u001b[38;5;129;01mor\u001b[39;00m _global_backward_hooks\n\u001b[1;32m   1500\u001b[0m         \u001b[38;5;129;01mor\u001b[39;00m _global_forward_hooks \u001b[38;5;129;01mor\u001b[39;00m _global_forward_pre_hooks):\n\u001b[0;32m-> 1501\u001b[0m     \u001b[38;5;28;01mreturn\u001b[39;00m \u001b[43mforward_call\u001b[49m\u001b[43m(\u001b[49m\u001b[38;5;241;43m*\u001b[39;49m\u001b[43margs\u001b[49m\u001b[43m,\u001b[49m\u001b[43m \u001b[49m\u001b[38;5;241;43m*\u001b[39;49m\u001b[38;5;241;43m*\u001b[39;49m\u001b[43mkwargs\u001b[49m\u001b[43m)\u001b[49m\n\u001b[1;32m   1502\u001b[0m \u001b[38;5;66;03m# Do not call functions when jit is used\u001b[39;00m\n\u001b[1;32m   1503\u001b[0m full_backward_hooks, non_full_backward_hooks \u001b[38;5;241m=\u001b[39m [], []\n",
      "File \u001b[0;32m~/.conda/envs/ai/lib/python3.10/site-packages/torch/nn/modules/linear.py:114\u001b[0m, in \u001b[0;36mLinear.forward\u001b[0;34m(self, input)\u001b[0m\n\u001b[1;32m    113\u001b[0m \u001b[38;5;28;01mdef\u001b[39;00m \u001b[38;5;21mforward\u001b[39m(\u001b[38;5;28mself\u001b[39m, \u001b[38;5;28minput\u001b[39m: Tensor) \u001b[38;5;241m-\u001b[39m\u001b[38;5;241m>\u001b[39m Tensor:\n\u001b[0;32m--> 114\u001b[0m     \u001b[38;5;28;01mreturn\u001b[39;00m \u001b[43mF\u001b[49m\u001b[38;5;241;43m.\u001b[39;49m\u001b[43mlinear\u001b[49m\u001b[43m(\u001b[49m\u001b[38;5;28;43minput\u001b[39;49m\u001b[43m,\u001b[49m\u001b[43m \u001b[49m\u001b[38;5;28;43mself\u001b[39;49m\u001b[38;5;241;43m.\u001b[39;49m\u001b[43mweight\u001b[49m\u001b[43m,\u001b[49m\u001b[43m \u001b[49m\u001b[38;5;28;43mself\u001b[39;49m\u001b[38;5;241;43m.\u001b[39;49m\u001b[43mbias\u001b[49m\u001b[43m)\u001b[49m\n",
      "\u001b[0;31mKeyboardInterrupt\u001b[0m: "
     ]
    }
   ],
   "source": [
    "from tqdm import tqdm\n",
    "\n",
    "device = 'cuda:0'\n",
    "preds = []\n",
    "\n",
    "for row in tqdm(re_dataset['test']):\n",
    "    text = format_input(row['paragraph'])\n",
    "    url = format_input(row['url'])\n",
    "    with torch.cuda.amp.autocast():\n",
    "        inputs = tokenizer(text, return_tensors=\"pt\").to(device)\n",
    "        if len(inputs['input_ids'][0]) > 2048:\n",
    "            continue\n",
    "        outputs = model.generate(input_ids=inputs['input_ids'], max_new_tokens=1024)\n",
    "        result = tokenizer.decode(outputs[0], skip_special_tokens=True)\n",
    "        oresult = result.split('Relációk:\\n')[1].strip()\n",
    "        print(result)\n",
    "        preds.append({'relations': parse_relations(oresult), 'paragraph': row['paragraph'], 'url': url})\n"
   ]
  },
  {
   "cell_type": "code",
   "execution_count": 8,
   "id": "47e9640e-cad1-4d7f-8d7c-253f2a968f62",
   "metadata": {},
   "outputs": [],
   "source": [
    "n = 0"
   ]
  },
  {
   "cell_type": "code",
   "execution_count": 9,
   "id": "e0ce3628-4e37-4d81-838b-fd49b79ae7f9",
   "metadata": {},
   "outputs": [
    {
     "name": "stdout",
     "output_type": "stream",
     "text": [
      "0\n",
      "A kormány erős embere, Lázár János Miniszterelnökséget vezető miniszter még több mindent tudott kilobbizni Hódmezővásárhelynek: a stadion és a bicikliút kötelező körnek számít, ahogy az uszoda is, de a jövő évi utánpótlás úszó-Eb-vel, a leendő vívó- és bokszcentrummal olyan extrákat ad a hódmezővásárhelyieknek, amelyeket más politikusoknak nem sikerült elérni. Lázár óvatos becslések szerint is 12 milliárd állami és uniós pénzt vonzott a városába, majdnem annyit, mint a közel kétszer akkora Szombathely, Hende Csaba honvédelmi miniszter büszkesége. Hende túl sok mindent nem tudott kiharcolni: 9,6 milliárdért új stadiont kap a város, de ez inkább a népszerű focicsapatnak, a Haladásnak köszönhető, mintsem a honvédelmi miniszternek.\n",
      "[{'explanation': 'A bekezdés szerint Lázár János Miniszterelnökséget vezető miniszter, tehát közöttük egy vezetői kapcsolat áll fenn.', 'relation': 'vezető', 'subject': 'Lázár János', 'object': 'Miniszterelnökség'}, {'explanation': 'A bekezdés szerint Hende Csaba honvédelmi miniszter, tehát közöttük egy miniszteri kapcsolat áll fenn.', 'relation': 'miniszter', 'subject': 'Hende Csaba', 'object': 'Honvédelmi Minisztérium'}]\n"
     ]
    }
   ],
   "source": [
    "print(n)\n",
    "print(preds[n]['paragraph'])\n",
    "print(preds[n]['relations'])\n",
    "n += 1"
   ]
  },
  {
   "cell_type": "code",
   "execution_count": null,
   "id": "71498c5a-8543-46de-968c-0e7e4d9aa0de",
   "metadata": {},
   "outputs": [],
   "source": []
  }
 ],
 "metadata": {
  "kernelspec": {
   "display_name": "Python 3 (ipykernel)",
   "language": "python",
   "name": "python3"
  },
  "language_info": {
   "codemirror_mode": {
    "name": "ipython",
    "version": 3
   },
   "file_extension": ".py",
   "mimetype": "text/x-python",
   "name": "python",
   "nbconvert_exporter": "python",
   "pygments_lexer": "ipython3",
   "version": "3.10.10"
  }
 },
 "nbformat": 4,
 "nbformat_minor": 5
}
