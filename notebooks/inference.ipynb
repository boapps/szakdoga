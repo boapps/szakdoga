{
 "cells": [
  {
   "cell_type": "code",
   "execution_count": 1,
   "id": "f44ac653-372d-46ea-8bf8-700dd61ce65c",
   "metadata": {},
   "outputs": [
    {
     "name": "stdout",
     "output_type": "stream",
     "text": [
      "\n",
      "===================================BUG REPORT===================================\n",
      "Welcome to bitsandbytes. For bug reports, please run\n",
      "\n",
      "python -m bitsandbytes\n",
      "\n",
      " and submit this information together with your error trace to: https://github.com/TimDettmers/bitsandbytes/issues\n",
      "================================================================================\n",
      "bin /home/boa/.conda/envs/ai/lib/python3.10/site-packages/bitsandbytes/libbitsandbytes_cuda117.so\n",
      "CUDA SETUP: CUDA runtime path found: /home/boa/.conda/envs/ai/lib/libcudart.so\n",
      "CUDA SETUP: Highest compute capability among GPUs detected: 8.6\n",
      "CUDA SETUP: Detected CUDA version 117\n",
      "CUDA SETUP: Loading binary /home/boa/.conda/envs/ai/lib/python3.10/site-packages/bitsandbytes/libbitsandbytes_cuda117.so...\n"
     ]
    },
    {
     "name": "stderr",
     "output_type": "stream",
     "text": [
      "/home/boa/.conda/envs/ai/lib/python3.10/site-packages/bitsandbytes/cuda_setup/main.py:149: UserWarning: Found duplicate ['libcudart.so', 'libcudart.so.11.0', 'libcudart.so.12.0'] files: {PosixPath('/home/boa/.conda/envs/ai/lib/libcudart.so'), PosixPath('/home/boa/.conda/envs/ai/lib/libcudart.so.11.0')}.. We'll flip a coin and try one of these, in order to fail forward.\n",
      "Either way, this might cause trouble in the future:\n",
      "If you get `CUDA error: invalid device function` errors, the above might be the cause and the solution is to make sure only one ['libcudart.so', 'libcudart.so.11.0', 'libcudart.so.12.0'] in the paths that we search based on your env.\n",
      "  warn(msg)\n"
     ]
    },
    {
     "data": {
      "application/vnd.jupyter.widget-view+json": {
       "model_id": "bd4bdcb9df9f4f4ab0955c19a62ac83b",
       "version_major": 2,
       "version_minor": 0
      },
      "text/plain": [
       "Loading checkpoint shards:   0%|          | 0/2 [00:00<?, ?it/s]"
      ]
     },
     "metadata": {},
     "output_type": "display_data"
    }
   ],
   "source": [
    "from transformers import AutoModelForCausalLM, AutoTokenizer\n",
    "from peft import PeftModel, PeftConfig\n",
    "from transformers import BitsAndBytesConfig\n",
    "import torch\n",
    "\n",
    "model_id = \"huggyllama/llama-7b\"\n",
    "peft_model_id = '../finetune/qlora-tasks-7b-v1.9.2/checkpoint-4500/adapter_model'\n",
    "\n",
    "config = PeftConfig.from_pretrained(peft_model_id)\n",
    "model = AutoModelForCausalLM.from_pretrained(\n",
    "    'huggyllama/llama-7b',\n",
    "    load_in_4bit=True,\n",
    "    device_map='auto',\n",
    "    torch_dtype=torch.bfloat16,\n",
    "    quantization_config=BitsAndBytesConfig(\n",
    "        load_in_4bit=True,\n",
    "        bnb_4bit_compute_dtype=torch.bfloat16,\n",
    "        bnb_4bit_use_double_quant=True,\n",
    "        bnb_4bit_quant_type='nf4'\n",
    "    ),\n",
    ")\n",
    "model = PeftModel.from_pretrained(model, peft_model_id)\n",
    "\n",
    "tokenizer = AutoTokenizer.from_pretrained(model_id)"
   ]
  },
  {
   "cell_type": "code",
   "execution_count": 2,
   "id": "62df415a-b652-49fd-a56f-1d70ec294ec7",
   "metadata": {},
   "outputs": [
    {
     "name": "stderr",
     "output_type": "stream",
     "text": [
      "<frozen importlib._bootstrap>:241: RuntimeWarning: pyarrow._fs.FileInfo size changed, may indicate binary incompatibility. Expected 64 from C header, got 88 from PyObject\n",
      "<frozen importlib._bootstrap>:241: RuntimeWarning: pyarrow._fs.FileSelector size changed, may indicate binary incompatibility. Expected 48 from C header, got 72 from PyObject\n"
     ]
    }
   ],
   "source": [
    "from datasets import concatenate_datasets, load_from_disk, DatasetDict\n",
    "combined_tasks = load_from_disk('../datasets/tasks/combined_task_dataset_io_notags/')"
   ]
  },
  {
   "cell_type": "code",
   "execution_count": 3,
   "id": "39c189f3-7e2e-4c41-ad4d-24d11b6b8dd2",
   "metadata": {},
   "outputs": [
    {
     "data": {
      "text/plain": [
       "' egyéb\\n'"
      ]
     },
     "execution_count": 3,
     "metadata": {},
     "output_type": "execute_result"
    }
   ],
   "source": [
    "combined_tasks['test']['output'][0]"
   ]
  },
  {
   "cell_type": "code",
   "execution_count": 4,
   "id": "5f6c023f-dafa-42e0-9334-a83d8b6c3e50",
   "metadata": {},
   "outputs": [
    {
     "name": "stderr",
     "output_type": "stream",
     "text": [
      "Loading cached processed dataset at /home/boa/szakdoga/datasets/tasks/combined_task_dataset_io_notags/train/cache-e6e5446744ce6385.arrow\n",
      "Loading cached processed dataset at /home/boa/szakdoga/datasets/tasks/combined_task_dataset_io_notags/validation/cache-6cb801e5b02d5abf.arrow\n",
      "Loading cached processed dataset at /home/boa/szakdoga/datasets/tasks/combined_task_dataset_io_notags/test/cache-6695feed4156056a.arrow\n"
     ]
    }
   ],
   "source": [
    "combined_tasks = combined_tasks.filter(lambda data: data['input'].startswith('[korrupció klasszifikáció]'))"
   ]
  },
  {
   "cell_type": "code",
   "execution_count": 5,
   "id": "9bcdbb64-0551-4638-b626-d38275bd4238",
   "metadata": {},
   "outputs": [
    {
     "name": "stderr",
     "output_type": "stream",
     "text": [
      "Loading cached processed dataset at /home/boa/szakdoga/datasets/tasks/combined_task_dataset_io_notags/train/cache-234c7cb357662bf0.arrow\n",
      "Loading cached processed dataset at /home/boa/szakdoga/datasets/tasks/combined_task_dataset_io_notags/validation/cache-5ccfc1b8aa14da25.arrow\n",
      "Loading cached processed dataset at /home/boa/szakdoga/datasets/tasks/combined_task_dataset_io_notags/test/cache-996822e76cefe911.arrow\n",
      "Loading cached processed dataset at /home/boa/szakdoga/datasets/tasks/combined_task_dataset_io_notags/train/cache-72cd976b2dc82047.arrow\n",
      "Loading cached processed dataset at /home/boa/szakdoga/datasets/tasks/combined_task_dataset_io_notags/validation/cache-dfed212163170834.arrow\n",
      "Loading cached processed dataset at /home/boa/szakdoga/datasets/tasks/combined_task_dataset_io_notags/test/cache-9ceac2fedd65209e.arrow\n"
     ]
    }
   ],
   "source": [
    "pos_tasks = combined_tasks.filter(lambda data: data['output'] == ' korrupció\\n')\n",
    "neg_tasks = combined_tasks.filter(lambda data: data['output'] != ' korrupció\\n')"
   ]
  },
  {
   "cell_type": "code",
   "execution_count": 6,
   "id": "bd35c86b-5daf-456d-b0fb-862ff0bd1216",
   "metadata": {},
   "outputs": [
    {
     "data": {
      "text/plain": [
       "DatasetDict({\n",
       "    train: Dataset({\n",
       "        features: ['label', 'theme', 'type', 'input', 'output'],\n",
       "        num_rows: 1600\n",
       "    })\n",
       "    validation: Dataset({\n",
       "        features: ['label', 'theme', 'type', 'input', 'output'],\n",
       "        num_rows: 300\n",
       "    })\n",
       "    test: Dataset({\n",
       "        features: ['label', 'theme', 'type', 'input', 'output'],\n",
       "        num_rows: 150\n",
       "    })\n",
       "})"
      ]
     },
     "execution_count": 6,
     "metadata": {},
     "output_type": "execute_result"
    }
   ],
   "source": [
    "pos_tasks"
   ]
  },
  {
   "cell_type": "code",
   "execution_count": 7,
   "id": "06de10fb-c9c6-4962-a03e-789489e61698",
   "metadata": {},
   "outputs": [
    {
     "data": {
      "text/plain": [
       "DatasetDict({\n",
       "    train: Dataset({\n",
       "        features: ['label', 'theme', 'type', 'input', 'output'],\n",
       "        num_rows: 16000\n",
       "    })\n",
       "    validation: Dataset({\n",
       "        features: ['label', 'theme', 'type', 'input', 'output'],\n",
       "        num_rows: 3000\n",
       "    })\n",
       "    test: Dataset({\n",
       "        features: ['label', 'theme', 'type', 'input', 'output'],\n",
       "        num_rows: 1500\n",
       "    })\n",
       "})"
      ]
     },
     "execution_count": 7,
     "metadata": {},
     "output_type": "execute_result"
    }
   ],
   "source": [
    "neg_tasks"
   ]
  },
  {
   "cell_type": "code",
   "execution_count": 8,
   "id": "66d0591e-8152-442b-ae33-a7fa19270fb6",
   "metadata": {},
   "outputs": [],
   "source": [
    "pos_tasks['train'] = pos_tasks['train'].select(range(250))\n",
    "pos_tasks['validation'] = pos_tasks['validation'].select(range(150))\n",
    "pos_tasks['test'] = pos_tasks['test'].select(range(75))"
   ]
  },
  {
   "cell_type": "code",
   "execution_count": 9,
   "id": "f4e536de-941d-4544-ba03-4de8d42d31bd",
   "metadata": {},
   "outputs": [
    {
     "data": {
      "text/plain": [
       "DatasetDict({\n",
       "    train: Dataset({\n",
       "        features: ['label', 'theme', 'type', 'input', 'output'],\n",
       "        num_rows: 16250\n",
       "    })\n",
       "    validation: Dataset({\n",
       "        features: ['label', 'theme', 'type', 'input', 'output'],\n",
       "        num_rows: 3150\n",
       "    })\n",
       "    test: Dataset({\n",
       "        features: ['label', 'theme', 'type', 'input', 'output'],\n",
       "        num_rows: 1575\n",
       "    })\n",
       "})"
      ]
     },
     "execution_count": 9,
     "metadata": {},
     "output_type": "execute_result"
    }
   ],
   "source": [
    "from datasets import concatenate_datasets, load_dataset, DatasetDict\n",
    "\n",
    "real_dataset = DatasetDict()\n",
    "\n",
    "real_dataset['train'] = concatenate_datasets([pos_tasks['train'], neg_tasks['train']])\n",
    "real_dataset['validation'] = concatenate_datasets([pos_tasks['validation'], neg_tasks['validation']])\n",
    "real_dataset['test'] = concatenate_datasets([pos_tasks['test'], neg_tasks['test']])\n",
    "\n",
    "real_dataset"
   ]
  },
  {
   "cell_type": "code",
   "execution_count": 10,
   "id": "27a6252a-e3eb-40db-ad11-2c622b72b20a",
   "metadata": {},
   "outputs": [],
   "source": [
    "real_dataset = combined_tasks"
   ]
  },
  {
   "cell_type": "code",
   "execution_count": 11,
   "id": "21f699da-810b-4bb8-bc5d-fa11e8808634",
   "metadata": {},
   "outputs": [
    {
     "name": "stderr",
     "output_type": "stream",
     "text": [
      "Found cached dataset parquet (/home/boa/.cache/huggingface/datasets/boapps___parquet/boapps--kmdb_classification-4003d65da9c3e34a/0.0.0/2a3b91fbd88a2c90d1dbbb32b460cf621d31bd5b05b934492fdef7d8d6f236ec)\n"
     ]
    },
    {
     "data": {
      "application/vnd.jupyter.widget-view+json": {
       "model_id": "2d6c1c7764d34a8b85c61897ff326b4a",
       "version_major": 2,
       "version_minor": 0
      },
      "text/plain": [
       "  0%|          | 0/3 [00:00<?, ?it/s]"
      ]
     },
     "metadata": {},
     "output_type": "display_data"
    },
    {
     "name": "stderr",
     "output_type": "stream",
     "text": [
      "Loading cached processed dataset at /home/boa/.cache/huggingface/datasets/boapps___parquet/boapps--kmdb_classification-4003d65da9c3e34a/0.0.0/2a3b91fbd88a2c90d1dbbb32b460cf621d31bd5b05b934492fdef7d8d6f236ec/cache-5c0dc0418152b777.arrow\n",
      "Loading cached processed dataset at /home/boa/.cache/huggingface/datasets/boapps___parquet/boapps--kmdb_classification-4003d65da9c3e34a/0.0.0/2a3b91fbd88a2c90d1dbbb32b460cf621d31bd5b05b934492fdef7d8d6f236ec/cache-80ad540b3581070d.arrow\n",
      "Loading cached shuffled indices for dataset at /home/boa/.cache/huggingface/datasets/boapps___parquet/boapps--kmdb_classification-4003d65da9c3e34a/0.0.0/2a3b91fbd88a2c90d1dbbb32b460cf621d31bd5b05b934492fdef7d8d6f236ec/cache-ee948041db649a27.arrow\n"
     ]
    }
   ],
   "source": [
    "from datasets import load_dataset\n",
    "from datasets import concatenate_datasets\n",
    "\n",
    "dataset = load_dataset(\"boapps/kmdb_classification\")\n",
    "test_neg = dataset['test'].filter(lambda row: row['label'] == 0)\n",
    "test_pos = dataset['test'].filter(lambda row: row['label'] == 1).select(range(len(test_neg)//10))\n",
    "test_set = concatenate_datasets([test_pos, test_neg]).shuffle(seed=42)"
   ]
  },
  {
   "cell_type": "code",
   "execution_count": 12,
   "id": "78d08b4d-f280-4ce6-97ac-514797fd68ef",
   "metadata": {},
   "outputs": [],
   "source": [
    "article_classification_prompt = '''[korrupció klasszifikáció]\n",
    "{title}\n",
    "\n",
    "{description}\n",
    "\n",
    "cimkék: {keywords}\n",
    "\n",
    "###\n",
    "\n",
    "téma: {theme}\n",
    "'''"
   ]
  },
  {
   "cell_type": "code",
   "execution_count": 13,
   "id": "98877536-2ac0-4a81-a7e5-8222d8df24f4",
   "metadata": {},
   "outputs": [],
   "source": [
    "def generate_article_classification_task(article):\n",
    "    article['keywords'] = ', '.join(article['keywords'])\n",
    "    article['theme'] = ['egyéb', 'korrupció'][article['label']]\n",
    "    article['description'] = article['description'].replace(article['title'], '').replace(' - ', ' ').strip()\n",
    "    article['text'] = article['text'].replace(article['description'], '').replace(' - ', ' ').strip()\n",
    "    article['text'] = article['text'][:article['text'].find('\\n')]\n",
    "    return {'text': article_classification_prompt.format(**article), 'type': 'article_classification'}\n",
    "\n",
    "    k = 0\n",
    "#print(generate_article_classification_task(dataset['train'][1])['text'])"
   ]
  },
  {
   "cell_type": "code",
   "execution_count": 14,
   "id": "1ae87b4d-9abd-4faf-be11-90618ad590b9",
   "metadata": {},
   "outputs": [
    {
     "name": "stderr",
     "output_type": "stream",
     "text": [
      "Loading cached processed dataset at /home/boa/.cache/huggingface/datasets/boapps___parquet/boapps--kmdb_classification-4003d65da9c3e34a/0.0.0/2a3b91fbd88a2c90d1dbbb32b460cf621d31bd5b05b934492fdef7d8d6f236ec/cache-ac6e9f91cf2d5c36.arrow\n"
     ]
    }
   ],
   "source": [
    "test_set = test_set.map(generate_article_classification_task)"
   ]
  },
  {
   "cell_type": "code",
   "execution_count": 15,
   "id": "a8387056-03eb-453b-b8de-b1939b10ecd9",
   "metadata": {},
   "outputs": [
    {
     "name": "stderr",
     "output_type": "stream",
     "text": [
      "Loading cached processed dataset at /home/boa/.cache/huggingface/datasets/boapps___parquet/boapps--kmdb_classification-4003d65da9c3e34a/0.0.0/2a3b91fbd88a2c90d1dbbb32b460cf621d31bd5b05b934492fdef7d8d6f236ec/cache-602f2f47ef90b9d8.arrow\n"
     ]
    }
   ],
   "source": [
    "test_set = test_set.map(lambda task: {\n",
    "    'input': task['text'][:task['text'].rfind(':')+1],\n",
    "    'output': task['text'][task['text'].rfind(':')+1:],\n",
    "}, remove_columns='text')"
   ]
  },
  {
   "cell_type": "code",
   "execution_count": 16,
   "id": "d9caef94-72af-4097-aff4-d7cf4386ca09",
   "metadata": {},
   "outputs": [
    {
     "name": "stderr",
     "output_type": "stream",
     "text": [
      "  0%|▌                                                                                                                            | 10/2084 [00:07<23:15,  1.49it/s]"
     ]
    },
    {
     "name": "stdout",
     "output_type": "stream",
     "text": [
      "0.9 9 10 0\n",
      "precision 1.0\n",
      "recall 0.5\n",
      "accuracy 0.9\n",
      "1 8 0 1\n"
     ]
    },
    {
     "name": "stderr",
     "output_type": "stream",
     "text": [
      "  1%|█▏                                                                                                                           | 20/2084 [00:13<20:33,  1.67it/s]"
     ]
    },
    {
     "name": "stdout",
     "output_type": "stream",
     "text": [
      "0.95 19 20 0\n",
      "precision 1.0\n",
      "recall 0.8\n",
      "accuracy 0.95\n",
      "4 15 0 1\n"
     ]
    },
    {
     "name": "stderr",
     "output_type": "stream",
     "text": [
      "  1%|█▊                                                                                                                           | 30/2084 [00:19<20:41,  1.65it/s]"
     ]
    },
    {
     "name": "stdout",
     "output_type": "stream",
     "text": [
      "0.9666666666666667 29 30 0\n",
      "precision 1.0\n",
      "recall 0.8333333333333334\n",
      "accuracy 0.9666666666666667\n",
      "5 24 0 1\n"
     ]
    },
    {
     "name": "stderr",
     "output_type": "stream",
     "text": [
      "  2%|██▍                                                                                                                          | 40/2084 [00:25<20:23,  1.67it/s]"
     ]
    },
    {
     "name": "stdout",
     "output_type": "stream",
     "text": [
      "0.975 39 40 0\n",
      "precision 1.0\n",
      "recall 0.8333333333333334\n",
      "accuracy 0.975\n",
      "5 34 0 1\n"
     ]
    },
    {
     "name": "stderr",
     "output_type": "stream",
     "text": [
      "  2%|██▉                                                                                                                          | 50/2084 [00:31<22:02,  1.54it/s]"
     ]
    },
    {
     "name": "stdout",
     "output_type": "stream",
     "text": [
      "0.98 49 50 0\n",
      "precision 1.0\n",
      "recall 0.8571428571428571\n",
      "accuracy 0.98\n",
      "6 43 0 1\n"
     ]
    },
    {
     "name": "stderr",
     "output_type": "stream",
     "text": [
      "  3%|███▌                                                                                                                         | 60/2084 [00:38<21:37,  1.56it/s]"
     ]
    },
    {
     "name": "stdout",
     "output_type": "stream",
     "text": [
      "0.9833333333333333 59 60 0\n",
      "precision 1.0\n",
      "recall 0.875\n",
      "accuracy 0.9833333333333333\n",
      "7 52 0 1\n"
     ]
    },
    {
     "name": "stderr",
     "output_type": "stream",
     "text": [
      "  3%|████▏                                                                                                                        | 70/2084 [00:44<21:15,  1.58it/s]"
     ]
    },
    {
     "name": "stdout",
     "output_type": "stream",
     "text": [
      "0.9857142857142858 69 70 0\n",
      "precision 1.0\n",
      "recall 0.8888888888888888\n",
      "accuracy 0.9857142857142858\n",
      "8 61 0 1\n"
     ]
    },
    {
     "name": "stderr",
     "output_type": "stream",
     "text": [
      "  4%|████▊                                                                                                                        | 80/2084 [00:50<19:50,  1.68it/s]"
     ]
    },
    {
     "name": "stdout",
     "output_type": "stream",
     "text": [
      "0.9875 79 80 0\n",
      "precision 1.0\n",
      "recall 0.9\n",
      "accuracy 0.9875\n",
      "9 70 0 1\n"
     ]
    },
    {
     "name": "stderr",
     "output_type": "stream",
     "text": [
      "  4%|█████▍                                                                                                                       | 90/2084 [00:56<19:57,  1.66it/s]"
     ]
    },
    {
     "name": "stdout",
     "output_type": "stream",
     "text": [
      "0.9888888888888889 89 90 0\n",
      "precision 1.0\n",
      "recall 0.9\n",
      "accuracy 0.9888888888888889\n",
      "9 80 0 1\n"
     ]
    },
    {
     "name": "stderr",
     "output_type": "stream",
     "text": [
      "  5%|█████▉                                                                                                                      | 100/2084 [01:02<20:35,  1.61it/s]"
     ]
    },
    {
     "name": "stdout",
     "output_type": "stream",
     "text": [
      "0.99 99 100 0\n",
      "precision 1.0\n",
      "recall 0.9090909090909091\n",
      "accuracy 0.99\n",
      "10 89 0 1\n"
     ]
    },
    {
     "name": "stderr",
     "output_type": "stream",
     "text": [
      "  5%|██████▌                                                                                                                     | 110/2084 [01:08<19:43,  1.67it/s]"
     ]
    },
    {
     "name": "stdout",
     "output_type": "stream",
     "text": [
      "0.990909090909091 109 110 0\n",
      "precision 1.0\n",
      "recall 0.9090909090909091\n",
      "accuracy 0.990909090909091\n",
      "10 99 0 1\n"
     ]
    },
    {
     "name": "stderr",
     "output_type": "stream",
     "text": [
      "  6%|███████▏                                                                                                                    | 120/2084 [01:14<19:39,  1.67it/s]"
     ]
    },
    {
     "name": "stdout",
     "output_type": "stream",
     "text": [
      "0.9833333333333333 118 120 0\n",
      "precision 0.9090909090909091\n",
      "recall 0.9090909090909091\n",
      "accuracy 0.9833333333333333\n",
      "10 108 1 1\n"
     ]
    },
    {
     "name": "stderr",
     "output_type": "stream",
     "text": [
      "  6%|███████▋                                                                                                                    | 130/2084 [01:21<20:16,  1.61it/s]"
     ]
    },
    {
     "name": "stdout",
     "output_type": "stream",
     "text": [
      "0.9846153846153847 128 130 0\n",
      "precision 0.9090909090909091\n",
      "recall 0.9090909090909091\n",
      "accuracy 0.9846153846153847\n",
      "10 118 1 1\n"
     ]
    },
    {
     "name": "stderr",
     "output_type": "stream",
     "text": [
      "  7%|████████▎                                                                                                                   | 140/2084 [01:27<19:40,  1.65it/s]"
     ]
    },
    {
     "name": "stdout",
     "output_type": "stream",
     "text": [
      "0.9857142857142858 138 140 0\n",
      "precision 0.9166666666666666\n",
      "recall 0.9166666666666666\n",
      "accuracy 0.9857142857142858\n",
      "11 127 1 1\n"
     ]
    },
    {
     "name": "stderr",
     "output_type": "stream",
     "text": [
      "  7%|████████▉                                                                                                                   | 150/2084 [01:33<20:03,  1.61it/s]"
     ]
    },
    {
     "name": "stdout",
     "output_type": "stream",
     "text": [
      "0.9866666666666667 148 150 0\n",
      "precision 0.9285714285714286\n",
      "recall 0.9285714285714286\n",
      "accuracy 0.9866666666666667\n",
      "13 135 1 1\n"
     ]
    },
    {
     "name": "stderr",
     "output_type": "stream",
     "text": [
      "  8%|█████████▌                                                                                                                  | 160/2084 [01:39<19:49,  1.62it/s]"
     ]
    },
    {
     "name": "stdout",
     "output_type": "stream",
     "text": [
      "0.9875 158 160 0\n",
      "precision 0.9333333333333333\n",
      "recall 0.9333333333333333\n",
      "accuracy 0.9875\n",
      "14 144 1 1\n"
     ]
    },
    {
     "name": "stderr",
     "output_type": "stream",
     "text": [
      "  8%|██████████                                                                                                                  | 170/2084 [01:45<20:30,  1.56it/s]"
     ]
    },
    {
     "name": "stdout",
     "output_type": "stream",
     "text": [
      "0.9823529411764705 167 170 0\n",
      "precision 0.9375\n",
      "recall 0.8823529411764706\n",
      "accuracy 0.9823529411764705\n",
      "15 152 1 2\n"
     ]
    },
    {
     "name": "stderr",
     "output_type": "stream",
     "text": [
      "  9%|██████████▋                                                                                                                 | 180/2084 [01:52<19:16,  1.65it/s]"
     ]
    },
    {
     "name": "stdout",
     "output_type": "stream",
     "text": [
      "0.9833333333333333 177 180 0\n",
      "precision 0.9375\n",
      "recall 0.8823529411764706\n",
      "accuracy 0.9833333333333333\n",
      "15 162 1 2\n"
     ]
    },
    {
     "name": "stderr",
     "output_type": "stream",
     "text": [
      "  9%|███████████▎                                                                                                                | 190/2084 [01:58<19:06,  1.65it/s]"
     ]
    },
    {
     "name": "stdout",
     "output_type": "stream",
     "text": [
      "0.9842105263157894 187 190 0\n",
      "precision 0.9375\n",
      "recall 0.8823529411764706\n",
      "accuracy 0.9842105263157894\n",
      "15 172 1 2\n"
     ]
    },
    {
     "name": "stderr",
     "output_type": "stream",
     "text": [
      " 10%|███████████▉                                                                                                                | 200/2084 [02:04<19:35,  1.60it/s]"
     ]
    },
    {
     "name": "stdout",
     "output_type": "stream",
     "text": [
      "0.98 196 200 0\n",
      "precision 0.8823529411764706\n",
      "recall 0.8823529411764706\n",
      "accuracy 0.98\n",
      "15 181 2 2\n"
     ]
    },
    {
     "name": "stderr",
     "output_type": "stream",
     "text": [
      " 10%|████████████▍                                                                                                               | 210/2084 [02:10<19:44,  1.58it/s]"
     ]
    },
    {
     "name": "stdout",
     "output_type": "stream",
     "text": [
      "0.9809523809523809 206 210 0\n",
      "precision 0.8947368421052632\n",
      "recall 0.8947368421052632\n",
      "accuracy 0.9809523809523809\n",
      "17 189 2 2\n"
     ]
    },
    {
     "name": "stderr",
     "output_type": "stream",
     "text": [
      " 11%|█████████████                                                                                                               | 220/2084 [02:16<19:34,  1.59it/s]"
     ]
    },
    {
     "name": "stdout",
     "output_type": "stream",
     "text": [
      "0.9818181818181818 216 220 0\n",
      "precision 0.9047619047619048\n",
      "recall 0.9047619047619048\n",
      "accuracy 0.9818181818181818\n",
      "19 197 2 2\n"
     ]
    },
    {
     "name": "stderr",
     "output_type": "stream",
     "text": [
      " 11%|█████████████▋                                                                                                              | 230/2084 [02:22<18:49,  1.64it/s]"
     ]
    },
    {
     "name": "stdout",
     "output_type": "stream",
     "text": [
      "0.9826086956521739 226 230 0\n",
      "precision 0.9047619047619048\n",
      "recall 0.9047619047619048\n",
      "accuracy 0.9826086956521739\n",
      "19 207 2 2\n"
     ]
    },
    {
     "name": "stderr",
     "output_type": "stream",
     "text": [
      " 12%|██████████████▎                                                                                                             | 240/2084 [02:29<19:06,  1.61it/s]"
     ]
    },
    {
     "name": "stdout",
     "output_type": "stream",
     "text": [
      "0.9791666666666666 235 240 0\n",
      "precision 0.9090909090909091\n",
      "recall 0.8695652173913043\n",
      "accuracy 0.9791666666666666\n",
      "20 215 2 3\n"
     ]
    },
    {
     "name": "stderr",
     "output_type": "stream",
     "text": [
      " 12%|██████████████▉                                                                                                             | 250/2084 [02:35<18:38,  1.64it/s]"
     ]
    },
    {
     "name": "stdout",
     "output_type": "stream",
     "text": [
      "0.98 245 250 0\n",
      "precision 0.9090909090909091\n",
      "recall 0.8695652173913043\n",
      "accuracy 0.98\n",
      "20 225 2 3\n"
     ]
    },
    {
     "name": "stderr",
     "output_type": "stream",
     "text": [
      " 12%|███████████████▍                                                                                                            | 260/2084 [02:41<20:16,  1.50it/s]"
     ]
    },
    {
     "name": "stdout",
     "output_type": "stream",
     "text": [
      "0.9807692307692307 255 260 0\n",
      "precision 0.9166666666666666\n",
      "recall 0.88\n",
      "accuracy 0.9807692307692307\n",
      "22 233 2 3\n"
     ]
    },
    {
     "name": "stderr",
     "output_type": "stream",
     "text": [
      " 13%|████████████████                                                                                                            | 270/2084 [02:47<18:11,  1.66it/s]"
     ]
    },
    {
     "name": "stdout",
     "output_type": "stream",
     "text": [
      "0.9814814814814815 265 270 0\n",
      "precision 0.92\n",
      "recall 0.8846153846153846\n",
      "accuracy 0.9814814814814815\n",
      "23 242 2 3\n"
     ]
    },
    {
     "name": "stderr",
     "output_type": "stream",
     "text": [
      " 13%|████████████████▋                                                                                                           | 280/2084 [02:53<18:55,  1.59it/s]"
     ]
    },
    {
     "name": "stdout",
     "output_type": "stream",
     "text": [
      "0.9821428571428571 275 280 0\n",
      "precision 0.9259259259259259\n",
      "recall 0.8928571428571429\n",
      "accuracy 0.9821428571428571\n",
      "25 250 2 3\n"
     ]
    },
    {
     "name": "stderr",
     "output_type": "stream",
     "text": [
      " 14%|█████████████████▎                                                                                                          | 290/2084 [02:59<18:14,  1.64it/s]"
     ]
    },
    {
     "name": "stdout",
     "output_type": "stream",
     "text": [
      "0.9827586206896551 285 290 0\n",
      "precision 0.9310344827586207\n",
      "recall 0.9\n",
      "accuracy 0.9827586206896551\n",
      "27 258 2 3\n"
     ]
    },
    {
     "name": "stderr",
     "output_type": "stream",
     "text": [
      " 14%|█████████████████▊                                                                                                          | 300/2084 [03:06<18:10,  1.64it/s]"
     ]
    },
    {
     "name": "stdout",
     "output_type": "stream",
     "text": [
      "0.9833333333333333 295 300 0\n",
      "precision 0.9310344827586207\n",
      "recall 0.9\n",
      "accuracy 0.9833333333333333\n",
      "27 268 2 3\n"
     ]
    },
    {
     "name": "stderr",
     "output_type": "stream",
     "text": [
      " 15%|██████████████████▍                                                                                                         | 310/2084 [03:12<18:09,  1.63it/s]"
     ]
    },
    {
     "name": "stdout",
     "output_type": "stream",
     "text": [
      "0.9806451612903225 304 310 0\n",
      "precision 0.9032258064516129\n",
      "recall 0.9032258064516129\n",
      "accuracy 0.9806451612903225\n",
      "28 276 3 3\n"
     ]
    },
    {
     "name": "stderr",
     "output_type": "stream",
     "text": [
      " 15%|███████████████████                                                                                                         | 320/2084 [03:18<18:20,  1.60it/s]"
     ]
    },
    {
     "name": "stdout",
     "output_type": "stream",
     "text": [
      "0.98125 314 320 0\n",
      "precision 0.9032258064516129\n",
      "recall 0.9032258064516129\n",
      "accuracy 0.98125\n",
      "28 286 3 3\n"
     ]
    },
    {
     "name": "stderr",
     "output_type": "stream",
     "text": [
      " 16%|███████████████████▋                                                                                                        | 330/2084 [03:24<17:27,  1.67it/s]"
     ]
    },
    {
     "name": "stdout",
     "output_type": "stream",
     "text": [
      "0.9818181818181818 324 330 0\n",
      "precision 0.9032258064516129\n",
      "recall 0.9032258064516129\n",
      "accuracy 0.9818181818181818\n",
      "28 296 3 3\n"
     ]
    },
    {
     "name": "stderr",
     "output_type": "stream",
     "text": [
      " 16%|████████████████████▏                                                                                                       | 340/2084 [03:30<17:51,  1.63it/s]"
     ]
    },
    {
     "name": "stdout",
     "output_type": "stream",
     "text": [
      "0.9823529411764705 334 340 0\n",
      "precision 0.9032258064516129\n",
      "recall 0.9032258064516129\n",
      "accuracy 0.9823529411764705\n",
      "28 306 3 3\n"
     ]
    },
    {
     "name": "stderr",
     "output_type": "stream",
     "text": [
      " 17%|████████████████████▊                                                                                                       | 350/2084 [03:36<17:13,  1.68it/s]"
     ]
    },
    {
     "name": "stdout",
     "output_type": "stream",
     "text": [
      "0.98 343 350 0\n",
      "precision 0.9032258064516129\n",
      "recall 0.875\n",
      "accuracy 0.98\n",
      "28 315 3 4\n"
     ]
    },
    {
     "name": "stderr",
     "output_type": "stream",
     "text": [
      " 17%|█████████████████████▍                                                                                                      | 360/2084 [03:42<17:11,  1.67it/s]"
     ]
    },
    {
     "name": "stdout",
     "output_type": "stream",
     "text": [
      "0.9805555555555555 353 360 0\n",
      "precision 0.9032258064516129\n",
      "recall 0.875\n",
      "accuracy 0.9805555555555555\n",
      "28 325 3 4\n"
     ]
    },
    {
     "name": "stderr",
     "output_type": "stream",
     "text": [
      " 18%|██████████████████████                                                                                                      | 370/2084 [03:49<17:49,  1.60it/s]"
     ]
    },
    {
     "name": "stdout",
     "output_type": "stream",
     "text": [
      "0.981081081081081 363 370 0\n",
      "precision 0.90625\n",
      "recall 0.8787878787878788\n",
      "accuracy 0.981081081081081\n",
      "29 334 3 4\n"
     ]
    },
    {
     "name": "stderr",
     "output_type": "stream",
     "text": [
      " 18%|██████████████████████▌                                                                                                     | 380/2084 [03:55<18:01,  1.58it/s]"
     ]
    },
    {
     "name": "stdout",
     "output_type": "stream",
     "text": [
      "0.9815789473684211 373 380 0\n",
      "precision 0.90625\n",
      "recall 0.8787878787878788\n",
      "accuracy 0.9815789473684211\n",
      "29 344 3 4\n"
     ]
    },
    {
     "name": "stderr",
     "output_type": "stream",
     "text": [
      " 19%|███████████████████████▏                                                                                                    | 390/2084 [04:01<17:26,  1.62it/s]"
     ]
    },
    {
     "name": "stdout",
     "output_type": "stream",
     "text": [
      "0.982051282051282 383 390 0\n",
      "precision 0.90625\n",
      "recall 0.8787878787878788\n",
      "accuracy 0.982051282051282\n",
      "29 354 3 4\n"
     ]
    },
    {
     "name": "stderr",
     "output_type": "stream",
     "text": [
      " 19%|███████████████████████▊                                                                                                    | 400/2084 [04:07<17:04,  1.64it/s]"
     ]
    },
    {
     "name": "stdout",
     "output_type": "stream",
     "text": [
      "0.9825 393 400 0\n",
      "precision 0.9090909090909091\n",
      "recall 0.8823529411764706\n",
      "accuracy 0.9825\n",
      "30 363 3 4\n"
     ]
    },
    {
     "name": "stderr",
     "output_type": "stream",
     "text": [
      " 20%|████████████████████████▍                                                                                                   | 410/2084 [04:13<17:56,  1.56it/s]"
     ]
    },
    {
     "name": "stdout",
     "output_type": "stream",
     "text": [
      "0.9804878048780488 402 410 0\n",
      "precision 0.8918918918918919\n",
      "recall 0.8918918918918919\n",
      "accuracy 0.9804878048780488\n",
      "33 369 4 4\n"
     ]
    },
    {
     "name": "stderr",
     "output_type": "stream",
     "text": [
      " 20%|████████████████████████▉                                                                                                   | 420/2084 [04:19<16:33,  1.67it/s]"
     ]
    },
    {
     "name": "stdout",
     "output_type": "stream",
     "text": [
      "0.9809523809523809 412 420 0\n",
      "precision 0.8947368421052632\n",
      "recall 0.8947368421052632\n",
      "accuracy 0.9809523809523809\n",
      "34 378 4 4\n"
     ]
    },
    {
     "name": "stderr",
     "output_type": "stream",
     "text": [
      " 21%|█████████████████████████▌                                                                                                  | 430/2084 [04:26<16:50,  1.64it/s]"
     ]
    },
    {
     "name": "stdout",
     "output_type": "stream",
     "text": [
      "0.9813953488372092 422 430 0\n",
      "precision 0.8947368421052632\n",
      "recall 0.8947368421052632\n",
      "accuracy 0.9813953488372092\n",
      "34 388 4 4\n"
     ]
    },
    {
     "name": "stderr",
     "output_type": "stream",
     "text": [
      " 21%|██████████████████████████▏                                                                                                 | 440/2084 [04:32<16:46,  1.63it/s]"
     ]
    },
    {
     "name": "stdout",
     "output_type": "stream",
     "text": [
      "0.9818181818181818 432 440 0\n",
      "precision 0.8947368421052632\n",
      "recall 0.8947368421052632\n",
      "accuracy 0.9818181818181818\n",
      "34 398 4 4\n"
     ]
    },
    {
     "name": "stderr",
     "output_type": "stream",
     "text": [
      " 22%|██████████████████████████▊                                                                                                 | 450/2084 [04:38<16:58,  1.60it/s]"
     ]
    },
    {
     "name": "stdout",
     "output_type": "stream",
     "text": [
      "0.98 441 450 0\n",
      "precision 0.9024390243902439\n",
      "recall 0.8809523809523809\n",
      "accuracy 0.98\n",
      "37 404 4 5\n"
     ]
    },
    {
     "name": "stderr",
     "output_type": "stream",
     "text": [
      " 22%|███████████████████████████▎                                                                                                | 460/2084 [04:44<16:10,  1.67it/s]"
     ]
    },
    {
     "name": "stdout",
     "output_type": "stream",
     "text": [
      "0.9804347826086957 451 460 0\n",
      "precision 0.9047619047619048\n",
      "recall 0.8837209302325582\n",
      "accuracy 0.9804347826086957\n",
      "38 413 4 5\n"
     ]
    },
    {
     "name": "stderr",
     "output_type": "stream",
     "text": [
      " 23%|███████████████████████████▉                                                                                                | 470/2084 [04:50<16:33,  1.62it/s]"
     ]
    },
    {
     "name": "stdout",
     "output_type": "stream",
     "text": [
      "0.9808510638297873 461 470 0\n",
      "precision 0.9090909090909091\n",
      "recall 0.8888888888888888\n",
      "accuracy 0.9808510638297873\n",
      "40 421 4 5\n"
     ]
    },
    {
     "name": "stderr",
     "output_type": "stream",
     "text": [
      " 23%|████████████████████████████▌                                                                                               | 480/2084 [04:56<17:31,  1.53it/s]"
     ]
    },
    {
     "name": "stdout",
     "output_type": "stream",
     "text": [
      "0.98125 471 480 0\n",
      "precision 0.9111111111111111\n",
      "recall 0.8913043478260869\n",
      "accuracy 0.98125\n",
      "41 430 4 5\n"
     ]
    },
    {
     "name": "stderr",
     "output_type": "stream",
     "text": [
      " 24%|█████████████████████████████▏                                                                                              | 490/2084 [05:03<16:57,  1.57it/s]"
     ]
    },
    {
     "name": "stdout",
     "output_type": "stream",
     "text": [
      "0.9795918367346939 480 490 0\n",
      "precision 0.9111111111111111\n",
      "recall 0.8723404255319149\n",
      "accuracy 0.9795918367346939\n",
      "41 439 4 6\n"
     ]
    },
    {
     "name": "stderr",
     "output_type": "stream",
     "text": [
      " 24%|█████████████████████████████▊                                                                                              | 500/2084 [05:09<16:27,  1.60it/s]"
     ]
    },
    {
     "name": "stdout",
     "output_type": "stream",
     "text": [
      "0.98 490 500 0\n",
      "precision 0.9111111111111111\n",
      "recall 0.8723404255319149\n",
      "accuracy 0.98\n",
      "41 449 4 6\n"
     ]
    },
    {
     "name": "stderr",
     "output_type": "stream",
     "text": [
      " 24%|██████████████████████████████▎                                                                                             | 510/2084 [05:15<16:08,  1.63it/s]"
     ]
    },
    {
     "name": "stdout",
     "output_type": "stream",
     "text": [
      "0.9803921568627451 500 510 0\n",
      "precision 0.9148936170212766\n",
      "recall 0.8775510204081632\n",
      "accuracy 0.9803921568627451\n",
      "43 457 4 6\n"
     ]
    },
    {
     "name": "stderr",
     "output_type": "stream",
     "text": [
      " 25%|██████████████████████████████▉                                                                                             | 520/2084 [05:21<16:10,  1.61it/s]"
     ]
    },
    {
     "name": "stdout",
     "output_type": "stream",
     "text": [
      "0.9807692307692307 510 520 0\n",
      "precision 0.9166666666666666\n",
      "recall 0.88\n",
      "accuracy 0.9807692307692307\n",
      "44 466 4 6\n"
     ]
    },
    {
     "name": "stderr",
     "output_type": "stream",
     "text": [
      " 25%|███████████████████████████████▌                                                                                            | 530/2084 [05:28<16:33,  1.56it/s]"
     ]
    },
    {
     "name": "stdout",
     "output_type": "stream",
     "text": [
      "0.9811320754716981 520 530 0\n",
      "precision 0.9183673469387755\n",
      "recall 0.8823529411764706\n",
      "accuracy 0.9811320754716981\n",
      "45 475 4 6\n"
     ]
    },
    {
     "name": "stderr",
     "output_type": "stream",
     "text": [
      " 26%|████████████████████████████████▏                                                                                           | 540/2084 [05:34<15:39,  1.64it/s]"
     ]
    },
    {
     "name": "stdout",
     "output_type": "stream",
     "text": [
      "0.9814814814814815 530 540 0\n",
      "precision 0.92\n",
      "recall 0.8846153846153846\n",
      "accuracy 0.9814814814814815\n",
      "46 484 4 6\n"
     ]
    },
    {
     "name": "stderr",
     "output_type": "stream",
     "text": [
      " 26%|████████████████████████████████▋                                                                                           | 550/2084 [05:40<16:31,  1.55it/s]"
     ]
    },
    {
     "name": "stdout",
     "output_type": "stream",
     "text": [
      "0.9818181818181818 540 550 0\n",
      "precision 0.9215686274509803\n",
      "recall 0.8867924528301887\n",
      "accuracy 0.9818181818181818\n",
      "47 493 4 6\n"
     ]
    },
    {
     "name": "stderr",
     "output_type": "stream",
     "text": [
      " 27%|█████████████████████████████████▎                                                                                          | 560/2084 [05:46<15:10,  1.67it/s]"
     ]
    },
    {
     "name": "stdout",
     "output_type": "stream",
     "text": [
      "0.9821428571428571 550 560 0\n",
      "precision 0.9230769230769231\n",
      "recall 0.8888888888888888\n",
      "accuracy 0.9821428571428571\n",
      "48 502 4 6\n"
     ]
    },
    {
     "name": "stderr",
     "output_type": "stream",
     "text": [
      " 27%|█████████████████████████████████▉                                                                                          | 570/2084 [05:52<15:04,  1.67it/s]"
     ]
    },
    {
     "name": "stdout",
     "output_type": "stream",
     "text": [
      "0.9824561403508771 560 570 0\n",
      "precision 0.9230769230769231\n",
      "recall 0.8888888888888888\n",
      "accuracy 0.9824561403508771\n",
      "48 512 4 6\n"
     ]
    },
    {
     "name": "stderr",
     "output_type": "stream",
     "text": [
      " 28%|██████████████████████████████████▌                                                                                         | 580/2084 [05:58<15:14,  1.65it/s]"
     ]
    },
    {
     "name": "stdout",
     "output_type": "stream",
     "text": [
      "0.9827586206896551 570 580 0\n",
      "precision 0.9245283018867925\n",
      "recall 0.8909090909090909\n",
      "accuracy 0.9827586206896551\n",
      "49 521 4 6\n"
     ]
    },
    {
     "name": "stderr",
     "output_type": "stream",
     "text": [
      " 28%|███████████████████████████████████                                                                                         | 590/2084 [06:05<15:30,  1.61it/s]"
     ]
    },
    {
     "name": "stdout",
     "output_type": "stream",
     "text": [
      "0.9830508474576272 580 590 0\n",
      "precision 0.9245283018867925\n",
      "recall 0.8909090909090909\n",
      "accuracy 0.9830508474576272\n",
      "49 531 4 6\n"
     ]
    },
    {
     "name": "stderr",
     "output_type": "stream",
     "text": [
      " 29%|███████████████████████████████████▋                                                                                        | 600/2084 [06:11<15:01,  1.65it/s]"
     ]
    },
    {
     "name": "stdout",
     "output_type": "stream",
     "text": [
      "0.9833333333333333 590 600 0\n",
      "precision 0.9298245614035088\n",
      "recall 0.8983050847457628\n",
      "accuracy 0.9833333333333333\n",
      "53 537 4 6\n"
     ]
    },
    {
     "name": "stderr",
     "output_type": "stream",
     "text": [
      " 29%|████████████████████████████████████▎                                                                                       | 610/2084 [06:17<14:47,  1.66it/s]"
     ]
    },
    {
     "name": "stdout",
     "output_type": "stream",
     "text": [
      "0.9819672131147541 599 610 0\n",
      "precision 0.9310344827586207\n",
      "recall 0.8852459016393442\n",
      "accuracy 0.9819672131147541\n",
      "54 545 4 7\n"
     ]
    },
    {
     "name": "stderr",
     "output_type": "stream",
     "text": [
      " 30%|████████████████████████████████████▉                                                                                       | 620/2084 [06:23<14:38,  1.67it/s]"
     ]
    },
    {
     "name": "stdout",
     "output_type": "stream",
     "text": [
      "0.9822580645161291 609 620 0\n",
      "precision 0.9322033898305084\n",
      "recall 0.8870967741935484\n",
      "accuracy 0.9822580645161291\n",
      "55 554 4 7\n"
     ]
    },
    {
     "name": "stderr",
     "output_type": "stream",
     "text": [
      " 30%|█████████████████████████████████████▍                                                                                      | 630/2084 [06:29<14:48,  1.64it/s]"
     ]
    },
    {
     "name": "stdout",
     "output_type": "stream",
     "text": [
      "0.9809523809523809 618 630 0\n",
      "precision 0.9166666666666666\n",
      "recall 0.8870967741935484\n",
      "accuracy 0.9809523809523809\n",
      "55 563 5 7\n"
     ]
    },
    {
     "name": "stderr",
     "output_type": "stream",
     "text": [
      " 31%|██████████████████████████████████████                                                                                      | 640/2084 [06:35<15:06,  1.59it/s]"
     ]
    },
    {
     "name": "stdout",
     "output_type": "stream",
     "text": [
      "0.9796875 627 640 0\n",
      "precision 0.9180327868852459\n",
      "recall 0.875\n",
      "accuracy 0.9796875\n",
      "56 571 5 8\n"
     ]
    },
    {
     "name": "stderr",
     "output_type": "stream",
     "text": [
      " 31%|██████████████████████████████████████▋                                                                                     | 650/2084 [06:41<14:17,  1.67it/s]"
     ]
    },
    {
     "name": "stdout",
     "output_type": "stream",
     "text": [
      "0.98 637 650 0\n",
      "precision 0.9206349206349206\n",
      "recall 0.8787878787878788\n",
      "accuracy 0.98\n",
      "58 579 5 8\n"
     ]
    },
    {
     "name": "stderr",
     "output_type": "stream",
     "text": [
      " 32%|███████████████████████████████████████▎                                                                                    | 660/2084 [06:47<15:08,  1.57it/s]"
     ]
    },
    {
     "name": "stdout",
     "output_type": "stream",
     "text": [
      "0.9803030303030303 647 660 0\n",
      "precision 0.921875\n",
      "recall 0.8805970149253731\n",
      "accuracy 0.9803030303030303\n",
      "59 588 5 8\n"
     ]
    },
    {
     "name": "stderr",
     "output_type": "stream",
     "text": [
      " 32%|███████████████████████████████████████▊                                                                                    | 670/2084 [06:53<14:19,  1.65it/s]"
     ]
    },
    {
     "name": "stdout",
     "output_type": "stream",
     "text": [
      "0.9805970149253731 657 670 0\n",
      "precision 0.9230769230769231\n",
      "recall 0.8823529411764706\n",
      "accuracy 0.9805970149253731\n",
      "60 597 5 8\n"
     ]
    },
    {
     "name": "stderr",
     "output_type": "stream",
     "text": [
      " 33%|████████████████████████████████████████▍                                                                                   | 680/2084 [07:00<14:31,  1.61it/s]"
     ]
    },
    {
     "name": "stdout",
     "output_type": "stream",
     "text": [
      "0.9794117647058823 666 680 0\n",
      "precision 0.9242424242424242\n",
      "recall 0.8714285714285714\n",
      "accuracy 0.9794117647058823\n",
      "61 605 5 9\n"
     ]
    },
    {
     "name": "stderr",
     "output_type": "stream",
     "text": [
      " 33%|█████████████████████████████████████████                                                                                   | 690/2084 [07:06<14:10,  1.64it/s]"
     ]
    },
    {
     "name": "stdout",
     "output_type": "stream",
     "text": [
      "0.9797101449275363 676 690 0\n",
      "precision 0.9253731343283582\n",
      "recall 0.8732394366197183\n",
      "accuracy 0.9797101449275363\n",
      "62 614 5 9\n"
     ]
    },
    {
     "name": "stderr",
     "output_type": "stream",
     "text": [
      " 34%|█████████████████████████████████████████▋                                                                                  | 700/2084 [07:12<13:41,  1.68it/s]"
     ]
    },
    {
     "name": "stdout",
     "output_type": "stream",
     "text": [
      "0.98 686 700 0\n",
      "precision 0.9253731343283582\n",
      "recall 0.8732394366197183\n",
      "accuracy 0.98\n",
      "62 624 5 9\n"
     ]
    },
    {
     "name": "stderr",
     "output_type": "stream",
     "text": [
      " 34%|██████████████████████████████████████████▏                                                                                 | 710/2084 [07:18<14:31,  1.58it/s]"
     ]
    },
    {
     "name": "stdout",
     "output_type": "stream",
     "text": [
      "0.9802816901408451 696 710 0\n",
      "precision 0.927536231884058\n",
      "recall 0.8767123287671232\n",
      "accuracy 0.9802816901408451\n",
      "64 632 5 9\n"
     ]
    },
    {
     "name": "stderr",
     "output_type": "stream",
     "text": [
      " 35%|██████████████████████████████████████████▊                                                                                 | 720/2084 [07:25<14:30,  1.57it/s]"
     ]
    },
    {
     "name": "stdout",
     "output_type": "stream",
     "text": [
      "0.9791666666666666 705 720 0\n",
      "precision 0.9295774647887324\n",
      "recall 0.868421052631579\n",
      "accuracy 0.9791666666666666\n",
      "66 639 5 10\n"
     ]
    },
    {
     "name": "stderr",
     "output_type": "stream",
     "text": [
      " 35%|███████████████████████████████████████████▍                                                                                | 730/2084 [07:31<13:35,  1.66it/s]"
     ]
    },
    {
     "name": "stdout",
     "output_type": "stream",
     "text": [
      "0.9794520547945206 715 730 0\n",
      "precision 0.9305555555555556\n",
      "recall 0.8701298701298701\n",
      "accuracy 0.9794520547945206\n",
      "67 648 5 10\n"
     ]
    },
    {
     "name": "stderr",
     "output_type": "stream",
     "text": [
      " 36%|████████████████████████████████████████████                                                                                | 740/2084 [07:37<13:38,  1.64it/s]"
     ]
    },
    {
     "name": "stdout",
     "output_type": "stream",
     "text": [
      "0.9797297297297297 725 740 0\n",
      "precision 0.9315068493150684\n",
      "recall 0.8717948717948718\n",
      "accuracy 0.9797297297297297\n",
      "68 657 5 10\n"
     ]
    },
    {
     "name": "stderr",
     "output_type": "stream",
     "text": [
      " 36%|████████████████████████████████████████████▋                                                                               | 750/2084 [07:43<13:25,  1.66it/s]"
     ]
    },
    {
     "name": "stdout",
     "output_type": "stream",
     "text": [
      "0.98 735 750 0\n",
      "precision 0.9333333333333333\n",
      "recall 0.875\n",
      "accuracy 0.98\n",
      "70 665 5 10\n"
     ]
    },
    {
     "name": "stderr",
     "output_type": "stream",
     "text": [
      " 36%|█████████████████████████████████████████████▏                                                                              | 760/2084 [07:50<13:19,  1.66it/s]"
     ]
    },
    {
     "name": "stdout",
     "output_type": "stream",
     "text": [
      "0.9802631578947368 745 760 0\n",
      "precision 0.9342105263157895\n",
      "recall 0.8765432098765432\n",
      "accuracy 0.9802631578947368\n",
      "71 674 5 10\n"
     ]
    },
    {
     "name": "stderr",
     "output_type": "stream",
     "text": [
      " 37%|█████████████████████████████████████████████▊                                                                              | 770/2084 [07:56<13:10,  1.66it/s]"
     ]
    },
    {
     "name": "stdout",
     "output_type": "stream",
     "text": [
      "0.9805194805194806 755 770 0\n",
      "precision 0.9358974358974359\n",
      "recall 0.8795180722891566\n",
      "accuracy 0.9805194805194806\n",
      "73 682 5 10\n"
     ]
    },
    {
     "name": "stderr",
     "output_type": "stream",
     "text": [
      " 37%|██████████████████████████████████████████████▍                                                                             | 780/2084 [08:02<13:20,  1.63it/s]"
     ]
    },
    {
     "name": "stdout",
     "output_type": "stream",
     "text": [
      "0.9794871794871794 764 780 0\n",
      "precision 0.9367088607594937\n",
      "recall 0.8705882352941177\n",
      "accuracy 0.9794871794871794\n",
      "74 690 5 11\n"
     ]
    },
    {
     "name": "stderr",
     "output_type": "stream",
     "text": [
      " 38%|███████████████████████████████████████████████                                                                             | 790/2084 [08:08<13:23,  1.61it/s]"
     ]
    },
    {
     "name": "stdout",
     "output_type": "stream",
     "text": [
      "0.979746835443038 774 790 0\n",
      "precision 0.9367088607594937\n",
      "recall 0.8705882352941177\n",
      "accuracy 0.979746835443038\n",
      "74 700 5 11\n"
     ]
    },
    {
     "name": "stderr",
     "output_type": "stream",
     "text": [
      " 38%|███████████████████████████████████████████████▌                                                                            | 800/2084 [08:14<13:25,  1.59it/s]"
     ]
    },
    {
     "name": "stdout",
     "output_type": "stream",
     "text": [
      "0.98 784 800 0\n",
      "precision 0.9367088607594937\n",
      "recall 0.8705882352941177\n",
      "accuracy 0.98\n",
      "74 710 5 11\n"
     ]
    },
    {
     "name": "stderr",
     "output_type": "stream",
     "text": [
      " 39%|████████████████████████████████████████████████▏                                                                           | 810/2084 [08:20<12:33,  1.69it/s]"
     ]
    },
    {
     "name": "stdout",
     "output_type": "stream",
     "text": [
      "0.980246913580247 794 810 0\n",
      "precision 0.9367088607594937\n",
      "recall 0.8705882352941177\n",
      "accuracy 0.980246913580247\n",
      "74 720 5 11\n"
     ]
    },
    {
     "name": "stderr",
     "output_type": "stream",
     "text": [
      " 39%|████████████████████████████████████████████████▊                                                                           | 820/2084 [08:26<12:58,  1.62it/s]"
     ]
    },
    {
     "name": "stdout",
     "output_type": "stream",
     "text": [
      "0.9804878048780488 804 820 0\n",
      "precision 0.9367088607594937\n",
      "recall 0.8705882352941177\n",
      "accuracy 0.9804878048780488\n",
      "74 730 5 11\n"
     ]
    },
    {
     "name": "stderr",
     "output_type": "stream",
     "text": [
      " 40%|█████████████████████████████████████████████████▍                                                                          | 830/2084 [08:33<12:45,  1.64it/s]"
     ]
    },
    {
     "name": "stdout",
     "output_type": "stream",
     "text": [
      "0.980722891566265 814 830 0\n",
      "precision 0.9382716049382716\n",
      "recall 0.8735632183908046\n",
      "accuracy 0.980722891566265\n",
      "76 738 5 11\n"
     ]
    },
    {
     "name": "stderr",
     "output_type": "stream",
     "text": [
      " 40%|█████████████████████████████████████████████████▉                                                                          | 840/2084 [08:39<12:30,  1.66it/s]"
     ]
    },
    {
     "name": "stdout",
     "output_type": "stream",
     "text": [
      "0.9785714285714285 822 840 0\n",
      "precision 0.926829268292683\n",
      "recall 0.8636363636363636\n",
      "accuracy 0.9785714285714285\n",
      "76 746 6 12\n"
     ]
    },
    {
     "name": "stderr",
     "output_type": "stream",
     "text": [
      " 41%|██████████████████████████████████████████████████▌                                                                         | 850/2084 [08:45<12:55,  1.59it/s]"
     ]
    },
    {
     "name": "stdout",
     "output_type": "stream",
     "text": [
      "0.9788235294117648 832 850 0\n",
      "precision 0.926829268292683\n",
      "recall 0.8636363636363636\n",
      "accuracy 0.9788235294117648\n",
      "76 756 6 12\n"
     ]
    },
    {
     "name": "stderr",
     "output_type": "stream",
     "text": [
      " 41%|███████████████████████████████████████████████████▏                                                                        | 860/2084 [08:51<12:47,  1.59it/s]"
     ]
    },
    {
     "name": "stdout",
     "output_type": "stream",
     "text": [
      "0.9790697674418605 842 860 0\n",
      "precision 0.926829268292683\n",
      "recall 0.8636363636363636\n",
      "accuracy 0.9790697674418605\n",
      "76 766 6 12\n"
     ]
    },
    {
     "name": "stderr",
     "output_type": "stream",
     "text": [
      " 42%|███████████████████████████████████████████████████▊                                                                        | 870/2084 [08:57<12:33,  1.61it/s]"
     ]
    },
    {
     "name": "stdout",
     "output_type": "stream",
     "text": [
      "0.9793103448275862 852 870 0\n",
      "precision 0.927710843373494\n",
      "recall 0.8651685393258427\n",
      "accuracy 0.9793103448275862\n",
      "77 775 6 12\n"
     ]
    },
    {
     "name": "stderr",
     "output_type": "stream",
     "text": [
      " 42%|████████████████████████████████████████████████████▎                                                                       | 880/2084 [09:03<12:03,  1.66it/s]"
     ]
    },
    {
     "name": "stdout",
     "output_type": "stream",
     "text": [
      "0.9784090909090909 861 880 0\n",
      "precision 0.927710843373494\n",
      "recall 0.8555555555555555\n",
      "accuracy 0.9784090909090909\n",
      "77 784 6 13\n"
     ]
    },
    {
     "name": "stderr",
     "output_type": "stream",
     "text": [
      " 43%|████████████████████████████████████████████████████▉                                                                       | 890/2084 [09:09<12:10,  1.63it/s]"
     ]
    },
    {
     "name": "stdout",
     "output_type": "stream",
     "text": [
      "0.9786516853932584 871 890 0\n",
      "precision 0.9285714285714286\n",
      "recall 0.8571428571428571\n",
      "accuracy 0.9786516853932584\n",
      "78 793 6 13\n"
     ]
    },
    {
     "name": "stderr",
     "output_type": "stream",
     "text": [
      " 43%|█████████████████████████████████████████████████████▌                                                                      | 900/2084 [09:15<11:54,  1.66it/s]"
     ]
    },
    {
     "name": "stdout",
     "output_type": "stream",
     "text": [
      "0.9777777777777777 880 900 0\n",
      "precision 0.9195402298850575\n",
      "recall 0.8602150537634409\n",
      "accuracy 0.9777777777777777\n",
      "80 800 7 13\n"
     ]
    },
    {
     "name": "stderr",
     "output_type": "stream",
     "text": [
      " 44%|██████████████████████████████████████████████████████▏                                                                     | 910/2084 [09:21<11:45,  1.66it/s]"
     ]
    },
    {
     "name": "stdout",
     "output_type": "stream",
     "text": [
      "0.9769230769230769 889 910 0\n",
      "precision 0.9204545454545454\n",
      "recall 0.8526315789473684\n",
      "accuracy 0.9769230769230769\n",
      "81 808 7 14\n"
     ]
    },
    {
     "name": "stderr",
     "output_type": "stream",
     "text": [
      " 44%|██████████████████████████████████████████████████████▋                                                                     | 920/2084 [09:28<12:16,  1.58it/s]"
     ]
    },
    {
     "name": "stdout",
     "output_type": "stream",
     "text": [
      "0.9760869565217392 898 920 0\n",
      "precision 0.9111111111111111\n",
      "recall 0.8541666666666666\n",
      "accuracy 0.9760869565217392\n",
      "82 816 8 14\n"
     ]
    },
    {
     "name": "stderr",
     "output_type": "stream",
     "text": [
      " 45%|███████████████████████████████████████████████████████▎                                                                    | 930/2084 [09:34<11:08,  1.73it/s]"
     ]
    },
    {
     "name": "stdout",
     "output_type": "stream",
     "text": [
      "0.975268817204301 907 930 0\n",
      "precision 0.9021739130434783\n",
      "recall 0.8556701030927835\n",
      "accuracy 0.975268817204301\n",
      "83 824 9 14\n"
     ]
    },
    {
     "name": "stderr",
     "output_type": "stream",
     "text": [
      " 45%|███████████████████████████████████████████████████████▉                                                                    | 940/2084 [09:40<12:07,  1.57it/s]"
     ]
    },
    {
     "name": "stdout",
     "output_type": "stream",
     "text": [
      "0.975531914893617 917 940 0\n",
      "precision 0.9042553191489362\n",
      "recall 0.8585858585858586\n",
      "accuracy 0.975531914893617\n",
      "85 832 9 14\n"
     ]
    },
    {
     "name": "stderr",
     "output_type": "stream",
     "text": [
      " 46%|████████████████████████████████████████████████████████▌                                                                   | 950/2084 [09:46<11:26,  1.65it/s]"
     ]
    },
    {
     "name": "stdout",
     "output_type": "stream",
     "text": [
      "0.9747368421052631 926 950 0\n",
      "precision 0.9042553191489362\n",
      "recall 0.85\n",
      "accuracy 0.9747368421052631\n",
      "85 841 9 15\n"
     ]
    },
    {
     "name": "stderr",
     "output_type": "stream",
     "text": [
      " 46%|█████████████████████████████████████████████████████████                                                                   | 960/2084 [09:52<11:36,  1.61it/s]"
     ]
    },
    {
     "name": "stdout",
     "output_type": "stream",
     "text": [
      "0.975 936 960 0\n",
      "precision 0.9052631578947369\n",
      "recall 0.8514851485148515\n",
      "accuracy 0.975\n",
      "86 850 9 15\n"
     ]
    },
    {
     "name": "stderr",
     "output_type": "stream",
     "text": [
      " 47%|█████████████████████████████████████████████████████████▋                                                                  | 970/2084 [09:58<11:17,  1.64it/s]"
     ]
    },
    {
     "name": "stdout",
     "output_type": "stream",
     "text": [
      "0.9742268041237113 945 970 0\n",
      "precision 0.9052631578947369\n",
      "recall 0.8431372549019608\n",
      "accuracy 0.9742268041237113\n",
      "86 859 9 16\n"
     ]
    },
    {
     "name": "stderr",
     "output_type": "stream",
     "text": [
      " 47%|██████████████████████████████████████████████████████████▎                                                                 | 980/2084 [10:04<11:14,  1.64it/s]"
     ]
    },
    {
     "name": "stdout",
     "output_type": "stream",
     "text": [
      "0.9734693877551021 954 980 0\n",
      "precision 0.9052631578947369\n",
      "recall 0.8349514563106796\n",
      "accuracy 0.9734693877551021\n",
      "86 868 9 17\n"
     ]
    },
    {
     "name": "stderr",
     "output_type": "stream",
     "text": [
      " 48%|██████████████████████████████████████████████████████████▉                                                                 | 990/2084 [10:11<11:27,  1.59it/s]"
     ]
    },
    {
     "name": "stdout",
     "output_type": "stream",
     "text": [
      "0.9727272727272728 963 990 0\n",
      "precision 0.9052631578947369\n",
      "recall 0.8269230769230769\n",
      "accuracy 0.9727272727272728\n",
      "86 877 9 18\n"
     ]
    },
    {
     "name": "stderr",
     "output_type": "stream",
     "text": [
      " 48%|███████████████████████████████████████████████████████████                                                                | 1000/2084 [10:17<10:59,  1.64it/s]"
     ]
    },
    {
     "name": "stdout",
     "output_type": "stream",
     "text": [
      "0.972 972 1000 0\n",
      "precision 0.90625\n",
      "recall 0.8207547169811321\n",
      "accuracy 0.972\n",
      "87 885 9 19\n"
     ]
    },
    {
     "name": "stderr",
     "output_type": "stream",
     "text": [
      " 48%|███████████████████████████████████████████████████████████▌                                                               | 1010/2084 [10:23<11:04,  1.62it/s]"
     ]
    },
    {
     "name": "stdout",
     "output_type": "stream",
     "text": [
      "0.9712871287128713 981 1010 0\n",
      "precision 0.8969072164948454\n",
      "recall 0.8207547169811321\n",
      "accuracy 0.9712871287128713\n",
      "87 894 10 19\n"
     ]
    },
    {
     "name": "stderr",
     "output_type": "stream",
     "text": [
      " 49%|████████████████████████████████████████████████████████████▏                                                              | 1020/2084 [10:29<10:35,  1.67it/s]"
     ]
    },
    {
     "name": "stdout",
     "output_type": "stream",
     "text": [
      "0.9705882352941176 990 1020 0\n",
      "precision 0.8979591836734694\n",
      "recall 0.8148148148148148\n",
      "accuracy 0.9705882352941176\n",
      "88 902 10 20\n"
     ]
    },
    {
     "name": "stderr",
     "output_type": "stream",
     "text": [
      " 49%|████████████████████████████████████████████████████████████▊                                                              | 1030/2084 [10:35<10:40,  1.65it/s]"
     ]
    },
    {
     "name": "stdout",
     "output_type": "stream",
     "text": [
      "0.9699029126213592 999 1030 0\n",
      "precision 0.8979591836734694\n",
      "recall 0.8073394495412844\n",
      "accuracy 0.9699029126213592\n",
      "88 911 10 21\n"
     ]
    },
    {
     "name": "stderr",
     "output_type": "stream",
     "text": [
      " 50%|█████████████████████████████████████████████████████████████▍                                                             | 1040/2084 [10:41<10:37,  1.64it/s]"
     ]
    },
    {
     "name": "stdout",
     "output_type": "stream",
     "text": [
      "0.9692307692307692 1008 1040 0\n",
      "precision 0.8979591836734694\n",
      "recall 0.8\n",
      "accuracy 0.9692307692307692\n",
      "88 920 10 22\n"
     ]
    },
    {
     "name": "stderr",
     "output_type": "stream",
     "text": [
      " 50%|█████████████████████████████████████████████████████████████▉                                                             | 1050/2084 [10:48<10:37,  1.62it/s]"
     ]
    },
    {
     "name": "stdout",
     "output_type": "stream",
     "text": [
      "0.9695238095238096 1018 1050 0\n",
      "precision 0.8979591836734694\n",
      "recall 0.8\n",
      "accuracy 0.9695238095238096\n",
      "88 930 10 22\n"
     ]
    },
    {
     "name": "stderr",
     "output_type": "stream",
     "text": [
      " 51%|██████████████████████████████████████████████████████████████▌                                                            | 1060/2084 [10:54<10:37,  1.61it/s]"
     ]
    },
    {
     "name": "stdout",
     "output_type": "stream",
     "text": [
      "0.969811320754717 1028 1060 0\n",
      "precision 0.8979591836734694\n",
      "recall 0.8\n",
      "accuracy 0.969811320754717\n",
      "88 940 10 22\n"
     ]
    },
    {
     "name": "stderr",
     "output_type": "stream",
     "text": [
      " 51%|███████████████████████████████████████████████████████████████▏                                                           | 1070/2084 [11:00<10:27,  1.62it/s]"
     ]
    },
    {
     "name": "stdout",
     "output_type": "stream",
     "text": [
      "0.9700934579439252 1038 1070 0\n",
      "precision 0.898989898989899\n",
      "recall 0.8018018018018018\n",
      "accuracy 0.9700934579439252\n",
      "89 949 10 22\n"
     ]
    },
    {
     "name": "stderr",
     "output_type": "stream",
     "text": [
      " 52%|███████████████████████████████████████████████████████████████▋                                                           | 1080/2084 [11:06<10:03,  1.66it/s]"
     ]
    },
    {
     "name": "stdout",
     "output_type": "stream",
     "text": [
      "0.9703703703703703 1048 1080 0\n",
      "precision 0.9\n",
      "recall 0.8035714285714286\n",
      "accuracy 0.9703703703703703\n",
      "90 958 10 22\n"
     ]
    },
    {
     "name": "stderr",
     "output_type": "stream",
     "text": [
      " 52%|████████████████████████████████████████████████████████████████▎                                                          | 1090/2084 [11:12<10:19,  1.60it/s]"
     ]
    },
    {
     "name": "stdout",
     "output_type": "stream",
     "text": [
      "0.9706422018348624 1058 1090 0\n",
      "precision 0.9\n",
      "recall 0.8035714285714286\n",
      "accuracy 0.9706422018348624\n",
      "90 968 10 22\n"
     ]
    },
    {
     "name": "stderr",
     "output_type": "stream",
     "text": [
      " 53%|████████████████████████████████████████████████████████████████▉                                                          | 1100/2084 [11:19<10:10,  1.61it/s]"
     ]
    },
    {
     "name": "stdout",
     "output_type": "stream",
     "text": [
      "0.97 1067 1100 0\n",
      "precision 0.8910891089108911\n",
      "recall 0.8035714285714286\n",
      "accuracy 0.97\n",
      "90 977 11 22\n"
     ]
    },
    {
     "name": "stderr",
     "output_type": "stream",
     "text": [
      " 53%|█████████████████████████████████████████████████████████████████▌                                                         | 1110/2084 [11:25<10:05,  1.61it/s]"
     ]
    },
    {
     "name": "stdout",
     "output_type": "stream",
     "text": [
      "0.9702702702702702 1077 1110 0\n",
      "precision 0.8921568627450981\n",
      "recall 0.8053097345132744\n",
      "accuracy 0.9702702702702702\n",
      "91 986 11 22\n"
     ]
    },
    {
     "name": "stderr",
     "output_type": "stream",
     "text": [
      " 54%|██████████████████████████████████████████████████████████████████                                                         | 1120/2084 [11:31<10:32,  1.52it/s]"
     ]
    },
    {
     "name": "stdout",
     "output_type": "stream",
     "text": [
      "0.9705357142857143 1087 1120 0\n",
      "precision 0.8942307692307693\n",
      "recall 0.808695652173913\n",
      "accuracy 0.9705357142857143\n",
      "93 994 11 22\n"
     ]
    },
    {
     "name": "stderr",
     "output_type": "stream",
     "text": [
      " 54%|██████████████████████████████████████████████████████████████████▋                                                        | 1130/2084 [11:37<09:33,  1.66it/s]"
     ]
    },
    {
     "name": "stdout",
     "output_type": "stream",
     "text": [
      "0.9707964601769912 1097 1130 0\n",
      "precision 0.8942307692307693\n",
      "recall 0.808695652173913\n",
      "accuracy 0.9707964601769912\n",
      "93 1004 11 22\n"
     ]
    },
    {
     "name": "stderr",
     "output_type": "stream",
     "text": [
      " 55%|███████████████████████████████████████████████████████████████████▎                                                       | 1140/2084 [11:43<09:29,  1.66it/s]"
     ]
    },
    {
     "name": "stdout",
     "output_type": "stream",
     "text": [
      "0.9710526315789474 1107 1140 0\n",
      "precision 0.8942307692307693\n",
      "recall 0.808695652173913\n",
      "accuracy 0.9710526315789474\n",
      "93 1014 11 22\n"
     ]
    },
    {
     "name": "stderr",
     "output_type": "stream",
     "text": [
      " 55%|███████████████████████████████████████████████████████████████████▊                                                       | 1150/2084 [11:50<09:23,  1.66it/s]"
     ]
    },
    {
     "name": "stdout",
     "output_type": "stream",
     "text": [
      "0.9704347826086956 1116 1150 0\n",
      "precision 0.8867924528301887\n",
      "recall 0.8103448275862069\n",
      "accuracy 0.9704347826086956\n",
      "94 1022 12 22\n"
     ]
    },
    {
     "name": "stderr",
     "output_type": "stream",
     "text": [
      " 56%|████████████████████████████████████████████████████████████████████▍                                                      | 1160/2084 [11:56<09:35,  1.60it/s]"
     ]
    },
    {
     "name": "stdout",
     "output_type": "stream",
     "text": [
      "0.9706896551724138 1126 1160 0\n",
      "precision 0.8867924528301887\n",
      "recall 0.8103448275862069\n",
      "accuracy 0.9706896551724138\n",
      "94 1032 12 22\n"
     ]
    },
    {
     "name": "stderr",
     "output_type": "stream",
     "text": [
      " 56%|█████████████████████████████████████████████████████████████████████                                                      | 1170/2084 [12:02<09:02,  1.68it/s]"
     ]
    },
    {
     "name": "stdout",
     "output_type": "stream",
     "text": [
      "0.9709401709401709 1136 1170 0\n",
      "precision 0.8878504672897196\n",
      "recall 0.811965811965812\n",
      "accuracy 0.9709401709401709\n",
      "95 1041 12 22\n"
     ]
    },
    {
     "name": "stderr",
     "output_type": "stream",
     "text": [
      " 57%|█████████████████████████████████████████████████████████████████████▋                                                     | 1180/2084 [12:08<09:06,  1.65it/s]"
     ]
    },
    {
     "name": "stdout",
     "output_type": "stream",
     "text": [
      "0.9711864406779661 1146 1180 0\n",
      "precision 0.8878504672897196\n",
      "recall 0.811965811965812\n",
      "accuracy 0.9711864406779661\n",
      "95 1051 12 22\n"
     ]
    },
    {
     "name": "stderr",
     "output_type": "stream",
     "text": [
      " 57%|██████████████████████████████████████████████████████████████████████▏                                                    | 1190/2084 [12:14<09:04,  1.64it/s]"
     ]
    },
    {
     "name": "stdout",
     "output_type": "stream",
     "text": [
      "0.9705882352941176 1155 1190 0\n",
      "precision 0.8796296296296297\n",
      "recall 0.811965811965812\n",
      "accuracy 0.9705882352941176\n",
      "95 1060 13 22\n"
     ]
    },
    {
     "name": "stderr",
     "output_type": "stream",
     "text": [
      " 58%|██████████████████████████████████████████████████████████████████████▊                                                    | 1200/2084 [12:20<09:21,  1.58it/s]"
     ]
    },
    {
     "name": "stdout",
     "output_type": "stream",
     "text": [
      "0.97 1164 1200 0\n",
      "precision 0.8807339449541285\n",
      "recall 0.8067226890756303\n",
      "accuracy 0.97\n",
      "96 1068 13 23\n"
     ]
    },
    {
     "name": "stderr",
     "output_type": "stream",
     "text": [
      " 58%|███████████████████████████████████████████████████████████████████████▍                                                   | 1210/2084 [12:27<09:10,  1.59it/s]"
     ]
    },
    {
     "name": "stdout",
     "output_type": "stream",
     "text": [
      "0.9702479338842975 1174 1210 0\n",
      "precision 0.8818181818181818\n",
      "recall 0.8083333333333333\n",
      "accuracy 0.9702479338842975\n",
      "97 1077 13 23\n"
     ]
    },
    {
     "name": "stderr",
     "output_type": "stream",
     "text": [
      " 59%|████████████████████████████████████████████████████████████████████████                                                   | 1220/2084 [12:33<08:43,  1.65it/s]"
     ]
    },
    {
     "name": "stdout",
     "output_type": "stream",
     "text": [
      "0.9704918032786886 1184 1220 0\n",
      "precision 0.8818181818181818\n",
      "recall 0.8083333333333333\n",
      "accuracy 0.9704918032786886\n",
      "97 1087 13 23\n"
     ]
    },
    {
     "name": "stderr",
     "output_type": "stream",
     "text": [
      " 59%|████████████████████████████████████████████████████████████████████████▌                                                  | 1230/2084 [12:39<08:40,  1.64it/s]"
     ]
    },
    {
     "name": "stdout",
     "output_type": "stream",
     "text": [
      "0.9707317073170731 1194 1230 0\n",
      "precision 0.8818181818181818\n",
      "recall 0.8083333333333333\n",
      "accuracy 0.9707317073170731\n",
      "97 1097 13 23\n"
     ]
    },
    {
     "name": "stderr",
     "output_type": "stream",
     "text": [
      " 60%|█████████████████████████████████████████████████████████████████████████▏                                                 | 1240/2084 [12:45<08:53,  1.58it/s]"
     ]
    },
    {
     "name": "stdout",
     "output_type": "stream",
     "text": [
      "0.9709677419354839 1204 1240 0\n",
      "precision 0.8818181818181818\n",
      "recall 0.8083333333333333\n",
      "accuracy 0.9709677419354839\n",
      "97 1107 13 23\n"
     ]
    },
    {
     "name": "stderr",
     "output_type": "stream",
     "text": [
      " 60%|█████████████████████████████████████████████████████████████████████████▊                                                 | 1250/2084 [12:51<08:17,  1.68it/s]"
     ]
    },
    {
     "name": "stdout",
     "output_type": "stream",
     "text": [
      "0.9704 1213 1250 0\n",
      "precision 0.8828828828828829\n",
      "recall 0.8032786885245902\n",
      "accuracy 0.9704\n",
      "98 1115 13 24\n"
     ]
    },
    {
     "name": "stderr",
     "output_type": "stream",
     "text": [
      " 60%|██████████████████████████████████████████████████████████████████████████▎                                                | 1260/2084 [12:57<08:22,  1.64it/s]"
     ]
    },
    {
     "name": "stdout",
     "output_type": "stream",
     "text": [
      "0.9698412698412698 1222 1260 0\n",
      "precision 0.8828828828828829\n",
      "recall 0.7967479674796748\n",
      "accuracy 0.9698412698412698\n",
      "98 1124 13 25\n"
     ]
    },
    {
     "name": "stderr",
     "output_type": "stream",
     "text": [
      " 61%|██████████████████████████████████████████████████████████████████████████▉                                                | 1270/2084 [13:04<08:26,  1.61it/s]"
     ]
    },
    {
     "name": "stdout",
     "output_type": "stream",
     "text": [
      "0.9700787401574803 1232 1270 0\n",
      "precision 0.8828828828828829\n",
      "recall 0.7967479674796748\n",
      "accuracy 0.9700787401574803\n",
      "98 1134 13 25\n"
     ]
    },
    {
     "name": "stderr",
     "output_type": "stream",
     "text": [
      " 61%|███████████████████████████████████████████████████████████████████████████▌                                               | 1280/2084 [13:10<08:23,  1.60it/s]"
     ]
    },
    {
     "name": "stdout",
     "output_type": "stream",
     "text": [
      "0.96953125 1241 1280 0\n",
      "precision 0.875\n",
      "recall 0.7967479674796748\n",
      "accuracy 0.96953125\n",
      "98 1143 14 25\n"
     ]
    },
    {
     "name": "stderr",
     "output_type": "stream",
     "text": [
      " 62%|████████████████████████████████████████████████████████████████████████████▏                                              | 1290/2084 [13:16<08:14,  1.61it/s]"
     ]
    },
    {
     "name": "stdout",
     "output_type": "stream",
     "text": [
      "0.9682170542635659 1249 1290 0\n",
      "precision 0.8672566371681416\n",
      "recall 0.7903225806451613\n",
      "accuracy 0.9682170542635659\n",
      "98 1151 15 26\n"
     ]
    },
    {
     "name": "stderr",
     "output_type": "stream",
     "text": [
      " 62%|████████████████████████████████████████████████████████████████████████████▋                                              | 1300/2084 [13:22<08:21,  1.56it/s]"
     ]
    },
    {
     "name": "stdout",
     "output_type": "stream",
     "text": [
      "0.9684615384615385 1259 1300 0\n",
      "precision 0.8672566371681416\n",
      "recall 0.7903225806451613\n",
      "accuracy 0.9684615384615385\n",
      "98 1161 15 26\n"
     ]
    },
    {
     "name": "stderr",
     "output_type": "stream",
     "text": [
      " 63%|█████████████████████████████████████████████████████████████████████████████▎                                             | 1310/2084 [13:29<08:03,  1.60it/s]"
     ]
    },
    {
     "name": "stdout",
     "output_type": "stream",
     "text": [
      "0.9687022900763359 1269 1310 0\n",
      "precision 0.8706896551724138\n",
      "recall 0.7952755905511811\n",
      "accuracy 0.9687022900763359\n",
      "101 1168 15 26\n"
     ]
    },
    {
     "name": "stderr",
     "output_type": "stream",
     "text": [
      " 63%|█████████████████████████████████████████████████████████████████████████████▉                                             | 1320/2084 [13:35<07:44,  1.64it/s]"
     ]
    },
    {
     "name": "stdout",
     "output_type": "stream",
     "text": [
      "0.968939393939394 1279 1320 0\n",
      "precision 0.8728813559322034\n",
      "recall 0.7984496124031008\n",
      "accuracy 0.968939393939394\n",
      "103 1176 15 26\n"
     ]
    },
    {
     "name": "stderr",
     "output_type": "stream",
     "text": [
      " 64%|██████████████████████████████████████████████████████████████████████████████▍                                            | 1330/2084 [13:41<07:54,  1.59it/s]"
     ]
    },
    {
     "name": "stdout",
     "output_type": "stream",
     "text": [
      "0.969172932330827 1289 1330 0\n",
      "precision 0.875\n",
      "recall 0.8015267175572519\n",
      "accuracy 0.969172932330827\n",
      "105 1184 15 26\n"
     ]
    },
    {
     "name": "stderr",
     "output_type": "stream",
     "text": [
      " 64%|███████████████████████████████████████████████████████████████████████████████                                            | 1340/2084 [13:48<07:30,  1.65it/s]"
     ]
    },
    {
     "name": "stdout",
     "output_type": "stream",
     "text": [
      "0.9694029850746269 1299 1340 0\n",
      "precision 0.8760330578512396\n",
      "recall 0.803030303030303\n",
      "accuracy 0.9694029850746269\n",
      "106 1193 15 26\n"
     ]
    },
    {
     "name": "stderr",
     "output_type": "stream",
     "text": [
      " 65%|███████████████████████████████████████████████████████████████████████████████▋                                           | 1350/2084 [13:54<07:26,  1.64it/s]"
     ]
    },
    {
     "name": "stdout",
     "output_type": "stream",
     "text": [
      "0.9681481481481482 1307 1350 0\n",
      "precision 0.8760330578512396\n",
      "recall 0.7910447761194029\n",
      "accuracy 0.9681481481481482\n",
      "106 1201 15 28\n"
     ]
    },
    {
     "name": "stderr",
     "output_type": "stream",
     "text": [
      " 65%|████████████████████████████████████████████████████████████████████████████████▎                                          | 1360/2084 [14:00<07:13,  1.67it/s]"
     ]
    },
    {
     "name": "stdout",
     "output_type": "stream",
     "text": [
      "0.9676470588235294 1316 1360 0\n",
      "precision 0.8760330578512396\n",
      "recall 0.7851851851851852\n",
      "accuracy 0.9676470588235294\n",
      "106 1210 15 29\n"
     ]
    },
    {
     "name": "stderr",
     "output_type": "stream",
     "text": [
      " 66%|████████████████████████████████████████████████████████████████████████████████▊                                          | 1370/2084 [14:06<07:18,  1.63it/s]"
     ]
    },
    {
     "name": "stdout",
     "output_type": "stream",
     "text": [
      "0.9678832116788321 1326 1370 0\n",
      "precision 0.8760330578512396\n",
      "recall 0.7851851851851852\n",
      "accuracy 0.9678832116788321\n",
      "106 1220 15 29\n"
     ]
    },
    {
     "name": "stderr",
     "output_type": "stream",
     "text": [
      " 66%|█████████████████████████████████████████████████████████████████████████████████▍                                         | 1380/2084 [14:12<07:18,  1.61it/s]"
     ]
    },
    {
     "name": "stdout",
     "output_type": "stream",
     "text": [
      "0.967391304347826 1335 1380 0\n",
      "precision 0.8699186991869918\n",
      "recall 0.7867647058823529\n",
      "accuracy 0.967391304347826\n",
      "107 1228 16 29\n"
     ]
    },
    {
     "name": "stderr",
     "output_type": "stream",
     "text": [
      " 67%|██████████████████████████████████████████████████████████████████████████████████                                         | 1390/2084 [14:18<07:05,  1.63it/s]"
     ]
    },
    {
     "name": "stdout",
     "output_type": "stream",
     "text": [
      "0.9676258992805755 1345 1390 0\n",
      "precision 0.8709677419354839\n",
      "recall 0.7883211678832117\n",
      "accuracy 0.9676258992805755\n",
      "108 1237 16 29\n"
     ]
    },
    {
     "name": "stderr",
     "output_type": "stream",
     "text": [
      " 67%|██████████████████████████████████████████████████████████████████████████████████▋                                        | 1400/2084 [14:25<07:00,  1.63it/s]"
     ]
    },
    {
     "name": "stdout",
     "output_type": "stream",
     "text": [
      "0.9678571428571429 1355 1400 0\n",
      "precision 0.872\n",
      "recall 0.7898550724637681\n",
      "accuracy 0.9678571428571429\n",
      "109 1246 16 29\n"
     ]
    },
    {
     "name": "stderr",
     "output_type": "stream",
     "text": [
      " 68%|███████████████████████████████████████████████████████████████████████████████████▏                                       | 1410/2084 [14:31<06:45,  1.66it/s]"
     ]
    },
    {
     "name": "stdout",
     "output_type": "stream",
     "text": [
      "0.9680851063829787 1365 1410 0\n",
      "precision 0.872\n",
      "recall 0.7898550724637681\n",
      "accuracy 0.9680851063829787\n",
      "109 1256 16 29\n"
     ]
    },
    {
     "name": "stderr",
     "output_type": "stream",
     "text": [
      " 68%|███████████████████████████████████████████████████████████████████████████████████▊                                       | 1420/2084 [14:37<06:46,  1.63it/s]"
     ]
    },
    {
     "name": "stdout",
     "output_type": "stream",
     "text": [
      "0.9683098591549296 1375 1420 0\n",
      "precision 0.873015873015873\n",
      "recall 0.7913669064748201\n",
      "accuracy 0.9683098591549296\n",
      "110 1265 16 29\n"
     ]
    },
    {
     "name": "stderr",
     "output_type": "stream",
     "text": [
      " 69%|████████████████████████████████████████████████████████████████████████████████████▍                                      | 1430/2084 [14:43<06:31,  1.67it/s]"
     ]
    },
    {
     "name": "stdout",
     "output_type": "stream",
     "text": [
      "0.9678321678321679 1384 1430 0\n",
      "precision 0.8671875\n",
      "recall 0.7928571428571428\n",
      "accuracy 0.9678321678321679\n",
      "111 1273 17 29\n"
     ]
    },
    {
     "name": "stderr",
     "output_type": "stream",
     "text": [
      " 69%|████████████████████████████████████████████████████████████████████████████████████▉                                      | 1440/2084 [14:49<06:37,  1.62it/s]"
     ]
    },
    {
     "name": "stdout",
     "output_type": "stream",
     "text": [
      "0.9680555555555556 1394 1440 0\n",
      "precision 0.8692307692307693\n",
      "recall 0.795774647887324\n",
      "accuracy 0.9680555555555556\n",
      "113 1281 17 29\n"
     ]
    },
    {
     "name": "stderr",
     "output_type": "stream",
     "text": [
      " 70%|█████████████████████████████████████████████████████████████████████████████████████▌                                     | 1450/2084 [14:55<06:29,  1.63it/s]"
     ]
    },
    {
     "name": "stdout",
     "output_type": "stream",
     "text": [
      "0.9682758620689655 1404 1450 0\n",
      "precision 0.8692307692307693\n",
      "recall 0.795774647887324\n",
      "accuracy 0.9682758620689655\n",
      "113 1291 17 29\n"
     ]
    },
    {
     "name": "stderr",
     "output_type": "stream",
     "text": [
      " 70%|██████████████████████████████████████████████████████████████████████████████████████▏                                    | 1460/2084 [15:02<06:36,  1.57it/s]"
     ]
    },
    {
     "name": "stdout",
     "output_type": "stream",
     "text": [
      "0.9684931506849315 1414 1460 0\n",
      "precision 0.8702290076335878\n",
      "recall 0.7972027972027972\n",
      "accuracy 0.9684931506849315\n",
      "114 1300 17 29\n"
     ]
    },
    {
     "name": "stderr",
     "output_type": "stream",
     "text": [
      " 71%|██████████████████████████████████████████████████████████████████████████████████████▊                                    | 1470/2084 [15:08<06:35,  1.55it/s]"
     ]
    },
    {
     "name": "stdout",
     "output_type": "stream",
     "text": [
      "0.9680272108843537 1423 1470 0\n",
      "precision 0.8636363636363636\n",
      "recall 0.7972027972027972\n",
      "accuracy 0.9680272108843537\n",
      "114 1309 18 29\n"
     ]
    },
    {
     "name": "stderr",
     "output_type": "stream",
     "text": [
      " 71%|███████████████████████████████████████████████████████████████████████████████████████▎                                   | 1480/2084 [15:14<06:10,  1.63it/s]"
     ]
    },
    {
     "name": "stdout",
     "output_type": "stream",
     "text": [
      "0.9675675675675676 1432 1480 0\n",
      "precision 0.8646616541353384\n",
      "recall 0.7931034482758621\n",
      "accuracy 0.9675675675675676\n",
      "115 1317 18 30\n"
     ]
    },
    {
     "name": "stderr",
     "output_type": "stream",
     "text": [
      " 71%|███████████████████████████████████████████████████████████████████████████████████████▉                                   | 1490/2084 [15:20<05:54,  1.67it/s]"
     ]
    },
    {
     "name": "stdout",
     "output_type": "stream",
     "text": [
      "0.9677852348993289 1442 1490 0\n",
      "precision 0.8646616541353384\n",
      "recall 0.7931034482758621\n",
      "accuracy 0.9677852348993289\n",
      "115 1327 18 30\n"
     ]
    },
    {
     "name": "stderr",
     "output_type": "stream",
     "text": [
      " 72%|████████████████████████████████████████████████████████████████████████████████████████▌                                  | 1500/2084 [15:26<06:06,  1.59it/s]"
     ]
    },
    {
     "name": "stdout",
     "output_type": "stream",
     "text": [
      "0.968 1452 1500 0\n",
      "precision 0.8646616541353384\n",
      "recall 0.7931034482758621\n",
      "accuracy 0.968\n",
      "115 1337 18 30\n"
     ]
    },
    {
     "name": "stderr",
     "output_type": "stream",
     "text": [
      " 72%|█████████████████████████████████████████████████████████████████████████████████████████                                  | 1510/2084 [15:32<05:59,  1.60it/s]"
     ]
    },
    {
     "name": "stdout",
     "output_type": "stream",
     "text": [
      "0.9682119205298013 1462 1510 0\n",
      "precision 0.8656716417910447\n",
      "recall 0.7945205479452054\n",
      "accuracy 0.9682119205298013\n",
      "116 1346 18 30\n"
     ]
    },
    {
     "name": "stderr",
     "output_type": "stream",
     "text": [
      " 73%|█████████████████████████████████████████████████████████████████████████████████████████▋                                 | 1520/2084 [15:39<05:45,  1.63it/s]"
     ]
    },
    {
     "name": "stdout",
     "output_type": "stream",
     "text": [
      "0.968421052631579 1472 1520 0\n",
      "precision 0.8666666666666667\n",
      "recall 0.7959183673469388\n",
      "accuracy 0.968421052631579\n",
      "117 1355 18 30\n"
     ]
    },
    {
     "name": "stderr",
     "output_type": "stream",
     "text": [
      " 73%|██████████████████████████████████████████████████████████████████████████████████████████▎                                | 1530/2084 [15:45<05:39,  1.63it/s]"
     ]
    },
    {
     "name": "stdout",
     "output_type": "stream",
     "text": [
      "0.9679738562091503 1481 1530 0\n",
      "precision 0.8666666666666667\n",
      "recall 0.7905405405405406\n",
      "accuracy 0.9679738562091503\n",
      "117 1364 18 31\n"
     ]
    },
    {
     "name": "stderr",
     "output_type": "stream",
     "text": [
      " 74%|██████████████████████████████████████████████████████████████████████████████████████████▉                                | 1540/2084 [15:51<05:30,  1.65it/s]"
     ]
    },
    {
     "name": "stdout",
     "output_type": "stream",
     "text": [
      "0.9681818181818181 1491 1540 0\n",
      "precision 0.8666666666666667\n",
      "recall 0.7905405405405406\n",
      "accuracy 0.9681818181818181\n",
      "117 1374 18 31\n"
     ]
    },
    {
     "name": "stderr",
     "output_type": "stream",
     "text": [
      " 74%|███████████████████████████████████████████████████████████████████████████████████████████▍                               | 1550/2084 [15:57<05:31,  1.61it/s]"
     ]
    },
    {
     "name": "stdout",
     "output_type": "stream",
     "text": [
      "0.9683870967741935 1501 1550 0\n",
      "precision 0.8676470588235294\n",
      "recall 0.7919463087248322\n",
      "accuracy 0.9683870967741935\n",
      "118 1383 18 31\n"
     ]
    },
    {
     "name": "stderr",
     "output_type": "stream",
     "text": [
      " 75%|████████████████████████████████████████████████████████████████████████████████████████████                               | 1560/2084 [16:03<05:25,  1.61it/s]"
     ]
    },
    {
     "name": "stdout",
     "output_type": "stream",
     "text": [
      "0.967948717948718 1510 1560 0\n",
      "precision 0.8623188405797102\n",
      "recall 0.7933333333333333\n",
      "accuracy 0.967948717948718\n",
      "119 1391 19 31\n"
     ]
    },
    {
     "name": "stderr",
     "output_type": "stream",
     "text": [
      " 75%|████████████████████████████████████████████████████████████████████████████████████████████▋                              | 1570/2084 [16:09<05:22,  1.59it/s]"
     ]
    },
    {
     "name": "stdout",
     "output_type": "stream",
     "text": [
      "0.9681528662420382 1520 1570 0\n",
      "precision 0.8633093525179856\n",
      "recall 0.7947019867549668\n",
      "accuracy 0.9681528662420382\n",
      "120 1400 19 31\n"
     ]
    },
    {
     "name": "stderr",
     "output_type": "stream",
     "text": [
      " 76%|█████████████████████████████████████████████████████████████████████████████████████████████▎                             | 1580/2084 [16:16<05:17,  1.59it/s]"
     ]
    },
    {
     "name": "stdout",
     "output_type": "stream",
     "text": [
      "0.9683544303797469 1530 1580 0\n",
      "precision 0.8642857142857143\n",
      "recall 0.7960526315789473\n",
      "accuracy 0.9683544303797469\n",
      "121 1409 19 31\n"
     ]
    },
    {
     "name": "stderr",
     "output_type": "stream",
     "text": [
      " 76%|█████████████████████████████████████████████████████████████████████████████████████████████▊                             | 1590/2084 [16:22<05:01,  1.64it/s]"
     ]
    },
    {
     "name": "stdout",
     "output_type": "stream",
     "text": [
      "0.9685534591194969 1540 1590 0\n",
      "precision 0.8652482269503546\n",
      "recall 0.7973856209150327\n",
      "accuracy 0.9685534591194969\n",
      "122 1418 19 31\n"
     ]
    },
    {
     "name": "stderr",
     "output_type": "stream",
     "text": [
      " 77%|██████████████████████████████████████████████████████████████████████████████████████████████▍                            | 1600/2084 [16:28<04:50,  1.67it/s]"
     ]
    },
    {
     "name": "stdout",
     "output_type": "stream",
     "text": [
      "0.96875 1550 1600 0\n",
      "precision 0.8661971830985915\n",
      "recall 0.7987012987012987\n",
      "accuracy 0.96875\n",
      "123 1427 19 31\n"
     ]
    },
    {
     "name": "stderr",
     "output_type": "stream",
     "text": [
      " 77%|███████████████████████████████████████████████████████████████████████████████████████████████                            | 1610/2084 [16:34<04:54,  1.61it/s]"
     ]
    },
    {
     "name": "stdout",
     "output_type": "stream",
     "text": [
      "0.968944099378882 1560 1610 0\n",
      "precision 0.8661971830985915\n",
      "recall 0.7987012987012987\n",
      "accuracy 0.968944099378882\n",
      "123 1437 19 31\n"
     ]
    },
    {
     "name": "stderr",
     "output_type": "stream",
     "text": [
      " 78%|███████████████████████████████████████████████████████████████████████████████████████████████▌                           | 1620/2084 [16:40<04:42,  1.64it/s]"
     ]
    },
    {
     "name": "stdout",
     "output_type": "stream",
     "text": [
      "0.9691358024691358 1570 1620 0\n",
      "precision 0.8671328671328671\n",
      "recall 0.8\n",
      "accuracy 0.9691358024691358\n",
      "124 1446 19 31\n"
     ]
    },
    {
     "name": "stderr",
     "output_type": "stream",
     "text": [
      " 78%|████████████████████████████████████████████████████████████████████████████████████████████████▏                          | 1630/2084 [16:46<04:33,  1.66it/s]"
     ]
    },
    {
     "name": "stdout",
     "output_type": "stream",
     "text": [
      "0.9687116564417177 1579 1630 0\n",
      "precision 0.8620689655172413\n",
      "recall 0.8012820512820513\n",
      "accuracy 0.9687116564417177\n",
      "125 1454 20 31\n"
     ]
    },
    {
     "name": "stderr",
     "output_type": "stream",
     "text": [
      " 79%|████████████████████████████████████████████████████████████████████████████████████████████████▊                          | 1640/2084 [16:52<04:24,  1.68it/s]"
     ]
    },
    {
     "name": "stdout",
     "output_type": "stream",
     "text": [
      "0.9682926829268292 1588 1640 0\n",
      "precision 0.8620689655172413\n",
      "recall 0.7961783439490446\n",
      "accuracy 0.9682926829268292\n",
      "125 1463 20 32\n"
     ]
    },
    {
     "name": "stderr",
     "output_type": "stream",
     "text": [
      " 79%|█████████████████████████████████████████████████████████████████████████████████████████████████▍                         | 1650/2084 [16:58<04:29,  1.61it/s]"
     ]
    },
    {
     "name": "stdout",
     "output_type": "stream",
     "text": [
      "0.9684848484848485 1598 1650 0\n",
      "precision 0.8620689655172413\n",
      "recall 0.7961783439490446\n",
      "accuracy 0.9684848484848485\n",
      "125 1473 20 32\n"
     ]
    },
    {
     "name": "stderr",
     "output_type": "stream",
     "text": [
      " 80%|█████████████████████████████████████████████████████████████████████████████████████████████████▉                         | 1660/2084 [17:04<04:18,  1.64it/s]"
     ]
    },
    {
     "name": "stdout",
     "output_type": "stream",
     "text": [
      "0.9686746987951808 1608 1660 0\n",
      "precision 0.8620689655172413\n",
      "recall 0.7961783439490446\n",
      "accuracy 0.9686746987951808\n",
      "125 1483 20 32\n"
     ]
    },
    {
     "name": "stderr",
     "output_type": "stream",
     "text": [
      " 80%|██████████████████████████████████████████████████████████████████████████████████████████████████▌                        | 1670/2084 [17:11<04:19,  1.60it/s]"
     ]
    },
    {
     "name": "stdout",
     "output_type": "stream",
     "text": [
      "0.9688622754491018 1618 1670 0\n",
      "precision 0.8620689655172413\n",
      "recall 0.7961783439490446\n",
      "accuracy 0.9688622754491018\n",
      "125 1493 20 32\n"
     ]
    },
    {
     "name": "stderr",
     "output_type": "stream",
     "text": [
      " 81%|███████████████████████████████████████████████████████████████████████████████████████████████████▏                       | 1680/2084 [17:17<04:06,  1.64it/s]"
     ]
    },
    {
     "name": "stdout",
     "output_type": "stream",
     "text": [
      "0.969047619047619 1628 1680 0\n",
      "precision 0.8620689655172413\n",
      "recall 0.7961783439490446\n",
      "accuracy 0.969047619047619\n",
      "125 1503 20 32\n"
     ]
    },
    {
     "name": "stderr",
     "output_type": "stream",
     "text": [
      " 81%|███████████████████████████████████████████████████████████████████████████████████████████████████▋                       | 1690/2084 [17:23<03:55,  1.67it/s]"
     ]
    },
    {
     "name": "stdout",
     "output_type": "stream",
     "text": [
      "0.9686390532544379 1637 1690 0\n",
      "precision 0.8561643835616438\n",
      "recall 0.7961783439490446\n",
      "accuracy 0.9686390532544379\n",
      "125 1512 21 32\n"
     ]
    },
    {
     "name": "stderr",
     "output_type": "stream",
     "text": [
      " 82%|████████████████████████████████████████████████████████████████████████████████████████████████████▎                      | 1700/2084 [17:29<03:57,  1.62it/s]"
     ]
    },
    {
     "name": "stdout",
     "output_type": "stream",
     "text": [
      "0.9688235294117648 1647 1700 0\n",
      "precision 0.8561643835616438\n",
      "recall 0.7961783439490446\n",
      "accuracy 0.9688235294117648\n",
      "125 1522 21 32\n"
     ]
    },
    {
     "name": "stderr",
     "output_type": "stream",
     "text": [
      " 82%|████████████████████████████████████████████████████████████████████████████████████████████████████▉                      | 1710/2084 [17:35<03:52,  1.61it/s]"
     ]
    },
    {
     "name": "stdout",
     "output_type": "stream",
     "text": [
      "0.9690058479532164 1657 1710 0\n",
      "precision 0.8590604026845637\n",
      "recall 0.8\n",
      "accuracy 0.9690058479532164\n",
      "128 1529 21 32\n"
     ]
    },
    {
     "name": "stderr",
     "output_type": "stream",
     "text": [
      " 83%|█████████████████████████████████████████████████████████████████████████████████████████████████████▌                     | 1720/2084 [17:42<03:49,  1.58it/s]"
     ]
    },
    {
     "name": "stdout",
     "output_type": "stream",
     "text": [
      "0.9691860465116279 1667 1720 0\n",
      "precision 0.86\n",
      "recall 0.8012422360248447\n",
      "accuracy 0.9691860465116279\n",
      "129 1538 21 32\n"
     ]
    },
    {
     "name": "stderr",
     "output_type": "stream",
     "text": [
      " 83%|██████████████████████████████████████████████████████████████████████████████████████████████████████                     | 1730/2084 [17:48<03:40,  1.61it/s]"
     ]
    },
    {
     "name": "stdout",
     "output_type": "stream",
     "text": [
      "0.969364161849711 1677 1730 0\n",
      "precision 0.86\n",
      "recall 0.8012422360248447\n",
      "accuracy 0.969364161849711\n",
      "129 1548 21 32\n"
     ]
    },
    {
     "name": "stderr",
     "output_type": "stream",
     "text": [
      " 83%|██████████████████████████████████████████████████████████████████████████████████████████████████████▋                    | 1740/2084 [17:54<03:25,  1.67it/s]"
     ]
    },
    {
     "name": "stdout",
     "output_type": "stream",
     "text": [
      "0.9695402298850575 1687 1740 0\n",
      "precision 0.86\n",
      "recall 0.8012422360248447\n",
      "accuracy 0.9695402298850575\n",
      "129 1558 21 32\n"
     ]
    },
    {
     "name": "stderr",
     "output_type": "stream",
     "text": [
      " 84%|███████████████████████████████████████████████████████████████████████████████████████████████████████▎                   | 1750/2084 [18:00<03:19,  1.67it/s]"
     ]
    },
    {
     "name": "stdout",
     "output_type": "stream",
     "text": [
      "0.9697142857142858 1697 1750 0\n",
      "precision 0.8609271523178808\n",
      "recall 0.8024691358024691\n",
      "accuracy 0.9697142857142858\n",
      "130 1567 21 32\n"
     ]
    },
    {
     "name": "stderr",
     "output_type": "stream",
     "text": [
      " 84%|███████████████████████████████████████████████████████████████████████████████████████████████████████▉                   | 1760/2084 [18:06<03:16,  1.65it/s]"
     ]
    },
    {
     "name": "stdout",
     "output_type": "stream",
     "text": [
      "0.9693181818181819 1706 1760 0\n",
      "precision 0.8618421052631579\n",
      "recall 0.7987804878048781\n",
      "accuracy 0.9693181818181819\n",
      "131 1575 21 33\n"
     ]
    },
    {
     "name": "stderr",
     "output_type": "stream",
     "text": [
      " 85%|████████████████████████████████████████████████████████████████████████████████████████████████████████▍                  | 1770/2084 [18:12<03:09,  1.65it/s]"
     ]
    },
    {
     "name": "stdout",
     "output_type": "stream",
     "text": [
      "0.9694915254237289 1716 1770 0\n",
      "precision 0.8618421052631579\n",
      "recall 0.7987804878048781\n",
      "accuracy 0.9694915254237289\n",
      "131 1585 21 33\n"
     ]
    },
    {
     "name": "stderr",
     "output_type": "stream",
     "text": [
      " 85%|█████████████████████████████████████████████████████████████████████████████████████████████████████████                  | 1780/2084 [18:18<03:09,  1.61it/s]"
     ]
    },
    {
     "name": "stdout",
     "output_type": "stream",
     "text": [
      "0.9696629213483146 1726 1780 0\n",
      "precision 0.8618421052631579\n",
      "recall 0.7987804878048781\n",
      "accuracy 0.9696629213483146\n",
      "131 1595 21 33\n"
     ]
    },
    {
     "name": "stderr",
     "output_type": "stream",
     "text": [
      " 86%|█████████████████████████████████████████████████████████████████████████████████████████████████████████▋                 | 1790/2084 [18:25<03:00,  1.63it/s]"
     ]
    },
    {
     "name": "stdout",
     "output_type": "stream",
     "text": [
      "0.9698324022346368 1736 1790 0\n",
      "precision 0.8627450980392157\n",
      "recall 0.8\n",
      "accuracy 0.9698324022346368\n",
      "132 1604 21 33\n"
     ]
    },
    {
     "name": "stderr",
     "output_type": "stream",
     "text": [
      " 86%|██████████████████████████████████████████████████████████████████████████████████████████████████████████▏                | 1800/2084 [18:31<02:51,  1.65it/s]"
     ]
    },
    {
     "name": "stdout",
     "output_type": "stream",
     "text": [
      "0.9694444444444444 1745 1800 0\n",
      "precision 0.8589743589743589\n",
      "recall 0.8023952095808383\n",
      "accuracy 0.9694444444444444\n",
      "134 1611 22 33\n"
     ]
    },
    {
     "name": "stderr",
     "output_type": "stream",
     "text": [
      " 87%|██████████████████████████████████████████████████████████████████████████████████████████████████████████▊                | 1810/2084 [18:37<02:43,  1.68it/s]"
     ]
    },
    {
     "name": "stdout",
     "output_type": "stream",
     "text": [
      "0.969060773480663 1754 1810 0\n",
      "precision 0.8598726114649682\n",
      "recall 0.7988165680473372\n",
      "accuracy 0.969060773480663\n",
      "135 1619 22 34\n"
     ]
    },
    {
     "name": "stderr",
     "output_type": "stream",
     "text": [
      " 87%|███████████████████████████████████████████████████████████████████████████████████████████████████████████▍               | 1820/2084 [18:43<02:40,  1.65it/s]"
     ]
    },
    {
     "name": "stdout",
     "output_type": "stream",
     "text": [
      "0.9692307692307692 1764 1820 0\n",
      "precision 0.8607594936708861\n",
      "recall 0.8\n",
      "accuracy 0.9692307692307692\n",
      "136 1628 22 34\n"
     ]
    },
    {
     "name": "stderr",
     "output_type": "stream",
     "text": [
      " 88%|████████████████████████████████████████████████████████████████████████████████████████████████████████████               | 1830/2084 [18:49<02:33,  1.65it/s]"
     ]
    },
    {
     "name": "stdout",
     "output_type": "stream",
     "text": [
      "0.9693989071038251 1774 1830 0\n",
      "precision 0.8616352201257862\n",
      "recall 0.8011695906432749\n",
      "accuracy 0.9693989071038251\n",
      "137 1637 22 34\n"
     ]
    },
    {
     "name": "stderr",
     "output_type": "stream",
     "text": [
      " 88%|████████████████████████████████████████████████████████████████████████████████████████████████████████████▌              | 1840/2084 [18:55<02:33,  1.59it/s]"
     ]
    },
    {
     "name": "stdout",
     "output_type": "stream",
     "text": [
      "0.9695652173913043 1784 1840 0\n",
      "precision 0.8616352201257862\n",
      "recall 0.8011695906432749\n",
      "accuracy 0.9695652173913043\n",
      "137 1647 22 34\n"
     ]
    },
    {
     "name": "stderr",
     "output_type": "stream",
     "text": [
      " 89%|█████████████████████████████████████████████████████████████████████████████████████████████████████████████▏             | 1850/2084 [19:02<02:24,  1.62it/s]"
     ]
    },
    {
     "name": "stdout",
     "output_type": "stream",
     "text": [
      "0.9697297297297297 1794 1850 0\n",
      "precision 0.8616352201257862\n",
      "recall 0.8011695906432749\n",
      "accuracy 0.9697297297297297\n",
      "137 1657 22 34\n"
     ]
    },
    {
     "name": "stderr",
     "output_type": "stream",
     "text": [
      " 89%|█████████████████████████████████████████████████████████████████████████████████████████████████████████████▊             | 1860/2084 [19:08<02:17,  1.63it/s]"
     ]
    },
    {
     "name": "stdout",
     "output_type": "stream",
     "text": [
      "0.9693548387096774 1803 1860 0\n",
      "precision 0.8571428571428571\n",
      "recall 0.8023255813953488\n",
      "accuracy 0.9693548387096774\n",
      "138 1665 23 34\n"
     ]
    },
    {
     "name": "stderr",
     "output_type": "stream",
     "text": [
      " 90%|██████████████████████████████████████████████████████████████████████████████████████████████████████████████▎            | 1870/2084 [19:14<02:07,  1.68it/s]"
     ]
    },
    {
     "name": "stdout",
     "output_type": "stream",
     "text": [
      "0.9695187165775401 1813 1870 0\n",
      "precision 0.8571428571428571\n",
      "recall 0.8023255813953488\n",
      "accuracy 0.9695187165775401\n",
      "138 1675 23 34\n"
     ]
    },
    {
     "name": "stderr",
     "output_type": "stream",
     "text": [
      " 90%|██████████████████████████████████████████████████████████████████████████████████████████████████████████████▉            | 1880/2084 [19:20<02:07,  1.60it/s]"
     ]
    },
    {
     "name": "stdout",
     "output_type": "stream",
     "text": [
      "0.9691489361702128 1822 1880 0\n",
      "precision 0.8571428571428571\n",
      "recall 0.7976878612716763\n",
      "accuracy 0.9691489361702128\n",
      "138 1684 23 35\n"
     ]
    },
    {
     "name": "stderr",
     "output_type": "stream",
     "text": [
      " 91%|███████████████████████████████████████████████████████████████████████████████████████████████████████████████▌           | 1890/2084 [19:26<02:00,  1.60it/s]"
     ]
    },
    {
     "name": "stdout",
     "output_type": "stream",
     "text": [
      "0.9693121693121693 1832 1890 0\n",
      "precision 0.8571428571428571\n",
      "recall 0.7976878612716763\n",
      "accuracy 0.9693121693121693\n",
      "138 1694 23 35\n"
     ]
    },
    {
     "name": "stderr",
     "output_type": "stream",
     "text": [
      " 91%|████████████████████████████████████████████████████████████████████████████████████████████████████████████████▏          | 1900/2084 [19:32<01:54,  1.61it/s]"
     ]
    },
    {
     "name": "stdout",
     "output_type": "stream",
     "text": [
      "0.9694736842105263 1842 1900 0\n",
      "precision 0.8580246913580247\n",
      "recall 0.7988505747126436\n",
      "accuracy 0.9694736842105263\n",
      "139 1703 23 35\n"
     ]
    },
    {
     "name": "stderr",
     "output_type": "stream",
     "text": [
      " 92%|████████████████████████████████████████████████████████████████████████████████████████████████████████████████▋          | 1910/2084 [19:39<01:47,  1.63it/s]"
     ]
    },
    {
     "name": "stdout",
     "output_type": "stream",
     "text": [
      "0.9691099476439791 1851 1910 0\n",
      "precision 0.8536585365853658\n",
      "recall 0.8\n",
      "accuracy 0.9691099476439791\n",
      "140 1711 24 35\n"
     ]
    },
    {
     "name": "stderr",
     "output_type": "stream",
     "text": [
      " 92%|█████████████████████████████████████████████████████████████████████████████████████████████████████████████████▎         | 1920/2084 [19:45<01:44,  1.58it/s]"
     ]
    },
    {
     "name": "stdout",
     "output_type": "stream",
     "text": [
      "0.9692708333333333 1861 1920 0\n",
      "precision 0.8545454545454545\n",
      "recall 0.8011363636363636\n",
      "accuracy 0.9692708333333333\n",
      "141 1720 24 35\n"
     ]
    },
    {
     "name": "stderr",
     "output_type": "stream",
     "text": [
      " 93%|█████████████████████████████████████████████████████████████████████████████████████████████████████████████████▉         | 1930/2084 [19:51<01:32,  1.66it/s]"
     ]
    },
    {
     "name": "stdout",
     "output_type": "stream",
     "text": [
      "0.9694300518134715 1871 1930 0\n",
      "precision 0.8545454545454545\n",
      "recall 0.8011363636363636\n",
      "accuracy 0.9694300518134715\n",
      "141 1730 24 35\n"
     ]
    },
    {
     "name": "stderr",
     "output_type": "stream",
     "text": [
      " 93%|██████████████████████████████████████████████████████████████████████████████████████████████████████████████████▌        | 1940/2084 [19:57<01:28,  1.63it/s]"
     ]
    },
    {
     "name": "stdout",
     "output_type": "stream",
     "text": [
      "0.9695876288659794 1881 1940 0\n",
      "precision 0.8554216867469879\n",
      "recall 0.8022598870056498\n",
      "accuracy 0.9695876288659794\n",
      "142 1739 24 35\n"
     ]
    },
    {
     "name": "stderr",
     "output_type": "stream",
     "text": [
      " 94%|███████████████████████████████████████████████████████████████████████████████████████████████████████████████████        | 1950/2084 [20:03<01:23,  1.60it/s]"
     ]
    },
    {
     "name": "stdout",
     "output_type": "stream",
     "text": [
      "0.9697435897435898 1891 1950 0\n",
      "precision 0.8571428571428571\n",
      "recall 0.8044692737430168\n",
      "accuracy 0.9697435897435898\n",
      "144 1747 24 35\n"
     ]
    },
    {
     "name": "stderr",
     "output_type": "stream",
     "text": [
      " 94%|███████████████████████████████████████████████████████████████████████████████████████████████████████████████████▋       | 1960/2084 [20:09<01:15,  1.65it/s]"
     ]
    },
    {
     "name": "stdout",
     "output_type": "stream",
     "text": [
      "0.9698979591836735 1901 1960 0\n",
      "precision 0.8579881656804734\n",
      "recall 0.8055555555555556\n",
      "accuracy 0.9698979591836735\n",
      "145 1756 24 35\n"
     ]
    },
    {
     "name": "stderr",
     "output_type": "stream",
     "text": [
      " 95%|████████████████████████████████████████████████████████████████████████████████████████████████████████████████████▎      | 1970/2084 [20:15<01:10,  1.62it/s]"
     ]
    },
    {
     "name": "stdout",
     "output_type": "stream",
     "text": [
      "0.9700507614213199 1911 1970 0\n",
      "precision 0.8579881656804734\n",
      "recall 0.8055555555555556\n",
      "accuracy 0.9700507614213199\n",
      "145 1766 24 35\n"
     ]
    },
    {
     "name": "stderr",
     "output_type": "stream",
     "text": [
      " 95%|████████████████████████████████████████████████████████████████████████████████████████████████████████████████████▊      | 1980/2084 [20:21<01:05,  1.60it/s]"
     ]
    },
    {
     "name": "stdout",
     "output_type": "stream",
     "text": [
      "0.9702020202020202 1921 1980 0\n",
      "precision 0.8579881656804734\n",
      "recall 0.8055555555555556\n",
      "accuracy 0.9702020202020202\n",
      "145 1776 24 35\n"
     ]
    },
    {
     "name": "stderr",
     "output_type": "stream",
     "text": [
      " 95%|█████████████████████████████████████████████████████████████████████████████████████████████████████████████████████▍     | 1990/2084 [20:28<00:55,  1.69it/s]"
     ]
    },
    {
     "name": "stdout",
     "output_type": "stream",
     "text": [
      "0.9703517587939698 1931 1990 0\n",
      "precision 0.8579881656804734\n",
      "recall 0.8055555555555556\n",
      "accuracy 0.9703517587939698\n",
      "145 1786 24 35\n"
     ]
    },
    {
     "name": "stderr",
     "output_type": "stream",
     "text": [
      " 96%|██████████████████████████████████████████████████████████████████████████████████████████████████████████████████████     | 2000/2084 [20:34<00:52,  1.61it/s]"
     ]
    },
    {
     "name": "stdout",
     "output_type": "stream",
     "text": [
      "0.9705 1941 2000 0\n",
      "precision 0.8579881656804734\n",
      "recall 0.8055555555555556\n",
      "accuracy 0.9705\n",
      "145 1796 24 35\n"
     ]
    },
    {
     "name": "stderr",
     "output_type": "stream",
     "text": [
      " 96%|██████████████████████████████████████████████████████████████████████████████████████████████████████████████████████▋    | 2010/2084 [20:40<00:45,  1.62it/s]"
     ]
    },
    {
     "name": "stdout",
     "output_type": "stream",
     "text": [
      "0.9701492537313433 1950 2010 0\n",
      "precision 0.8554913294797688\n",
      "recall 0.8087431693989071\n",
      "accuracy 0.9701492537313433\n",
      "148 1802 25 35\n"
     ]
    },
    {
     "name": "stderr",
     "output_type": "stream",
     "text": [
      " 97%|███████████████████████████████████████████████████████████████████████████████████████████████████████████████████████▏   | 2020/2084 [20:46<00:40,  1.57it/s]"
     ]
    },
    {
     "name": "stdout",
     "output_type": "stream",
     "text": [
      "0.9698019801980198 1959 2020 0\n",
      "precision 0.8563218390804598\n",
      "recall 0.8054054054054054\n",
      "accuracy 0.9698019801980198\n",
      "149 1810 25 36\n"
     ]
    },
    {
     "name": "stderr",
     "output_type": "stream",
     "text": [
      " 97%|███████████████████████████████████████████████████████████████████████████████████████████████████████████████████████▊   | 2030/2084 [20:52<00:33,  1.63it/s]"
     ]
    },
    {
     "name": "stdout",
     "output_type": "stream",
     "text": [
      "0.9699507389162562 1969 2030 0\n",
      "precision 0.8579545454545454\n",
      "recall 0.8074866310160428\n",
      "accuracy 0.9699507389162562\n",
      "151 1818 25 36\n"
     ]
    },
    {
     "name": "stderr",
     "output_type": "stream",
     "text": [
      " 98%|████████████████████████████████████████████████████████████████████████████████████████████████████████████████████████▍  | 2040/2084 [20:58<00:26,  1.63it/s]"
     ]
    },
    {
     "name": "stdout",
     "output_type": "stream",
     "text": [
      "0.9700980392156863 1979 2040 0\n",
      "precision 0.8579545454545454\n",
      "recall 0.8074866310160428\n",
      "accuracy 0.9700980392156863\n",
      "151 1828 25 36\n"
     ]
    },
    {
     "name": "stderr",
     "output_type": "stream",
     "text": [
      " 98%|████████████████████████████████████████████████████████████████████████████████████████████████████████████████████████▉  | 2050/2084 [21:05<00:20,  1.64it/s]"
     ]
    },
    {
     "name": "stdout",
     "output_type": "stream",
     "text": [
      "0.9702439024390244 1989 2050 0\n",
      "precision 0.8579545454545454\n",
      "recall 0.8074866310160428\n",
      "accuracy 0.9702439024390244\n",
      "151 1838 25 36\n"
     ]
    },
    {
     "name": "stderr",
     "output_type": "stream",
     "text": [
      " 99%|█████████████████████████████████████████████████████████████████████████████████████████████████████████████████████████▌ | 2060/2084 [21:11<00:14,  1.64it/s]"
     ]
    },
    {
     "name": "stdout",
     "output_type": "stream",
     "text": [
      "0.9703883495145631 1999 2060 0\n",
      "precision 0.8579545454545454\n",
      "recall 0.8074866310160428\n",
      "accuracy 0.9703883495145631\n",
      "151 1848 25 36\n"
     ]
    },
    {
     "name": "stderr",
     "output_type": "stream",
     "text": [
      " 99%|██████████████████████████████████████████████████████████████████████████████████████████████████████████████████████████▏| 2070/2084 [21:17<00:08,  1.61it/s]"
     ]
    },
    {
     "name": "stdout",
     "output_type": "stream",
     "text": [
      "0.9705314009661836 2009 2070 0\n",
      "precision 0.8587570621468926\n",
      "recall 0.8085106382978723\n",
      "accuracy 0.9705314009661836\n",
      "152 1857 25 36\n"
     ]
    },
    {
     "name": "stderr",
     "output_type": "stream",
     "text": [
      "100%|██████████████████████████████████████████████████████████████████████████████████████████████████████████████████████████▊| 2080/2084 [21:23<00:02,  1.64it/s]"
     ]
    },
    {
     "name": "stdout",
     "output_type": "stream",
     "text": [
      "0.9706730769230769 2019 2080 0\n",
      "precision 0.8595505617977528\n",
      "recall 0.8095238095238095\n",
      "accuracy 0.9706730769230769\n",
      "153 1866 25 36\n"
     ]
    },
    {
     "name": "stderr",
     "output_type": "stream",
     "text": [
      "100%|███████████████████████████████████████████████████████████████████████████████████████████████████████████████████████████| 2084/2084 [21:26<00:00,  1.62it/s]"
     ]
    },
    {
     "name": "stdout",
     "output_type": "stream",
     "text": [
      "0.9707293666026872 2023 2084 0\n",
      "153 1870 25 36\n"
     ]
    },
    {
     "name": "stderr",
     "output_type": "stream",
     "text": [
      "\n"
     ]
    }
   ],
   "source": [
    "from tqdm import tqdm\n",
    "device = \"cuda:0\"\n",
    "\n",
    "n = 0\n",
    "k = 0\n",
    "i = 0\n",
    "\n",
    "tp = 0\n",
    "fp = 0\n",
    "tn = 0\n",
    "fn = 0\n",
    "\n",
    "positive = 'korrupció'\n",
    "negative = 'egyéb'\n",
    "\n",
    "for task_in, task_out in tqdm(zip(test_set['input'], test_set['output']), total=len(test_set)):\n",
    "    if not task_in.startswith('[korrupció klasszifikáció]'):\n",
    "        continue\n",
    "    with torch.cuda.amp.autocast():\n",
    "        text = task_in\n",
    "        inputs = tokenizer(text, return_tensors=\"pt\").to(device)\n",
    "        if len(inputs['input_ids'][0]) > 2048:\n",
    "            continue\n",
    "        outputs = model.generate(input_ids=inputs['input_ids'], max_new_tokens=4)\n",
    "        result = tokenizer.decode(outputs[0], skip_special_tokens=True)\n",
    "        #print(result[result.rfind(':')+2:].strip())\n",
    "        #print(task_out.strip())\n",
    "        n += 1\n",
    "        sresult = result[result.rfind(':')+2:].strip()\n",
    "        slabel = task_out.strip()\n",
    "        if sresult not in ['korrupció', 'egyéb']:\n",
    "            i += 1\n",
    "        if sresult == positive and slabel == positive:\n",
    "            tp += 1\n",
    "        elif sresult == negative and slabel == negative:\n",
    "            tn += 1\n",
    "        elif sresult == positive and slabel == negative:\n",
    "            fp += 1\n",
    "        elif sresult == negative and slabel == positive:\n",
    "            fn += 1\n",
    "        if task_out.strip() == (result[result.rfind(':')+2:].strip()):\n",
    "            k += 1\n",
    "    if n % 10 == 0 and n > 0 and tp+fp > 0 and tp+fn > 0:\n",
    "        print(k/n, k, n, i)\n",
    "        print('precision', tp/(tp+fp))\n",
    "        print('recall', tp/(tp+fn))\n",
    "        print('accuracy', (tp+tn)/(tp+tn+fp+fn))\n",
    "        print(tp, tn, fp, fn)\n",
    "\n",
    "\n",
    "print(k/n, k, n, i)\n",
    "\n",
    "print(tp, tn, fp, fn)"
   ]
  },
  {
   "cell_type": "code",
   "execution_count": 17,
   "id": "37f8272d-d3a7-4ac5-90b9-9a5ad8f2f48b",
   "metadata": {},
   "outputs": [
    {
     "name": "stdout",
     "output_type": "stream",
     "text": [
      "precision 0.8595505617977528\n",
      "recall 0.8095238095238095\n",
      "accuracy 0.9707293666026872\n"
     ]
    }
   ],
   "source": [
    "print('precision', tp/(tp+fp))\n",
    "print('recall', tp/(tp+fn))\n",
    "print('accuracy', (tp+tn)/(tp+tn+fp+fn))"
   ]
  },
  {
   "cell_type": "code",
   "execution_count": null,
   "id": "5bf3b153-f941-4133-8f99-4c1fedcaaa09",
   "metadata": {},
   "outputs": [],
   "source": []
  }
 ],
 "metadata": {
  "kernelspec": {
   "display_name": "Python 3 (ipykernel)",
   "language": "python",
   "name": "python3"
  },
  "language_info": {
   "codemirror_mode": {
    "name": "ipython",
    "version": 3
   },
   "file_extension": ".py",
   "mimetype": "text/x-python",
   "name": "python",
   "nbconvert_exporter": "python",
   "pygments_lexer": "ipython3",
   "version": "3.10.10"
  }
 },
 "nbformat": 4,
 "nbformat_minor": 5
}
