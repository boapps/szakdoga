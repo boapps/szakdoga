{
 "cells": [
  {
   "cell_type": "code",
   "execution_count": 1,
   "id": "f44ac653-372d-46ea-8bf8-700dd61ce65c",
   "metadata": {},
   "outputs": [
    {
     "name": "stdout",
     "output_type": "stream",
     "text": [
      "\n",
      "===================================BUG REPORT===================================\n",
      "Welcome to bitsandbytes. For bug reports, please run\n",
      "\n",
      "python -m bitsandbytes\n",
      "\n",
      " and submit this information together with your error trace to: https://github.com/TimDettmers/bitsandbytes/issues\n",
      "================================================================================\n",
      "bin /home/boa/.conda/envs/ai/lib/python3.10/site-packages/bitsandbytes/libbitsandbytes_cuda117.so\n",
      "CUDA SETUP: CUDA runtime path found: /home/boa/.conda/envs/ai/lib/libcudart.so\n",
      "CUDA SETUP: Highest compute capability among GPUs detected: 8.6\n",
      "CUDA SETUP: Detected CUDA version 117\n",
      "CUDA SETUP: Loading binary /home/boa/.conda/envs/ai/lib/python3.10/site-packages/bitsandbytes/libbitsandbytes_cuda117.so...\n"
     ]
    },
    {
     "name": "stderr",
     "output_type": "stream",
     "text": [
      "/home/boa/.conda/envs/ai/lib/python3.10/site-packages/bitsandbytes/cuda_setup/main.py:149: UserWarning: Found duplicate ['libcudart.so', 'libcudart.so.11.0', 'libcudart.so.12.0'] files: {PosixPath('/home/boa/.conda/envs/ai/lib/libcudart.so'), PosixPath('/home/boa/.conda/envs/ai/lib/libcudart.so.11.0')}.. We'll flip a coin and try one of these, in order to fail forward.\n",
      "Either way, this might cause trouble in the future:\n",
      "If you get `CUDA error: invalid device function` errors, the above might be the cause and the solution is to make sure only one ['libcudart.so', 'libcudart.so.11.0', 'libcudart.so.12.0'] in the paths that we search based on your env.\n",
      "  warn(msg)\n"
     ]
    },
    {
     "data": {
      "application/vnd.jupyter.widget-view+json": {
       "model_id": "32441ad31c964d298192f66e4d51dbb9",
       "version_major": 2,
       "version_minor": 0
      },
      "text/plain": [
       "Loading checkpoint shards:   0%|          | 0/2 [00:00<?, ?it/s]"
      ]
     },
     "metadata": {},
     "output_type": "display_data"
    }
   ],
   "source": [
    "from transformers import AutoModelForCausalLM, AutoTokenizer\n",
    "from peft import PeftModel, PeftConfig\n",
    "from transformers import BitsAndBytesConfig\n",
    "import torch\n",
    "\n",
    "model_id = \"huggyllama/llama-7b\"\n",
    "peft_model_id = './training/qlora-tasks-7b-v1.9.1/checkpoint-6000/adapter_model'\n",
    "\n",
    "config = PeftConfig.from_pretrained(peft_model_id)\n",
    "model = AutoModelForCausalLM.from_pretrained(\n",
    "    'huggyllama/llama-7b',\n",
    "    load_in_4bit=True,\n",
    "    device_map='auto',\n",
    "    torch_dtype=torch.bfloat16,\n",
    "    quantization_config=BitsAndBytesConfig(\n",
    "        load_in_4bit=True,\n",
    "        bnb_4bit_compute_dtype=torch.bfloat16,\n",
    "        bnb_4bit_use_double_quant=True,\n",
    "        bnb_4bit_quant_type='nf4'\n",
    "    ),\n",
    ")\n",
    "model = PeftModel.from_pretrained(model, peft_model_id)\n",
    "\n",
    "tokenizer = AutoTokenizer.from_pretrained(model_id)"
   ]
  },
  {
   "cell_type": "code",
   "execution_count": 2,
   "id": "62df415a-b652-49fd-a56f-1d70ec294ec7",
   "metadata": {},
   "outputs": [
    {
     "name": "stderr",
     "output_type": "stream",
     "text": [
      "<frozen importlib._bootstrap>:241: RuntimeWarning: pyarrow._fs.FileInfo size changed, may indicate binary incompatibility. Expected 64 from C header, got 88 from PyObject\n",
      "<frozen importlib._bootstrap>:241: RuntimeWarning: pyarrow._fs.FileSelector size changed, may indicate binary incompatibility. Expected 48 from C header, got 72 from PyObject\n"
     ]
    }
   ],
   "source": [
    "from datasets import concatenate_datasets, load_from_disk, DatasetDict\n",
    "combined_tasks = load_from_disk('datasets/tasks/combined_task_dataset_io_notags/')"
   ]
  },
  {
   "cell_type": "code",
   "execution_count": 3,
   "id": "39c189f3-7e2e-4c41-ad4d-24d11b6b8dd2",
   "metadata": {},
   "outputs": [
    {
     "data": {
      "text/plain": [
       "' egyéb\\n'"
      ]
     },
     "execution_count": 3,
     "metadata": {},
     "output_type": "execute_result"
    }
   ],
   "source": [
    "combined_tasks['test']['output'][0]"
   ]
  },
  {
   "cell_type": "code",
   "execution_count": 4,
   "id": "5f6c023f-dafa-42e0-9334-a83d8b6c3e50",
   "metadata": {},
   "outputs": [
    {
     "data": {
      "application/vnd.jupyter.widget-view+json": {
       "model_id": "467a99eae2574d8596e0e83f51ddec27",
       "version_major": 2,
       "version_minor": 0
      },
      "text/plain": [
       "Filter:   0%|          | 0/24000 [00:00<?, ? examples/s]"
      ]
     },
     "metadata": {},
     "output_type": "display_data"
    },
    {
     "data": {
      "application/vnd.jupyter.widget-view+json": {
       "model_id": "a83341b965e54bb2b5958b82411c25ad",
       "version_major": 2,
       "version_minor": 0
      },
      "text/plain": [
       "Filter:   0%|          | 0/4500 [00:00<?, ? examples/s]"
      ]
     },
     "metadata": {},
     "output_type": "display_data"
    },
    {
     "data": {
      "application/vnd.jupyter.widget-view+json": {
       "model_id": "09b3b96d39924b7fb052c782b5987263",
       "version_major": 2,
       "version_minor": 0
      },
      "text/plain": [
       "Filter:   0%|          | 0/2250 [00:00<?, ? examples/s]"
      ]
     },
     "metadata": {},
     "output_type": "display_data"
    }
   ],
   "source": [
    "combined_tasks = combined_tasks.filter(lambda data: data['input'].startswith('[korrupció klasszifikáció]'))"
   ]
  },
  {
   "cell_type": "code",
   "execution_count": 5,
   "id": "9bcdbb64-0551-4638-b626-d38275bd4238",
   "metadata": {},
   "outputs": [
    {
     "data": {
      "application/vnd.jupyter.widget-view+json": {
       "model_id": "ed0f063bda5146b1bcf737c06f70ffb8",
       "version_major": 2,
       "version_minor": 0
      },
      "text/plain": [
       "Filter:   0%|          | 0/24000 [00:00<?, ? examples/s]"
      ]
     },
     "metadata": {},
     "output_type": "display_data"
    },
    {
     "data": {
      "application/vnd.jupyter.widget-view+json": {
       "model_id": "8a8e27050c1347c592f0b704e12bce94",
       "version_major": 2,
       "version_minor": 0
      },
      "text/plain": [
       "Filter:   0%|          | 0/4500 [00:00<?, ? examples/s]"
      ]
     },
     "metadata": {},
     "output_type": "display_data"
    },
    {
     "data": {
      "application/vnd.jupyter.widget-view+json": {
       "model_id": "53d25cfb2a6a457292f89fdee8953df3",
       "version_major": 2,
       "version_minor": 0
      },
      "text/plain": [
       "Filter:   0%|          | 0/2250 [00:00<?, ? examples/s]"
      ]
     },
     "metadata": {},
     "output_type": "display_data"
    },
    {
     "data": {
      "application/vnd.jupyter.widget-view+json": {
       "model_id": "0b9ab21a6e2a42a6ba7dc110fad72e63",
       "version_major": 2,
       "version_minor": 0
      },
      "text/plain": [
       "Filter:   0%|          | 0/24000 [00:00<?, ? examples/s]"
      ]
     },
     "metadata": {},
     "output_type": "display_data"
    },
    {
     "data": {
      "application/vnd.jupyter.widget-view+json": {
       "model_id": "698c7cd6bf3f44d9b583a5c4173f2cd5",
       "version_major": 2,
       "version_minor": 0
      },
      "text/plain": [
       "Filter:   0%|          | 0/4500 [00:00<?, ? examples/s]"
      ]
     },
     "metadata": {},
     "output_type": "display_data"
    },
    {
     "data": {
      "application/vnd.jupyter.widget-view+json": {
       "model_id": "6ce4e49bac5f4d3fb2d2c46e8bde3043",
       "version_major": 2,
       "version_minor": 0
      },
      "text/plain": [
       "Filter:   0%|          | 0/2250 [00:00<?, ? examples/s]"
      ]
     },
     "metadata": {},
     "output_type": "display_data"
    }
   ],
   "source": [
    "pos_tasks = combined_tasks.filter(lambda data: data['output'] == ' korrupció\\n')\n",
    "neg_tasks = combined_tasks.filter(lambda data: data['output'] != ' korrupció\\n')"
   ]
  },
  {
   "cell_type": "code",
   "execution_count": 6,
   "id": "06de10fb-c9c6-4962-a03e-789489e61698",
   "metadata": {},
   "outputs": [
    {
     "data": {
      "text/plain": [
       "DatasetDict({\n",
       "    train: Dataset({\n",
       "        features: ['theme', 'input', 'output'],\n",
       "        num_rows: 8000\n",
       "    })\n",
       "    validation: Dataset({\n",
       "        features: ['theme', 'input', 'output'],\n",
       "        num_rows: 1500\n",
       "    })\n",
       "    test: Dataset({\n",
       "        features: ['theme', 'input', 'output'],\n",
       "        num_rows: 750\n",
       "    })\n",
       "})"
      ]
     },
     "execution_count": 6,
     "metadata": {},
     "output_type": "execute_result"
    }
   ],
   "source": [
    "neg_tasks"
   ]
  },
  {
   "cell_type": "code",
   "execution_count": 7,
   "id": "66d0591e-8152-442b-ae33-a7fa19270fb6",
   "metadata": {},
   "outputs": [],
   "source": [
    "pos_tasks['train'] = pos_tasks['train'].select(range(250))\n",
    "pos_tasks['validation'] = pos_tasks['validation'].select(range(150))\n",
    "pos_tasks['test'] = pos_tasks['test'].select(range(75))"
   ]
  },
  {
   "cell_type": "code",
   "execution_count": 8,
   "id": "f4e536de-941d-4544-ba03-4de8d42d31bd",
   "metadata": {},
   "outputs": [
    {
     "data": {
      "text/plain": [
       "DatasetDict({\n",
       "    train: Dataset({\n",
       "        features: ['theme', 'input', 'output'],\n",
       "        num_rows: 8250\n",
       "    })\n",
       "    validation: Dataset({\n",
       "        features: ['theme', 'input', 'output'],\n",
       "        num_rows: 1650\n",
       "    })\n",
       "    test: Dataset({\n",
       "        features: ['theme', 'input', 'output'],\n",
       "        num_rows: 825\n",
       "    })\n",
       "})"
      ]
     },
     "execution_count": 8,
     "metadata": {},
     "output_type": "execute_result"
    }
   ],
   "source": [
    "from datasets import concatenate_datasets, load_dataset, DatasetDict\n",
    "\n",
    "real_dataset = DatasetDict()\n",
    "\n",
    "real_dataset['train'] = concatenate_datasets([pos_tasks['train'], neg_tasks['train']])\n",
    "real_dataset['validation'] = concatenate_datasets([pos_tasks['validation'], neg_tasks['validation']])\n",
    "real_dataset['test'] = concatenate_datasets([pos_tasks['test'], neg_tasks['test']])\n",
    "\n",
    "real_dataset"
   ]
  },
  {
   "cell_type": "code",
   "execution_count": 9,
   "id": "d9caef94-72af-4097-aff4-d7cf4386ca09",
   "metadata": {},
   "outputs": [
    {
     "name": "stderr",
     "output_type": "stream",
     "text": [
      "  1%|█▌                                                                                                                            | 10/825 [00:07<09:01,  1.51it/s]"
     ]
    },
    {
     "name": "stdout",
     "output_type": "stream",
     "text": [
      "0.9 9 10 0\n",
      "precision 1.0\n",
      "recall 0.9\n",
      "accuracy 0.9\n",
      "9 0 0 1\n"
     ]
    },
    {
     "name": "stderr",
     "output_type": "stream",
     "text": [
      "  2%|███                                                                                                                           | 20/825 [00:14<08:49,  1.52it/s]"
     ]
    },
    {
     "name": "stdout",
     "output_type": "stream",
     "text": [
      "0.95 19 20 0\n",
      "precision 1.0\n",
      "recall 0.95\n",
      "accuracy 0.95\n",
      "19 0 0 1\n"
     ]
    },
    {
     "name": "stderr",
     "output_type": "stream",
     "text": [
      "  4%|████▌                                                                                                                         | 30/825 [00:20<08:47,  1.51it/s]"
     ]
    },
    {
     "name": "stdout",
     "output_type": "stream",
     "text": [
      "0.9 27 30 0\n",
      "precision 1.0\n",
      "recall 0.9\n",
      "accuracy 0.9\n",
      "27 0 0 3\n"
     ]
    },
    {
     "name": "stderr",
     "output_type": "stream",
     "text": [
      "  5%|██████                                                                                                                        | 40/825 [00:26<08:37,  1.52it/s]"
     ]
    },
    {
     "name": "stdout",
     "output_type": "stream",
     "text": [
      "0.925 37 40 0\n",
      "precision 1.0\n",
      "recall 0.925\n",
      "accuracy 0.925\n",
      "37 0 0 3\n"
     ]
    },
    {
     "name": "stderr",
     "output_type": "stream",
     "text": [
      "  6%|███████▋                                                                                                                      | 50/825 [00:33<08:02,  1.61it/s]"
     ]
    },
    {
     "name": "stdout",
     "output_type": "stream",
     "text": [
      "0.94 47 50 0\n",
      "precision 1.0\n",
      "recall 0.94\n",
      "accuracy 0.94\n",
      "47 0 0 3\n"
     ]
    },
    {
     "name": "stderr",
     "output_type": "stream",
     "text": [
      "  7%|█████████▏                                                                                                                    | 60/825 [00:39<07:55,  1.61it/s]"
     ]
    },
    {
     "name": "stdout",
     "output_type": "stream",
     "text": [
      "0.95 57 60 0\n",
      "precision 1.0\n",
      "recall 0.95\n",
      "accuracy 0.95\n",
      "57 0 0 3\n"
     ]
    },
    {
     "name": "stderr",
     "output_type": "stream",
     "text": [
      "  8%|██████████▋                                                                                                                   | 70/825 [00:45<08:00,  1.57it/s]"
     ]
    },
    {
     "name": "stdout",
     "output_type": "stream",
     "text": [
      "0.9428571428571428 66 70 0\n",
      "precision 1.0\n",
      "recall 0.9428571428571428\n",
      "accuracy 0.9428571428571428\n",
      "66 0 0 4\n"
     ]
    },
    {
     "name": "stderr",
     "output_type": "stream",
     "text": [
      " 10%|████████████▏                                                                                                                 | 80/825 [00:51<07:19,  1.69it/s]"
     ]
    },
    {
     "name": "stdout",
     "output_type": "stream",
     "text": [
      "0.9375 75 80 0\n",
      "precision 0.9861111111111112\n",
      "recall 0.9466666666666667\n",
      "accuracy 0.9375\n",
      "71 4 1 4\n"
     ]
    },
    {
     "name": "stderr",
     "output_type": "stream",
     "text": [
      " 11%|█████████████▋                                                                                                                | 90/825 [00:58<07:23,  1.66it/s]"
     ]
    },
    {
     "name": "stdout",
     "output_type": "stream",
     "text": [
      "0.9444444444444444 85 90 0\n",
      "precision 0.9861111111111112\n",
      "recall 0.9466666666666667\n",
      "accuracy 0.9444444444444444\n",
      "71 14 1 4\n"
     ]
    },
    {
     "name": "stderr",
     "output_type": "stream",
     "text": [
      " 12%|███████████████▏                                                                                                             | 100/825 [01:04<07:35,  1.59it/s]"
     ]
    },
    {
     "name": "stdout",
     "output_type": "stream",
     "text": [
      "0.95 95 100 0\n",
      "precision 0.9861111111111112\n",
      "recall 0.9466666666666667\n",
      "accuracy 0.95\n",
      "71 24 1 4\n"
     ]
    },
    {
     "name": "stderr",
     "output_type": "stream",
     "text": [
      " 13%|████████████████▋                                                                                                            | 110/825 [01:10<07:22,  1.61it/s]"
     ]
    },
    {
     "name": "stdout",
     "output_type": "stream",
     "text": [
      "0.9454545454545454 104 110 0\n",
      "precision 0.9726027397260274\n",
      "recall 0.9466666666666667\n",
      "accuracy 0.9454545454545454\n",
      "71 33 2 4\n"
     ]
    },
    {
     "name": "stderr",
     "output_type": "stream",
     "text": [
      " 15%|██████████████████▏                                                                                                          | 120/825 [01:16<06:58,  1.69it/s]"
     ]
    },
    {
     "name": "stdout",
     "output_type": "stream",
     "text": [
      "0.9333333333333333 112 120 0\n",
      "precision 0.9466666666666667\n",
      "recall 0.9466666666666667\n",
      "accuracy 0.9333333333333333\n",
      "71 41 4 4\n"
     ]
    },
    {
     "name": "stderr",
     "output_type": "stream",
     "text": [
      " 16%|███████████████████▋                                                                                                         | 130/825 [01:22<06:50,  1.69it/s]"
     ]
    },
    {
     "name": "stdout",
     "output_type": "stream",
     "text": [
      "0.9307692307692308 121 130 0\n",
      "precision 0.9342105263157895\n",
      "recall 0.9466666666666667\n",
      "accuracy 0.9307692307692308\n",
      "71 50 5 4\n"
     ]
    },
    {
     "name": "stderr",
     "output_type": "stream",
     "text": [
      " 17%|█████████████████████▏                                                                                                       | 140/825 [01:28<06:50,  1.67it/s]"
     ]
    },
    {
     "name": "stdout",
     "output_type": "stream",
     "text": [
      "0.9357142857142857 131 140 0\n",
      "precision 0.9342105263157895\n",
      "recall 0.9466666666666667\n",
      "accuracy 0.9357142857142857\n",
      "71 60 5 4\n"
     ]
    },
    {
     "name": "stderr",
     "output_type": "stream",
     "text": [
      " 18%|██████████████████████▋                                                                                                      | 150/825 [01:34<06:57,  1.62it/s]"
     ]
    },
    {
     "name": "stdout",
     "output_type": "stream",
     "text": [
      "0.9266666666666666 139 150 0\n",
      "precision 0.9102564102564102\n",
      "recall 0.9466666666666667\n",
      "accuracy 0.9266666666666666\n",
      "71 68 7 4\n"
     ]
    },
    {
     "name": "stderr",
     "output_type": "stream",
     "text": [
      " 19%|████████████████████████▏                                                                                                    | 160/825 [01:40<06:27,  1.71it/s]"
     ]
    },
    {
     "name": "stdout",
     "output_type": "stream",
     "text": [
      "0.91875 147 160 0\n",
      "precision 0.8875\n",
      "recall 0.9466666666666667\n",
      "accuracy 0.91875\n",
      "71 76 9 4\n"
     ]
    },
    {
     "name": "stderr",
     "output_type": "stream",
     "text": [
      " 21%|█████████████████████████▊                                                                                                   | 170/825 [01:46<06:28,  1.68it/s]"
     ]
    },
    {
     "name": "stdout",
     "output_type": "stream",
     "text": [
      "0.9235294117647059 157 170 0\n",
      "precision 0.8875\n",
      "recall 0.9466666666666667\n",
      "accuracy 0.9235294117647059\n",
      "71 86 9 4\n"
     ]
    },
    {
     "name": "stderr",
     "output_type": "stream",
     "text": [
      " 22%|███████████████████████████▎                                                                                                 | 180/825 [01:53<06:36,  1.62it/s]"
     ]
    },
    {
     "name": "stdout",
     "output_type": "stream",
     "text": [
      "0.9166666666666666 165 180 0\n",
      "precision 0.8658536585365854\n",
      "recall 0.9466666666666667\n",
      "accuracy 0.9166666666666666\n",
      "71 94 11 4\n"
     ]
    },
    {
     "name": "stderr",
     "output_type": "stream",
     "text": [
      " 23%|████████████████████████████▊                                                                                                | 190/825 [01:59<06:30,  1.63it/s]"
     ]
    },
    {
     "name": "stdout",
     "output_type": "stream",
     "text": [
      "0.9105263157894737 173 190 0\n",
      "precision 0.8452380952380952\n",
      "recall 0.9466666666666667\n",
      "accuracy 0.9105263157894737\n",
      "71 102 13 4\n"
     ]
    },
    {
     "name": "stderr",
     "output_type": "stream",
     "text": [
      " 24%|██████████████████████████████▎                                                                                              | 200/825 [02:05<06:20,  1.64it/s]"
     ]
    },
    {
     "name": "stdout",
     "output_type": "stream",
     "text": [
      "0.915 183 200 0\n",
      "precision 0.8452380952380952\n",
      "recall 0.9466666666666667\n",
      "accuracy 0.915\n",
      "71 112 13 4\n"
     ]
    },
    {
     "name": "stderr",
     "output_type": "stream",
     "text": [
      " 25%|███████████████████████████████▊                                                                                             | 210/825 [02:11<06:03,  1.69it/s]"
     ]
    },
    {
     "name": "stdout",
     "output_type": "stream",
     "text": [
      "0.919047619047619 193 210 0\n",
      "precision 0.8452380952380952\n",
      "recall 0.9466666666666667\n",
      "accuracy 0.919047619047619\n",
      "71 122 13 4\n"
     ]
    },
    {
     "name": "stderr",
     "output_type": "stream",
     "text": [
      " 27%|█████████████████████████████████▎                                                                                           | 220/825 [02:17<06:06,  1.65it/s]"
     ]
    },
    {
     "name": "stdout",
     "output_type": "stream",
     "text": [
      "0.9181818181818182 202 220 0\n",
      "precision 0.8352941176470589\n",
      "recall 0.9466666666666667\n",
      "accuracy 0.9181818181818182\n",
      "71 131 14 4\n"
     ]
    },
    {
     "name": "stderr",
     "output_type": "stream",
     "text": [
      " 28%|██████████████████████████████████▊                                                                                          | 230/825 [02:23<05:54,  1.68it/s]"
     ]
    },
    {
     "name": "stdout",
     "output_type": "stream",
     "text": [
      "0.9173913043478261 211 230 0\n",
      "precision 0.8255813953488372\n",
      "recall 0.9466666666666667\n",
      "accuracy 0.9173913043478261\n",
      "71 140 15 4\n"
     ]
    },
    {
     "name": "stderr",
     "output_type": "stream",
     "text": [
      " 29%|████████████████████████████████████▎                                                                                        | 240/825 [02:29<06:01,  1.62it/s]"
     ]
    },
    {
     "name": "stdout",
     "output_type": "stream",
     "text": [
      "0.9208333333333333 221 240 0\n",
      "precision 0.8255813953488372\n",
      "recall 0.9466666666666667\n",
      "accuracy 0.9208333333333333\n",
      "71 150 15 4\n"
     ]
    },
    {
     "name": "stderr",
     "output_type": "stream",
     "text": [
      " 30%|█████████████████████████████████████▉                                                                                       | 250/825 [02:35<05:46,  1.66it/s]"
     ]
    },
    {
     "name": "stdout",
     "output_type": "stream",
     "text": [
      "0.924 231 250 0\n",
      "precision 0.8255813953488372\n",
      "recall 0.9466666666666667\n",
      "accuracy 0.924\n",
      "71 160 15 4\n"
     ]
    },
    {
     "name": "stderr",
     "output_type": "stream",
     "text": [
      " 32%|███████████████████████████████████████▍                                                                                     | 260/825 [02:41<05:34,  1.69it/s]"
     ]
    },
    {
     "name": "stdout",
     "output_type": "stream",
     "text": [
      "0.926923076923077 241 260 0\n",
      "precision 0.8255813953488372\n",
      "recall 0.9466666666666667\n",
      "accuracy 0.926923076923077\n",
      "71 170 15 4\n"
     ]
    },
    {
     "name": "stderr",
     "output_type": "stream",
     "text": [
      " 33%|████████████████████████████████████████▉                                                                                    | 270/825 [02:47<05:18,  1.74it/s]"
     ]
    },
    {
     "name": "stdout",
     "output_type": "stream",
     "text": [
      "0.9259259259259259 250 270 0\n",
      "precision 0.8160919540229885\n",
      "recall 0.9466666666666667\n",
      "accuracy 0.9259259259259259\n",
      "71 179 16 4\n"
     ]
    },
    {
     "name": "stderr",
     "output_type": "stream",
     "text": [
      " 34%|██████████████████████████████████████████▍                                                                                  | 280/825 [02:53<05:34,  1.63it/s]"
     ]
    },
    {
     "name": "stdout",
     "output_type": "stream",
     "text": [
      "0.925 259 280 0\n",
      "precision 0.8068181818181818\n",
      "recall 0.9466666666666667\n",
      "accuracy 0.925\n",
      "71 188 17 4\n"
     ]
    },
    {
     "name": "stderr",
     "output_type": "stream",
     "text": [
      " 35%|███████████████████████████████████████████▉                                                                                 | 290/825 [02:59<05:26,  1.64it/s]"
     ]
    },
    {
     "name": "stdout",
     "output_type": "stream",
     "text": [
      "0.9275862068965517 269 290 0\n",
      "precision 0.8068181818181818\n",
      "recall 0.9466666666666667\n",
      "accuracy 0.9275862068965517\n",
      "71 198 17 4\n"
     ]
    },
    {
     "name": "stderr",
     "output_type": "stream",
     "text": [
      " 36%|█████████████████████████████████████████████▍                                                                               | 300/825 [03:05<05:23,  1.62it/s]"
     ]
    },
    {
     "name": "stdout",
     "output_type": "stream",
     "text": [
      "0.9233333333333333 277 300 0\n",
      "precision 0.7888888888888889\n",
      "recall 0.9466666666666667\n",
      "accuracy 0.9233333333333333\n",
      "71 206 19 4\n"
     ]
    },
    {
     "name": "stderr",
     "output_type": "stream",
     "text": [
      " 38%|██████████████████████████████████████████████▉                                                                              | 310/825 [03:11<05:16,  1.62it/s]"
     ]
    },
    {
     "name": "stdout",
     "output_type": "stream",
     "text": [
      "0.9225806451612903 286 310 0\n",
      "precision 0.7802197802197802\n",
      "recall 0.9466666666666667\n",
      "accuracy 0.9225806451612903\n",
      "71 215 20 4\n"
     ]
    },
    {
     "name": "stderr",
     "output_type": "stream",
     "text": [
      " 39%|████████████████████████████████████████████████▍                                                                            | 320/825 [03:17<05:05,  1.65it/s]"
     ]
    },
    {
     "name": "stdout",
     "output_type": "stream",
     "text": [
      "0.925 296 320 0\n",
      "precision 0.7802197802197802\n",
      "recall 0.9466666666666667\n",
      "accuracy 0.925\n",
      "71 225 20 4\n"
     ]
    },
    {
     "name": "stderr",
     "output_type": "stream",
     "text": [
      " 40%|██████████████████████████████████████████████████                                                                           | 330/825 [03:23<05:00,  1.65it/s]"
     ]
    },
    {
     "name": "stdout",
     "output_type": "stream",
     "text": [
      "0.9242424242424242 305 330 0\n",
      "precision 0.7717391304347826\n",
      "recall 0.9466666666666667\n",
      "accuracy 0.9242424242424242\n",
      "71 234 21 4\n"
     ]
    },
    {
     "name": "stderr",
     "output_type": "stream",
     "text": [
      " 41%|███████████████████████████████████████████████████▌                                                                         | 340/825 [03:29<04:46,  1.69it/s]"
     ]
    },
    {
     "name": "stdout",
     "output_type": "stream",
     "text": [
      "0.9235294117647059 314 340 0\n",
      "precision 0.7634408602150538\n",
      "recall 0.9466666666666667\n",
      "accuracy 0.9235294117647059\n",
      "71 243 22 4\n"
     ]
    },
    {
     "name": "stderr",
     "output_type": "stream",
     "text": [
      " 42%|█████████████████████████████████████████████████████                                                                        | 350/825 [03:35<04:59,  1.59it/s]"
     ]
    },
    {
     "name": "stdout",
     "output_type": "stream",
     "text": [
      "0.9228571428571428 323 350 0\n",
      "precision 0.7553191489361702\n",
      "recall 0.9466666666666667\n",
      "accuracy 0.9228571428571428\n",
      "71 252 23 4\n"
     ]
    },
    {
     "name": "stderr",
     "output_type": "stream",
     "text": [
      " 44%|██████████████████████████████████████████████████████▌                                                                      | 360/825 [03:41<04:35,  1.69it/s]"
     ]
    },
    {
     "name": "stdout",
     "output_type": "stream",
     "text": [
      "0.925 333 360 0\n",
      "precision 0.7553191489361702\n",
      "recall 0.9466666666666667\n",
      "accuracy 0.925\n",
      "71 262 23 4\n"
     ]
    },
    {
     "name": "stderr",
     "output_type": "stream",
     "text": [
      " 45%|████████████████████████████████████████████████████████                                                                     | 370/825 [03:47<04:25,  1.71it/s]"
     ]
    },
    {
     "name": "stdout",
     "output_type": "stream",
     "text": [
      "0.927027027027027 343 370 0\n",
      "precision 0.7553191489361702\n",
      "recall 0.9466666666666667\n",
      "accuracy 0.927027027027027\n",
      "71 272 23 4\n"
     ]
    },
    {
     "name": "stderr",
     "output_type": "stream",
     "text": [
      " 46%|█████████████████████████████████████████████████████████▌                                                                   | 380/825 [03:53<04:25,  1.68it/s]"
     ]
    },
    {
     "name": "stdout",
     "output_type": "stream",
     "text": [
      "0.9263157894736842 352 380 0\n",
      "precision 0.7473684210526316\n",
      "recall 0.9466666666666667\n",
      "accuracy 0.9263157894736842\n",
      "71 281 24 4\n"
     ]
    },
    {
     "name": "stderr",
     "output_type": "stream",
     "text": [
      " 47%|███████████████████████████████████████████████████████████                                                                  | 390/825 [03:59<04:27,  1.62it/s]"
     ]
    },
    {
     "name": "stdout",
     "output_type": "stream",
     "text": [
      "0.9282051282051282 362 390 0\n",
      "precision 0.7473684210526316\n",
      "recall 0.9466666666666667\n",
      "accuracy 0.9282051282051282\n",
      "71 291 24 4\n"
     ]
    },
    {
     "name": "stderr",
     "output_type": "stream",
     "text": [
      " 48%|████████████████████████████████████████████████████████████▌                                                                | 400/825 [04:05<04:14,  1.67it/s]"
     ]
    },
    {
     "name": "stdout",
     "output_type": "stream",
     "text": [
      "0.9275 371 400 0\n",
      "precision 0.7395833333333334\n",
      "recall 0.9466666666666667\n",
      "accuracy 0.9275\n",
      "71 300 25 4\n"
     ]
    },
    {
     "name": "stderr",
     "output_type": "stream",
     "text": [
      " 50%|██████████████████████████████████████████████████████████████                                                               | 410/825 [04:11<04:02,  1.71it/s]"
     ]
    },
    {
     "name": "stdout",
     "output_type": "stream",
     "text": [
      "0.9292682926829269 381 410 0\n",
      "precision 0.7395833333333334\n",
      "recall 0.9466666666666667\n",
      "accuracy 0.9292682926829269\n",
      "71 310 25 4\n"
     ]
    },
    {
     "name": "stderr",
     "output_type": "stream",
     "text": [
      " 51%|███████████████████████████████████████████████████████████████▋                                                             | 420/825 [04:17<04:13,  1.59it/s]"
     ]
    },
    {
     "name": "stdout",
     "output_type": "stream",
     "text": [
      "0.9261904761904762 389 420 0\n",
      "precision 0.7244897959183674\n",
      "recall 0.9466666666666667\n",
      "accuracy 0.9261904761904762\n",
      "71 318 27 4\n"
     ]
    },
    {
     "name": "stderr",
     "output_type": "stream",
     "text": [
      " 52%|█████████████████████████████████████████████████████████████████▏                                                           | 430/825 [04:23<03:49,  1.72it/s]"
     ]
    },
    {
     "name": "stdout",
     "output_type": "stream",
     "text": [
      "0.9279069767441861 399 430 0\n",
      "precision 0.7244897959183674\n",
      "recall 0.9466666666666667\n",
      "accuracy 0.9279069767441861\n",
      "71 328 27 4\n"
     ]
    },
    {
     "name": "stderr",
     "output_type": "stream",
     "text": [
      " 53%|██████████████████████████████████████████████████████████████████▋                                                          | 440/825 [04:29<03:46,  1.70it/s]"
     ]
    },
    {
     "name": "stdout",
     "output_type": "stream",
     "text": [
      "0.9295454545454546 409 440 0\n",
      "precision 0.7244897959183674\n",
      "recall 0.9466666666666667\n",
      "accuracy 0.9295454545454546\n",
      "71 338 27 4\n"
     ]
    },
    {
     "name": "stderr",
     "output_type": "stream",
     "text": [
      " 55%|████████████████████████████████████████████████████████████████████▏                                                        | 450/825 [04:35<03:40,  1.70it/s]"
     ]
    },
    {
     "name": "stdout",
     "output_type": "stream",
     "text": [
      "0.9288888888888889 418 450 0\n",
      "precision 0.7171717171717171\n",
      "recall 0.9466666666666667\n",
      "accuracy 0.9288888888888889\n",
      "71 347 28 4\n"
     ]
    },
    {
     "name": "stderr",
     "output_type": "stream",
     "text": [
      " 56%|█████████████████████████████████████████████████████████████████████▋                                                       | 460/825 [04:41<03:35,  1.69it/s]"
     ]
    },
    {
     "name": "stdout",
     "output_type": "stream",
     "text": [
      "0.9304347826086956 428 460 0\n",
      "precision 0.7171717171717171\n",
      "recall 0.9466666666666667\n",
      "accuracy 0.9304347826086956\n",
      "71 357 28 4\n"
     ]
    },
    {
     "name": "stderr",
     "output_type": "stream",
     "text": [
      " 57%|███████████████████████████████████████████████████████████████████████▏                                                     | 470/825 [04:47<03:34,  1.66it/s]"
     ]
    },
    {
     "name": "stdout",
     "output_type": "stream",
     "text": [
      "0.9297872340425531 437 470 0\n",
      "precision 0.71\n",
      "recall 0.9466666666666667\n",
      "accuracy 0.9297872340425531\n",
      "71 366 29 4\n"
     ]
    },
    {
     "name": "stderr",
     "output_type": "stream",
     "text": [
      " 58%|████████████████████████████████████████████████████████████████████████▋                                                    | 480/825 [04:53<03:26,  1.67it/s]"
     ]
    },
    {
     "name": "stdout",
     "output_type": "stream",
     "text": [
      "0.9291666666666667 446 480 0\n",
      "precision 0.7029702970297029\n",
      "recall 0.9466666666666667\n",
      "accuracy 0.9291666666666667\n",
      "71 375 30 4\n"
     ]
    },
    {
     "name": "stderr",
     "output_type": "stream",
     "text": [
      " 59%|██████████████████████████████████████████████████████████████████████████▏                                                  | 490/825 [04:59<03:28,  1.61it/s]"
     ]
    },
    {
     "name": "stdout",
     "output_type": "stream",
     "text": [
      "0.9285714285714286 455 490 0\n",
      "precision 0.696078431372549\n",
      "recall 0.9466666666666667\n",
      "accuracy 0.9285714285714286\n",
      "71 384 31 4\n"
     ]
    },
    {
     "name": "stderr",
     "output_type": "stream",
     "text": [
      " 61%|███████████████████████████████████████████████████████████████████████████▊                                                 | 500/825 [05:06<03:20,  1.62it/s]"
     ]
    },
    {
     "name": "stdout",
     "output_type": "stream",
     "text": [
      "0.928 464 500 0\n",
      "precision 0.6893203883495146\n",
      "recall 0.9466666666666667\n",
      "accuracy 0.928\n",
      "71 393 32 4\n"
     ]
    },
    {
     "name": "stderr",
     "output_type": "stream",
     "text": [
      " 62%|█████████████████████████████████████████████████████████████████████████████▎                                               | 510/825 [05:11<03:06,  1.69it/s]"
     ]
    },
    {
     "name": "stdout",
     "output_type": "stream",
     "text": [
      "0.9294117647058824 474 510 0\n",
      "precision 0.6893203883495146\n",
      "recall 0.9466666666666667\n",
      "accuracy 0.9294117647058824\n",
      "71 403 32 4\n"
     ]
    },
    {
     "name": "stderr",
     "output_type": "stream",
     "text": [
      " 63%|██████████████████████████████████████████████████████████████████████████████▊                                              | 520/825 [05:17<02:58,  1.71it/s]"
     ]
    },
    {
     "name": "stdout",
     "output_type": "stream",
     "text": [
      "0.9307692307692308 484 520 0\n",
      "precision 0.6893203883495146\n",
      "recall 0.9466666666666667\n",
      "accuracy 0.9307692307692308\n",
      "71 413 32 4\n"
     ]
    },
    {
     "name": "stderr",
     "output_type": "stream",
     "text": [
      " 64%|████████████████████████████████████████████████████████████████████████████████▎                                            | 530/825 [05:23<02:51,  1.72it/s]"
     ]
    },
    {
     "name": "stdout",
     "output_type": "stream",
     "text": [
      "0.9283018867924528 492 530 0\n",
      "precision 0.6761904761904762\n",
      "recall 0.9466666666666667\n",
      "accuracy 0.9283018867924528\n",
      "71 421 34 4\n"
     ]
    },
    {
     "name": "stderr",
     "output_type": "stream",
     "text": [
      " 65%|█████████████████████████████████████████████████████████████████████████████████▊                                           | 540/825 [05:29<02:47,  1.70it/s]"
     ]
    },
    {
     "name": "stdout",
     "output_type": "stream",
     "text": [
      "0.9277777777777778 501 540 0\n",
      "precision 0.6698113207547169\n",
      "recall 0.9466666666666667\n",
      "accuracy 0.9277777777777778\n",
      "71 430 35 4\n"
     ]
    },
    {
     "name": "stderr",
     "output_type": "stream",
     "text": [
      " 67%|███████████████████████████████████████████████████████████████████████████████████▎                                         | 550/825 [05:35<02:42,  1.69it/s]"
     ]
    },
    {
     "name": "stdout",
     "output_type": "stream",
     "text": [
      "0.9272727272727272 510 550 0\n",
      "precision 0.6635514018691588\n",
      "recall 0.9466666666666667\n",
      "accuracy 0.9272727272727272\n",
      "71 439 36 4\n"
     ]
    },
    {
     "name": "stderr",
     "output_type": "stream",
     "text": [
      " 68%|████████████████████████████████████████████████████████████████████████████████████▊                                        | 560/825 [05:41<02:36,  1.69it/s]"
     ]
    },
    {
     "name": "stdout",
     "output_type": "stream",
     "text": [
      "0.9267857142857143 519 560 0\n",
      "precision 0.6574074074074074\n",
      "recall 0.9466666666666667\n",
      "accuracy 0.9267857142857143\n",
      "71 448 37 4\n"
     ]
    },
    {
     "name": "stderr",
     "output_type": "stream",
     "text": [
      " 69%|██████████████████████████████████████████████████████████████████████████████████████▎                                      | 570/825 [05:47<02:32,  1.67it/s]"
     ]
    },
    {
     "name": "stdout",
     "output_type": "stream",
     "text": [
      "0.9280701754385965 529 570 0\n",
      "precision 0.6574074074074074\n",
      "recall 0.9466666666666667\n",
      "accuracy 0.9280701754385965\n",
      "71 458 37 4\n"
     ]
    },
    {
     "name": "stderr",
     "output_type": "stream",
     "text": [
      " 70%|███████████████████████████████████████████████████████████████████████████████████████▉                                     | 580/825 [05:53<02:28,  1.65it/s]"
     ]
    },
    {
     "name": "stdout",
     "output_type": "stream",
     "text": [
      "0.9275862068965517 538 580 0\n",
      "precision 0.6513761467889908\n",
      "recall 0.9466666666666667\n",
      "accuracy 0.9275862068965517\n",
      "71 467 38 4\n"
     ]
    },
    {
     "name": "stderr",
     "output_type": "stream",
     "text": [
      " 72%|█████████████████████████████████████████████████████████████████████████████████████████▍                                   | 590/825 [05:59<02:17,  1.71it/s]"
     ]
    },
    {
     "name": "stdout",
     "output_type": "stream",
     "text": [
      "0.9288135593220339 548 590 0\n",
      "precision 0.6513761467889908\n",
      "recall 0.9466666666666667\n",
      "accuracy 0.9288135593220339\n",
      "71 477 38 4\n"
     ]
    },
    {
     "name": "stderr",
     "output_type": "stream",
     "text": [
      " 73%|██████████████████████████████████████████████████████████████████████████████████████████▉                                  | 600/825 [06:05<02:16,  1.65it/s]"
     ]
    },
    {
     "name": "stdout",
     "output_type": "stream",
     "text": [
      "0.9266666666666666 556 600 0\n",
      "precision 0.6396396396396397\n",
      "recall 0.9466666666666667\n",
      "accuracy 0.9266666666666666\n",
      "71 485 40 4\n"
     ]
    },
    {
     "name": "stderr",
     "output_type": "stream",
     "text": [
      " 74%|████████████████████████████████████████████████████████████████████████████████████████████▍                                | 610/825 [06:11<02:09,  1.67it/s]"
     ]
    },
    {
     "name": "stdout",
     "output_type": "stream",
     "text": [
      "0.9262295081967213 565 610 0\n",
      "precision 0.6339285714285714\n",
      "recall 0.9466666666666667\n",
      "accuracy 0.9262295081967213\n",
      "71 494 41 4\n"
     ]
    },
    {
     "name": "stderr",
     "output_type": "stream",
     "text": [
      " 75%|█████████████████████████████████████████████████████████████████████████████████████████████▉                               | 620/825 [06:17<02:03,  1.66it/s]"
     ]
    },
    {
     "name": "stdout",
     "output_type": "stream",
     "text": [
      "0.9258064516129032 574 620 0\n",
      "precision 0.6283185840707964\n",
      "recall 0.9466666666666667\n",
      "accuracy 0.9258064516129032\n",
      "71 503 42 4\n"
     ]
    },
    {
     "name": "stderr",
     "output_type": "stream",
     "text": [
      " 76%|███████████████████████████████████████████████████████████████████████████████████████████████▍                             | 630/825 [06:23<01:54,  1.71it/s]"
     ]
    },
    {
     "name": "stdout",
     "output_type": "stream",
     "text": [
      "0.926984126984127 584 630 0\n",
      "precision 0.6283185840707964\n",
      "recall 0.9466666666666667\n",
      "accuracy 0.926984126984127\n",
      "71 513 42 4\n"
     ]
    },
    {
     "name": "stderr",
     "output_type": "stream",
     "text": [
      " 78%|████████████████████████████████████████████████████████████████████████████████████████████████▉                            | 640/825 [06:29<01:49,  1.69it/s]"
     ]
    },
    {
     "name": "stdout",
     "output_type": "stream",
     "text": [
      "0.9265625 593 640 0\n",
      "precision 0.6228070175438597\n",
      "recall 0.9466666666666667\n",
      "accuracy 0.9265625\n",
      "71 522 43 4\n"
     ]
    },
    {
     "name": "stderr",
     "output_type": "stream",
     "text": [
      " 79%|██████████████████████████████████████████████████████████████████████████████████████████████████▍                          | 650/825 [06:35<01:42,  1.70it/s]"
     ]
    },
    {
     "name": "stdout",
     "output_type": "stream",
     "text": [
      "0.9276923076923077 603 650 0\n",
      "precision 0.6228070175438597\n",
      "recall 0.9466666666666667\n",
      "accuracy 0.9276923076923077\n",
      "71 532 43 4\n"
     ]
    },
    {
     "name": "stderr",
     "output_type": "stream",
     "text": [
      " 80%|████████████████████████████████████████████████████████████████████████████████████████████████████                         | 660/825 [06:41<01:37,  1.69it/s]"
     ]
    },
    {
     "name": "stdout",
     "output_type": "stream",
     "text": [
      "0.9257575757575758 611 660 0\n",
      "precision 0.6120689655172413\n",
      "recall 0.9466666666666667\n",
      "accuracy 0.9257575757575758\n",
      "71 540 45 4\n"
     ]
    },
    {
     "name": "stderr",
     "output_type": "stream",
     "text": [
      " 81%|█████████████████████████████████████████████████████████████████████████████████████████████████████▌                       | 670/825 [06:47<01:36,  1.60it/s]"
     ]
    },
    {
     "name": "stdout",
     "output_type": "stream",
     "text": [
      "0.926865671641791 621 670 0\n",
      "precision 0.6120689655172413\n",
      "recall 0.9466666666666667\n",
      "accuracy 0.926865671641791\n",
      "71 550 45 4\n"
     ]
    },
    {
     "name": "stderr",
     "output_type": "stream",
     "text": [
      " 82%|███████████████████████████████████████████████████████████████████████████████████████████████████████                      | 680/825 [06:53<01:27,  1.65it/s]"
     ]
    },
    {
     "name": "stdout",
     "output_type": "stream",
     "text": [
      "0.9279411764705883 631 680 0\n",
      "precision 0.6120689655172413\n",
      "recall 0.9466666666666667\n",
      "accuracy 0.9279411764705883\n",
      "71 560 45 4\n"
     ]
    },
    {
     "name": "stderr",
     "output_type": "stream",
     "text": [
      " 84%|████████████████████████████████████████████████████████████████████████████████████████████████████████▌                    | 690/825 [06:59<01:22,  1.63it/s]"
     ]
    },
    {
     "name": "stdout",
     "output_type": "stream",
     "text": [
      "0.9260869565217391 639 690 0\n",
      "precision 0.6016949152542372\n",
      "recall 0.9466666666666667\n",
      "accuracy 0.9260869565217391\n",
      "71 568 47 4\n"
     ]
    },
    {
     "name": "stderr",
     "output_type": "stream",
     "text": [
      " 85%|██████████████████████████████████████████████████████████████████████████████████████████████████████████                   | 700/825 [07:05<01:13,  1.71it/s]"
     ]
    },
    {
     "name": "stdout",
     "output_type": "stream",
     "text": [
      "0.9271428571428572 649 700 0\n",
      "precision 0.6016949152542372\n",
      "recall 0.9466666666666667\n",
      "accuracy 0.9271428571428572\n",
      "71 578 47 4\n"
     ]
    },
    {
     "name": "stderr",
     "output_type": "stream",
     "text": [
      " 86%|███████████████████████████████████████████████████████████████████████████████████████████████████████████▌                 | 710/825 [07:11<01:10,  1.63it/s]"
     ]
    },
    {
     "name": "stdout",
     "output_type": "stream",
     "text": [
      "0.928169014084507 659 710 0\n",
      "precision 0.6016949152542372\n",
      "recall 0.9466666666666667\n",
      "accuracy 0.928169014084507\n",
      "71 588 47 4\n"
     ]
    },
    {
     "name": "stderr",
     "output_type": "stream",
     "text": [
      " 87%|█████████████████████████████████████████████████████████████████████████████████████████████████████████████                | 720/825 [07:17<01:04,  1.63it/s]"
     ]
    },
    {
     "name": "stdout",
     "output_type": "stream",
     "text": [
      "0.9277777777777778 668 720 0\n",
      "precision 0.5966386554621849\n",
      "recall 0.9466666666666667\n",
      "accuracy 0.9277777777777778\n",
      "71 597 48 4\n"
     ]
    },
    {
     "name": "stderr",
     "output_type": "stream",
     "text": [
      " 88%|██████████████████████████████████████████████████████████████████████████████████████████████████████████████▌              | 730/825 [07:23<00:59,  1.59it/s]"
     ]
    },
    {
     "name": "stdout",
     "output_type": "stream",
     "text": [
      "0.9287671232876712 678 730 0\n",
      "precision 0.5966386554621849\n",
      "recall 0.9466666666666667\n",
      "accuracy 0.9287671232876712\n",
      "71 607 48 4\n"
     ]
    },
    {
     "name": "stderr",
     "output_type": "stream",
     "text": [
      " 90%|████████████████████████████████████████████████████████████████████████████████████████████████████████████████             | 740/825 [07:29<00:50,  1.69it/s]"
     ]
    },
    {
     "name": "stdout",
     "output_type": "stream",
     "text": [
      "0.9283783783783783 687 740 0\n",
      "precision 0.5916666666666667\n",
      "recall 0.9466666666666667\n",
      "accuracy 0.9283783783783783\n",
      "71 616 49 4\n"
     ]
    },
    {
     "name": "stderr",
     "output_type": "stream",
     "text": [
      " 91%|█████████████████████████████████████████████████████████████████████████████████████████████████████████████████▋           | 750/825 [07:35<00:44,  1.67it/s]"
     ]
    },
    {
     "name": "stdout",
     "output_type": "stream",
     "text": [
      "0.9293333333333333 697 750 0\n",
      "precision 0.5916666666666667\n",
      "recall 0.9466666666666667\n",
      "accuracy 0.9293333333333333\n",
      "71 626 49 4\n"
     ]
    },
    {
     "name": "stderr",
     "output_type": "stream",
     "text": [
      " 92%|███████████████████████████████████████████████████████████████████████████████████████████████████████████████████▏         | 760/825 [07:42<00:38,  1.68it/s]"
     ]
    },
    {
     "name": "stdout",
     "output_type": "stream",
     "text": [
      "0.9302631578947368 707 760 0\n",
      "precision 0.5916666666666667\n",
      "recall 0.9466666666666667\n",
      "accuracy 0.9302631578947368\n",
      "71 636 49 4\n"
     ]
    },
    {
     "name": "stderr",
     "output_type": "stream",
     "text": [
      " 93%|████████████████████████████████████████████████████████████████████████████████████████████████████████████████████▋        | 770/825 [07:48<00:32,  1.72it/s]"
     ]
    },
    {
     "name": "stdout",
     "output_type": "stream",
     "text": [
      "0.9311688311688312 717 770 0\n",
      "precision 0.5916666666666667\n",
      "recall 0.9466666666666667\n",
      "accuracy 0.9311688311688312\n",
      "71 646 49 4\n"
     ]
    },
    {
     "name": "stderr",
     "output_type": "stream",
     "text": [
      " 95%|██████████████████████████████████████████████████████████████████████████████████████████████████████████████████████▏      | 780/825 [07:53<00:26,  1.70it/s]"
     ]
    },
    {
     "name": "stdout",
     "output_type": "stream",
     "text": [
      "0.9307692307692308 726 780 0\n",
      "precision 0.5867768595041323\n",
      "recall 0.9466666666666667\n",
      "accuracy 0.9307692307692308\n",
      "71 655 50 4\n"
     ]
    },
    {
     "name": "stderr",
     "output_type": "stream",
     "text": [
      " 96%|███████████████████████████████████████████████████████████████████████████████████████████████████████████████████████▋     | 790/825 [08:00<00:21,  1.63it/s]"
     ]
    },
    {
     "name": "stdout",
     "output_type": "stream",
     "text": [
      "0.930379746835443 735 790 0\n",
      "precision 0.5819672131147541\n",
      "recall 0.9466666666666667\n",
      "accuracy 0.930379746835443\n",
      "71 664 51 4\n"
     ]
    },
    {
     "name": "stderr",
     "output_type": "stream",
     "text": [
      " 97%|█████████████████████████████████████████████████████████████████████████████████████████████████████████████████████████▏   | 800/825 [08:06<00:14,  1.67it/s]"
     ]
    },
    {
     "name": "stdout",
     "output_type": "stream",
     "text": [
      "0.93125 745 800 0\n",
      "precision 0.5819672131147541\n",
      "recall 0.9466666666666667\n",
      "accuracy 0.93125\n",
      "71 674 51 4\n"
     ]
    },
    {
     "name": "stderr",
     "output_type": "stream",
     "text": [
      " 98%|██████████████████████████████████████████████████████████████████████████████████████████████████████████████████████████▋  | 810/825 [08:11<00:08,  1.73it/s]"
     ]
    },
    {
     "name": "stdout",
     "output_type": "stream",
     "text": [
      "0.9308641975308642 754 810 0\n",
      "precision 0.5772357723577236\n",
      "recall 0.9466666666666667\n",
      "accuracy 0.9308641975308642\n",
      "71 683 52 4\n"
     ]
    },
    {
     "name": "stderr",
     "output_type": "stream",
     "text": [
      " 99%|████████████████████████████████████████████████████████████████████████████████████████████████████████████████████████████▏| 820/825 [08:17<00:02,  1.71it/s]"
     ]
    },
    {
     "name": "stdout",
     "output_type": "stream",
     "text": [
      "0.9317073170731708 764 820 0\n",
      "precision 0.5772357723577236\n",
      "recall 0.9466666666666667\n",
      "accuracy 0.9317073170731708\n",
      "71 693 52 4\n"
     ]
    },
    {
     "name": "stderr",
     "output_type": "stream",
     "text": [
      "100%|█████████████████████████████████████████████████████████████████████████████████████████████████████████████████████████████| 825/825 [08:20<00:00,  1.65it/s]"
     ]
    },
    {
     "name": "stdout",
     "output_type": "stream",
     "text": [
      "0.9321212121212121 769 825 0\n",
      "71 698 52 4\n"
     ]
    },
    {
     "name": "stderr",
     "output_type": "stream",
     "text": [
      "\n"
     ]
    }
   ],
   "source": [
    "from tqdm import tqdm\n",
    "device = \"cuda:0\"\n",
    "\n",
    "n = 0\n",
    "k = 0\n",
    "i = 0\n",
    "\n",
    "tp = 0\n",
    "fp = 0\n",
    "tn = 0\n",
    "fn = 0\n",
    "\n",
    "positive = 'korrupció'\n",
    "negative = 'egyéb'\n",
    "\n",
    "for task_in, task_out in tqdm(zip(real_dataset['test']['input'], real_dataset['test']['output']), total=len(real_dataset['test'])):\n",
    "    if not task_in.startswith('[korrupció klasszifikáció]'):\n",
    "        continue\n",
    "    with torch.cuda.amp.autocast():\n",
    "        text = task_in\n",
    "        inputs = tokenizer(text, return_tensors=\"pt\").to(device)\n",
    "        if len(inputs['input_ids'][0]) > 2048:\n",
    "            continue\n",
    "        outputs = model.generate(**inputs, max_new_tokens=4)\n",
    "        result = tokenizer.decode(outputs[0], skip_special_tokens=True)\n",
    "        #print(result[result.rfind(':')+2:].strip())\n",
    "        #print(task_out.strip())\n",
    "        n += 1\n",
    "        sresult = result[result.rfind(':')+2:].strip()\n",
    "        slabel = task_out.strip()\n",
    "        if sresult not in ['korrupció', 'egyéb']:\n",
    "            i += 1\n",
    "        if sresult == positive and slabel == positive:\n",
    "            tp += 1\n",
    "        elif sresult == negative and slabel == negative:\n",
    "            tn += 1\n",
    "        elif sresult == positive and slabel == negative:\n",
    "            fp += 1\n",
    "        elif sresult == negative and slabel == positive:\n",
    "            fn += 1\n",
    "        if task_out.strip() == (result[result.rfind(':')+2:].strip()):\n",
    "            k += 1\n",
    "    if n % 10 == 0 and n > 0:\n",
    "        print(k/n, k, n, i)\n",
    "        print('precision', tp/(tp+fp))\n",
    "        print('recall', tp/(tp+fn))\n",
    "        print('accuracy', (tp+tn)/(tp+tn+fp+fn))\n",
    "        print(tp, tn, fp, fn)\n",
    "\n",
    "\n",
    "print(k/n, k, n, i)\n",
    "\n",
    "print(tp, tn, fp, fn)\n"
   ]
  },
  {
   "cell_type": "code",
   "execution_count": 10,
   "id": "37f8272d-d3a7-4ac5-90b9-9a5ad8f2f48b",
   "metadata": {},
   "outputs": [
    {
     "name": "stdout",
     "output_type": "stream",
     "text": [
      "precision 0.5772357723577236\n",
      "recall 0.9466666666666667\n",
      "accuracy 0.9321212121212121\n"
     ]
    }
   ],
   "source": [
    "print('precision', tp/(tp+fp))\n",
    "print('recall', tp/(tp+fn))\n",
    "print('accuracy', (tp+tn)/(tp+tn+fp+fn))\n"
   ]
  }
 ],
 "metadata": {
  "kernelspec": {
   "display_name": "Python 3 (ipykernel)",
   "language": "python",
   "name": "python3"
  },
  "language_info": {
   "codemirror_mode": {
    "name": "ipython",
    "version": 3
   },
   "file_extension": ".py",
   "mimetype": "text/x-python",
   "name": "python",
   "nbconvert_exporter": "python",
   "pygments_lexer": "ipython3",
   "version": "3.10.10"
  }
 },
 "nbformat": 4,
 "nbformat_minor": 5
}
