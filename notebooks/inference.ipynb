{
 "cells": [
  {
   "cell_type": "code",
   "execution_count": null,
   "id": "f44ac653-372d-46ea-8bf8-700dd61ce65c",
   "metadata": {},
   "outputs": [],
   "source": [
    "from transformers import AutoModelForCausalLM, AutoTokenizer\n",
    "from peft import PeftModel, PeftConfig\n",
    "from transformers import BitsAndBytesConfig\n",
    "import torch\n",
    "\n",
    "model_id = \"huggyllama/llama-7b\"\n",
    "peft_model_id = './training/qlora-tasks-7b-v1.9.1/checkpoint-6000/adapter_model'\n",
    "\n",
    "config = PeftConfig.from_pretrained(peft_model_id)\n",
    "model = AutoModelForCausalLM.from_pretrained(\n",
    "    'huggyllama/llama-7b',\n",
    "    load_in_4bit=True,\n",
    "    device_map='auto',\n",
    "    torch_dtype=torch.bfloat16,\n",
    "    quantization_config=BitsAndBytesConfig(\n",
    "        load_in_4bit=True,\n",
    "        bnb_4bit_compute_dtype=torch.bfloat16,\n",
    "        bnb_4bit_use_double_quant=True,\n",
    "        bnb_4bit_quant_type='nf4'\n",
    "    ),\n",
    ")\n",
    "model = PeftModel.from_pretrained(model, peft_model_id)\n",
    "\n",
    "tokenizer = AutoTokenizer.from_pretrained(model_id)"
   ]
  },
  {
   "cell_type": "code",
   "execution_count": null,
   "id": "62df415a-b652-49fd-a56f-1d70ec294ec7",
   "metadata": {},
   "outputs": [],
   "source": [
    "from datasets import concatenate_datasets, load_from_disk, DatasetDict\n",
    "combined_tasks = load_from_disk('datasets/tasks/combined_task_dataset_io_notags/')"
   ]
  },
  {
   "cell_type": "code",
   "execution_count": null,
   "id": "39c189f3-7e2e-4c41-ad4d-24d11b6b8dd2",
   "metadata": {},
   "outputs": [],
   "source": [
    "combined_tasks['test']['output'][0]"
   ]
  },
  {
   "cell_type": "code",
   "execution_count": null,
   "id": "5f6c023f-dafa-42e0-9334-a83d8b6c3e50",
   "metadata": {},
   "outputs": [],
   "source": [
    "combined_tasks = combined_tasks.filter(lambda data: data['input'].startswith('[korrupció klasszifikáció]'))"
   ]
  },
  {
   "cell_type": "code",
   "execution_count": null,
   "id": "9bcdbb64-0551-4638-b626-d38275bd4238",
   "metadata": {},
   "outputs": [],
   "source": [
    "pos_tasks = combined_tasks.filter(lambda data: data['output'] == ' korrupció\\n')\n",
    "neg_tasks = combined_tasks.filter(lambda data: data['output'] != ' korrupció\\n')"
   ]
  },
  {
   "cell_type": "code",
   "execution_count": null,
   "id": "06de10fb-c9c6-4962-a03e-789489e61698",
   "metadata": {},
   "outputs": [],
   "source": [
    "neg_tasks"
   ]
  },
  {
   "cell_type": "code",
   "execution_count": null,
   "id": "66d0591e-8152-442b-ae33-a7fa19270fb6",
   "metadata": {},
   "outputs": [],
   "source": [
    "pos_tasks['train'] = pos_tasks['train'].select(range(250))\n",
    "pos_tasks['validation'] = pos_tasks['validation'].select(range(150))\n",
    "pos_tasks['test'] = pos_tasks['test'].select(range(75))"
   ]
  },
  {
   "cell_type": "code",
   "execution_count": null,
   "id": "f4e536de-941d-4544-ba03-4de8d42d31bd",
   "metadata": {},
   "outputs": [],
   "source": [
    "from datasets import concatenate_datasets, load_dataset, DatasetDict\n",
    "\n",
    "real_dataset = DatasetDict()\n",
    "\n",
    "real_dataset['train'] = concatenate_datasets([pos_tasks['train'], neg_tasks['train']])\n",
    "real_dataset['validation'] = concatenate_datasets([pos_tasks['validation'], neg_tasks['validation']])\n",
    "real_dataset['test'] = concatenate_datasets([pos_tasks['test'], neg_tasks['test']])\n",
    "\n",
    "real_dataset"
   ]
  },
  {
   "cell_type": "code",
   "execution_count": null,
   "id": "d9caef94-72af-4097-aff4-d7cf4386ca09",
   "metadata": {},
   "outputs": [],
   "source": [
    "from tqdm import tqdm\n",
    "device = \"cuda:0\"\n",
    "\n",
    "n = 0\n",
    "k = 0\n",
    "i = 0\n",
    "\n",
    "tp = 0\n",
    "fp = 0\n",
    "tn = 0\n",
    "fn = 0\n",
    "\n",
    "positive = 'korrupció'\n",
    "negative = 'egyéb'\n",
    "\n",
    "for task_in, task_out in tqdm(zip(real_dataset['test']['input'], real_dataset['test']['output']), total=len(real_dataset['test'])):\n",
    "    if not task_in.startswith('[korrupció klasszifikáció]'):\n",
    "        continue\n",
    "    with torch.cuda.amp.autocast():\n",
    "        text = task_in\n",
    "        inputs = tokenizer(text, return_tensors=\"pt\").to(device)\n",
    "        if len(inputs['input_ids'][0]) > 2048:\n",
    "            continue\n",
    "        outputs = model.generate(**inputs, max_new_tokens=4)\n",
    "        result = tokenizer.decode(outputs[0], skip_special_tokens=True)\n",
    "        #print(result[result.rfind(':')+2:].strip())\n",
    "        #print(task_out.strip())\n",
    "        n += 1\n",
    "        sresult = result[result.rfind(':')+2:].strip()\n",
    "        slabel = task_out.strip()\n",
    "        if sresult not in ['korrupció', 'egyéb']:\n",
    "            i += 1\n",
    "        if sresult == positive and slabel == positive:\n",
    "            tp += 1\n",
    "        elif sresult == negative and slabel == negative:\n",
    "            tn += 1\n",
    "        elif sresult == positive and slabel == negative:\n",
    "            fp += 1\n",
    "        elif sresult == negative and slabel == positive:\n",
    "            fn += 1\n",
    "        if task_out.strip() == (result[result.rfind(':')+2:].strip()):\n",
    "            k += 1\n",
    "    if n % 10 == 0 and n > 0:\n",
    "        print(k/n, k, n, i)\n",
    "        print('precision', tp/(tp+fp))\n",
    "        print('recall', tp/(tp+fn))\n",
    "        print('accuracy', (tp+tn)/(tp+tn+fp+fn))\n",
    "        print(tp, tn, fp, fn)\n",
    "\n",
    "\n",
    "print(k/n, k, n, i)\n",
    "\n",
    "print(tp, tn, fp, fn)"
   ]
  },
  {
   "cell_type": "code",
   "execution_count": null,
   "id": "37f8272d-d3a7-4ac5-90b9-9a5ad8f2f48b",
   "metadata": {},
   "outputs": [],
   "source": [
    "print('precision', tp/(tp+fp))\n",
    "print('recall', tp/(tp+fn))\n",
    "print('accuracy', (tp+tn)/(tp+tn+fp+fn))"
   ]
  }
 ],
 "metadata": {
  "kernelspec": {
   "display_name": "Python 3 (ipykernel)",
   "language": "python",
   "name": "python3"
  },
  "language_info": {
   "codemirror_mode": {
    "name": "ipython",
    "version": 3
   },
   "file_extension": ".py",
   "mimetype": "text/x-python",
   "name": "python",
   "nbconvert_exporter": "python",
   "pygments_lexer": "ipython3",
   "version": "3.10.10"
  }
 },
 "nbformat": 4,
 "nbformat_minor": 5
}
