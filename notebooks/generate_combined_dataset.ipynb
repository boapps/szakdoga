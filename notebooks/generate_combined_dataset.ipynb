{
 "cells": [
  {
   "cell_type": "code",
   "execution_count": 1,
   "id": "5bdd9688-755d-404e-b863-cfb3d2147e2e",
   "metadata": {},
   "outputs": [
    {
     "name": "stderr",
     "output_type": "stream",
     "text": [
      "<frozen importlib._bootstrap>:241: RuntimeWarning: pyarrow._fs.FileInfo size changed, may indicate binary incompatibility. Expected 64 from C header, got 88 from PyObject\n",
      "<frozen importlib._bootstrap>:241: RuntimeWarning: pyarrow._fs.FileSelector size changed, may indicate binary incompatibility. Expected 48 from C header, got 72 from PyObject\n"
     ]
    }
   ],
   "source": [
    "from datasets import concatenate_datasets, load_from_disk, DatasetDict"
   ]
  },
  {
   "cell_type": "code",
   "execution_count": 2,
   "id": "ba317901-8c95-4ec7-8f8c-5e4ed41d913d",
   "metadata": {},
   "outputs": [],
   "source": [
    "article_classification_task_dataset = load_from_disk('datasets/tasks/article_classification_task_dataset/').shuffle(seed=42)\n",
    "institution_classification_task_dataset = load_from_disk('datasets/tasks/institution_classification_task_dataset/').shuffle(seed=42)\n",
    "keyword_generation_task_dataset = load_from_disk('datasets/tasks/keyword_generation_task_dataset/').shuffle(seed=42)\n",
    "people_classification_task_dataset = load_from_disk('datasets/tasks/people_classification_task_dataset/').shuffle(seed=42)"
   ]
  },
  {
   "cell_type": "code",
   "execution_count": 3,
   "id": "8278ba74-ce35-4d79-9479-0ab07a2d45e3",
   "metadata": {},
   "outputs": [
    {
     "data": {
      "text/plain": [
       "DatasetDict({\n",
       "    train: Dataset({\n",
       "        features: ['text', 'label', 'theme', 'type'],\n",
       "        num_rows: 43060\n",
       "    })\n",
       "    validation: Dataset({\n",
       "        features: ['text', 'label', 'theme', 'type'],\n",
       "        num_rows: 6598\n",
       "    })\n",
       "    test: Dataset({\n",
       "        features: ['text', 'label', 'theme', 'type'],\n",
       "        num_rows: 3618\n",
       "    })\n",
       "})"
      ]
     },
     "execution_count": 3,
     "metadata": {},
     "output_type": "execute_result"
    }
   ],
   "source": [
    "article_classification_task_dataset"
   ]
  },
  {
   "cell_type": "code",
   "execution_count": 4,
   "id": "d84162c8-754d-4945-8dcf-fbf07e5d9242",
   "metadata": {},
   "outputs": [],
   "source": [
    "def get_pandas(dataset):\n",
    "    return {split: dataset[split].to_pandas() for split in dataset.keys()}"
   ]
  },
  {
   "cell_type": "code",
   "execution_count": 5,
   "id": "0808210c-ed91-490b-8aac-6e6dfc89f6ec",
   "metadata": {},
   "outputs": [],
   "source": [
    "pandas_article_classification_task_dataset = get_pandas(article_classification_task_dataset)\n",
    "pandas_institution_classification_task_dataset = get_pandas(institution_classification_task_dataset)\n",
    "pandas_keyword_generation_task_dataset = get_pandas(keyword_generation_task_dataset)\n",
    "pandas_people_classification_task_dataset = get_pandas(people_classification_task_dataset)"
   ]
  },
  {
   "cell_type": "code",
   "execution_count": 6,
   "id": "6ac7f442-9a66-42fd-aec0-d332b3b32a20",
   "metadata": {},
   "outputs": [
    {
     "name": "stdout",
     "output_type": "stream",
     "text": [
      "train\n",
      "label\n",
      "0    16399\n",
      "1    26661\n",
      "dtype: int64\n",
      "\n",
      "validation\n",
      "label\n",
      "0    3188\n",
      "1    3410\n",
      "dtype: int64\n",
      "\n",
      "test\n",
      "label\n",
      "0    1898\n",
      "1    1720\n",
      "dtype: int64\n",
      "\n"
     ]
    }
   ],
   "source": [
    "for split in article_classification_task_dataset.keys():\n",
    "    print(split, pandas_article_classification_task_dataset[split].groupby(['label']).size(), sep='\\n', end='\\n\\n')"
   ]
  },
  {
   "cell_type": "code",
   "execution_count": 7,
   "id": "93e4d251-6416-4a85-9b35-affd443478cb",
   "metadata": {},
   "outputs": [
    {
     "data": {
      "text/plain": [
       "DatasetDict({\n",
       "    train: Dataset({\n",
       "        features: ['text', 'type'],\n",
       "        num_rows: 7189\n",
       "    })\n",
       "    validation: Dataset({\n",
       "        features: ['text', 'type'],\n",
       "        num_rows: 920\n",
       "    })\n",
       "    test: Dataset({\n",
       "        features: ['text', 'type'],\n",
       "        num_rows: 492\n",
       "    })\n",
       "})"
      ]
     },
     "execution_count": 7,
     "metadata": {},
     "output_type": "execute_result"
    }
   ],
   "source": [
    "institution_classification_task_dataset"
   ]
  },
  {
   "cell_type": "code",
   "execution_count": 8,
   "id": "e4b06d9d-05be-4174-ad46-f6f256ece90f",
   "metadata": {},
   "outputs": [
    {
     "data": {
      "text/plain": [
       "DatasetDict({\n",
       "    train: Dataset({\n",
       "        features: ['text', 'type'],\n",
       "        num_rows: 26661\n",
       "    })\n",
       "    validation: Dataset({\n",
       "        features: ['text', 'type'],\n",
       "        num_rows: 3410\n",
       "    })\n",
       "    test: Dataset({\n",
       "        features: ['text', 'type'],\n",
       "        num_rows: 1720\n",
       "    })\n",
       "})"
      ]
     },
     "execution_count": 8,
     "metadata": {},
     "output_type": "execute_result"
    }
   ],
   "source": [
    "keyword_generation_task_dataset"
   ]
  },
  {
   "cell_type": "code",
   "execution_count": 9,
   "id": "42f109ff-5ed9-4da3-a17a-7597008733bd",
   "metadata": {},
   "outputs": [
    {
     "data": {
      "text/plain": [
       "DatasetDict({\n",
       "    train: Dataset({\n",
       "        features: ['text', 'type'],\n",
       "        num_rows: 11372\n",
       "    })\n",
       "    validation: Dataset({\n",
       "        features: ['text', 'type'],\n",
       "        num_rows: 1446\n",
       "    })\n",
       "    test: Dataset({\n",
       "        features: ['text', 'type'],\n",
       "        num_rows: 748\n",
       "    })\n",
       "})"
      ]
     },
     "execution_count": 9,
     "metadata": {},
     "output_type": "execute_result"
    }
   ],
   "source": [
    "people_classification_task_dataset"
   ]
  },
  {
   "cell_type": "code",
   "execution_count": 10,
   "id": "e1e2fe9e-df66-429b-8e86-61fa87fca8ef",
   "metadata": {},
   "outputs": [],
   "source": [
    "combined_tasks = DatasetDict()"
   ]
  },
  {
   "cell_type": "code",
   "execution_count": 11,
   "id": "d15644a2-1b4c-47e4-85fa-bde187a697f5",
   "metadata": {},
   "outputs": [],
   "source": [
    "for split, size in zip(['train', 'validation', 'test'], [16000, 3000, 1500]):\n",
    "    combined_tasks[split] = article_classification_task_dataset[split].filter(lambda article: article['label'] == 1).select(range(size))\n",
    "    combined_tasks[split] = concatenate_datasets([combined_tasks[split], article_classification_task_dataset[split].filter(lambda article: article['label'] == 0).select(range(size//2))])\n",
    "combined_tasks = combined_tasks.remove_columns(['label', 'type'])\n",
    "#for split, size in zip(['train', 'validation', 'test'], [10000, 1400, 740]):\n",
    "#    combined_tasks[split] = concatenate_datasets([combined_tasks[split], people_classification_task_dataset[split].select(range(size)).remove_columns(['type'])])\n",
    "#for split, size in zip(['train', 'validation', 'test'], [7000, 900, 490]):\n",
    "#    combined_tasks[split] = concatenate_datasets([combined_tasks[split], institution_classification_task_dataset[split].select(range(size)).remove_columns(['type'])])\n",
    "#for split, size in zip(['train', 'validation', 'test'], [10000, 3000, 1500]):\n",
    "#    combined_tasks[split] = concatenate_datasets([combined_tasks[split], keyword_generation_task_dataset[split].select(range(size)).remove_columns(['type'])])"
   ]
  },
  {
   "cell_type": "code",
   "execution_count": 12,
   "id": "6afea1f0-92f3-4770-aa82-0786e1bb9396",
   "metadata": {},
   "outputs": [
    {
     "data": {
      "application/vnd.jupyter.widget-view+json": {
       "model_id": "00c61af4c8734f1dbf6f3f88771d8708",
       "version_major": 2,
       "version_minor": 0
      },
      "text/plain": [
       "Saving the dataset (0/1 shards):   0%|          | 0/24000 [00:00<?, ? examples/s]"
      ]
     },
     "metadata": {},
     "output_type": "display_data"
    },
    {
     "data": {
      "application/vnd.jupyter.widget-view+json": {
       "model_id": "02eb4936eaef487193a27fbcf53556ef",
       "version_major": 2,
       "version_minor": 0
      },
      "text/plain": [
       "Saving the dataset (0/1 shards):   0%|          | 0/4500 [00:00<?, ? examples/s]"
      ]
     },
     "metadata": {},
     "output_type": "display_data"
    },
    {
     "data": {
      "application/vnd.jupyter.widget-view+json": {
       "model_id": "5ca8e4730cbd4bd4b0e916e9b04c15a6",
       "version_major": 2,
       "version_minor": 0
      },
      "text/plain": [
       "Saving the dataset (0/1 shards):   0%|          | 0/2250 [00:00<?, ? examples/s]"
      ]
     },
     "metadata": {},
     "output_type": "display_data"
    }
   ],
   "source": [
    "combined_tasks.shuffle(seed=42).save_to_disk('datasets/tasks/combined_task_dataset')"
   ]
  },
  {
   "cell_type": "code",
   "execution_count": 13,
   "id": "301a8821-9ae1-467b-bd02-4caf44374338",
   "metadata": {},
   "outputs": [
    {
     "name": "stdout",
     "output_type": "stream",
     "text": [
      "[korrupció klasszifikáció]\n",
      "Brüsszel is keresi az Alstom megmentésének módját\n",
      "\n",
      "Mario Monti, az Európai Bizottság versenyügyekben illetékes tagja pénteken elhalasztotta olaszországi utazását, hogy az Alstom francia nagyvállalat mentőcsomagjával foglalkozzék jelentette be a bizottság pénteken.\n",
      "\n",
      "cimkék: archívum\n",
      "\n",
      "###\n",
      "\n",
      "téma: egyéb\n",
      "\n"
     ]
    }
   ],
   "source": [
    "print(combined_tasks.shuffle(seed=42)['train'][0]['text'])"
   ]
  },
  {
   "cell_type": "code",
   "execution_count": 14,
   "id": "1e04374d-6188-4991-a3f4-bc930b4b9151",
   "metadata": {},
   "outputs": [],
   "source": [
    "combined_tasks = load_from_disk('datasets/tasks/combined_task_dataset/')"
   ]
  },
  {
   "cell_type": "code",
   "execution_count": 15,
   "id": "006b1a55-943b-49a7-929e-064a53ccba8e",
   "metadata": {},
   "outputs": [
    {
     "data": {
      "text/plain": [
       "DatasetDict({\n",
       "    train: Dataset({\n",
       "        features: ['text', 'theme'],\n",
       "        num_rows: 24000\n",
       "    })\n",
       "    validation: Dataset({\n",
       "        features: ['text', 'theme'],\n",
       "        num_rows: 4500\n",
       "    })\n",
       "    test: Dataset({\n",
       "        features: ['text', 'theme'],\n",
       "        num_rows: 2250\n",
       "    })\n",
       "})"
      ]
     },
     "execution_count": 15,
     "metadata": {},
     "output_type": "execute_result"
    }
   ],
   "source": [
    "combined_tasks"
   ]
  },
  {
   "cell_type": "code",
   "execution_count": 16,
   "id": "c2b8e8c7-a52a-4f4f-8506-6114a5b2fa5b",
   "metadata": {},
   "outputs": [],
   "source": [
    "combined_tasks_io = combined_tasks.map(lambda task: {\n",
    "    'input': task['text'][:task['text'].rfind(':')+1],\n",
    "    'output': task['text'][task['text'].rfind(':')+1:],\n",
    "}, remove_columns='text')"
   ]
  },
  {
   "cell_type": "code",
   "execution_count": 17,
   "id": "0cecde9b-7afc-44d2-94bb-6b34dd7b273f",
   "metadata": {},
   "outputs": [
    {
     "name": "stdout",
     "output_type": "stream",
     "text": [
      "[korrupció klasszifikáció]\n",
      "Hűtlen kezelés a Magyar Közútnál?\n",
      "\n",
      "Feljelentést tett az ügyészségen a Magyar Közút Nonprofit Zrt. vezérigazgatója két informatikai beszerzés ügyében, miután a társaságnál egy belső vizsgálat olyan eljárási hibákat tárt fel, amelyek a cég megítélése szerint megalapozzák a hűtlen kezelés gyanúját – közölte tegnap a társaság, amely ezért ismeretlen tettes ellen tett ...\n",
      "\n",
      "cimkék: \n",
      "\n",
      "###\n",
      "\n",
      "téma:\n"
     ]
    }
   ],
   "source": [
    "print(combined_tasks_io['train'][1]['input'])"
   ]
  },
  {
   "cell_type": "code",
   "execution_count": 18,
   "id": "0341a471-e0f8-4150-bfa6-55653ab8a080",
   "metadata": {},
   "outputs": [
    {
     "data": {
      "text/plain": [
       "DatasetDict({\n",
       "    train: Dataset({\n",
       "        features: ['theme', 'input', 'output'],\n",
       "        num_rows: 24000\n",
       "    })\n",
       "    validation: Dataset({\n",
       "        features: ['theme', 'input', 'output'],\n",
       "        num_rows: 4500\n",
       "    })\n",
       "    test: Dataset({\n",
       "        features: ['theme', 'input', 'output'],\n",
       "        num_rows: 2250\n",
       "    })\n",
       "})"
      ]
     },
     "execution_count": 18,
     "metadata": {},
     "output_type": "execute_result"
    }
   ],
   "source": [
    "combined_tasks_io.filter(lambda task: 'korrupciós címkék:' not in task['input'])"
   ]
  },
  {
   "cell_type": "code",
   "execution_count": 19,
   "id": "9bc411d4-5065-4f2f-be19-d6ed39f83024",
   "metadata": {},
   "outputs": [],
   "source": [
    "#combined_tasks_io.filter(lambda task: 'korrupciós címkék:' not in task['input']).save_to_disk('datasets/tasks/combined_task_dataset_io_notags')"
   ]
  },
  {
   "cell_type": "code",
   "execution_count": 20,
   "id": "8cb859dc-9c79-4498-b7f9-1265c0fc7da1",
   "metadata": {},
   "outputs": [
    {
     "data": {
      "application/vnd.jupyter.widget-view+json": {
       "model_id": "a02e7517976c4cafb7e8e0004125e86b",
       "version_major": 2,
       "version_minor": 0
      },
      "text/plain": [
       "Saving the dataset (0/1 shards):   0%|          | 0/24000 [00:00<?, ? examples/s]"
      ]
     },
     "metadata": {},
     "output_type": "display_data"
    },
    {
     "data": {
      "application/vnd.jupyter.widget-view+json": {
       "model_id": "10ed3192f86946bdb4d5295163de2d5d",
       "version_major": 2,
       "version_minor": 0
      },
      "text/plain": [
       "Saving the dataset (0/1 shards):   0%|          | 0/4500 [00:00<?, ? examples/s]"
      ]
     },
     "metadata": {},
     "output_type": "display_data"
    },
    {
     "data": {
      "application/vnd.jupyter.widget-view+json": {
       "model_id": "023c21c386a44853bf60f06cf7e268d6",
       "version_major": 2,
       "version_minor": 0
      },
      "text/plain": [
       "Saving the dataset (0/1 shards):   0%|          | 0/2250 [00:00<?, ? examples/s]"
      ]
     },
     "metadata": {},
     "output_type": "display_data"
    }
   ],
   "source": [
    "combined_tasks_io.filter(lambda task: '[korrupció klasszifikáció]' in task['input']).save_to_disk('datasets/tasks/combined_task_dataset_io_notags')"
   ]
  },
  {
   "cell_type": "code",
   "execution_count": null,
   "id": "d90d09d4-daa1-4f33-ab61-a0a2bfebf37c",
   "metadata": {},
   "outputs": [],
   "source": []
  },
  {
   "cell_type": "code",
   "execution_count": 21,
   "id": "99f6400f-9826-4395-aeb6-d52000e86755",
   "metadata": {},
   "outputs": [
    {
     "data": {
      "text/plain": [
       "DatasetDict({\n",
       "    train: Dataset({\n",
       "        features: ['theme', 'input', 'output'],\n",
       "        num_rows: 24000\n",
       "    })\n",
       "    validation: Dataset({\n",
       "        features: ['theme', 'input', 'output'],\n",
       "        num_rows: 4500\n",
       "    })\n",
       "    test: Dataset({\n",
       "        features: ['theme', 'input', 'output'],\n",
       "        num_rows: 2250\n",
       "    })\n",
       "})"
      ]
     },
     "execution_count": 21,
     "metadata": {},
     "output_type": "execute_result"
    }
   ],
   "source": [
    "combined_tasks_io.filter(lambda task: 'korrupciós címkék:' not in task['input'])"
   ]
  }
 ],
 "metadata": {
  "kernelspec": {
   "display_name": "Python 3 (ipykernel)",
   "language": "python",
   "name": "python3"
  },
  "language_info": {
   "codemirror_mode": {
    "name": "ipython",
    "version": 3
   },
   "file_extension": ".py",
   "mimetype": "text/x-python",
   "name": "python",
   "nbconvert_exporter": "python",
   "pygments_lexer": "ipython3",
   "version": "3.10.10"
  }
 },
 "nbformat": 4,
 "nbformat_minor": 5
}
