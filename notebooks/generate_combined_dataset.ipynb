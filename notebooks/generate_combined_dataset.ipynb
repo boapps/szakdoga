{
 "cells": [
  {
   "cell_type": "code",
   "execution_count": null,
   "id": "5bdd9688-755d-404e-b863-cfb3d2147e2e",
   "metadata": {},
   "outputs": [],
   "source": [
    "from datasets import concatenate_datasets, load_from_disk, DatasetDict"
   ]
  },
  {
   "cell_type": "code",
   "execution_count": null,
   "id": "ba317901-8c95-4ec7-8f8c-5e4ed41d913d",
   "metadata": {},
   "outputs": [],
   "source": [
    "article_classification_task_dataset = load_from_disk('../datasets/tasks/article_classification_task_dataset/').shuffle(seed=42)\n",
    "institution_classification_task_dataset = load_from_disk('../datasets/tasks/institution_classification_task_dataset/').shuffle(seed=42)\n",
    "keyword_generation_task_dataset = load_from_disk('../datasets/tasks/keyword_generation_task_dataset/').shuffle(seed=42)\n",
    "people_classification_task_dataset = load_from_disk('../datasets/tasks/people_classification_task_dataset/').shuffle(seed=42)"
   ]
  },
  {
   "cell_type": "code",
   "execution_count": null,
   "id": "8278ba74-ce35-4d79-9479-0ab07a2d45e3",
   "metadata": {},
   "outputs": [],
   "source": [
    "article_classification_task_dataset"
   ]
  },
  {
   "cell_type": "code",
   "execution_count": null,
   "id": "d84162c8-754d-4945-8dcf-fbf07e5d9242",
   "metadata": {},
   "outputs": [],
   "source": [
    "def get_pandas(dataset):\n",
    "    return {split: dataset[split].to_pandas() for split in dataset.keys()}"
   ]
  },
  {
   "cell_type": "code",
   "execution_count": null,
   "id": "0808210c-ed91-490b-8aac-6e6dfc89f6ec",
   "metadata": {},
   "outputs": [],
   "source": [
    "pandas_article_classification_task_dataset = get_pandas(article_classification_task_dataset)\n",
    "pandas_institution_classification_task_dataset = get_pandas(institution_classification_task_dataset)\n",
    "pandas_keyword_generation_task_dataset = get_pandas(keyword_generation_task_dataset)\n",
    "pandas_people_classification_task_dataset = get_pandas(people_classification_task_dataset)"
   ]
  },
  {
   "cell_type": "code",
   "execution_count": null,
   "id": "6ac7f442-9a66-42fd-aec0-d332b3b32a20",
   "metadata": {},
   "outputs": [],
   "source": [
    "for split in article_classification_task_dataset.keys():\n",
    "    print(split, pandas_article_classification_task_dataset[split].groupby(['label']).size(), sep='\\n', end='\\n\\n')"
   ]
  },
  {
   "cell_type": "code",
   "execution_count": null,
   "id": "93e4d251-6416-4a85-9b35-affd443478cb",
   "metadata": {},
   "outputs": [],
   "source": [
    "institution_classification_task_dataset"
   ]
  },
  {
   "cell_type": "code",
   "execution_count": null,
   "id": "e4b06d9d-05be-4174-ad46-f6f256ece90f",
   "metadata": {},
   "outputs": [],
   "source": [
    "keyword_generation_task_dataset"
   ]
  },
  {
   "cell_type": "code",
   "execution_count": null,
   "id": "42f109ff-5ed9-4da3-a17a-7597008733bd",
   "metadata": {},
   "outputs": [],
   "source": [
    "people_classification_task_dataset"
   ]
  },
  {
   "cell_type": "code",
   "execution_count": null,
   "id": "e1e2fe9e-df66-429b-8e86-61fa87fca8ef",
   "metadata": {},
   "outputs": [],
   "source": [
    "combined_tasks = DatasetDict()"
   ]
  },
  {
   "cell_type": "code",
   "execution_count": null,
   "id": "d15644a2-1b4c-47e4-85fa-bde187a697f5",
   "metadata": {},
   "outputs": [],
   "source": [
    "for split, size in zip(['train', 'validation', 'test'], [16000, 3000, 1500]):\n",
    "    combined_tasks[split] = article_classification_task_dataset[split].filter(lambda article: article['label'] == 1).select(range(size))\n",
    "    combined_tasks[split] = concatenate_datasets([combined_tasks[split], article_classification_task_dataset[split].filter(lambda article: article['label'] == 0).select(range(size//2))])\n",
    "combined_tasks = combined_tasks.remove_columns(['label', 'type'])\n",
    "#for split, size in zip(['train', 'validation', 'test'], [10000, 1400, 740]):\n",
    "#    combined_tasks[split] = concatenate_datasets([combined_tasks[split], people_classification_task_dataset[split].select(range(size)).remove_columns(['type'])])\n",
    "#for split, size in zip(['train', 'validation', 'test'], [7000, 900, 490]):\n",
    "#    combined_tasks[split] = concatenate_datasets([combined_tasks[split], institution_classification_task_dataset[split].select(range(size)).remove_columns(['type'])])\n",
    "#for split, size in zip(['train', 'validation', 'test'], [10000, 3000, 1500]):\n",
    "#    combined_tasks[split] = concatenate_datasets([combined_tasks[split], keyword_generation_task_dataset[split].select(range(size)).remove_columns(['type'])])"
   ]
  },
  {
   "cell_type": "code",
   "execution_count": null,
   "id": "6afea1f0-92f3-4770-aa82-0786e1bb9396",
   "metadata": {},
   "outputs": [],
   "source": [
    "combined_tasks.shuffle(seed=42).save_to_disk('../datasets/tasks/combined_task_dataset')"
   ]
  },
  {
   "cell_type": "code",
   "execution_count": null,
   "id": "301a8821-9ae1-467b-bd02-4caf44374338",
   "metadata": {},
   "outputs": [],
   "source": [
    "print(combined_tasks.shuffle(seed=42)['train'][0]['text'])"
   ]
  },
  {
   "cell_type": "code",
   "execution_count": null,
   "id": "1e04374d-6188-4991-a3f4-bc930b4b9151",
   "metadata": {},
   "outputs": [],
   "source": [
    "combined_tasks = load_from_disk('../datasets/tasks/combined_task_dataset/')"
   ]
  },
  {
   "cell_type": "code",
   "execution_count": null,
   "id": "006b1a55-943b-49a7-929e-064a53ccba8e",
   "metadata": {},
   "outputs": [],
   "source": [
    "combined_tasks"
   ]
  },
  {
   "cell_type": "code",
   "execution_count": null,
   "id": "c2b8e8c7-a52a-4f4f-8506-6114a5b2fa5b",
   "metadata": {},
   "outputs": [],
   "source": [
    "combined_tasks_io = combined_tasks.map(lambda task: {\n",
    "    'input': task['text'][:task['text'].rfind(':')+1],\n",
    "    'output': task['text'][task['text'].rfind(':')+1:],\n",
    "}, remove_columns='text')"
   ]
  },
  {
   "cell_type": "code",
   "execution_count": null,
   "id": "0cecde9b-7afc-44d2-94bb-6b34dd7b273f",
   "metadata": {},
   "outputs": [],
   "source": [
    "print(combined_tasks_io['train'][1]['input'])"
   ]
  },
  {
   "cell_type": "code",
   "execution_count": null,
   "id": "0341a471-e0f8-4150-bfa6-55653ab8a080",
   "metadata": {},
   "outputs": [],
   "source": [
    "combined_tasks_io.filter(lambda task: 'korrupciós címkék:' not in task['input'])"
   ]
  },
  {
   "cell_type": "code",
   "execution_count": null,
   "id": "9bc411d4-5065-4f2f-be19-d6ed39f83024",
   "metadata": {},
   "outputs": [],
   "source": [
    "#combined_tasks_io.filter(lambda task: 'korrupciós címkék:' not in task['input']).save_to_disk('datasets/tasks/combined_task_dataset_io_notags')"
   ]
  },
  {
   "cell_type": "code",
   "execution_count": null,
   "id": "8cb859dc-9c79-4498-b7f9-1265c0fc7da1",
   "metadata": {},
   "outputs": [],
   "source": [
    "combined_tasks_io.filter(lambda task: '[korrupció klasszifikáció]' in task['input']).save_to_disk('../datasets/tasks/combined_task_dataset_io_notags')"
   ]
  },
  {
   "cell_type": "code",
   "execution_count": null,
   "id": "99f6400f-9826-4395-aeb6-d52000e86755",
   "metadata": {},
   "outputs": [],
   "source": [
    "combined_tasks_io.filter(lambda task: 'korrupciós címkék:' not in task['input'])"
   ]
  }
 ],
 "metadata": {
  "kernelspec": {
   "display_name": "Python 3 (ipykernel)",
   "language": "python",
   "name": "python3"
  },
  "language_info": {
   "codemirror_mode": {
    "name": "ipython",
    "version": 3
   },
   "file_extension": ".py",
   "mimetype": "text/x-python",
   "name": "python",
   "nbconvert_exporter": "python",
   "pygments_lexer": "ipython3",
   "version": "3.10.10"
  }
 },
 "nbformat": 4,
 "nbformat_minor": 5
}
