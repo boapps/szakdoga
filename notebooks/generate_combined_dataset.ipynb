{
 "cells": [
  {
   "cell_type": "code",
   "execution_count": 1,
   "id": "5bdd9688-755d-404e-b863-cfb3d2147e2e",
   "metadata": {},
   "outputs": [
    {
     "name": "stderr",
     "output_type": "stream",
     "text": [
      "<frozen importlib._bootstrap>:241: RuntimeWarning: pyarrow._fs.FileInfo size changed, may indicate binary incompatibility. Expected 64 from C header, got 88 from PyObject\n",
      "<frozen importlib._bootstrap>:241: RuntimeWarning: pyarrow._fs.FileSelector size changed, may indicate binary incompatibility. Expected 48 from C header, got 72 from PyObject\n"
     ]
    }
   ],
   "source": [
    "from datasets import concatenate_datasets, load_from_disk, DatasetDict"
   ]
  },
  {
   "cell_type": "code",
   "execution_count": 2,
   "id": "ba317901-8c95-4ec7-8f8c-5e4ed41d913d",
   "metadata": {},
   "outputs": [],
   "source": [
    "article_classification_task_dataset = load_from_disk('../datasets/tasks/article_classification_task_dataset/').shuffle(seed=42)\n",
    "institution_classification_task_dataset = load_from_disk('../datasets/tasks/institution_classification_task_dataset/').shuffle(seed=42)\n",
    "keyword_generation_task_dataset = load_from_disk('../datasets/tasks/keyword_generation_task_dataset/').shuffle(seed=42)\n",
    "people_classification_task_dataset = load_from_disk('../datasets/tasks/people_classification_task_dataset/').shuffle(seed=42)"
   ]
  },
  {
   "cell_type": "code",
   "execution_count": 3,
   "id": "8278ba74-ce35-4d79-9479-0ab07a2d45e3",
   "metadata": {},
   "outputs": [
    {
     "data": {
      "text/plain": [
       "'[címkék generálása]\\nSaját nevén publikálta a fiktív pályázat anyagát az egyetemi vezető\\n\\nA nemzetvédelmi egyetem kancellárja saját nevén egy folyóiratban még publikálta is annak a tanulmánynak az összefoglalóját, amelyet egy fiktív pályázat ala\\n\\nA nemzetvédelmi egyetem kancellárja saját nevén egy folyóiratban még publikálta is annak a tanulmánynak az összefoglalóját, amelyet egy fiktív pályázat alapján egy pesterzsébeti piacon grillcsirkét árusító vállalkozó nyert el, de valójában az egyetem munkatársa készített el – értesült hétfőn az MTI Hírcentrum.\\nAz MR1-Kossuth Rádió Krónika című műsora vasárnap számolt be arról, hogy a Zrínyi Miklós Nemzetvédelmi Egyetem (ZMNE) gazdasági átvilágításakor kiderült: 2010 februárjában névlegesen a pesterzsébeti piacon grillcsirkét árusító vállalkozó végzett szociológiai kutatást a honvédségnél a ZMNE számára, amelyért nyolcmillió forintot fizettek ki.\\nAz m1 hétfő esti Híradójában azt mondták: mostanra kiderült, hogy nemcsak a közbeszerzési felhívást, hanem a kiválasztott három cég nevében a pályázatokat is az egyetemen készítették a nyolcmillió forintos szociológiai kutatásra. Mint kifejtették: az egykori Zrínyi Miklós Nemzetvédelmi Egyetem (ZMNE) volt kancellárja előre meghatározta, hogy melyik cégnek kell elnyernie a megbízást a szociológiai felmérésre, de a munkát valójában az egyetem egyik munkatársa készítette, munkaidőben.\\nRáadásul az elkészült tanulmány összefoglalóját az egyetem kancellárja saját nevén még publikálta is a Nemzet és Biztonság című folyóiratban. Az ügyészség szerint a fiktív pályázat alapján kifizetett nyolcmillió forintot a vállalkozó visszajuttatta az egyetem vezetőjének – tették hozzá.\\nA Nemzeti Közszolgálati Egyetem szervezetébe azóta beolvadt intézmény volt kancellárja és további öt ember ellen a Központi Nyomozó Főügyészség vesztegetés miatt emelt vádat. Az üggyel kapcsolatban a Honvédelmi Minisztérium közölte, a honvédség intézményeinél végzett átvilágítás eredményeképpen jelenleg 45 ügyben folyik büntetőeljárás – hangzott el a Híradóban.\\nA Honvédelmi Minisztérium szerint a tárcánál és a honvédségnél elkövetett korrupciós bűncselekmények miatt 2005 és 2010 között több mint 1,7 milliárd forint kár érte az országot.\\nBalogh Zoltán, a Központi Nyomozó Főügyészség szóvivője vasárnap azt nyilatkozta a Krónikának, hogy a főügyészség budapesti regionális osztálya korábban egy fővel szemben jelentős értékre elkövetett sikkasztás bűntette, további öt fővel szemben jelentős értékre, bűnsegédként elkövetett sikkasztás bűntette, valamint egy fővel szemben jelentős értékre elkövetett hanyag kezelés vétsége miatt vádiratot nyújtott be a Fővárosi Törvényszék Katonai Tanácsához.\\nA vádlottak között van a ZMNE volt rektora, Szabó János is, aki egy másik ügyben már jogerős büntetését tölti. Ellene most az egyetem lőterének bérleti szerződése miatt folyik büntetőeljárás.\\n\\ncimkék: visszaélés, közbeszerzés, Zrínyi Miklós Nemzetvédelmi Egyetem, ZMNE\\n\\n###\\n\\nkorrupciós címkék: kiszervezés, közbeszerzés, oktatás, tanulmányírás, tudomány, vesztegetés\\n'"
      ]
     },
     "execution_count": 3,
     "metadata": {},
     "output_type": "execute_result"
    }
   ],
   "source": [
    "keyword_generation_task_dataset['train']['text'][0]"
   ]
  },
  {
   "cell_type": "code",
   "execution_count": 4,
   "id": "d84162c8-754d-4945-8dcf-fbf07e5d9242",
   "metadata": {},
   "outputs": [],
   "source": [
    "def get_pandas(dataset):\n",
    "    return {split: dataset[split].to_pandas() for split in dataset.keys()}"
   ]
  },
  {
   "cell_type": "code",
   "execution_count": 5,
   "id": "0808210c-ed91-490b-8aac-6e6dfc89f6ec",
   "metadata": {},
   "outputs": [],
   "source": [
    "pandas_article_classification_task_dataset = get_pandas(article_classification_task_dataset)\n",
    "pandas_institution_classification_task_dataset = get_pandas(institution_classification_task_dataset)\n",
    "pandas_keyword_generation_task_dataset = get_pandas(keyword_generation_task_dataset)\n",
    "pandas_people_classification_task_dataset = get_pandas(people_classification_task_dataset)"
   ]
  },
  {
   "cell_type": "code",
   "execution_count": 6,
   "id": "6ac7f442-9a66-42fd-aec0-d332b3b32a20",
   "metadata": {},
   "outputs": [
    {
     "name": "stdout",
     "output_type": "stream",
     "text": [
      "test\n",
      "label\n",
      "0    1898\n",
      "1    1720\n",
      "dtype: int64\n",
      "\n",
      "train\n",
      "label\n",
      "0    16399\n",
      "1    26661\n",
      "dtype: int64\n",
      "\n",
      "validation\n",
      "label\n",
      "0    3188\n",
      "1    3410\n",
      "dtype: int64\n",
      "\n"
     ]
    }
   ],
   "source": [
    "for split in article_classification_task_dataset.keys():\n",
    "    print(split, pandas_article_classification_task_dataset[split].groupby(['label']).size(), sep='\\n', end='\\n\\n')"
   ]
  },
  {
   "cell_type": "code",
   "execution_count": 7,
   "id": "93e4d251-6416-4a85-9b35-affd443478cb",
   "metadata": {},
   "outputs": [
    {
     "data": {
      "text/plain": [
       "DatasetDict({\n",
       "    test: Dataset({\n",
       "        features: ['text', 'type'],\n",
       "        num_rows: 494\n",
       "    })\n",
       "    train: Dataset({\n",
       "        features: ['text', 'type'],\n",
       "        num_rows: 7191\n",
       "    })\n",
       "    validation: Dataset({\n",
       "        features: ['text', 'type'],\n",
       "        num_rows: 919\n",
       "    })\n",
       "})"
      ]
     },
     "execution_count": 7,
     "metadata": {},
     "output_type": "execute_result"
    }
   ],
   "source": [
    "institution_classification_task_dataset"
   ]
  },
  {
   "cell_type": "code",
   "execution_count": 8,
   "id": "e4b06d9d-05be-4174-ad46-f6f256ece90f",
   "metadata": {},
   "outputs": [
    {
     "data": {
      "text/plain": [
       "DatasetDict({\n",
       "    validation: Dataset({\n",
       "        features: ['text', 'type'],\n",
       "        num_rows: 3397\n",
       "    })\n",
       "    test: Dataset({\n",
       "        features: ['text', 'type'],\n",
       "        num_rows: 1710\n",
       "    })\n",
       "    train: Dataset({\n",
       "        features: ['text', 'type'],\n",
       "        num_rows: 26534\n",
       "    })\n",
       "})"
      ]
     },
     "execution_count": 8,
     "metadata": {},
     "output_type": "execute_result"
    }
   ],
   "source": [
    "keyword_generation_task_dataset"
   ]
  },
  {
   "cell_type": "code",
   "execution_count": 9,
   "id": "42f109ff-5ed9-4da3-a17a-7597008733bd",
   "metadata": {},
   "outputs": [
    {
     "data": {
      "text/plain": [
       "DatasetDict({\n",
       "    test: Dataset({\n",
       "        features: ['text', 'type'],\n",
       "        num_rows: 750\n",
       "    })\n",
       "    train: Dataset({\n",
       "        features: ['text', 'type'],\n",
       "        num_rows: 11417\n",
       "    })\n",
       "    validation: Dataset({\n",
       "        features: ['text', 'type'],\n",
       "        num_rows: 1448\n",
       "    })\n",
       "})"
      ]
     },
     "execution_count": 9,
     "metadata": {},
     "output_type": "execute_result"
    }
   ],
   "source": [
    "people_classification_task_dataset"
   ]
  },
  {
   "cell_type": "code",
   "execution_count": 10,
   "id": "e1e2fe9e-df66-429b-8e86-61fa87fca8ef",
   "metadata": {},
   "outputs": [],
   "source": [
    "combined_tasks = DatasetDict()"
   ]
  },
  {
   "cell_type": "code",
   "execution_count": 11,
   "id": "b12acce5-caf5-4e63-994d-65be47ab24a6",
   "metadata": {},
   "outputs": [],
   "source": [
    "#combined_tasks = keyword_generation_task_dataset"
   ]
  },
  {
   "cell_type": "code",
   "execution_count": 12,
   "id": "d15644a2-1b4c-47e4-85fa-bde187a697f5",
   "metadata": {},
   "outputs": [],
   "source": [
    "#for split, size in zip(['train', 'validation', 'test'], [16000, 3000, 1500]):\n",
    "#    combined_tasks[split] = article_classification_task_dataset[split].filter(lambda article: article['label'] == 1).select(range(size//10))\n",
    "#    combined_tasks[split] = concatenate_datasets([combined_tasks[split], article_classification_task_dataset[split].filter(lambda article: article['label'] == 0).select(range(size))])\n",
    "#combined_tasks = combined_tasks.remove_columns(['label', 'type'])\n",
    "for split, size in zip(['train', 'validation', 'test'], [11000, 1400, 750]):\n",
    "    combined_tasks[split] = people_classification_task_dataset[split].select(range(size)).remove_columns(['type'])\n",
    "for split, size in zip(['train', 'validation', 'test'], [7100, 900, 490]):\n",
    "    combined_tasks[split] = concatenate_datasets([combined_tasks[split], institution_classification_task_dataset[split].select(range(size)).remove_columns(['type'])])\n",
    "for split, size in zip(['train', 'validation', 'test'], [10000, 3000, 1500]):\n",
    "    combined_tasks[split] = concatenate_datasets([combined_tasks[split], keyword_generation_task_dataset[split].select(range(size)).remove_columns(['type'])])"
   ]
  },
  {
   "cell_type": "code",
   "execution_count": 13,
   "id": "6afea1f0-92f3-4770-aa82-0786e1bb9396",
   "metadata": {},
   "outputs": [
    {
     "data": {
      "application/vnd.jupyter.widget-view+json": {
       "model_id": "ef5ed91a54ff4e1bb9a0d2c01e381008",
       "version_major": 2,
       "version_minor": 0
      },
      "text/plain": [
       "Saving the dataset (0/1 shards):   0%|          | 0/28100 [00:00<?, ? examples/s]"
      ]
     },
     "metadata": {},
     "output_type": "display_data"
    },
    {
     "data": {
      "application/vnd.jupyter.widget-view+json": {
       "model_id": "26cff978f926477fbb861b240ca9358f",
       "version_major": 2,
       "version_minor": 0
      },
      "text/plain": [
       "Saving the dataset (0/1 shards):   0%|          | 0/5300 [00:00<?, ? examples/s]"
      ]
     },
     "metadata": {},
     "output_type": "display_data"
    },
    {
     "data": {
      "application/vnd.jupyter.widget-view+json": {
       "model_id": "7953a91eeca2455da8aa127df9ad0aff",
       "version_major": 2,
       "version_minor": 0
      },
      "text/plain": [
       "Saving the dataset (0/1 shards):   0%|          | 0/2740 [00:00<?, ? examples/s]"
      ]
     },
     "metadata": {},
     "output_type": "display_data"
    }
   ],
   "source": [
    "combined_tasks.shuffle(seed=42).save_to_disk('../datasets/tasks/combined_task_dataset')"
   ]
  },
  {
   "cell_type": "code",
   "execution_count": 14,
   "id": "3bcd100b-fa82-4d23-97fd-3b1b0d1e8c24",
   "metadata": {},
   "outputs": [],
   "source": [
    "n = 1"
   ]
  },
  {
   "cell_type": "code",
   "execution_count": 15,
   "id": "301a8821-9ae1-467b-bd02-4caf44374338",
   "metadata": {},
   "outputs": [
    {
     "name": "stdout",
     "output_type": "stream",
     "text": [
      "[személy klasszifikáció]\n",
      "Tavaly októberben írtuk, hogy ismét Török Márkot választotta a szegedi egyetem hallgatói önkormányzata (EHÖK) elnökké. Török olyan régóta tölti be ezt a posztot, hogy 2015-ben gyakorlatilag rá (is) szabtak egy korlátozó törvénymódosítást, ami legfeljebb négy évben szabja meg, hogy mennyit lehet valaki HÖK-elnök. Az egyetem meg is semmisítette a megválasztását, majd az egyetem 12 dékánja is felszólította őt távozásra. Török erre támadó válaszlevelet írt.\n",
      "Ő egyébként úgy értelmezte a törvénymódosítást, hogy az nem visszaható, azaz csak a hatálybalépéstől kell számítani a négy évet. Emiatt bírósági ügy is lett az egészből. A helyzetről nyáron készítettünk interjút Törökkel, ez itt olvasható. Az Átlátszó most azt írja, a bíróság első fokon nem osztotta Török jogértelmezését, és úgy döntött, Török Márk nem lehet a Szegedi Tudományegyetem hallgatói önkormányzatának elnöke. A bíróság szerint a 2015-ben törvénybe iktatott négyéves felső korlát vonatkozik a tizenkét éve HÖK-öző Törökre is, írják.\n",
      "Hozzáteszik, a bíróság pontos érvelését nem ismerik egyelőre. A bíróság közleménye szerint: “a tárgybeli elnökválasztáson [a HÖK-nek] már figyelemmel kellett lennie arra, hogy csak olyan elnököt (tisztségviselőt) választhat meg, akivel szemben az új megbízatási feltétel [vagyis a négyéves korlát] nem jelent kizáró okot. A választásnál ezért téves jogértelmezést fogadott el.\" A bíróság szerint ezért “az egyetem rektora jogszerűen határozott a jogszabálysértő aktus megsemmisítése mellett.\" A törvény szerint az ügyben a Fővárosi Közigazgatási és Munkaügyi Bíróság volt illetékes, írja az Átlátszó.\n",
      "\"Török megtámadta a rektor megsemmisítő határozatát a bíróságon, ezért az ítélet meghozataláig elnök maradhatott, mert a bírósághoz fordulásnak halasztó hatálya volt. A bíróság mostani ítélete viszont jogerős, de csak a 2015-ös választásról szól. Törököt viszont 2016-ban is elnökké választották, ami egy külön eljárásban lesz csak megsemmisíthető. A bíróság döntése nem jogerős\" - írják.\n",
      "\n",
      "###\n",
      "\n",
      "összes: Fővárosi Közigazgatási és Munkaügyi Bíróság, Szegedi Tudományegyetem\n",
      "korrupcióban érintett: Szegedi Tudományegyetem\n",
      "\n"
     ]
    }
   ],
   "source": [
    "n += 1\n",
    "print(combined_tasks.shuffle(seed=42)['train'][n]['text'])"
   ]
  },
  {
   "cell_type": "code",
   "execution_count": 16,
   "id": "1e04374d-6188-4991-a3f4-bc930b4b9151",
   "metadata": {},
   "outputs": [],
   "source": [
    "#combined_tasks = load_from_disk('../datasets/tasks/combined_task_dataset/')"
   ]
  },
  {
   "cell_type": "code",
   "execution_count": 17,
   "id": "006b1a55-943b-49a7-929e-064a53ccba8e",
   "metadata": {},
   "outputs": [
    {
     "data": {
      "text/plain": [
       "DatasetDict({\n",
       "    train: Dataset({\n",
       "        features: ['text'],\n",
       "        num_rows: 28100\n",
       "    })\n",
       "    validation: Dataset({\n",
       "        features: ['text'],\n",
       "        num_rows: 5300\n",
       "    })\n",
       "    test: Dataset({\n",
       "        features: ['text'],\n",
       "        num_rows: 2740\n",
       "    })\n",
       "})"
      ]
     },
     "execution_count": 17,
     "metadata": {},
     "output_type": "execute_result"
    }
   ],
   "source": [
    "combined_tasks"
   ]
  },
  {
   "cell_type": "code",
   "execution_count": 18,
   "id": "c2b8e8c7-a52a-4f4f-8506-6114a5b2fa5b",
   "metadata": {},
   "outputs": [
    {
     "data": {
      "application/vnd.jupyter.widget-view+json": {
       "model_id": "8bb7af50b6aa4713b965e442d2356af9",
       "version_major": 2,
       "version_minor": 0
      },
      "text/plain": [
       "Map:   0%|          | 0/28100 [00:00<?, ? examples/s]"
      ]
     },
     "metadata": {},
     "output_type": "display_data"
    },
    {
     "data": {
      "application/vnd.jupyter.widget-view+json": {
       "model_id": "0da0898a039444478c47677042a5f3d7",
       "version_major": 2,
       "version_minor": 0
      },
      "text/plain": [
       "Map:   0%|          | 0/5300 [00:00<?, ? examples/s]"
      ]
     },
     "metadata": {},
     "output_type": "display_data"
    },
    {
     "data": {
      "application/vnd.jupyter.widget-view+json": {
       "model_id": "f62fe292953c4c8c82a1b75ebd4ad327",
       "version_major": 2,
       "version_minor": 0
      },
      "text/plain": [
       "Map:   0%|          | 0/2740 [00:00<?, ? examples/s]"
      ]
     },
     "metadata": {},
     "output_type": "display_data"
    }
   ],
   "source": [
    "combined_tasks_io = combined_tasks.map(lambda task: {\n",
    "    'input': task['text'][:task['text'].rfind(':')+1],\n",
    "    'output': task['text'][task['text'].rfind(':')+1:],\n",
    "}, remove_columns='text')"
   ]
  },
  {
   "cell_type": "code",
   "execution_count": 19,
   "id": "0cecde9b-7afc-44d2-94bb-6b34dd7b273f",
   "metadata": {},
   "outputs": [
    {
     "name": "stdout",
     "output_type": "stream",
     "text": [
      "[személy klasszifikáció]\n",
      "Talicskák, csontvázak, hűtlen kezelés, hivatali visszaélés, halállista, sorozatos szabálytalanságok, vádaskodások, hazudozások, perek – az esztergomi polgármesteri hivatalban és környékén az őszi választás óta \"zajlik az élet\", ám a helyzet feltehetőleg most tovább \"fokozódik\". Az Állami Számvevőszék a napokban nyilvánosságra hozta a korábbi városvezetés pénzügyi tevékenységét vizsgáló jelentését. Tétényi Éva polgármesterrel az ÁSZ-jelentés közzététele utáni új helyzetről beszélgettünk.\n",
      "A 60 oldalas dokumentum szerint Meggyes Tamás, a város előző polgármestere, valamint Marosi György volt jegyző az elmúlt négy évben több alkalommal is törvényt sértett, ám ezek mindig következmények nélkül maradtak.\n",
      "Tétényi Éva\n",
      "A dokumentumból az is megtudható, hogy eközben a felelőtlen gazdálkodásnak köszönhetően elképesztő mértékűre nőtt az önkormányzat adósságterhe, s ennek \"rendezése\" alighanem komoly nehézségeket okoz majd nemcsak a jelenlegi vezetésnek, de a város lakosságának is.\n",
      "hvg.hu: Az ÁSZ-jelentés nyilvánosságra kerülése után Meggyes Tamás önkormányzati képviselő beadta önnek a lemondását?\n",
      "Tétényi Éva: Nem tudok róla. Sőt, arról sem, hogy más megtette volna. Például azok, akik tagjai voltak az előző városvezetésnek is.\n",
      "hvg.hu: Legalább bocsánatot kért közülük valaki, hiszen az elmúlt hónapokban a kétharmados többségű Fidesz-frakció folyamatosan hazugnak nevezte önt, s a város tönkretételével is vádolták?\n",
      "T.É.: A sors iróniája, hogy éppen aznap, amikor az ÁSZ jelentése nyilvánosságra került, ők maguk is megjelentettek Meggyes Tamás honlapján egy közleményt, amelyben azt állítják, hogy másfél hónap alatt én vittem csődbe a várost. Szó sincs tehát bocsánatkérésről, hanem továbbra is azt sulykolják az emberekbe, hogy mindenért én vagyok a felelős.\n",
      "hvg.hu: Önt nagy fölénnyel választották meg Meggyes Tamás ellenében, de a városvezetésbe kétharmados többségű Fidesz-frakciót szavaztak be. Az ő megítélésük változott-e?\n",
      "T.É.: Az egyes választókerületekben is annyi volt a Fidesz támogatottsága, mint amekkora Meggyes Tamásé. Azaz, a mandátumot nyert képviselők csak az ott élők 30-40 százalékát képviselik. Ám velük szemben 5-6 jelölt is volt, s a szavazatok megoszlottak. Így jöhetett létre a kétharmados többség. Ha tavasszal megismételnék a választást, valószínűleg megmaradna a Fidesz támogatottsága, de mégis megváltozna a végeredmény.\n",
      "Az emberek időközben rájöttek arra, csak akkor lehet hatékony a városvezetés, ha meg tudnak egyezni olyan személyekben, akik nem elsősorban a pártérdekeket szem előtt tartva képviselik őket. Másrészt, az őszi választásokon még sok helyen nem a személyek számítottak, hanem a pártpreferencia. Azóta a választók rájöttek, teljesen mindegy, hogy az illető milyen mezben játszik, az a fontos, hogy a városban élők érdekeit szolgálja. Ezt néhány hónap alatt az erősen jobboldali kötődésű Esztergomban is megtanulták az emberek.\n",
      "hvg.hu: A testületben kialakult patthelyzetet, a hatályos törvények miatt, visszahívásokkal nem lehet megoldani. Lemondási szándékokról sem hallani, így marad az áprilisi előrehozott választás. A helyi Fidesz-frakció ezt minden módon igyekszik megakadályozni. Mégis, van rá reális esély?\n",
      "T.É.: Ötven százalékos esélyt látok. Ez azt jelenti, hogy egy demokratikus jogállamban, ha alkotmányellenesen működik egy képviselőtestület, akkor az országgyűlésnek lehetősége van úgy megszüntetni ezt az állapotot, hogy feloszlatja a testületet, ha ők maguk ezt nem akarják megtenni. Ez mindenképpen új helyzet lesz, mert Magyarországon ilyen még nem történt.\n",
      "Én azért vagyok bizakodó, mert a többséget adó kormánypártok a nyilatkozataikban mindig hangoztatják, programként meghirdették, hogy harcolnak a korrupció ellen, fel akarják tárni a múlt hibáit, átláthatóvá akarják tenni a közpénzek felhasználását, s ezt a \"csontvázakkal\", \"dobozokkal\" kapcsolatos \"ügyek\" is bizonyítják. Ha Esztergomban az ÁSZ-vizsgálat törvénytelenségeket tárt fel, s nekem ezek után hivatalból feljelentést kell tennem, ugyanakkor engem pedig az érintettek vádolnak meg súlyos állításokkal, akkor áprilisban mérettessék meg mindkét oldal, s döntsenek a választók, kit látnának a képviselőtestületben, illetve annak élén. Én állok a választás elébe. Amennyiben egy párt erkölcsi megtisztulást hirdet, akkor a saját soraiban is rendet kell tennie.\n",
      "hvg.hu: Közben a Fidesz-frakció önt vádolja folyamatosan azzal, hogy törvénytelenül jár el, csődbe viszi a várost.\n",
      "T.É.: Azért gondoljuk végig ezt a vádat. Az ÁSZ jelentése megállapította, hogy az előző polgármester ideje alatt adósodott el a város. Ennek egyes részleteit, következményeit a beiktatásom után én is nyilvánosságra hoztam. Mégis azzal vádolnak, hogy én vittem csődbe a várost. Ez akkor is képtelenség, ha két kézzel szórnám a pénzt, de hát erről szó sincs. Ez a vádaskodás nemcsak komolytalan, de arra is rávilágít, hogy egyes képviselők, akik az előző városvezetésnek is tagjai voltak, milyen felelőtlenséggel kezelik ma is a város súlyos gondjait.\n",
      "hvg.hu: Az, hogy a fideszes kötődésű ÁSZ-vezetés nyilvánosságra hozta a jelentést, nem azt jelzi-e, hogy a korábban \"érinthetetlennek\" látszó Meggyes mögül a pártja kihátrált?\n",
      "T.É.: Az ÁSZ vizsgálata egy négyévenként esedékes, a közpénzek felhasználásával kapcsolatos, munkatervbe vett átvilágítás volt. Az csak a sors különleges kegye, hogy most éppen egybeesett a polgármester-váltással, s a követelések hatására nyilvánosságra került. A vizsgálat eredményeinek ismeretében az illetékeseknek most már lépniük kell. A jelentés törvénytelenségeket állapított meg, amelyek hűtlen kezelésre, jogszabályok megszegésére, érdekes összefonódásokra is utalhatnak, amelyekről itt Esztergomban régóta beszélnek, s a helyi médiumok adatokat, dokumentumokat, részleteket is közöltek. Az LMP már tett feljelentést, én is erre készülök, s várom, hogy a következő napokban, hetekben ezek az eljárások megindulnak.\n",
      "hvg.hu: A legutóbbi botrány a volt alpolgármester páncélszekrényében talált, az ötvenes éveket idéző \"halállista\" miatt robbant ki. Vannak új fejlemények ezzel kapcsolatban?\n",
      "T.É.: Sok mindent tudunk a listával kapcsolatban, de az állításokat bizonyítani kell, s most ezen dolgozunk.\n",
      "hvg.hu: Meggyes azt nyilatkozta, hogy \"ez egy rendkívül jó jelentés\", mert a számvevők most jóval kevesebb észrevételt tettek, mint a legutóbbi, 2005-ös vizsgálat után.\n",
      "T.É.: Meg fogom nézni az előző ÁSZ-jelentést. Ha jól tudom, akkor az önkormányzatnak kellett készítenie egy intézkedési tervet, hiszen egy ilyen jelentésnek az egyik célja éppen az, hogy a feltárt hiányosságokat orvosolják. Döbbentem hallom, hogy az előző jelentésben még a mostaninál is több elmarasztaló észrevétel volt.\n",
      "hvg.hu: Meggyes szerint a vizsgálati jelentésben megfogalmazott \"vádak\" \"komolytalanok\". Érdekes freudi elvétés, hiszen pillanatnyilag Meggyest konkrétan még senki sem vádolta meg a közzétett törvénytelenségek miatt, ő viszont megkérdőjelezi a jogállam egyik alapintézményének őt elmarasztaló munkáját.\n",
      "T.É.: Igen, amennyiben Meggyes Tamás országgyűlési képviselő fenntartja ezt az állítását, akkor a jogállamiság alapjait veszi semmibe. Az ÁSZ éppen azért jött létre, hogy pártérdekektől függetlenül állapítsa meg: egy önkormányzat gazdálkodása törvényesen, rendben folyik-e, s így adjon biztonságérzetet az embereknek. A előző városvezetés sokszor figyelmen kívül hagyta a kormányhivatalok vagy a közigazgatási hivatal állásfoglalásait.\n",
      "hvg.hu: Az ön által beterjesztett 2011-es költségvetést a Fidesz-frakció elvetette, és elfogadtatta saját tervezetét, amelyben kiemelten fontos területekről, oktatás, árvízvédelem, kátyúzás, foglalkoztatás stb. vont el pénzt más helyekre: Meggyes magánpereire, élményfürdőre, Strigoniumra busásan adott a közvagyonból. Hogyan lehet kitörni ebből a gúzsba kötött állapotból?\n",
      "T.É.: Az önkormányzat, a képviselőtestület saját hatáskörben alkothat rendeletet, jogszabályt, s mivel a frakció ezeket testületileg terjeszti elő, a képviselőkön személy szerint még csak számon sem kérhető, ha valami ütközik az adott törvényekkel, jogszabályokkal. S ebben látom a problémát, mert jelenleg Esztergomban 30 ezer ember életével \"játszanak\". Én annyit tehetek, hogy a hivatali utat követve jelzem a kormányhivatalnál a jogszabályellenes dolgokat. Küldtem egy feljegyzést az Alkotmánybíróság elnökének arról, hogy nézzenek utána, megtehetik-e ezt a várossal, a költségvetéssel stb.\n",
      "hvg.hu: A hivatal malmai azonban lassan őrölnek. Jön a tavasz, a város tele van kátyúval, jöhet árvíz, nőni fog a gaz, egyre több a szemét, máris elfogyott a kollégiumra szánt pénz. Mit tud tenni?\n",
      "T.É.: Keressük a jogorvoslati fórumokat. Én azért küldtem el az összes adatot az Alkotmánybíróságnak, hátha a szokásosnál gyorsabban állást foglalnak ebben az ügyben, mert a kialakult helyzet emberi sorsokat, életeket érint. A város polgárai közben aláírást gyűjtenek, levelet szándékoznak küldeni az Országgyűlésnek vagy közvetlenül Orbán Viktornak, Navracsics Tibornak. Mindez nemcsak Esztergom polgárainak problémája. A múlt héten hívtam egybe a térség érintett polgármestereit, akiknek többsége hasonló pénzügyi-gazdasági-szociális problémákkal küzd. Esztergom afféle mintaváros. Ahogy itt alakulnak a dolgok, abból következtetéseket lehet levonni más városokra nézve is. Jó lenne, ha majdan \"öko-mintaváros\" lehetne Esztergomból, a negatív példa után lehetnénk pozitív példa is.\n",
      "hvg.hu: Budai Gyula elszámoltatási biztos egy hírportálnak azt nyilatkozta, hogy eljutott hozzá az LMP levele az esztergomi állapotokról, de \"még nem döntött, hogy mit tesz az ügyben\". Bejelentkezett már önnél?\n",
      "T.É.: Még nem.\n",
      "\n",
      "###\n",
      "\n",
      "összes: Budai Gyula, Marosi György, Meggyes Tamás, Navracsics Tibor, Orbán Viktor, Tétényi Éva\n",
      "korrupcióban érintett:\n"
     ]
    }
   ],
   "source": [
    "print(combined_tasks_io['train'][1]['input'])"
   ]
  },
  {
   "cell_type": "code",
   "execution_count": 20,
   "id": "0341a471-e0f8-4150-bfa6-55653ab8a080",
   "metadata": {},
   "outputs": [
    {
     "data": {
      "text/plain": [
       "DatasetDict({\n",
       "    train: Dataset({\n",
       "        features: ['input', 'output'],\n",
       "        num_rows: 28100\n",
       "    })\n",
       "    validation: Dataset({\n",
       "        features: ['input', 'output'],\n",
       "        num_rows: 5300\n",
       "    })\n",
       "    test: Dataset({\n",
       "        features: ['input', 'output'],\n",
       "        num_rows: 2740\n",
       "    })\n",
       "})"
      ]
     },
     "execution_count": 20,
     "metadata": {},
     "output_type": "execute_result"
    }
   ],
   "source": [
    "combined_tasks_io"
   ]
  },
  {
   "cell_type": "code",
   "execution_count": 21,
   "id": "9bc411d4-5065-4f2f-be19-d6ed39f83024",
   "metadata": {},
   "outputs": [],
   "source": [
    "#combined_tasks_io.filter(lambda task: 'korrupciós címkék:' not in task['input']).save_to_disk('datasets/tasks/combined_task_dataset_io_notags')"
   ]
  },
  {
   "cell_type": "code",
   "execution_count": 22,
   "id": "0556b5d7-b1ae-4bf1-8991-cb76b2598d5e",
   "metadata": {},
   "outputs": [
    {
     "data": {
      "application/vnd.jupyter.widget-view+json": {
       "model_id": "51910fb9049f45bd89c53c76bdffa028",
       "version_major": 2,
       "version_minor": 0
      },
      "text/plain": [
       "Saving the dataset (0/1 shards):   0%|          | 0/28100 [00:00<?, ? examples/s]"
      ]
     },
     "metadata": {},
     "output_type": "display_data"
    },
    {
     "data": {
      "application/vnd.jupyter.widget-view+json": {
       "model_id": "fd03a47e3faf4647a3b0bdc6470dcdb8",
       "version_major": 2,
       "version_minor": 0
      },
      "text/plain": [
       "Saving the dataset (0/1 shards):   0%|          | 0/5300 [00:00<?, ? examples/s]"
      ]
     },
     "metadata": {},
     "output_type": "display_data"
    },
    {
     "data": {
      "application/vnd.jupyter.widget-view+json": {
       "model_id": "e0a37c12c0554621a3aa8f7703712c01",
       "version_major": 2,
       "version_minor": 0
      },
      "text/plain": [
       "Saving the dataset (0/1 shards):   0%|          | 0/2740 [00:00<?, ? examples/s]"
      ]
     },
     "metadata": {},
     "output_type": "display_data"
    }
   ],
   "source": [
    "combined_tasks_io.shuffle(seed=42).save_to_disk('../datasets/tasks/combined_people_institution')"
   ]
  },
  {
   "cell_type": "code",
   "execution_count": 23,
   "id": "df712403-bd4a-475b-a9b3-11bc0f7708b1",
   "metadata": {},
   "outputs": [
    {
     "data": {
      "application/vnd.jupyter.widget-view+json": {
       "model_id": "6b32bf4932034d9eb85805eff35c98ec",
       "version_major": 2,
       "version_minor": 0
      },
      "text/plain": [
       "Filter:   0%|          | 0/28100 [00:00<?, ? examples/s]"
      ]
     },
     "metadata": {},
     "output_type": "display_data"
    },
    {
     "data": {
      "application/vnd.jupyter.widget-view+json": {
       "model_id": "ae7e02436ada4fe2a990c95a2d483c30",
       "version_major": 2,
       "version_minor": 0
      },
      "text/plain": [
       "Filter:   0%|          | 0/5300 [00:00<?, ? examples/s]"
      ]
     },
     "metadata": {},
     "output_type": "display_data"
    },
    {
     "data": {
      "application/vnd.jupyter.widget-view+json": {
       "model_id": "8904b900d9d84275b68eb4e3ac7555c2",
       "version_major": 2,
       "version_minor": 0
      },
      "text/plain": [
       "Filter:   0%|          | 0/2740 [00:00<?, ? examples/s]"
      ]
     },
     "metadata": {},
     "output_type": "display_data"
    },
    {
     "data": {
      "text/plain": [
       "DatasetDict({\n",
       "    train: Dataset({\n",
       "        features: ['input', 'output'],\n",
       "        num_rows: 10000\n",
       "    })\n",
       "    validation: Dataset({\n",
       "        features: ['input', 'output'],\n",
       "        num_rows: 3000\n",
       "    })\n",
       "    test: Dataset({\n",
       "        features: ['input', 'output'],\n",
       "        num_rows: 1500\n",
       "    })\n",
       "})"
      ]
     },
     "execution_count": 23,
     "metadata": {},
     "output_type": "execute_result"
    }
   ],
   "source": [
    "combined_tasks_io.shuffle(seed=42).filter(lambda task: '[címkék generálása]' in task['input'])"
   ]
  },
  {
   "cell_type": "code",
   "execution_count": 24,
   "id": "db0943cf-31da-423e-b7f2-87ad738f8ef1",
   "metadata": {},
   "outputs": [
    {
     "data": {
      "application/vnd.jupyter.widget-view+json": {
       "model_id": "b162b87671de4d07bbea025021267547",
       "version_major": 2,
       "version_minor": 0
      },
      "text/plain": [
       "Saving the dataset (0/1 shards):   0%|          | 0/10000 [00:00<?, ? examples/s]"
      ]
     },
     "metadata": {},
     "output_type": "display_data"
    },
    {
     "data": {
      "application/vnd.jupyter.widget-view+json": {
       "model_id": "039c63d6501e4973b5f8951abf5f051c",
       "version_major": 2,
       "version_minor": 0
      },
      "text/plain": [
       "Saving the dataset (0/1 shards):   0%|          | 0/3000 [00:00<?, ? examples/s]"
      ]
     },
     "metadata": {},
     "output_type": "display_data"
    },
    {
     "data": {
      "application/vnd.jupyter.widget-view+json": {
       "model_id": "762f4fdb50df48a3a47a7e062d4431d1",
       "version_major": 2,
       "version_minor": 0
      },
      "text/plain": [
       "Saving the dataset (0/1 shards):   0%|          | 0/1500 [00:00<?, ? examples/s]"
      ]
     },
     "metadata": {},
     "output_type": "display_data"
    }
   ],
   "source": [
    "combined_tasks_io.shuffle(seed=42).filter(lambda task: '[címkék generálása]' in task['input']).save_to_disk('datasets/tasks/combined_task_dataset_io_tags')"
   ]
  },
  {
   "cell_type": "code",
   "execution_count": 25,
   "id": "8cb859dc-9c79-4498-b7f9-1265c0fc7da1",
   "metadata": {},
   "outputs": [],
   "source": [
    "#combined_tasks_io.filter(lambda task: '[korrupció klasszifikáció]' in task['input']).save_to_disk('../datasets/tasks/combined_task_dataset_io_notags')"
   ]
  },
  {
   "cell_type": "code",
   "execution_count": 26,
   "id": "99f6400f-9826-4395-aeb6-d52000e86755",
   "metadata": {},
   "outputs": [
    {
     "data": {
      "application/vnd.jupyter.widget-view+json": {
       "model_id": "9285205230c6496791e2c7cdc2c9846f",
       "version_major": 2,
       "version_minor": 0
      },
      "text/plain": [
       "Filter:   0%|          | 0/28100 [00:00<?, ? examples/s]"
      ]
     },
     "metadata": {},
     "output_type": "display_data"
    },
    {
     "data": {
      "application/vnd.jupyter.widget-view+json": {
       "model_id": "93d59b55ebb3478dac4aa1157a784231",
       "version_major": 2,
       "version_minor": 0
      },
      "text/plain": [
       "Filter:   0%|          | 0/5300 [00:00<?, ? examples/s]"
      ]
     },
     "metadata": {},
     "output_type": "display_data"
    },
    {
     "data": {
      "application/vnd.jupyter.widget-view+json": {
       "model_id": "e74a2eb8e189460ab42899b134ca5a87",
       "version_major": 2,
       "version_minor": 0
      },
      "text/plain": [
       "Filter:   0%|          | 0/2740 [00:00<?, ? examples/s]"
      ]
     },
     "metadata": {},
     "output_type": "display_data"
    },
    {
     "data": {
      "text/plain": [
       "DatasetDict({\n",
       "    train: Dataset({\n",
       "        features: ['input', 'output'],\n",
       "        num_rows: 10000\n",
       "    })\n",
       "    validation: Dataset({\n",
       "        features: ['input', 'output'],\n",
       "        num_rows: 3000\n",
       "    })\n",
       "    test: Dataset({\n",
       "        features: ['input', 'output'],\n",
       "        num_rows: 1500\n",
       "    })\n",
       "})"
      ]
     },
     "execution_count": 26,
     "metadata": {},
     "output_type": "execute_result"
    }
   ],
   "source": [
    "combined_tasks_io.filter(lambda task: '[címkék generálása]' in task['input'])"
   ]
  }
 ],
 "metadata": {
  "kernelspec": {
   "display_name": "Python 3 (ipykernel)",
   "language": "python",
   "name": "python3"
  },
  "language_info": {
   "codemirror_mode": {
    "name": "ipython",
    "version": 3
   },
   "file_extension": ".py",
   "mimetype": "text/x-python",
   "name": "python",
   "nbconvert_exporter": "python",
   "pygments_lexer": "ipython3",
   "version": "3.10.10"
  }
 },
 "nbformat": 4,
 "nbformat_minor": 5
}
