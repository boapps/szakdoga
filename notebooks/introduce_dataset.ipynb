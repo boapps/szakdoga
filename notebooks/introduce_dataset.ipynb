{
 "cells": [
  {
   "cell_type": "code",
   "execution_count": 1,
   "id": "17597362-2d63-428a-a394-df728a3104ab",
   "metadata": {},
   "outputs": [
    {
     "name": "stderr",
     "output_type": "stream",
     "text": [
      "<frozen importlib._bootstrap>:241: RuntimeWarning: pyarrow._fs.FileInfo size changed, may indicate binary incompatibility. Expected 64 from C header, got 88 from PyObject\n",
      "<frozen importlib._bootstrap>:241: RuntimeWarning: pyarrow._fs.FileSelector size changed, may indicate binary incompatibility. Expected 48 from C header, got 72 from PyObject\n"
     ]
    }
   ],
   "source": [
    "%config IPCompleter.greedy=True\n",
    "import pandas as pd\n",
    "from datasets import load_from_disk"
   ]
  },
  {
   "cell_type": "markdown",
   "id": "135b4b5c-31e0-42a0-9312-19b21aa1ab6d",
   "metadata": {
    "tags": []
   },
   "source": [
    "# Betöltés\n",
    "\n",
    "betöltjük a klasszifikációs adathalmazt"
   ]
  },
  {
   "cell_type": "code",
   "execution_count": 2,
   "id": "1e41c066-f0b9-48f6-bd94-97183dbe96ff",
   "metadata": {},
   "outputs": [],
   "source": [
    "dataset = load_from_disk('datasets/base/classification_dataset')"
   ]
  },
  {
   "cell_type": "markdown",
   "id": "a2fee937-b588-4331-88db-93b7ebd8df09",
   "metadata": {
    "tags": []
   },
   "source": [
    "# Adathalmaz felfedezése"
   ]
  },
  {
   "cell_type": "markdown",
   "id": "6926ef6e-1070-4725-ba81-692c489fa925",
   "metadata": {},
   "source": [
    "Látható, hogy három split-ből áll az adathalmaz"
   ]
  },
  {
   "cell_type": "code",
   "execution_count": 3,
   "id": "cba622ea-5f20-4556-ba84-e152d85af3ca",
   "metadata": {},
   "outputs": [
    {
     "data": {
      "text/plain": [
       "{'train': 43060, 'validation': 6598, 'test': 3618}"
      ]
     },
     "execution_count": 3,
     "metadata": {},
     "output_type": "execute_result"
    }
   ],
   "source": [
    "{split: len(dataset[split]) for split in dataset}"
   ]
  },
  {
   "cell_type": "markdown",
   "id": "85bf5997-9a27-4e71-ae0d-f984c28fea23",
   "metadata": {},
   "source": [
    "A label adja meg, hogy adott cikk korrupciós témájú"
   ]
  },
  {
   "cell_type": "code",
   "execution_count": 4,
   "id": "d9375bd7-127c-4d66-b00a-290f88e59bc9",
   "metadata": {},
   "outputs": [
    {
     "data": {
      "text/plain": [
       "{'train': [0, 1], 'validation': [1, 0], 'test': [0, 1]}"
      ]
     },
     "execution_count": 4,
     "metadata": {},
     "output_type": "execute_result"
    }
   ],
   "source": [
    "dataset.unique('label')"
   ]
  },
  {
   "cell_type": "markdown",
   "id": "62a7dacf-b37d-4de0-b2cc-9285a749bd7e",
   "metadata": {},
   "source": [
    "A validációs halmaz csak kézzel annotált mintákat tartalmaz"
   ]
  },
  {
   "cell_type": "code",
   "execution_count": 5,
   "id": "df092e85-7d5b-4992-ac54-0e6a9e2cc302",
   "metadata": {},
   "outputs": [
    {
     "data": {
      "text/plain": [
       "{'train': [False, True], 'validation': [True, False], 'test': [True]}"
      ]
     },
     "execution_count": 5,
     "metadata": {},
     "output_type": "execute_result"
    }
   ],
   "source": [
    "dataset.unique('is_hand_annoted')"
   ]
  },
  {
   "cell_type": "markdown",
   "id": "aa9548fe-5690-4860-b308-ce7696be2ef6",
   "metadata": {
    "tags": []
   },
   "source": [
    "## Oszlopok magyarázata:\n",
    "\n",
    "`text`: cikk törzse\n",
    "\n",
    "`title`: hírportál által adott cím\n",
    "\n",
    "`description`: hírportál által adott lead (kis bevezető/összefoglaló az elején)\n",
    "\n",
    "`keywords`: hírportál címkék (nem mindig van és nem mindig értelmes)\n",
    "\n",
    "`label`: korrupcióról szól-e a cikk (típus: int, 1 ha igen, 0 egyébként)\n",
    "\n",
    "`url`: cikk url-je\n",
    "\n",
    "`authors`: cikk szerzői, címkékhez hasonlóan, nem minden esetben van meg\n",
    "\n",
    "`date`: cikk megjelenésének ideje, változó pontossággal és ritkán értelmetlen\n",
    "\n",
    "`kmonitor_description`: csak korrupciós cikkek esetében, k-monitor adatbázisában tárolt leírás (sokszor egyezik a rendes leírással)\n",
    "\n",
    "`kmonitor_title`: ugyanez címmel\n",
    "\n",
    "`kmonitor_tags`: ez a keywords-el ellentétben K-Monitoros önkéntesek általi címkézés, meghatározott \"címke halmazból\" (ebben vannak még helyszínek, amiket people-höz és institutes-hoz hasonlóan szét lehetne (kéne) szedni egy places oszlopba)\n",
    "\n",
    "`institutes`: cikkben megjelenő intézmények, K-Monitoros gyűjtés\n",
    "\n",
    "`people`: ugyanez személyekkel\n",
    "\n",
    "`is_hand_annoted`: azt jelöli, hogy adott cikket ember, vagy egy nyelvi modell annotálta, pozitív minták esetében mindig True"
   ]
  },
  {
   "cell_type": "code",
   "execution_count": 6,
   "id": "8ec6d54d-0eeb-4304-a4ef-80b6eb898189",
   "metadata": {},
   "outputs": [
    {
     "data": {
      "text/plain": [
       "{'text': Value(dtype='string', id=None),\n",
       " 'title': Value(dtype='string', id=None),\n",
       " 'description': Value(dtype='string', id=None),\n",
       " 'keywords': Sequence(feature=Value(dtype='string', id=None), length=-1, id=None),\n",
       " 'label': Value(dtype='int64', id=None),\n",
       " 'url': Value(dtype='string', id=None),\n",
       " 'authors': Sequence(feature=Value(dtype='string', id=None), length=-1, id=None),\n",
       " 'date': Value(dtype='string', id=None),\n",
       " 'kmonitor_description': Value(dtype='string', id=None),\n",
       " 'kmonitor_title': Value(dtype='string', id=None),\n",
       " 'kmonitor_tags': Sequence(feature=Value(dtype='string', id=None), length=-1, id=None),\n",
       " 'kmonitor_institutes': Sequence(feature=Value(dtype='string', id=None), length=-1, id=None),\n",
       " 'kmonitor_people': Sequence(feature=Value(dtype='string', id=None), length=-1, id=None),\n",
       " 'is_hand_annoted': Value(dtype='bool', id=None),\n",
       " 'kmonitor_places': Sequence(feature=Value(dtype='string', id=None), length=-1, id=None),\n",
       " 'kmonitor_collections': Sequence(feature=Value(dtype='string', id=None), length=-1, id=None)}"
      ]
     },
     "execution_count": 6,
     "metadata": {},
     "output_type": "execute_result"
    }
   ],
   "source": [
    "dataset['train'].features"
   ]
  },
  {
   "cell_type": "markdown",
   "id": "ebef2fbb-9838-44e3-a2bb-74c5711a7067",
   "metadata": {},
   "source": [
    "Keressünk helyreigazításokat!"
   ]
  },
  {
   "cell_type": "code",
   "execution_count": 7,
   "id": "6c3ba2f8-1862-4123-b726-20b722ae0ff7",
   "metadata": {},
   "outputs": [
    {
     "data": {
      "application/vnd.jupyter.widget-view+json": {
       "model_id": "",
       "version_major": 2,
       "version_minor": 0
      },
      "text/plain": [
       "Filter:   0%|          | 0/43060 [00:00<?, ? examples/s]"
      ]
     },
     "metadata": {},
     "output_type": "display_data"
    },
    {
     "data": {
      "text/plain": [
       "['Helyreigazítás',\n",
       " 'Helyreigazítás',\n",
       " 'Helyreigazítás',\n",
       " 'Helyreigazítás',\n",
       " 'Belföld: Helyreigazítás',\n",
       " 'Helyreigazítás',\n",
       " 'Helyreigazítás - Földet is nyert a trafikos fideszes',\n",
       " 'Nincs tovább: a Kúria elutasította a TEK helyreigazítási kérelmét',\n",
       " 'Helyreigazítás a TV2 közleménye alapján',\n",
       " 'Helyreigazítás',\n",
       " 'Helyreigazítás',\n",
       " 'Belföld: Bajai kamuvideó: Harangozó helyreigazítást kér',\n",
       " 'Helyreigazítás',\n",
       " 'Helyreigazítás az Országos Hulladékgazdálkodási Ügynökség ügyében',\n",
       " 'Elfogadták a médiaalkotmányt',\n",
       " 'Belföld: Helyreigazítás',\n",
       " 'Helyreigazítás a FitDent Kft. ügyében',\n",
       " 'Helyreigazítás',\n",
       " 'Belföld: BKV-ügy: Bruck Gábor helyreigazítást kér',\n",
       " 'Jogerősen megnyertük a Legfőbb Ügyészség által indított helyreigazítási pert a Quaestor-ügyben',\n",
       " 'Belföld: Helyreigazítás',\n",
       " 'Na, honnan jött helyreigazítási kérelem egy állami szervezet nevében?',\n",
       " 'Helyreigazítás',\n",
       " 'Helyreigazítás',\n",
       " 'Gyurcsány nem kap helyreigazítást',\n",
       " 'Helyreigazítás',\n",
       " 'Rogán ügyvéd barátja annyi helyreigazítási pert bukott, hogy már fel is adta azokat',\n",
       " 'Helyreigazítás',\n",
       " 'Sajtópert bukott egy Fidesz-közeli portál, árverezik a szerkesztőség berendezését',\n",
       " 'Belföld: Papcsák Ferenc helyreigazítással fordult a Nol-hoz',\n",
       " 'Helyreigazítások sorára kötelezték a köztévét - Megszólalt Czeglédy',\n",
       " '109 helyreigazítási pert vesztett 2018-ban a kormányközeli média',\n",
       " 'Helyreigazítás',\n",
       " 'Titkolná a szegedi bíróság, hány helyreigazítási per indult a megyei propagandalapok ellen',\n",
       " 'Helyreigazítás',\n",
       " 'Itthon: \"Közpénzt nem kímélő lejárató kampány\" – Bajnai helyreigazítást kért a köztévétől',\n",
       " 'Helyreigazítás',\n",
       " '53 helyreigazítási pert vesztett tavaly a kormányközeli média, sokkal többet mint egy évvel korábban',\n",
       " '„Helyreigazítás”',\n",
       " 'Helyreigazítás',\n",
       " 'Helyreigazítás']"
      ]
     },
     "execution_count": 7,
     "metadata": {},
     "output_type": "execute_result"
    }
   ],
   "source": [
    "dataset['train'].filter(lambda article: 'helyreigazítás' in article['title'].lower() or 'helyreigazítás' in article['keywords'])['title']"
   ]
  },
  {
   "cell_type": "markdown",
   "id": "e3420754-ad51-4454-b45f-1792cc55529d",
   "metadata": {
    "tags": []
   },
   "source": [
    "# Pandas\n",
    "\n",
    "Az adathalmazt átalakítjuk pandas objektumokká a további feldolgozás egyszerűsítése miatt"
   ]
  },
  {
   "cell_type": "code",
   "execution_count": 8,
   "id": "cdc4342d-c14a-483a-9971-063c3684e701",
   "metadata": {},
   "outputs": [],
   "source": [
    "dfs = {split: dataset[split].to_pandas() for split in dataset.keys()}"
   ]
  },
  {
   "cell_type": "code",
   "execution_count": 9,
   "id": "42740ec7-0b5d-45b4-aaa6-b29bb39998c4",
   "metadata": {},
   "outputs": [
    {
     "data": {
      "text/html": [
       "<div>\n",
       "<style scoped>\n",
       "    .dataframe tbody tr th:only-of-type {\n",
       "        vertical-align: middle;\n",
       "    }\n",
       "\n",
       "    .dataframe tbody tr th {\n",
       "        vertical-align: top;\n",
       "    }\n",
       "\n",
       "    .dataframe thead th {\n",
       "        text-align: right;\n",
       "    }\n",
       "</style>\n",
       "<table border=\"1\" class=\"dataframe\">\n",
       "  <thead>\n",
       "    <tr style=\"text-align: right;\">\n",
       "      <th></th>\n",
       "      <th>text</th>\n",
       "      <th>title</th>\n",
       "      <th>description</th>\n",
       "      <th>keywords</th>\n",
       "      <th>label</th>\n",
       "      <th>url</th>\n",
       "      <th>authors</th>\n",
       "      <th>date</th>\n",
       "      <th>kmonitor_description</th>\n",
       "      <th>kmonitor_title</th>\n",
       "      <th>kmonitor_tags</th>\n",
       "      <th>kmonitor_institutes</th>\n",
       "      <th>kmonitor_people</th>\n",
       "      <th>is_hand_annoted</th>\n",
       "      <th>kmonitor_places</th>\n",
       "      <th>kmonitor_collections</th>\n",
       "    </tr>\n",
       "  </thead>\n",
       "  <tbody>\n",
       "    <tr>\n",
       "      <th>0</th>\n",
       "      <td>A TV2 honlapjára tegnap délután került ki az a...</td>\n",
       "      <td>Új reality indul a TV2-n</td>\n",
       "      <td>Magabiztos vagy, mint Berki Krisztián, sztárna...</td>\n",
       "      <td>[tv2, való világ, vv6, édes élet]</td>\n",
       "      <td>0</td>\n",
       "      <td>https://24.hu/szorakozas/2013/11/26/uj-reality...</td>\n",
       "      <td>[]</td>\n",
       "      <td>2013-11-26 00:00:00</td>\n",
       "      <td>None</td>\n",
       "      <td>None</td>\n",
       "      <td>[]</td>\n",
       "      <td>[]</td>\n",
       "      <td>[]</td>\n",
       "      <td>True</td>\n",
       "      <td>[]</td>\n",
       "      <td>[]</td>\n",
       "    </tr>\n",
       "    <tr>\n",
       "      <th>1</th>\n",
       "      <td>A világ szar hely, hiába hívják Hawaii-nak, és...</td>\n",
       "      <td>Elbocsátó szép üzenet</td>\n",
       "      <td>Elbocsátó szép üzenet - George Clooney Oscar-d...</td>\n",
       "      <td>[george clooney, alexander payne, oscar-díj, h...</td>\n",
       "      <td>0</td>\n",
       "      <td>http://index.hu/kultur/cinematrix/hirblog/2012...</td>\n",
       "      <td>[]</td>\n",
       "      <td>2012-02-22 00:00:00</td>\n",
       "      <td>None</td>\n",
       "      <td>None</td>\n",
       "      <td>[]</td>\n",
       "      <td>[]</td>\n",
       "      <td>[]</td>\n",
       "      <td>True</td>\n",
       "      <td>[]</td>\n",
       "      <td>[]</td>\n",
       "    </tr>\n",
       "    <tr>\n",
       "      <th>2</th>\n",
       "      <td>Gyurcsány Ferencet és Jánosi Györgyöt november...</td>\n",
       "      <td>Belföld: Novemberre idézi be a bíró Gyurcsány ...</td>\n",
       "      <td>Gyurcsány Ferencet és Jánosi Györgyöt november...</td>\n",
       "      <td>[zuschlag]</td>\n",
       "      <td>1</td>\n",
       "      <td>https://nol.hu/belfold/novemberre_idezi_be_a_b...</td>\n",
       "      <td>[Angyal Gábor]</td>\n",
       "      <td>2009-10-19 13:42:19+02:00</td>\n",
       "      <td>Gyurcsány Ferencet és Jánosi Györgyöt november...</td>\n",
       "      <td>Novemberre idézi be a bíró Gyurcsány Ferencet</td>\n",
       "      <td>[támogatás]</td>\n",
       "      <td>[Fiatal Baloldal, Sportminisztérium]</td>\n",
       "      <td>[Benedek András, Gyurcsány Ferenc, Jánosi Györ...</td>\n",
       "      <td>True</td>\n",
       "      <td>[]</td>\n",
       "      <td>[Zuschlag-ügy]</td>\n",
       "    </tr>\n",
       "    <tr>\n",
       "      <th>3</th>\n",
       "      <td>Több hónapig egyezkedett az EU a görögökkel, d...</td>\n",
       "      <td>Ősszel választás jöhet Görögországban</td>\n",
       "      <td>Ősszel választás jöhet Görögországban - Pénzt ...</td>\n",
       "      <td>[grexit, görög válság, megállapodás, szakszerv...</td>\n",
       "      <td>0</td>\n",
       "      <td>https://index.hu/gazdasag/2015/07/05/gorogcsod...</td>\n",
       "      <td>[Jenei Miklós]</td>\n",
       "      <td>2015-07-05 00:00:00</td>\n",
       "      <td>None</td>\n",
       "      <td>None</td>\n",
       "      <td>[]</td>\n",
       "      <td>[]</td>\n",
       "      <td>[]</td>\n",
       "      <td>True</td>\n",
       "      <td>[]</td>\n",
       "      <td>[]</td>\n",
       "    </tr>\n",
       "    <tr>\n",
       "      <th>4</th>\n",
       "      <td>A gyáli rendőrök elfogtak és lopással gyanúsít...</td>\n",
       "      <td>Jogsi nélkül lopkodta az autókat a budapesti t...</td>\n",
       "      <td>Jogsi nélkül lopkodta az autókat a budapesti t...</td>\n",
       "      <td>[kocsilopás, lopáskár, tolvaj, autó, budapest,...</td>\n",
       "      <td>0</td>\n",
       "      <td>https://index.hu/belfold/2022/09/30/auto-tolva...</td>\n",
       "      <td>[Varga Csenge Virág, - Vcsv -]</td>\n",
       "      <td>2022-09-30 00:00:00</td>\n",
       "      <td>None</td>\n",
       "      <td>None</td>\n",
       "      <td>[]</td>\n",
       "      <td>[]</td>\n",
       "      <td>[]</td>\n",
       "      <td>True</td>\n",
       "      <td>[]</td>\n",
       "      <td>[]</td>\n",
       "    </tr>\n",
       "    <tr>\n",
       "      <th>...</th>\n",
       "      <td>...</td>\n",
       "      <td>...</td>\n",
       "      <td>...</td>\n",
       "      <td>...</td>\n",
       "      <td>...</td>\n",
       "      <td>...</td>\n",
       "      <td>...</td>\n",
       "      <td>...</td>\n",
       "      <td>...</td>\n",
       "      <td>...</td>\n",
       "      <td>...</td>\n",
       "      <td>...</td>\n",
       "      <td>...</td>\n",
       "      <td>...</td>\n",
       "      <td>...</td>\n",
       "      <td>...</td>\n",
       "    </tr>\n",
       "    <tr>\n",
       "      <th>3613</th>\n",
       "      <td>MLSZ-figyelmeztetés a szurkolóknak: most már t...</td>\n",
       "      <td>MLSZ-figyelmeztetés a szurkolóknak: most már t...</td>\n",
       "      <td>A varsói mérkőzésen nem nyit ki a vendégszekto...</td>\n",
       "      <td>[mlasz, szurkoló, fifa, varsó, magyar válogato...</td>\n",
       "      <td>0</td>\n",
       "      <td>https://infostart.hu/sport/2021/11/11/mlsz-fig...</td>\n",
       "      <td>[]</td>\n",
       "      <td>2021-11-11 00:00:00</td>\n",
       "      <td>None</td>\n",
       "      <td>None</td>\n",
       "      <td>[]</td>\n",
       "      <td>[]</td>\n",
       "      <td>[]</td>\n",
       "      <td>True</td>\n",
       "      <td>[]</td>\n",
       "      <td>[]</td>\n",
       "    </tr>\n",
       "    <tr>\n",
       "      <th>3614</th>\n",
       "      <td>Az FATF (Financial Action Task Force) elnöke C...</td>\n",
       "      <td>Nyáron kerülhet le Magyarország a pénzmosási f...</td>\n",
       "      <td>Az FATF (Financial Action Task Force) elnöke C...</td>\n",
       "      <td>[]</td>\n",
       "      <td>1</td>\n",
       "      <td>https://origo.hu/gazdasag/hirek/20020314nyaron...</td>\n",
       "      <td>[Origo]</td>\n",
       "      <td>2002-04-25 15:11:00</td>\n",
       "      <td>Az FATF (Financial Action Task Force) elnöke C...</td>\n",
       "      <td>Nyáron kerülhet le Magyarország a pénzmosási f...</td>\n",
       "      <td>[pénzmosás]</td>\n",
       "      <td>[]</td>\n",
       "      <td>[]</td>\n",
       "      <td>True</td>\n",
       "      <td>[belföld]</td>\n",
       "      <td>[]</td>\n",
       "    </tr>\n",
       "    <tr>\n",
       "      <th>3615</th>\n",
       "      <td>A rejtélyes oslói sorozatgyilkos legnagyobb ál...</td>\n",
       "      <td>Egy cuki kismacskától is előbb rémülünk halálr...</td>\n",
       "      <td>A rejtélyes oslói sorozatgyilkos legnagyobb ál...</td>\n",
       "      <td>[film, hóember, jo nesbo, krimi, mozi, skandin...</td>\n",
       "      <td>0</td>\n",
       "      <td>http://24.hu/kultura/2017/10/13/egy-cuki-kisma...</td>\n",
       "      <td>[]</td>\n",
       "      <td>2017-10-13 00:00:00</td>\n",
       "      <td>None</td>\n",
       "      <td>None</td>\n",
       "      <td>[]</td>\n",
       "      <td>[]</td>\n",
       "      <td>[]</td>\n",
       "      <td>True</td>\n",
       "      <td>[]</td>\n",
       "      <td>[]</td>\n",
       "    </tr>\n",
       "    <tr>\n",
       "      <th>3616</th>\n",
       "      <td>Adócsalás? Megkezdődött Olmert pere\\nIzraelben...</td>\n",
       "      <td>MNO Magyar Nemzet Online</td>\n",
       "      <td>Adócsalás? Megkezdődött Olmert pereMNO - DNIzr...</td>\n",
       "      <td>[cikk, képriport, képek, kép, anyag, elemzés, ...</td>\n",
       "      <td>1</td>\n",
       "      <td>http://mno.hu/portal/665351</td>\n",
       "      <td>[]</td>\n",
       "      <td>None</td>\n",
       "      <td>Izraelben megkezdődött az Ehud Olmert volt kor...</td>\n",
       "      <td>Adócsalás? Megkezdődött Olmert pere</td>\n",
       "      <td>[]</td>\n",
       "      <td>[]</td>\n",
       "      <td>[]</td>\n",
       "      <td>True</td>\n",
       "      <td>[Izrael]</td>\n",
       "      <td>[]</td>\n",
       "    </tr>\n",
       "    <tr>\n",
       "      <th>3617</th>\n",
       "      <td>A BKV Zrt. és a vállalat pályázatain nyertes c...</td>\n",
       "      <td>Belföld: Hagyó-per: oknyomozó újságíró vallott</td>\n",
       "      <td>A BKV Zrt. és a vállalat pályázatain nyertes c...</td>\n",
       "      <td>[BKV, Hagyó Miklós, belpolitika, bíróság, jog]</td>\n",
       "      <td>1</td>\n",
       "      <td>https://nol.hu/belfold/hagyo-per__oknyomozo_uj...</td>\n",
       "      <td>[]</td>\n",
       "      <td>2013-06-13 20:50:11+02:00</td>\n",
       "      <td>A BKV Zrt. és a vállalat pályázatain nyertes c...</td>\n",
       "      <td>Hagyó-per: oknyomozó újságíró vallott</td>\n",
       "      <td>[állami / önkormányzati vállalat, PR, rendezvé...</td>\n",
       "      <td>[BÁL-NA Produkció Kft., BKV (Budapesti Közleke...</td>\n",
       "      <td>[Hagyó Miklós]</td>\n",
       "      <td>True</td>\n",
       "      <td>[]</td>\n",
       "      <td>[BKV-ügyek]</td>\n",
       "    </tr>\n",
       "  </tbody>\n",
       "</table>\n",
       "<p>3618 rows × 16 columns</p>\n",
       "</div>"
      ],
      "text/plain": [
       "                                                   text  \\\n",
       "0     A TV2 honlapjára tegnap délután került ki az a...   \n",
       "1     A világ szar hely, hiába hívják Hawaii-nak, és...   \n",
       "2     Gyurcsány Ferencet és Jánosi Györgyöt november...   \n",
       "3     Több hónapig egyezkedett az EU a görögökkel, d...   \n",
       "4     A gyáli rendőrök elfogtak és lopással gyanúsít...   \n",
       "...                                                 ...   \n",
       "3613  MLSZ-figyelmeztetés a szurkolóknak: most már t...   \n",
       "3614  Az FATF (Financial Action Task Force) elnöke C...   \n",
       "3615  A rejtélyes oslói sorozatgyilkos legnagyobb ál...   \n",
       "3616  Adócsalás? Megkezdődött Olmert pere\\nIzraelben...   \n",
       "3617  A BKV Zrt. és a vállalat pályázatain nyertes c...   \n",
       "\n",
       "                                                  title  \\\n",
       "0                              Új reality indul a TV2-n   \n",
       "1                                 Elbocsátó szép üzenet   \n",
       "2     Belföld: Novemberre idézi be a bíró Gyurcsány ...   \n",
       "3                 Ősszel választás jöhet Görögországban   \n",
       "4     Jogsi nélkül lopkodta az autókat a budapesti t...   \n",
       "...                                                 ...   \n",
       "3613  MLSZ-figyelmeztetés a szurkolóknak: most már t...   \n",
       "3614  Nyáron kerülhet le Magyarország a pénzmosási f...   \n",
       "3615  Egy cuki kismacskától is előbb rémülünk halálr...   \n",
       "3616                           MNO Magyar Nemzet Online   \n",
       "3617     Belföld: Hagyó-per: oknyomozó újságíró vallott   \n",
       "\n",
       "                                            description  \\\n",
       "0     Magabiztos vagy, mint Berki Krisztián, sztárna...   \n",
       "1     Elbocsátó szép üzenet - George Clooney Oscar-d...   \n",
       "2     Gyurcsány Ferencet és Jánosi Györgyöt november...   \n",
       "3     Ősszel választás jöhet Görögországban - Pénzt ...   \n",
       "4     Jogsi nélkül lopkodta az autókat a budapesti t...   \n",
       "...                                                 ...   \n",
       "3613  A varsói mérkőzésen nem nyit ki a vendégszekto...   \n",
       "3614  Az FATF (Financial Action Task Force) elnöke C...   \n",
       "3615  A rejtélyes oslói sorozatgyilkos legnagyobb ál...   \n",
       "3616  Adócsalás? Megkezdődött Olmert pereMNO - DNIzr...   \n",
       "3617  A BKV Zrt. és a vállalat pályázatain nyertes c...   \n",
       "\n",
       "                                               keywords  label  \\\n",
       "0                     [tv2, való világ, vv6, édes élet]      0   \n",
       "1     [george clooney, alexander payne, oscar-díj, h...      0   \n",
       "2                                            [zuschlag]      1   \n",
       "3     [grexit, görög válság, megállapodás, szakszerv...      0   \n",
       "4     [kocsilopás, lopáskár, tolvaj, autó, budapest,...      0   \n",
       "...                                                 ...    ...   \n",
       "3613  [mlasz, szurkoló, fifa, varsó, magyar válogato...      0   \n",
       "3614                                                 []      1   \n",
       "3615  [film, hóember, jo nesbo, krimi, mozi, skandin...      0   \n",
       "3616  [cikk, képriport, képek, kép, anyag, elemzés, ...      1   \n",
       "3617     [BKV, Hagyó Miklós, belpolitika, bíróság, jog]      1   \n",
       "\n",
       "                                                    url  \\\n",
       "0     https://24.hu/szorakozas/2013/11/26/uj-reality...   \n",
       "1     http://index.hu/kultur/cinematrix/hirblog/2012...   \n",
       "2     https://nol.hu/belfold/novemberre_idezi_be_a_b...   \n",
       "3     https://index.hu/gazdasag/2015/07/05/gorogcsod...   \n",
       "4     https://index.hu/belfold/2022/09/30/auto-tolva...   \n",
       "...                                                 ...   \n",
       "3613  https://infostart.hu/sport/2021/11/11/mlsz-fig...   \n",
       "3614  https://origo.hu/gazdasag/hirek/20020314nyaron...   \n",
       "3615  http://24.hu/kultura/2017/10/13/egy-cuki-kisma...   \n",
       "3616                        http://mno.hu/portal/665351   \n",
       "3617  https://nol.hu/belfold/hagyo-per__oknyomozo_uj...   \n",
       "\n",
       "                             authors                       date  \\\n",
       "0                                 []        2013-11-26 00:00:00   \n",
       "1                                 []        2012-02-22 00:00:00   \n",
       "2                     [Angyal Gábor]  2009-10-19 13:42:19+02:00   \n",
       "3                     [Jenei Miklós]        2015-07-05 00:00:00   \n",
       "4     [Varga Csenge Virág, - Vcsv -]        2022-09-30 00:00:00   \n",
       "...                              ...                        ...   \n",
       "3613                              []        2021-11-11 00:00:00   \n",
       "3614                         [Origo]        2002-04-25 15:11:00   \n",
       "3615                              []        2017-10-13 00:00:00   \n",
       "3616                              []                       None   \n",
       "3617                              []  2013-06-13 20:50:11+02:00   \n",
       "\n",
       "                                   kmonitor_description  \\\n",
       "0                                                  None   \n",
       "1                                                  None   \n",
       "2     Gyurcsány Ferencet és Jánosi Györgyöt november...   \n",
       "3                                                  None   \n",
       "4                                                  None   \n",
       "...                                                 ...   \n",
       "3613                                               None   \n",
       "3614  Az FATF (Financial Action Task Force) elnöke C...   \n",
       "3615                                               None   \n",
       "3616  Izraelben megkezdődött az Ehud Olmert volt kor...   \n",
       "3617  A BKV Zrt. és a vállalat pályázatain nyertes c...   \n",
       "\n",
       "                                         kmonitor_title  \\\n",
       "0                                                  None   \n",
       "1                                                  None   \n",
       "2         Novemberre idézi be a bíró Gyurcsány Ferencet   \n",
       "3                                                  None   \n",
       "4                                                  None   \n",
       "...                                                 ...   \n",
       "3613                                               None   \n",
       "3614  Nyáron kerülhet le Magyarország a pénzmosási f...   \n",
       "3615                                               None   \n",
       "3616                Adócsalás? Megkezdődött Olmert pere   \n",
       "3617              Hagyó-per: oknyomozó újságíró vallott   \n",
       "\n",
       "                                          kmonitor_tags  \\\n",
       "0                                                    []   \n",
       "1                                                    []   \n",
       "2                                           [támogatás]   \n",
       "3                                                    []   \n",
       "4                                                    []   \n",
       "...                                                 ...   \n",
       "3613                                                 []   \n",
       "3614                                        [pénzmosás]   \n",
       "3615                                                 []   \n",
       "3616                                                 []   \n",
       "3617  [állami / önkormányzati vállalat, PR, rendezvé...   \n",
       "\n",
       "                                    kmonitor_institutes  \\\n",
       "0                                                    []   \n",
       "1                                                    []   \n",
       "2                  [Fiatal Baloldal, Sportminisztérium]   \n",
       "3                                                    []   \n",
       "4                                                    []   \n",
       "...                                                 ...   \n",
       "3613                                                 []   \n",
       "3614                                                 []   \n",
       "3615                                                 []   \n",
       "3616                                                 []   \n",
       "3617  [BÁL-NA Produkció Kft., BKV (Budapesti Közleke...   \n",
       "\n",
       "                                        kmonitor_people  is_hand_annoted  \\\n",
       "0                                                    []             True   \n",
       "1                                                    []             True   \n",
       "2     [Benedek András, Gyurcsány Ferenc, Jánosi Györ...             True   \n",
       "3                                                    []             True   \n",
       "4                                                    []             True   \n",
       "...                                                 ...              ...   \n",
       "3613                                                 []             True   \n",
       "3614                                                 []             True   \n",
       "3615                                                 []             True   \n",
       "3616                                                 []             True   \n",
       "3617                                     [Hagyó Miklós]             True   \n",
       "\n",
       "     kmonitor_places kmonitor_collections  \n",
       "0                 []                   []  \n",
       "1                 []                   []  \n",
       "2                 []       [Zuschlag-ügy]  \n",
       "3                 []                   []  \n",
       "4                 []                   []  \n",
       "...              ...                  ...  \n",
       "3613              []                   []  \n",
       "3614       [belföld]                   []  \n",
       "3615              []                   []  \n",
       "3616        [Izrael]                   []  \n",
       "3617              []          [BKV-ügyek]  \n",
       "\n",
       "[3618 rows x 16 columns]"
      ]
     },
     "execution_count": 9,
     "metadata": {},
     "output_type": "execute_result"
    }
   ],
   "source": [
    "dfs['test']"
   ]
  },
  {
   "cell_type": "markdown",
   "id": "00c4ae61-1a7f-4a01-98ad-26f9d684fcc4",
   "metadata": {},
   "source": [
    "train: 62% pozitív (korrupciós) és 38% negatív minta\n",
    "\n",
    "validation: 51.68% pozitív (korrupciós) és 48.31% negatív\n",
    "\n",
    "test: 50-50%"
   ]
  },
  {
   "cell_type": "code",
   "execution_count": 10,
   "id": "6f5e4aaa-6708-4761-8b1b-d14e5b97484e",
   "metadata": {},
   "outputs": [
    {
     "name": "stdout",
     "output_type": "stream",
     "text": [
      "train\n",
      "label\n",
      "0    16399\n",
      "1    26661\n",
      "dtype: int64\n",
      "\n",
      "validation\n",
      "label\n",
      "0    3188\n",
      "1    3410\n",
      "dtype: int64\n",
      "\n",
      "test\n",
      "label\n",
      "0    1898\n",
      "1    1720\n",
      "dtype: int64\n",
      "\n"
     ]
    }
   ],
   "source": [
    "for split in dataset.keys():\n",
    "    print(split, dfs[split].groupby(['label']).size(), sep='\\n', end='\\n\\n')"
   ]
  },
  {
   "cell_type": "code",
   "execution_count": 11,
   "id": "5cbd04a7-44cb-4386-a64a-f591f9da78a2",
   "metadata": {},
   "outputs": [],
   "source": [
    "full_df = pd.concat(dfs.values())"
   ]
  },
  {
   "cell_type": "code",
   "execution_count": 12,
   "id": "5365a5f0-f83d-485b-adf2-b0e892e91e12",
   "metadata": {},
   "outputs": [
    {
     "data": {
      "text/plain": [
       "klientúra                            4417\n",
       "közbeszerzés                         3814\n",
       "önkormányzat                         3550\n",
       "ingatlan                             3499\n",
       "támogatás                            3467\n",
       "                                     ... \n",
       "megbízhatósági vizsgálat                4\n",
       "NVSZ-vizsgálat                          4\n",
       "kárpótlási jegy                         3\n",
       "traffipax                               3\n",
       "közfeladati helyzettel visszaélés       3\n",
       "Length: 247, dtype: int64"
      ]
     },
     "execution_count": 12,
     "metadata": {},
     "output_type": "execute_result"
    }
   ],
   "source": [
    "full_df['kmonitor_tags'].apply(pd.Series).unstack().reset_index(drop=True).dropna().value_counts()"
   ]
  },
  {
   "cell_type": "code",
   "execution_count": 13,
   "id": "6a93cdb1-1ba4-4c20-b2bf-7b4593ffac41",
   "metadata": {},
   "outputs": [
    {
     "data": {
      "text/plain": [
       "Hvg Kiadó Zrt.                        5642\n",
       "Erdélyi Katalin                       1662\n",
       "Origo                                 1120\n",
       "Kis Zoltán                             941\n",
       "Hont András                            832\n",
       "                                      ... \n",
       "Maráczi Tamás                            1\n",
       "Hanthy Kinga                             1\n",
       "Dessewffy Tibor                          1\n",
       "Parászka Boróka                          1\n",
       "Vagy Éppen A Leveleit Nem Veszi Át       1\n",
       "Length: 3088, dtype: int64"
      ]
     },
     "execution_count": 13,
     "metadata": {},
     "output_type": "execute_result"
    }
   ],
   "source": [
    "full_df['authors'].apply(pd.Series).unstack().reset_index(drop=True).dropna().value_counts()"
   ]
  },
  {
   "cell_type": "markdown",
   "id": "ae2ab24a-e4ee-4361-9be7-d67d3a8927d8",
   "metadata": {},
   "source": [
    "~7500 cikk megjelenési ideje hiányzik"
   ]
  },
  {
   "cell_type": "code",
   "execution_count": 14,
   "id": "25d41a75-788f-4fb5-90c3-824c9ab801f7",
   "metadata": {},
   "outputs": [
    {
     "data": {
      "text/plain": [
       "7580"
      ]
     },
     "execution_count": 14,
     "metadata": {},
     "output_type": "execute_result"
    }
   ],
   "source": [
    "full_df['date'].isna().sum()"
   ]
  }
 ],
 "metadata": {
  "kernelspec": {
   "display_name": "Python 3 (ipykernel)",
   "language": "python",
   "name": "python3"
  },
  "language_info": {
   "codemirror_mode": {
    "name": "ipython",
    "version": 3
   },
   "file_extension": ".py",
   "mimetype": "text/x-python",
   "name": "python",
   "nbconvert_exporter": "python",
   "pygments_lexer": "ipython3",
   "version": "3.10.10"
  }
 },
 "nbformat": 4,
 "nbformat_minor": 5
}
