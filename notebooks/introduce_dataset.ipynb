{
 "cells": [
  {
   "cell_type": "code",
   "execution_count": 2,
   "id": "17597362-2d63-428a-a394-df728a3104ab",
   "metadata": {},
   "outputs": [
    {
     "name": "stderr",
     "output_type": "stream",
     "text": [
      "<frozen importlib._bootstrap>:241: RuntimeWarning: pyarrow._fs.FileInfo size changed, may indicate binary incompatibility. Expected 64 from C header, got 88 from PyObject\n",
      "<frozen importlib._bootstrap>:241: RuntimeWarning: pyarrow._fs.FileSelector size changed, may indicate binary incompatibility. Expected 48 from C header, got 72 from PyObject\n"
     ]
    }
   ],
   "source": [
    "import pandas as pd\n",
    "from datasets import load_dataset"
   ]
  },
  {
   "cell_type": "markdown",
   "id": "135b4b5c-31e0-42a0-9312-19b21aa1ab6d",
   "metadata": {
    "tags": []
   },
   "source": [
    "# Betöltés\n",
    "\n",
    "betöltjük a klasszifikációs adathalmazt"
   ]
  },
  {
   "cell_type": "code",
   "execution_count": 3,
   "id": "1e41c066-f0b9-48f6-bd94-97183dbe96ff",
   "metadata": {},
   "outputs": [],
   "source": [
    "dataset = load_dataset('boapps/kmdb_classification')"
   ]
  },
  {
   "cell_type": "markdown",
   "id": "a2fee937-b588-4331-88db-93b7ebd8df09",
   "metadata": {
    "tags": []
   },
   "source": [
    "# Adathalmaz felfedezése"
   ]
  },
  {
   "cell_type": "markdown",
   "id": "6926ef6e-1070-4725-ba81-692c489fa925",
   "metadata": {},
   "source": [
    "Látható, hogy három split-ből áll az adathalmaz"
   ]
  },
  {
   "cell_type": "code",
   "execution_count": null,
   "id": "cba622ea-5f20-4556-ba84-e152d85af3ca",
   "metadata": {},
   "outputs": [],
   "source": [
    "{split: len(dataset[split]) for split in dataset}"
   ]
  },
  {
   "cell_type": "markdown",
   "id": "85bf5997-9a27-4e71-ae0d-f984c28fea23",
   "metadata": {},
   "source": [
    "A label adja meg, hogy adott cikk korrupciós témájú"
   ]
  },
  {
   "cell_type": "code",
   "execution_count": 5,
   "id": "d9375bd7-127c-4d66-b00a-290f88e59bc9",
   "metadata": {},
   "outputs": [
    {
     "data": {
      "text/plain": [
       "{'test': [0, 1], 'train': [0, 1], 'validation': [1, 0]}"
      ]
     },
     "execution_count": 5,
     "metadata": {},
     "output_type": "execute_result"
    }
   ],
   "source": [
    "dataset.unique('label')"
   ]
  },
  {
   "cell_type": "markdown",
   "id": "62a7dacf-b37d-4de0-b2cc-9285a749bd7e",
   "metadata": {},
   "source": [
    "A validációs halmaz csak kézzel annotált mintákat tartalmaz"
   ]
  },
  {
   "cell_type": "code",
   "execution_count": 4,
   "id": "df092e85-7d5b-4992-ac54-0e6a9e2cc302",
   "metadata": {},
   "outputs": [
    {
     "data": {
      "text/plain": [
       "{'test': [True], 'train': [False, True], 'validation': [True, False]}"
      ]
     },
     "execution_count": 4,
     "metadata": {},
     "output_type": "execute_result"
    }
   ],
   "source": [
    "dataset.unique('is_hand_annoted')"
   ]
  },
  {
   "cell_type": "code",
   "execution_count": 6,
   "id": "111b883a-ffad-4656-a5cc-215004ce3792",
   "metadata": {},
   "outputs": [
    {
     "data": {
      "application/vnd.jupyter.widget-view+json": {
       "model_id": "e671d34f95a04b89ba649fd707bd7ba9",
       "version_major": 2,
       "version_minor": 0
      },
      "text/plain": [
       "Filter:   0%|          | 0/43060 [00:00<?, ? examples/s]"
      ]
     },
     "metadata": {},
     "output_type": "display_data"
    },
    {
     "data": {
      "text/plain": [
       "Dataset({\n",
       "    features: ['text', 'title', 'description', 'keywords', 'label', 'url', 'authors', 'date', 'kmonitor_description', 'kmonitor_title', 'kmonitor_tags', 'kmonitor_institutes', 'kmonitor_people', 'is_hand_annoted', 'kmonitor_places', 'kmonitor_collections'],\n",
       "    num_rows: 13795\n",
       "})"
      ]
     },
     "execution_count": 6,
     "metadata": {},
     "output_type": "execute_result"
    }
   ],
   "source": [
    "dataset['train'].filter(lambda row: not row['is_hand_annoted'])"
   ]
  },
  {
   "cell_type": "markdown",
   "id": "aa9548fe-5690-4860-b308-ce7696be2ef6",
   "metadata": {
    "tags": []
   },
   "source": [
    "## Oszlopok magyarázata:\n",
    "\n",
    "`text`: cikk törzse\n",
    "\n",
    "`title`: hírportál által adott cím\n",
    "\n",
    "`description`: hírportál által adott lead (kis bevezető/összefoglaló az elején)\n",
    "\n",
    "`keywords`: hírportál címkék (nem mindig van és nem mindig értelmes)\n",
    "\n",
    "`label`: korrupcióról szól-e a cikk (típus: int, 1 ha igen, 0 egyébként)\n",
    "\n",
    "`url`: cikk url-je\n",
    "\n",
    "`authors`: cikk szerzői, címkékhez hasonlóan, nem minden esetben van meg\n",
    "\n",
    "`date`: cikk megjelenésének ideje, változó pontossággal és ritkán értelmetlen\n",
    "\n",
    "`kmonitor_description`: csak korrupciós cikkek esetében, k-monitor adatbázisában tárolt leírás (sokszor egyezik a rendes leírással)\n",
    "\n",
    "`kmonitor_title`: ugyanez címmel\n",
    "\n",
    "`kmonitor_tags`: ez a keywords-el ellentétben K-Monitoros önkéntesek általi címkézés, meghatározott \"címke halmazból\" (ebben vannak még helyszínek, amiket people-höz és institutes-hoz hasonlóan szét lehetne (kéne) szedni egy places oszlopba)\n",
    "\n",
    "`institutes`: cikkben megjelenő intézmények, K-Monitoros gyűjtés\n",
    "\n",
    "`people`: ugyanez személyekkel\n",
    "\n",
    "`is_hand_annoted`: azt jelöli, hogy adott cikket ember, vagy egy nyelvi modell annotálta, pozitív minták esetében mindig True"
   ]
  },
  {
   "cell_type": "code",
   "execution_count": null,
   "id": "8ec6d54d-0eeb-4304-a4ef-80b6eb898189",
   "metadata": {},
   "outputs": [],
   "source": [
    "dataset['train'].features"
   ]
  },
  {
   "cell_type": "markdown",
   "id": "ebef2fbb-9838-44e3-a2bb-74c5711a7067",
   "metadata": {},
   "source": [
    "Keressünk helyreigazításokat!"
   ]
  },
  {
   "cell_type": "code",
   "execution_count": null,
   "id": "6c3ba2f8-1862-4123-b726-20b722ae0ff7",
   "metadata": {},
   "outputs": [],
   "source": [
    "dataset['train'].filter(lambda article: 'helyreigazítás' in article['title'].lower() or 'helyreigazítás' in article['keywords'])['title']"
   ]
  },
  {
   "cell_type": "markdown",
   "id": "e3420754-ad51-4454-b45f-1792cc55529d",
   "metadata": {
    "tags": []
   },
   "source": [
    "# Pandas\n",
    "\n",
    "Az adathalmazt átalakítjuk pandas objektumokká a további feldolgozás egyszerűsítése miatt"
   ]
  },
  {
   "cell_type": "code",
   "execution_count": null,
   "id": "cdc4342d-c14a-483a-9971-063c3684e701",
   "metadata": {},
   "outputs": [],
   "source": [
    "dfs = {split: dataset[split].to_pandas() for split in dataset.keys()}"
   ]
  },
  {
   "cell_type": "code",
   "execution_count": null,
   "id": "42740ec7-0b5d-45b4-aaa6-b29bb39998c4",
   "metadata": {},
   "outputs": [],
   "source": [
    "dfs['test']"
   ]
  },
  {
   "cell_type": "markdown",
   "id": "00c4ae61-1a7f-4a01-98ad-26f9d684fcc4",
   "metadata": {},
   "source": [
    "train: 62% pozitív (korrupciós) és 38% negatív minta\n",
    "\n",
    "validation: 51.68% pozitív (korrupciós) és 48.31% negatív\n",
    "\n",
    "test: 50-50%"
   ]
  },
  {
   "cell_type": "code",
   "execution_count": null,
   "id": "6f5e4aaa-6708-4761-8b1b-d14e5b97484e",
   "metadata": {},
   "outputs": [],
   "source": [
    "for split in dataset.keys():\n",
    "    print(split, dfs[split].groupby(['label']).size(), sep='\\n', end='\\n\\n')"
   ]
  },
  {
   "cell_type": "code",
   "execution_count": null,
   "id": "5cbd04a7-44cb-4386-a64a-f591f9da78a2",
   "metadata": {},
   "outputs": [],
   "source": [
    "full_df = pd.concat(dfs.values())"
   ]
  },
  {
   "cell_type": "code",
   "execution_count": null,
   "id": "5365a5f0-f83d-485b-adf2-b0e892e91e12",
   "metadata": {},
   "outputs": [],
   "source": [
    "full_df['kmonitor_tags'].apply(pd.Series).unstack().reset_index(drop=True).dropna().value_counts()"
   ]
  },
  {
   "cell_type": "code",
   "execution_count": null,
   "id": "6a93cdb1-1ba4-4c20-b2bf-7b4593ffac41",
   "metadata": {},
   "outputs": [],
   "source": [
    "full_df['authors'].apply(pd.Series).unstack().reset_index(drop=True).dropna().value_counts()"
   ]
  },
  {
   "cell_type": "markdown",
   "id": "ae2ab24a-e4ee-4361-9be7-d67d3a8927d8",
   "metadata": {},
   "source": [
    "~7500 cikk megjelenési ideje hiányzik"
   ]
  },
  {
   "cell_type": "code",
   "execution_count": null,
   "id": "25d41a75-788f-4fb5-90c3-824c9ab801f7",
   "metadata": {},
   "outputs": [],
   "source": [
    "full_df['date'].isna().sum()"
   ]
  }
 ],
 "metadata": {
  "kernelspec": {
   "display_name": "Python 3 (ipykernel)",
   "language": "python",
   "name": "python3"
  },
  "language_info": {
   "codemirror_mode": {
    "name": "ipython",
    "version": 3
   },
   "file_extension": ".py",
   "mimetype": "text/x-python",
   "name": "python",
   "nbconvert_exporter": "python",
   "pygments_lexer": "ipython3",
   "version": "3.10.10"
  }
 },
 "nbformat": 4,
 "nbformat_minor": 5
}
